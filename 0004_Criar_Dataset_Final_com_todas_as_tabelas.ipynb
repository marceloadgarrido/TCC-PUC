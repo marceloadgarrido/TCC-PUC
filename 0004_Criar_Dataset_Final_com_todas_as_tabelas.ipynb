{
  "nbformat": 4,
  "nbformat_minor": 0,
  "metadata": {
    "colab": {
      "name": "0004 - Criar Dataset Final com todas as tabelas.ipynb",
      "provenance": [],
      "collapsed_sections": [
        "sZs62vaJYGIm",
        "uSblfgtsW2l2",
        "PI-XbsqdZqJR",
        "LlfDbNIQNMxv",
        "rGyyQIFuOskX",
        "wUBb7Vx2Qwn8",
        "F6Aqxss9V0dI",
        "Cgm8Hwx6R9B3",
        "WojopZAkS2-p"
      ],
      "machine_shape": "hm"
    },
    "kernelspec": {
      "name": "python3",
      "display_name": "Python 3"
    },
    "language_info": {
      "name": "python"
    }
  },
  "cells": [
    {
      "cell_type": "code",
      "metadata": {
        "id": "fxFmNu4NKFwb"
      },
      "source": [
        "import pandas as pd\n",
        "import numpy as np"
      ],
      "execution_count": 1,
      "outputs": []
    },
    {
      "cell_type": "code",
      "metadata": {
        "colab": {
          "base_uri": "https://localhost:8080/"
        },
        "id": "SWCFquB_KOqi",
        "outputId": "39c14b6e-3cd0-4170-e02a-7954e6072115"
      },
      "source": [
        "from google.colab import drive\n",
        "drive.mount('/content/drive')"
      ],
      "execution_count": 2,
      "outputs": [
        {
          "output_type": "stream",
          "text": [
            "Mounted at /content/drive\n"
          ],
          "name": "stdout"
        }
      ]
    },
    {
      "cell_type": "markdown",
      "metadata": {
        "id": "sZs62vaJYGIm"
      },
      "source": [
        "# **CARREGAMENTO DOS DADOS - Dados CNPJ EMPRESA**"
      ]
    },
    {
      "cell_type": "code",
      "metadata": {
        "id": "mu2P0kKDl48h"
      },
      "source": [
        "cnpj_final = pd.read_csv('/content/drive/MyDrive/TCC - PUC/cnpj_final.csv',encoding='ISO-8859-1', sep=';' ,dtype=str, header=0)\n"
      ],
      "execution_count": 3,
      "outputs": []
    },
    {
      "cell_type": "markdown",
      "metadata": {
        "id": "uSblfgtsW2l2"
      },
      "source": [
        "# **DATASET SIAFI**"
      ]
    },
    {
      "cell_type": "markdown",
      "metadata": {
        "id": "PJO5cFThXMja"
      },
      "source": [
        "Neste dataset iremos buscar as informações do \"Código Município SIAFI\", código utilizado pela Receita Federal do Brasil para identificar o Município na tabela de Dados Públicos de CNPJ. Como os demais dataset´s utilizam o \"Código IBGE\" para referenciar o município, utilizaremos este dataset SIAFI para fazer a relação das duas colunas: \"Código Município SIAFI\" x \"Código IBGE\"\n",
        "\n",
        "------------\n",
        "\n",
        "\n",
        "https://www.tesourotransparente.gov.br/ckan/dataset/lista-de-municipios-do-siafi\n",
        "\n",
        "\n"
      ]
    },
    {
      "cell_type": "code",
      "metadata": {
        "id": "OQ_PQzOSjzge"
      },
      "source": [
        "municipios_siafi = pd.read_csv('//content/drive/MyDrive/TCC - PUC/TABELA DE MUNICÍPIOS DO SIAFI.csv',encoding='ISO-8859-1', sep=';' ,dtype=str, header=0,decimal=',')"
      ],
      "execution_count": 4,
      "outputs": []
    },
    {
      "cell_type": "code",
      "metadata": {
        "id": "XWsKa68Hj4ZV"
      },
      "source": [
        "municipios_siafi.columns = ['codigo_municipio_siafi', 'cnpj_base', 'descricao_municipio', 'uf','codigo_ibge']"
      ],
      "execution_count": 5,
      "outputs": []
    },
    {
      "cell_type": "code",
      "metadata": {
        "colab": {
          "base_uri": "https://localhost:8080/"
        },
        "id": "fXw1fY12Ddfa",
        "outputId": "0f8dbaf8-fd0c-43fb-a916-b3977781fccc"
      },
      "source": [
        "municipios_siafi.shape"
      ],
      "execution_count": 6,
      "outputs": [
        {
          "output_type": "execute_result",
          "data": {
            "text/plain": [
              "(5589, 5)"
            ]
          },
          "metadata": {
            "tags": []
          },
          "execution_count": 6
        }
      ]
    },
    {
      "cell_type": "code",
      "metadata": {
        "colab": {
          "base_uri": "https://localhost:8080/",
          "height": 197
        },
        "id": "h7TyWQ_rHShh",
        "outputId": "6d46bd27-9653-4434-dda6-633a52cfe9dc"
      },
      "source": [
        "municipios_siafi.head()"
      ],
      "execution_count": 7,
      "outputs": [
        {
          "output_type": "execute_result",
          "data": {
            "text/html": [
              "<div>\n",
              "<style scoped>\n",
              "    .dataframe tbody tr th:only-of-type {\n",
              "        vertical-align: middle;\n",
              "    }\n",
              "\n",
              "    .dataframe tbody tr th {\n",
              "        vertical-align: top;\n",
              "    }\n",
              "\n",
              "    .dataframe thead th {\n",
              "        text-align: right;\n",
              "    }\n",
              "</style>\n",
              "<table border=\"1\" class=\"dataframe\">\n",
              "  <thead>\n",
              "    <tr style=\"text-align: right;\">\n",
              "      <th></th>\n",
              "      <th>codigo_municipio_siafi</th>\n",
              "      <th>cnpj_base</th>\n",
              "      <th>descricao_municipio</th>\n",
              "      <th>uf</th>\n",
              "      <th>codigo_ibge</th>\n",
              "    </tr>\n",
              "  </thead>\n",
              "  <tbody>\n",
              "    <tr>\n",
              "      <th>0</th>\n",
              "      <td>1</td>\n",
              "      <td>5,89363E+12</td>\n",
              "      <td>GUAJARA-MIRIM</td>\n",
              "      <td>RO</td>\n",
              "      <td>1100106</td>\n",
              "    </tr>\n",
              "    <tr>\n",
              "      <th>1</th>\n",
              "      <td>2</td>\n",
              "      <td>8,4745E+13</td>\n",
              "      <td>ALTO ALEGRE DOS PARECIS</td>\n",
              "      <td>RO</td>\n",
              "      <td>1100379</td>\n",
              "    </tr>\n",
              "    <tr>\n",
              "      <th>2</th>\n",
              "      <td>3</td>\n",
              "      <td>5,90313E+12</td>\n",
              "      <td>PORTO VELHO</td>\n",
              "      <td>RO</td>\n",
              "      <td>1100205</td>\n",
              "    </tr>\n",
              "    <tr>\n",
              "      <th>3</th>\n",
              "      <td>8</td>\n",
              "      <td>8,47369E+13</td>\n",
              "      <td>CUJUBIM</td>\n",
              "      <td>RO</td>\n",
              "      <td>1100940</td>\n",
              "    </tr>\n",
              "    <tr>\n",
              "      <th>4</th>\n",
              "      <td>13</td>\n",
              "      <td>4,09271E+12</td>\n",
              "      <td>VILHENA</td>\n",
              "      <td>RO</td>\n",
              "      <td>1100304</td>\n",
              "    </tr>\n",
              "  </tbody>\n",
              "</table>\n",
              "</div>"
            ],
            "text/plain": [
              "  codigo_municipio_siafi    cnpj_base      descricao_municipio  uf codigo_ibge\n",
              "0                      1  5,89363E+12            GUAJARA-MIRIM  RO     1100106\n",
              "1                      2   8,4745E+13  ALTO ALEGRE DOS PARECIS  RO     1100379\n",
              "2                      3  5,90313E+12              PORTO VELHO  RO     1100205\n",
              "3                      8  8,47369E+13                  CUJUBIM  RO     1100940\n",
              "4                     13  4,09271E+12                  VILHENA  RO     1100304"
            ]
          },
          "metadata": {
            "tags": []
          },
          "execution_count": 7
        }
      ]
    },
    {
      "cell_type": "code",
      "metadata": {
        "id": "PrDlEPvQkmp-"
      },
      "source": [
        "codigo_ibge_ajustado = municipios_siafi['codigo_ibge'].map(lambda x: str(x)[:-1]) #Criação da coluna codigo_ibge_ajustado para possibilitar a concatenação com a tabela covid_brasil pois a mesma não possui o digito verificador na coluna"
      ],
      "execution_count": 8,
      "outputs": []
    },
    {
      "cell_type": "code",
      "metadata": {
        "id": "aLDHMeibkspW"
      },
      "source": [
        "municipios_siafi = pd.concat([municipios_siafi, codigo_ibge_ajustado], axis=1) # concatenação do código IBGE sem dígito verificador"
      ],
      "execution_count": 9,
      "outputs": []
    },
    {
      "cell_type": "code",
      "metadata": {
        "id": "ois5-la3z1Z-"
      },
      "source": [
        "municipios_siafi['codigo_municipio_siafi'] = municipios_siafi['codigo_municipio_siafi'].astype(int)\n",
        "cnpj_final['codigo_municipio_siafi'] = cnpj_final['codigo_municipio_siafi'].astype(int)"
      ],
      "execution_count": 10,
      "outputs": []
    },
    {
      "cell_type": "code",
      "metadata": {
        "id": "1bezAL4skww2"
      },
      "source": [
        "municipios_siafi.columns = ['codigo_municipio_siafi', 'cnpj_base', 'descricao_municipio', 'uf','codigo_ibge', 'codigo_ibge_ajustado']"
      ],
      "execution_count": 11,
      "outputs": []
    },
    {
      "cell_type": "code",
      "metadata": {
        "id": "E1povPsgpz4J"
      },
      "source": [
        "municipios_siafi = municipios_siafi.drop(['cnpj_base','uf'], axis=1) #eliminação das colunas desnecessárias/redundantes"
      ],
      "execution_count": 12,
      "outputs": []
    },
    {
      "cell_type": "code",
      "metadata": {
        "id": "P7GAqHPupFVW"
      },
      "source": [
        "cnpj_final = pd.merge(cnpj_final, municipios_siafi, how='left', on='codigo_municipio_siafi') # concatenação dos dataset´s pelo codigo_municipio_siafi"
      ],
      "execution_count": 13,
      "outputs": []
    },
    {
      "cell_type": "markdown",
      "metadata": {
        "id": "PI-XbsqdZqJR"
      },
      "source": [
        "# **DATASET COVID**"
      ]
    },
    {
      "cell_type": "markdown",
      "metadata": {
        "id": "8PEWZxpwaeb5"
      },
      "source": [
        "Dados obtidos no site do Governo Federal - Ministério da Saúde - demonstrando o acumulado de casos e mortes por COVID no Brasil. O primeiro caso de COVID registrado no Brasil se deu em 26/02/2020. Já o computo de casos por município começou timidamente em 27/03/2020. Dessa forma, consideramos para o nosso estudo o dia 01/04/2020, data em que todos os municípios começaram a informar os casos registrados em suas localidades.\n",
        "\n",
        "Para um melhor estudo do impacto da COVID no fechamento das empresas, realizamos um corte no dataset considerando a data da situação cadastral como delimitador do prazo. No total, estamos avaliando 28 meses de atividade, divididos da seguinte forma:\n",
        "\n",
        "\n",
        "1.   Período 20-21 - COM COVID (14 meses) - Início: 01/04/2020 - Término: 31/05/2021\n",
        "2.   Período 19-20 - SEM COVID (14 meses) - Início: 01/02/2019 - Término: 31/03/2020\n",
        "\n",
        "Os valores constantes nos campos de COVID abaixo seguirão a seguinte orientação:\n",
        "*   CNPJ´s FECHADOS (situação cadastral igual a \"8\"): as empresas fechadas no período de 28 meses receberão o valor correspondente de COVID na da data de fechamento da empresa. Ou seja, empresas dentro do período de COVID receberão o valor correspondente ao acumulado no dia do seu fechamento e, caso seja fora do período de COVID, o valor zero (0).\n",
        "*   CNPJ´s ABERTOS (situação cadastral igual a \"2\"): as empresas que permenceram ABERTAS durante o período de sem COVID receberão o valor zero (0) e as empresas abertas durante o período de COVID receberão o valor acumulado até o dia 31/05/2021, data de corte do estudo.\n",
        "\n",
        "\n",
        "\n",
        "*   Além das informações referente ao COVID, iremos incluir, à partir deste dataset, incluiremos os seguintes dados:\n",
        "\n",
        "\n",
        "1.   População\n",
        "2.   Estado\n",
        "3.   Região\n",
        "\n",
        "-------------\n",
        "\n",
        "https://covid.saude.gov.br/"
      ]
    },
    {
      "cell_type": "code",
      "metadata": {
        "id": "6sMkPDp5CkBS"
      },
      "source": [
        "covid_brasil_1 = pd.read_csv('//content/drive/MyDrive/TCC - PUC/HIST_PAINEL_COVIDBR_2020_Parte1_31mai2021.csv',encoding='ISO-8859-1', sep=';' ,dtype=str, header=0)\n",
        "covid_brasil_2 = pd.read_csv('//content/drive/MyDrive/TCC - PUC/HIST_PAINEL_COVIDBR_2020_Parte2_31mai2021.csv',encoding='ISO-8859-1', sep=';' ,dtype=str, header=0)\n",
        "covid_brasil_3 = pd.read_csv('//content/drive/MyDrive/TCC - PUC/HIST_PAINEL_COVIDBR_Parte3_31mai2021.csv',encoding='ISO-8859-1', sep=';' ,dtype=str, header=0)"
      ],
      "execution_count": 15,
      "outputs": []
    },
    {
      "cell_type": "code",
      "metadata": {
        "id": "YTAuRXlZCnIB"
      },
      "source": [
        "covid_brasil_todas = pd.concat([covid_brasil_1, covid_brasil_2, covid_brasil_3], axis=0)"
      ],
      "execution_count": 16,
      "outputs": []
    },
    {
      "cell_type": "code",
      "metadata": {
        "colab": {
          "base_uri": "https://localhost:8080/"
        },
        "id": "J_3TJpnxHbxr",
        "outputId": "9e088861-0665-46f8-a913-5207860bfda0"
      },
      "source": [
        "covid_brasil_todas.shape"
      ],
      "execution_count": 17,
      "outputs": [
        {
          "output_type": "execute_result",
          "data": {
            "text/plain": [
              "(2422659, 17)"
            ]
          },
          "metadata": {
            "tags": []
          },
          "execution_count": 17
        }
      ]
    },
    {
      "cell_type": "code",
      "metadata": {
        "colab": {
          "base_uri": "https://localhost:8080/",
          "height": 197
        },
        "id": "vi-zbGxSGAYa",
        "outputId": "f90f661a-3b9c-48af-91fc-b3a46d806e35"
      },
      "source": [
        "covid_brasil_todas.head()"
      ],
      "execution_count": 18,
      "outputs": [
        {
          "output_type": "execute_result",
          "data": {
            "text/html": [
              "<div>\n",
              "<style scoped>\n",
              "    .dataframe tbody tr th:only-of-type {\n",
              "        vertical-align: middle;\n",
              "    }\n",
              "\n",
              "    .dataframe tbody tr th {\n",
              "        vertical-align: top;\n",
              "    }\n",
              "\n",
              "    .dataframe thead th {\n",
              "        text-align: right;\n",
              "    }\n",
              "</style>\n",
              "<table border=\"1\" class=\"dataframe\">\n",
              "  <thead>\n",
              "    <tr style=\"text-align: right;\">\n",
              "      <th></th>\n",
              "      <th>regiao</th>\n",
              "      <th>estado</th>\n",
              "      <th>municipio</th>\n",
              "      <th>coduf</th>\n",
              "      <th>codmun</th>\n",
              "      <th>codRegiaoSaude</th>\n",
              "      <th>nomeRegiaoSaude</th>\n",
              "      <th>data</th>\n",
              "      <th>semanaEpi</th>\n",
              "      <th>populacaoTCU2019</th>\n",
              "      <th>casosAcumulado</th>\n",
              "      <th>casosNovos</th>\n",
              "      <th>obitosAcumulado</th>\n",
              "      <th>obitosNovos</th>\n",
              "      <th>Recuperadosnovos</th>\n",
              "      <th>emAcompanhamentoNovos</th>\n",
              "      <th>interior/metropolitana</th>\n",
              "    </tr>\n",
              "  </thead>\n",
              "  <tbody>\n",
              "    <tr>\n",
              "      <th>0</th>\n",
              "      <td>Brasil</td>\n",
              "      <td>NaN</td>\n",
              "      <td>NaN</td>\n",
              "      <td>76</td>\n",
              "      <td>NaN</td>\n",
              "      <td>NaN</td>\n",
              "      <td>NaN</td>\n",
              "      <td>2020-02-25</td>\n",
              "      <td>9</td>\n",
              "      <td>210147125</td>\n",
              "      <td>0</td>\n",
              "      <td>0</td>\n",
              "      <td>0</td>\n",
              "      <td>0</td>\n",
              "      <td>NaN</td>\n",
              "      <td>NaN</td>\n",
              "      <td>NaN</td>\n",
              "    </tr>\n",
              "    <tr>\n",
              "      <th>1</th>\n",
              "      <td>Brasil</td>\n",
              "      <td>NaN</td>\n",
              "      <td>NaN</td>\n",
              "      <td>76</td>\n",
              "      <td>NaN</td>\n",
              "      <td>NaN</td>\n",
              "      <td>NaN</td>\n",
              "      <td>2020-02-26</td>\n",
              "      <td>9</td>\n",
              "      <td>210147125</td>\n",
              "      <td>1</td>\n",
              "      <td>1</td>\n",
              "      <td>0</td>\n",
              "      <td>0</td>\n",
              "      <td>NaN</td>\n",
              "      <td>NaN</td>\n",
              "      <td>NaN</td>\n",
              "    </tr>\n",
              "    <tr>\n",
              "      <th>2</th>\n",
              "      <td>Brasil</td>\n",
              "      <td>NaN</td>\n",
              "      <td>NaN</td>\n",
              "      <td>76</td>\n",
              "      <td>NaN</td>\n",
              "      <td>NaN</td>\n",
              "      <td>NaN</td>\n",
              "      <td>2020-02-27</td>\n",
              "      <td>9</td>\n",
              "      <td>210147125</td>\n",
              "      <td>1</td>\n",
              "      <td>0</td>\n",
              "      <td>0</td>\n",
              "      <td>0</td>\n",
              "      <td>NaN</td>\n",
              "      <td>NaN</td>\n",
              "      <td>NaN</td>\n",
              "    </tr>\n",
              "    <tr>\n",
              "      <th>3</th>\n",
              "      <td>Brasil</td>\n",
              "      <td>NaN</td>\n",
              "      <td>NaN</td>\n",
              "      <td>76</td>\n",
              "      <td>NaN</td>\n",
              "      <td>NaN</td>\n",
              "      <td>NaN</td>\n",
              "      <td>2020-02-28</td>\n",
              "      <td>9</td>\n",
              "      <td>210147125</td>\n",
              "      <td>1</td>\n",
              "      <td>0</td>\n",
              "      <td>0</td>\n",
              "      <td>0</td>\n",
              "      <td>NaN</td>\n",
              "      <td>NaN</td>\n",
              "      <td>NaN</td>\n",
              "    </tr>\n",
              "    <tr>\n",
              "      <th>4</th>\n",
              "      <td>Brasil</td>\n",
              "      <td>NaN</td>\n",
              "      <td>NaN</td>\n",
              "      <td>76</td>\n",
              "      <td>NaN</td>\n",
              "      <td>NaN</td>\n",
              "      <td>NaN</td>\n",
              "      <td>2020-02-29</td>\n",
              "      <td>9</td>\n",
              "      <td>210147125</td>\n",
              "      <td>2</td>\n",
              "      <td>1</td>\n",
              "      <td>0</td>\n",
              "      <td>0</td>\n",
              "      <td>NaN</td>\n",
              "      <td>NaN</td>\n",
              "      <td>NaN</td>\n",
              "    </tr>\n",
              "  </tbody>\n",
              "</table>\n",
              "</div>"
            ],
            "text/plain": [
              "   regiao estado  ... emAcompanhamentoNovos interior/metropolitana\n",
              "0  Brasil    NaN  ...                   NaN                    NaN\n",
              "1  Brasil    NaN  ...                   NaN                    NaN\n",
              "2  Brasil    NaN  ...                   NaN                    NaN\n",
              "3  Brasil    NaN  ...                   NaN                    NaN\n",
              "4  Brasil    NaN  ...                   NaN                    NaN\n",
              "\n",
              "[5 rows x 17 columns]"
            ]
          },
          "metadata": {
            "tags": []
          },
          "execution_count": 18
        }
      ]
    },
    {
      "cell_type": "code",
      "metadata": {
        "id": "pKfyf1rBCsWh"
      },
      "source": [
        "covid_brasil_todas = covid_brasil_todas[covid_brasil_todas['codmun'] .notnull()] \n",
        "covid_brasil_todas = covid_brasil_todas[covid_brasil_todas['municipio'] .notnull()] "
      ],
      "execution_count": 19,
      "outputs": []
    },
    {
      "cell_type": "code",
      "metadata": {
        "id": "Foo0hdT9CxJp"
      },
      "source": [
        "covid_brasil_todas = covid_brasil_todas.drop(['municipio','coduf','codRegiaoSaude','nomeRegiaoSaude','semanaEpi','Recuperadosnovos','emAcompanhamentoNovos','emAcompanhamentoNovos'], axis=1) #eliminação das colunas desnecessárias/redundantes"
      ],
      "execution_count": 20,
      "outputs": []
    },
    {
      "cell_type": "code",
      "metadata": {
        "id": "DZPXKSIcC1UB"
      },
      "source": [
        "covid_brasil_todas.columns = ['regiao', 'estado', 'codigo_ibge_ajustado', 'data_covid','populacaoTCU2019', 'casosAcumulado','casosNovos','obitosAcumulado','obitosNovos','interior_metropolitana']"
      ],
      "execution_count": 21,
      "outputs": []
    },
    {
      "cell_type": "code",
      "metadata": {
        "id": "rOB2HE-ZC4RK"
      },
      "source": [
        "data_removido = covid_brasil_todas['data_covid'].str.replace(r'\\D', '')"
      ],
      "execution_count": 22,
      "outputs": []
    },
    {
      "cell_type": "code",
      "metadata": {
        "id": "yiSnZdx0C7gx"
      },
      "source": [
        "codigo_ibge_data = data_removido + covid_brasil_todas['codigo_ibge_ajustado'] #coluna para permitir a identificação do município e a data de ocorrência de COVID de cada CNPJ"
      ],
      "execution_count": 23,
      "outputs": []
    },
    {
      "cell_type": "code",
      "metadata": {
        "id": "-emKksR7C9cZ"
      },
      "source": [
        "covid_brasil_todas['populacaoTCU2019'] = covid_brasil_todas['populacaoTCU2019'].astype(int)\n",
        "covid_brasil_todas['casosAcumulado'] = covid_brasil_todas['casosAcumulado'].astype(int)\n",
        "covid_brasil_todas['obitosAcumulado'] = covid_brasil_todas['obitosAcumulado'].astype(int)"
      ],
      "execution_count": 24,
      "outputs": []
    },
    {
      "cell_type": "code",
      "metadata": {
        "id": "OZsrC8QoDAMR"
      },
      "source": [
        "casos_acumulados_porcentagem = round(((covid_brasil_todas['casosAcumulado'] * 100) / (covid_brasil_todas['populacaoTCU2019'])),3) # coluna com o índice de casos acumulados - número de casos pela população do município\n",
        "obitos_acumulados_porcentagem = round(((covid_brasil_todas['obitosAcumulado'] * 100) / (covid_brasil_todas['populacaoTCU2019'])),3) # coluna com o índice de óbitos por covid acumulados - número de casos pela população do município"
      ],
      "execution_count": 25,
      "outputs": []
    },
    {
      "cell_type": "code",
      "metadata": {
        "id": "YGBHFrfjDB7S"
      },
      "source": [
        "covid_brasil_todas = pd.concat([covid_brasil_todas, casos_acumulados_porcentagem, obitos_acumulados_porcentagem, codigo_ibge_data], axis=1)"
      ],
      "execution_count": 26,
      "outputs": []
    },
    {
      "cell_type": "code",
      "metadata": {
        "id": "h-c3rW3j2UdX"
      },
      "source": [
        "covid_brasil_todas.columns = ['regiao', 'estado', 'codigo_ibge_ajustado','data_covid', 'populacaoTCU2019','casosAcumulado', 'casosNovos','obitosAcumulado','obitosNovos','interior_metropolitana', 'casos_acumulados_porcentagem','obitos_acumulados_porcentagem','codigo_ibge_data']"
      ],
      "execution_count": 27,
      "outputs": []
    },
    {
      "cell_type": "code",
      "metadata": {
        "id": "_zziMDG4OzqL"
      },
      "source": [
        "codigo_ibge_data_regiao = pd.DataFrame (\"20210531\" + cnpj_final['codigo_ibge_ajustado']) # Criação da coluna \"codigo_ibge_data_regiao\" para permitir a inclusão das colunas região, estado e população na tabela final"
      ],
      "execution_count": 28,
      "outputs": []
    },
    {
      "cell_type": "code",
      "metadata": {
        "id": "TwD35LhX2Bmc"
      },
      "source": [
        "codigo_ibge_data_regiao.columns = ['codigo_ibge_data']"
      ],
      "execution_count": 29,
      "outputs": []
    },
    {
      "cell_type": "code",
      "metadata": {
        "id": "TdPF-OaY1seQ"
      },
      "source": [
        "codigo_ibge_data_regiao  = pd.merge(codigo_ibge_data_regiao, covid_brasil_todas, how='left', on='codigo_ibge_data')"
      ],
      "execution_count": 30,
      "outputs": []
    },
    {
      "cell_type": "code",
      "metadata": {
        "id": "H9lLuf8F1smH"
      },
      "source": [
        "codigo_ibge_data_regiao = codigo_ibge_data_regiao.drop(['codigo_ibge_data','codigo_ibge_ajustado','data_covid','casosAcumulado','casosNovos','obitosAcumulado','obitosNovos','casos_acumulados_porcentagem','obitos_acumulados_porcentagem'], axis=1) #eliminação das colunas desnecessárias"
      ],
      "execution_count": 31,
      "outputs": []
    },
    {
      "cell_type": "code",
      "metadata": {
        "id": "G5tueMP9DETy"
      },
      "source": [
        "cnpj_final = pd.concat([cnpj_final, codigo_ibge_data_regiao], axis=1)"
      ],
      "execution_count": 32,
      "outputs": []
    },
    {
      "cell_type": "code",
      "metadata": {
        "id": "bQQk64X8-eTB"
      },
      "source": [
        "cnpj_final_abertas_total = cnpj_final.query( 'codigo_situacao_cadastral==\"02\"')\n",
        "cnpj_final_fechadas_total = cnpj_final.query( 'codigo_situacao_cadastral==\"08\"')"
      ],
      "execution_count": 33,
      "outputs": []
    },
    {
      "cell_type": "code",
      "metadata": {
        "id": "GvcG57pFoaAZ"
      },
      "source": [
        "cnpj_final_fechadas_com_covid = cnpj_final_fechadas_total.query('data_situacao_cadastral >= \"20200401\" and data_situacao_cadastral <= \"20210531\" ') #ganhar  cnpj_final['data_situacao_cadastral'] + cnpj_final['codigo_ibge_ajustado'] \n",
        "cnpj_final_fechadas_sem_covid = cnpj_final_fechadas_total.query('data_situacao_cadastral >= \"20190201\" and data_situacao_cadastral <= \"20200331\" ')  #ganhar  cnpj_final['data_situacao_cadastral'] + cnpj_final['codigo_ibge_ajustado'] \n",
        "cnpj_final_abertas_com_covid = cnpj_final_abertas_total.query('data_situacao_cadastral >= \"20200401\" and data_situacao_cadastral <= \"20210531\" ') #ganhar \"20210531\" + cnpj_final['codigo_ibge_ajustado']\n",
        "cnpj_final_abertas_sem_covid = cnpj_final_abertas_total.query('data_situacao_cadastral >= \"20190201\" and data_situacao_cadastral <= \"20200331\" ')  #ganhar  cnpj_final['data_situacao_cadastral'] + cnpj_final['codigo_ibge_ajustado'] "
      ],
      "execution_count": 34,
      "outputs": []
    },
    {
      "cell_type": "code",
      "metadata": {
        "id": "UwRGlqyipuUE"
      },
      "source": [
        "cnpj_final_abertas_com_covid_data = \"20210531\" + cnpj_final_abertas_com_covid['codigo_ibge_ajustado']"
      ],
      "execution_count": 35,
      "outputs": []
    },
    {
      "cell_type": "code",
      "metadata": {
        "id": "u6qJxSxewVL3"
      },
      "source": [
        "cnpj_final_abertas_com_covid = pd.concat([cnpj_final_abertas_com_covid, cnpj_final_abertas_com_covid_data], axis=1) # Criação da coluna \"cnpj_final_abertas_com_covid\" para permitir a inclusão das informações de COVID para as empresas abertas durante o período de COVID"
      ],
      "execution_count": 36,
      "outputs": []
    },
    {
      "cell_type": "code",
      "metadata": {
        "id": "s5SvQHni1CXd"
      },
      "source": [
        "cnpj_final_abertas_com_covid.columns = ['cnpj_basico','cnpj_ordem','cnpj_dv','matriz_filial','codigo_situacao_cadastral','data_situacao_cadastral','data_inicio_atividade','cnae_principal','codigo_municipio_siafi','capital_social','descricao_municipio','codigo_ibge','codigo_ibge_ajustado','regiao','estado','populacaoTCU2019', 'interior_metropolitana',\t'codigo_ibge_data']"
      ],
      "execution_count": 37,
      "outputs": []
    },
    {
      "cell_type": "code",
      "metadata": {
        "id": "5b98NWfKxh5U"
      },
      "source": [
        "cnpj_final_demais = pd.concat([cnpj_final_fechadas_com_covid, cnpj_final_fechadas_sem_covid, cnpj_final_abertas_sem_covid], axis=0)"
      ],
      "execution_count": 38,
      "outputs": []
    },
    {
      "cell_type": "code",
      "metadata": {
        "id": "BmTNA78bxh8I"
      },
      "source": [
        "cnpj_final_demais_data = cnpj_final_demais['data_situacao_cadastral'] + cnpj_final_demais['codigo_ibge_ajustado']"
      ],
      "execution_count": 39,
      "outputs": []
    },
    {
      "cell_type": "code",
      "metadata": {
        "id": "ZjH8tmORxiBL"
      },
      "source": [
        "cnpj_final_demais = pd.concat([cnpj_final_demais, cnpj_final_demais_data], axis=1) # Criação da coluna \"cnpj_final_abertas_com_covid\" para permitir a inclusão das informações de COVID das demais empresas"
      ],
      "execution_count": 40,
      "outputs": []
    },
    {
      "cell_type": "code",
      "metadata": {
        "id": "J0Ka5DsM1Ume"
      },
      "source": [
        "cnpj_final_demais.columns = ['cnpj_basico','cnpj_ordem','cnpj_dv','matriz_filial','codigo_situacao_cadastral','data_situacao_cadastral','data_inicio_atividade','cnae_principal','codigo_municipio_siafi','capital_social','descricao_municipio','codigo_ibge','codigo_ibge_ajustado','regiao','estado','populacaoTCU2019', 'interior_metropolitana',\t'codigo_ibge_data']"
      ],
      "execution_count": 41,
      "outputs": []
    },
    {
      "cell_type": "code",
      "metadata": {
        "id": "IJiWbXIVyQXn"
      },
      "source": [
        "cnpj_final = pd.concat([cnpj_final_demais, cnpj_final_abertas_com_covid], axis=0)"
      ],
      "execution_count": 42,
      "outputs": []
    },
    {
      "cell_type": "code",
      "metadata": {
        "id": "jkJqhVku3w8f"
      },
      "source": [
        "cnpj_final.reset_index(inplace=True, drop=True)"
      ],
      "execution_count": 43,
      "outputs": []
    },
    {
      "cell_type": "code",
      "metadata": {
        "id": "-R4BsGmS3V8f"
      },
      "source": [
        "codigo_ibge_data_covid = pd.DataFrame(cnpj_final['codigo_ibge_data'])"
      ],
      "execution_count": 44,
      "outputs": []
    },
    {
      "cell_type": "code",
      "metadata": {
        "id": "yf8JsD4743PG"
      },
      "source": [
        "codigo_ibge_data_covid  = pd.merge(codigo_ibge_data_covid, covid_brasil_todas, how='left', on='codigo_ibge_data')"
      ],
      "execution_count": 45,
      "outputs": []
    },
    {
      "cell_type": "code",
      "metadata": {
        "id": "la5ZKizz43VM"
      },
      "source": [
        "codigo_ibge_data_covid = codigo_ibge_data_covid.drop(['codigo_ibge_data','regiao','estado','codigo_ibge_ajustado','data_covid','populacaoTCU2019','casosNovos','obitosNovos','interior_metropolitana'], axis=1) #eliminação das colunas desnecessárias"
      ],
      "execution_count": 46,
      "outputs": []
    },
    {
      "cell_type": "code",
      "metadata": {
        "id": "04vkE_5S43X0"
      },
      "source": [
        "codigo_ibge_data_covid.columns = ['casosAcumulado_covid','obitosAcumulado_covid','casos_acumulados_porcentagem_covid','obitos_acumulados_porcentagem_covid']"
      ],
      "execution_count": 47,
      "outputs": []
    },
    {
      "cell_type": "code",
      "metadata": {
        "id": "dONEqij_43aN"
      },
      "source": [
        "cnpj_final = pd.concat([cnpj_final, codigo_ibge_data_covid], axis=1) # concatenação dos dataset´s pelo codigo_ibge_data_covid"
      ],
      "execution_count": 48,
      "outputs": []
    },
    {
      "cell_type": "markdown",
      "metadata": {
        "id": "LlfDbNIQNMxv"
      },
      "source": [
        "# **DATASET IDH**"
      ]
    },
    {
      "cell_type": "markdown",
      "metadata": {
        "id": "H50-CmV1NaXh"
      },
      "source": [
        "Neste dataset iremos buscar as informações do IDH DO MUNICIPIO, IDHM EDUCACAO DO MUNICIPIO, IDHM LONGEVIDADE DO MUNICIPIO e IDHM RENDA DO MUNICIPIO.\n",
        "\n",
        "\n",
        "*   IDH DO MUNICIPIO : O Índice de Desenvolvimento Humano (IDH) é uma unidade de medida utilizada para aferir o grau de desenvolvimento de uma determinada sociedade nos quesitos de educação, saúde e renda.\n",
        "O IDH é uma referência numérica que varia entre 0 e 1. Quanto mais próximo de zero, menor é o indicador para os quesitos de saúde, educação e renda. Quanto mais próximo de 1, melhores são as condições para esses quesitos.\n",
        "\n",
        "\n",
        "*   IDHM EDUCACAO DO MUNICIPIO : O indicador educação refere-se à quantidade média de anos de estudo de uma população. Entende-se que, quanto maior for o tempo de permanência de uma população na escola, melhores serão as chances de desenvolvimento para esse país.\n",
        "*   IDHM LONGEVIDADE DO MUNICIPIO : Na variável saúde, avalia-se basicamente a taxa de expectativa de vida dos cidadãos de cada país participante. Entende-se que, quanto maior for essa taxa, melhores serão as condições de vida de seus habitantes.\n",
        "*   IDHM RENDA DO MUNICIPIO : No quesito renda, mede-se o valor médio do rendimento dos cidadãos com base na média do Produto Interno Bruto (PIB), que é a soma de toda a riqueza produzida por um país em determinado período (normalmente anual) dividida pelo número de habitantes.\n",
        "\n",
        "-------\n",
        "\n",
        "\n",
        "Atlas Brasil - http://www.atlasbrasil.org.br/ranking"
      ]
    },
    {
      "cell_type": "code",
      "metadata": {
        "id": "J7_6wvlpP83C"
      },
      "source": [
        "idh_municipios = pd.read_csv('//content/drive/MyDrive//TCC - PUC/IDH por Município.csv',encoding='ISO-8859-1', sep=';' ,dtype=str, header=0,decimal=',')"
      ],
      "execution_count": 49,
      "outputs": []
    },
    {
      "cell_type": "code",
      "metadata": {
        "colab": {
          "base_uri": "https://localhost:8080/"
        },
        "id": "_3X9cKQSHnYC",
        "outputId": "e0162fc9-5dec-42f6-d1ec-8c401a7f7067"
      },
      "source": [
        "idh_municipios.shape"
      ],
      "execution_count": 50,
      "outputs": [
        {
          "output_type": "execute_result",
          "data": {
            "text/plain": [
              "(5565, 10)"
            ]
          },
          "metadata": {
            "tags": []
          },
          "execution_count": 50
        }
      ]
    },
    {
      "cell_type": "code",
      "metadata": {
        "colab": {
          "base_uri": "https://localhost:8080/",
          "height": 197
        },
        "id": "IbK-T-cgO_aL",
        "outputId": "0fdc3b6c-3834-4f46-da8d-70097c6259e0"
      },
      "source": [
        "idh_municipios.head()"
      ],
      "execution_count": 51,
      "outputs": [
        {
          "output_type": "execute_result",
          "data": {
            "text/html": [
              "<div>\n",
              "<style scoped>\n",
              "    .dataframe tbody tr th:only-of-type {\n",
              "        vertical-align: middle;\n",
              "    }\n",
              "\n",
              "    .dataframe tbody tr th {\n",
              "        vertical-align: top;\n",
              "    }\n",
              "\n",
              "    .dataframe thead th {\n",
              "        text-align: right;\n",
              "    }\n",
              "</style>\n",
              "<table border=\"1\" class=\"dataframe\">\n",
              "  <thead>\n",
              "    <tr style=\"text-align: right;\">\n",
              "      <th></th>\n",
              "      <th>Territorialidade</th>\n",
              "      <th>CODIGO IBGE</th>\n",
              "      <th>Posicao IDHM</th>\n",
              "      <th>IDHM</th>\n",
              "      <th>Posicao IDHM Educacao</th>\n",
              "      <th>IDHM Educacao</th>\n",
              "      <th>Posicao IDHM Longevidade</th>\n",
              "      <th>IDHM Longevidade</th>\n",
              "      <th>Posicao IDHM Renda</th>\n",
              "      <th>IDHM Renda</th>\n",
              "    </tr>\n",
              "  </thead>\n",
              "  <tbody>\n",
              "    <tr>\n",
              "      <th>0</th>\n",
              "      <td>ABADIA DE GOIAS</td>\n",
              "      <td>5200050</td>\n",
              "      <td>117</td>\n",
              "      <td>0,708</td>\n",
              "      <td>155</td>\n",
              "      <td>0,622</td>\n",
              "      <td>151</td>\n",
              "      <td>0,687</td>\n",
              "      <td>65</td>\n",
              "      <td>0,83</td>\n",
              "    </tr>\n",
              "    <tr>\n",
              "      <th>1</th>\n",
              "      <td>ABADIA DOS DOURADOS</td>\n",
              "      <td>3100104</td>\n",
              "      <td>136</td>\n",
              "      <td>0,689</td>\n",
              "      <td>214</td>\n",
              "      <td>0,563</td>\n",
              "      <td>145</td>\n",
              "      <td>0,693</td>\n",
              "      <td>56</td>\n",
              "      <td>0,839</td>\n",
              "    </tr>\n",
              "    <tr>\n",
              "      <th>2</th>\n",
              "      <td>ABADIANIA</td>\n",
              "      <td>5200100</td>\n",
              "      <td>136</td>\n",
              "      <td>0,689</td>\n",
              "      <td>198</td>\n",
              "      <td>0,579</td>\n",
              "      <td>167</td>\n",
              "      <td>0,671</td>\n",
              "      <td>54</td>\n",
              "      <td>0,841</td>\n",
              "    </tr>\n",
              "    <tr>\n",
              "      <th>3</th>\n",
              "      <td>ABAETE</td>\n",
              "      <td>3100203</td>\n",
              "      <td>127</td>\n",
              "      <td>0,698</td>\n",
              "      <td>221</td>\n",
              "      <td>0,556</td>\n",
              "      <td>118</td>\n",
              "      <td>0,72</td>\n",
              "      <td>47</td>\n",
              "      <td>0,848</td>\n",
              "    </tr>\n",
              "    <tr>\n",
              "      <th>4</th>\n",
              "      <td>ABAETETUBA</td>\n",
              "      <td>1500107</td>\n",
              "      <td>197</td>\n",
              "      <td>0,628</td>\n",
              "      <td>240</td>\n",
              "      <td>0,537</td>\n",
              "      <td>259</td>\n",
              "      <td>0,579</td>\n",
              "      <td>97</td>\n",
              "      <td>0,798</td>\n",
              "    </tr>\n",
              "  </tbody>\n",
              "</table>\n",
              "</div>"
            ],
            "text/plain": [
              "      Territorialidade CODIGO IBGE  ... Posicao IDHM Renda IDHM Renda\n",
              "0      ABADIA DE GOIAS     5200050  ...                 65       0,83\n",
              "1  ABADIA DOS DOURADOS     3100104  ...                 56      0,839\n",
              "2            ABADIANIA     5200100  ...                 54      0,841\n",
              "3               ABAETE     3100203  ...                 47      0,848\n",
              "4           ABAETETUBA     1500107  ...                 97      0,798\n",
              "\n",
              "[5 rows x 10 columns]"
            ]
          },
          "metadata": {
            "tags": []
          },
          "execution_count": 51
        }
      ]
    },
    {
      "cell_type": "code",
      "metadata": {
        "id": "IlQvrCXHvNwV"
      },
      "source": [
        "idh_municipios = idh_municipios.drop(['Territorialidade','Posicao IDHM','Posicao IDHM Educacao','Posicao IDHM Longevidade','Posicao IDHM Renda'], axis=1) #eliminação das colunas desnecessárias/redundantes"
      ],
      "execution_count": 52,
      "outputs": []
    },
    {
      "cell_type": "code",
      "metadata": {
        "id": "bRagc2VYCCyZ"
      },
      "source": [
        "idh_municipios.columns = ['codigo_ibge', 'idh_municipio', 'idh_educacao', 'idh_longevidade','idh_renda']"
      ],
      "execution_count": 53,
      "outputs": []
    },
    {
      "cell_type": "code",
      "metadata": {
        "id": "nb0g5A0xAhWp"
      },
      "source": [
        "cnpj_final = pd.merge(cnpj_final, idh_municipios, how='left', on='codigo_ibge') # concatenação dos dataset´s pelo codigo_ibge"
      ],
      "execution_count": 54,
      "outputs": []
    },
    {
      "cell_type": "markdown",
      "metadata": {
        "id": "rGyyQIFuOskX"
      },
      "source": [
        "# **DATASET PIB**"
      ]
    },
    {
      "cell_type": "markdown",
      "metadata": {
        "id": "b8s9IKvDQETI"
      },
      "source": [
        "PIB é a sigla para Produto Interno Bruto, que, em linhas gerais, é um indicador econômico bastante utilizado na Macroeconomia (ramo das Ciências Econômicas) que apresenta a soma de todos os bens e serviços produzidos em uma área geográfica em um determinado período (podendo ser um ano ou um trimestre). Sendo assim, o PIB representa a dinâmica econômica do lugar, apontando o possível crescimento da economia.\n",
        "\n",
        "*   Neste dataset iremos incluir os dados do PIB e PIB PER CAPITA do município de cada CNPJ´s estudado.\n",
        "\n",
        "------------\n",
        "\n",
        "Produto Interno Bruto dos Municípios | IBGE - https://www.ibge.gov.br/estatisticas/economicas/contas-nacionais/9088-produto-interno-bruto-dos-municipios.html?t=downloads&c=1100023\n",
        "\n"
      ]
    },
    {
      "cell_type": "code",
      "metadata": {
        "id": "FnfnqbRhJJEy"
      },
      "source": [
        "pib_municipios = pd.read_csv('//content/drive/MyDrive/TCC - PUC/PIB dos Municípios - base de dados 2010-2018.csv',encoding='ISO-8859-1', sep=';' ,dtype=str, header=0,decimal=',')"
      ],
      "execution_count": 55,
      "outputs": []
    },
    {
      "cell_type": "code",
      "metadata": {
        "colab": {
          "base_uri": "https://localhost:8080/"
        },
        "id": "nW8uAlv5Hq7y",
        "outputId": "d1d932f6-9883-491a-8659-1407fc6760da"
      },
      "source": [
        "pib_municipios.shape"
      ],
      "execution_count": 56,
      "outputs": [
        {
          "output_type": "execute_result",
          "data": {
            "text/plain": [
              "(5570, 6)"
            ]
          },
          "metadata": {
            "tags": []
          },
          "execution_count": 56
        }
      ]
    },
    {
      "cell_type": "code",
      "metadata": {
        "colab": {
          "base_uri": "https://localhost:8080/",
          "height": 197
        },
        "id": "yGadXYinhOhu",
        "outputId": "233ae789-be9b-4da9-b977-adae20321ebc"
      },
      "source": [
        "pib_municipios.head()"
      ],
      "execution_count": 57,
      "outputs": [
        {
          "output_type": "execute_result",
          "data": {
            "text/html": [
              "<div>\n",
              "<style scoped>\n",
              "    .dataframe tbody tr th:only-of-type {\n",
              "        vertical-align: middle;\n",
              "    }\n",
              "\n",
              "    .dataframe tbody tr th {\n",
              "        vertical-align: top;\n",
              "    }\n",
              "\n",
              "    .dataframe thead th {\n",
              "        text-align: right;\n",
              "    }\n",
              "</style>\n",
              "<table border=\"1\" class=\"dataframe\">\n",
              "  <thead>\n",
              "    <tr style=\"text-align: right;\">\n",
              "      <th></th>\n",
              "      <th>Sigla da Unidade da Federação</th>\n",
              "      <th>Código do Município</th>\n",
              "      <th>Nome do Município</th>\n",
              "      <th>PIB</th>\n",
              "      <th>PIB PER CAPITA</th>\n",
              "      <th>Ano</th>\n",
              "    </tr>\n",
              "  </thead>\n",
              "  <tbody>\n",
              "    <tr>\n",
              "      <th>0</th>\n",
              "      <td>AC</td>\n",
              "      <td>1200013</td>\n",
              "      <td>Acrelândia</td>\n",
              "      <td>236.379.386,00</td>\n",
              "      <td>15.737,64</td>\n",
              "      <td>2018</td>\n",
              "    </tr>\n",
              "    <tr>\n",
              "      <th>1</th>\n",
              "      <td>AC</td>\n",
              "      <td>1200054</td>\n",
              "      <td>Assis Brasil</td>\n",
              "      <td>91.485.893,00</td>\n",
              "      <td>12.532,31</td>\n",
              "      <td>2018</td>\n",
              "    </tr>\n",
              "    <tr>\n",
              "      <th>2</th>\n",
              "      <td>AC</td>\n",
              "      <td>1200104</td>\n",
              "      <td>Brasiléia</td>\n",
              "      <td>417.839.292,00</td>\n",
              "      <td>16.165,25</td>\n",
              "      <td>2018</td>\n",
              "    </tr>\n",
              "    <tr>\n",
              "      <th>3</th>\n",
              "      <td>AC</td>\n",
              "      <td>1200138</td>\n",
              "      <td>Bujari</td>\n",
              "      <td>157.797.041,00</td>\n",
              "      <td>15.606,47</td>\n",
              "      <td>2018</td>\n",
              "    </tr>\n",
              "    <tr>\n",
              "      <th>4</th>\n",
              "      <td>AC</td>\n",
              "      <td>1200179</td>\n",
              "      <td>Capixaba</td>\n",
              "      <td>170.402.523,00</td>\n",
              "      <td>14.874,52</td>\n",
              "      <td>2018</td>\n",
              "    </tr>\n",
              "  </tbody>\n",
              "</table>\n",
              "</div>"
            ],
            "text/plain": [
              "  Sigla da Unidade da Federação Código do Município  ... PIB PER CAPITA   Ano\n",
              "0                            AC             1200013  ...      15.737,64  2018\n",
              "1                            AC             1200054  ...      12.532,31  2018\n",
              "2                            AC             1200104  ...      16.165,25  2018\n",
              "3                            AC             1200138  ...      15.606,47  2018\n",
              "4                            AC             1200179  ...      14.874,52  2018\n",
              "\n",
              "[5 rows x 6 columns]"
            ]
          },
          "metadata": {
            "tags": []
          },
          "execution_count": 57
        }
      ]
    },
    {
      "cell_type": "code",
      "metadata": {
        "id": "7gXJddOjJJla"
      },
      "source": [
        "pib_municipios = pib_municipios.drop(['Sigla da Unidade da Federação','Nome do Município','Ano'], axis=1) #eliminação das colunas desnecessárias/redundantes"
      ],
      "execution_count": 58,
      "outputs": []
    },
    {
      "cell_type": "code",
      "metadata": {
        "id": "l20auywAJXxi"
      },
      "source": [
        "pib_municipios.columns = ['codigo_ibge', 'pib', 'pib_per_capita']"
      ],
      "execution_count": 59,
      "outputs": []
    },
    {
      "cell_type": "code",
      "metadata": {
        "id": "bC1cJ0nEJuVy"
      },
      "source": [
        "cnpj_final = pd.merge(cnpj_final, pib_municipios, how='left', on='codigo_ibge') # concatenação dos dataset´s pelo codigo_ibge"
      ],
      "execution_count": 60,
      "outputs": []
    },
    {
      "cell_type": "markdown",
      "metadata": {
        "id": "wUBb7Vx2Qwn8"
      },
      "source": [
        "# **DATASET CNAE**"
      ]
    },
    {
      "cell_type": "markdown",
      "metadata": {
        "id": "VQx4OL4iQ0Lw"
      },
      "source": [
        "A CNAE é a classificação de atividades econômicas oficialmente adotada pelo Sistema Estatístico Nacional\n",
        "e pelos órgãos gestores de cadastros e registros da Administração Pública do país.\n",
        "A CNAE é uma classificação hierarquizada em cinco níveis – seções, divisões, grupos, classes e subclasses.\n",
        "O quinto nível, o de subclasses, corresponde ao detalhamento usado para a identificação econômica das\n",
        "unidades de produção, normalmente constituídas como pessoa jurídica ou profissionais autônomos, em\n",
        "cadastros e registros da Administração Pública, nas três esferas de governo.\n",
        "\n",
        "*   cnae_principal : representa a subclasse da classificação. É o nível mais detalhado da classificação.\n",
        "*   cnae_divisao : representa a divisão na classificação CNAE.\n",
        "*   cnae_secao_numero : representação numérica da classificação da seção do CNAE que é em letras.\n",
        "*   cnae_secao : representa a seção na classificação CNAE a qual pertence o CNPJ. É composto por 21 seções, nível mais elevado da classificação CNAE, o qual será considerado no nosso estudo para observar o impacto do COVID em setores da economia.\n",
        "*   cnae_descricao : descrição da seção em análise.\n",
        "\n",
        "-----------\n",
        "\n",
        "https://cnae.ibge.gov.br/?option=com_cnae&view=estrutura&Itemid=6160&chave=&tipo=cnae&versao_classe=7.0.0&versao_subclasse=9.1.0"
      ]
    },
    {
      "cell_type": "code",
      "metadata": {
        "id": "9zGFYdNW2y7g"
      },
      "source": [
        "cnae = pd.read_csv('//content/drive/MyDrive/TCC - PUC/CLASSIFICACAO CNAE POR SECAO.csv',encoding='ISO-8859-1', sep=';' ,dtype=str, header=0)"
      ],
      "execution_count": 61,
      "outputs": []
    },
    {
      "cell_type": "code",
      "metadata": {
        "id": "ymFdKARd27hR"
      },
      "source": [
        "cnae.columns = ['cnae_divisao', 'cnae_secao','cnae_descricao']"
      ],
      "execution_count": 62,
      "outputs": []
    },
    {
      "cell_type": "code",
      "metadata": {
        "colab": {
          "base_uri": "https://localhost:8080/"
        },
        "id": "FVe1FJvqHvkz",
        "outputId": "34d0398f-5df9-4eee-c8e4-e72c64520b63"
      },
      "source": [
        "cnae.shape"
      ],
      "execution_count": 63,
      "outputs": [
        {
          "output_type": "execute_result",
          "data": {
            "text/plain": [
              "(87, 3)"
            ]
          },
          "metadata": {
            "tags": []
          },
          "execution_count": 63
        }
      ]
    },
    {
      "cell_type": "code",
      "metadata": {
        "colab": {
          "base_uri": "https://localhost:8080/",
          "height": 197
        },
        "id": "LrvpZH_vljz_",
        "outputId": "6c56e474-1f3d-40f5-9f6b-ccd4b1c0c81b"
      },
      "source": [
        "cnae.head()"
      ],
      "execution_count": 64,
      "outputs": [
        {
          "output_type": "execute_result",
          "data": {
            "text/html": [
              "<div>\n",
              "<style scoped>\n",
              "    .dataframe tbody tr th:only-of-type {\n",
              "        vertical-align: middle;\n",
              "    }\n",
              "\n",
              "    .dataframe tbody tr th {\n",
              "        vertical-align: top;\n",
              "    }\n",
              "\n",
              "    .dataframe thead th {\n",
              "        text-align: right;\n",
              "    }\n",
              "</style>\n",
              "<table border=\"1\" class=\"dataframe\">\n",
              "  <thead>\n",
              "    <tr style=\"text-align: right;\">\n",
              "      <th></th>\n",
              "      <th>cnae_divisao</th>\n",
              "      <th>cnae_secao</th>\n",
              "      <th>cnae_descricao</th>\n",
              "    </tr>\n",
              "  </thead>\n",
              "  <tbody>\n",
              "    <tr>\n",
              "      <th>0</th>\n",
              "      <td>1</td>\n",
              "      <td>a</td>\n",
              "      <td>AGRICULTURA, PECUÁRIA, PRODUÇÃO FLORESTAL, PES...</td>\n",
              "    </tr>\n",
              "    <tr>\n",
              "      <th>1</th>\n",
              "      <td>2</td>\n",
              "      <td>a</td>\n",
              "      <td>AGRICULTURA, PECUÁRIA, PRODUÇÃO FLORESTAL, PES...</td>\n",
              "    </tr>\n",
              "    <tr>\n",
              "      <th>2</th>\n",
              "      <td>3</td>\n",
              "      <td>a</td>\n",
              "      <td>AGRICULTURA, PECUÁRIA, PRODUÇÃO FLORESTAL, PES...</td>\n",
              "    </tr>\n",
              "    <tr>\n",
              "      <th>3</th>\n",
              "      <td>5</td>\n",
              "      <td>b</td>\n",
              "      <td>INDÚSTRIAS EXTRATIVAS</td>\n",
              "    </tr>\n",
              "    <tr>\n",
              "      <th>4</th>\n",
              "      <td>6</td>\n",
              "      <td>b</td>\n",
              "      <td>INDÚSTRIAS EXTRATIVAS</td>\n",
              "    </tr>\n",
              "  </tbody>\n",
              "</table>\n",
              "</div>"
            ],
            "text/plain": [
              "  cnae_divisao cnae_secao                                     cnae_descricao\n",
              "0            1          a  AGRICULTURA, PECUÁRIA, PRODUÇÃO FLORESTAL, PES...\n",
              "1            2          a  AGRICULTURA, PECUÁRIA, PRODUÇÃO FLORESTAL, PES...\n",
              "2            3          a  AGRICULTURA, PECUÁRIA, PRODUÇÃO FLORESTAL, PES...\n",
              "3            5          b                              INDÚSTRIAS EXTRATIVAS\n",
              "4            6          b                              INDÚSTRIAS EXTRATIVAS"
            ]
          },
          "metadata": {
            "tags": []
          },
          "execution_count": 64
        }
      ]
    },
    {
      "cell_type": "code",
      "metadata": {
        "id": "-6CvDjvU28jZ"
      },
      "source": [
        "cnae_divisao = cnpj_final['cnae_principal'].map(lambda x: str(x)[:-5])"
      ],
      "execution_count": 65,
      "outputs": []
    },
    {
      "cell_type": "code",
      "metadata": {
        "id": "XYO7lbotKblc"
      },
      "source": [
        "cnae_divisao = cnae_divisao.astype(int)"
      ],
      "execution_count": 66,
      "outputs": []
    },
    {
      "cell_type": "code",
      "metadata": {
        "id": "GqiEiyzUJina"
      },
      "source": [
        "cnae['cnae_divisao'] = cnae['cnae_divisao'].astype(int)"
      ],
      "execution_count": 67,
      "outputs": []
    },
    {
      "cell_type": "code",
      "metadata": {
        "id": "cowUemHb3CMJ"
      },
      "source": [
        "cnpj_final = pd.concat([cnpj_final, cnae_divisao], axis=1) # concatenação dos dataset´s pelo cnae_divisao"
      ],
      "execution_count": 68,
      "outputs": []
    },
    {
      "cell_type": "code",
      "metadata": {
        "id": "0hKaCo7s3O6r"
      },
      "source": [
        "cnpj_final.columns = ['cnpj_basico','cnpj_ordem','cnpj_dv','matriz_filial','codigo_situacao_cadastral','data_situacao_cadastral','data_inicio_atividade','cnae_principal','codigo_municipio_siafi','capital_social','descricao_municipio','codigo_ibge','codigo_ibge_ajustado','regiao','estado','populacaoTCU2019','interior_metropolitana','codigo_ibge_data','casosAcumulado_covid','obitosAcumulado_covid','casos_acumulados_porcentagem_covid','obitos_acumulados_porcentagem_covid','idh_municipio','idh_educacao','idh_longevidade','idh_renda','pib','pib_per_capita','cnae_divisao']"
      ],
      "execution_count": 69,
      "outputs": []
    },
    {
      "cell_type": "code",
      "metadata": {
        "id": "Ljfv6Oo7HU-2"
      },
      "source": [
        "cnpj_final = pd.merge(cnpj_final, cnae, how='left', on='cnae_divisao') # merge dos datasets com as informações do CNAE"
      ],
      "execution_count": 70,
      "outputs": []
    },
    {
      "cell_type": "markdown",
      "metadata": {
        "id": "F6Aqxss9V0dI"
      },
      "source": [
        "# **PREPARAÇÃO FINAL DO DATASET**"
      ]
    },
    {
      "cell_type": "markdown",
      "metadata": {
        "id": "Cgm8Hwx6R9B3"
      },
      "source": [
        "## **Criação da coluna alvo do modelo de Machine Learning**\n",
        "\n",
        "\n",
        "*   A coluna \"situacao_cadastral_target\" contendo a seguinte informação:\n",
        "*   CNPJ´s FECHADOS (situação cadastral igual a \"8\"): valor um (1)\n",
        "*   CNPJ´s ABERTOS (situação cadastral igual a \"2\"): valor zero (0)"
      ]
    },
    {
      "cell_type": "code",
      "metadata": {
        "id": "UkfwGFUebE-H"
      },
      "source": [
        "data = {\n",
        "'codigo_situacao_cadastral': ['02', '08'],\n",
        "'situacao_cadastral_target': ['0', '1']\n",
        "} #Criação da coluna alvo do modelo de Machine Learning"
      ],
      "execution_count": 71,
      "outputs": []
    },
    {
      "cell_type": "code",
      "metadata": {
        "id": "6fGLfXkzbFDl"
      },
      "source": [
        "situacao_cadastral = pd.DataFrame(data, columns=['codigo_situacao_cadastral','situacao_cadastral_target'])"
      ],
      "execution_count": 72,
      "outputs": []
    },
    {
      "cell_type": "code",
      "metadata": {
        "id": "kH25vCekb4et"
      },
      "source": [
        "cnpj_final = pd.merge(cnpj_final, situacao_cadastral, how='left', on='codigo_situacao_cadastral')"
      ],
      "execution_count": 73,
      "outputs": []
    },
    {
      "cell_type": "markdown",
      "metadata": {
        "id": "WojopZAkS2-p"
      },
      "source": [
        "## **Criação da coluna contendo somente o ANO e MÊS da Situação Cadastral**"
      ]
    },
    {
      "cell_type": "code",
      "metadata": {
        "id": "2HjOC2gPM55_"
      },
      "source": [
        "cnpj_final['data_situacao_cadastral_ano_mes'] = pd.DataFrame (cnpj_final['data_situacao_cadastral'].map(lambda x: str(x)[:-2])) # Criação da coluna contendo o ano e mês da ocorrência da mudança da situação cadastral"
      ],
      "execution_count": 74,
      "outputs": []
    },
    {
      "cell_type": "code",
      "metadata": {
        "id": "47V9XWWzILfF"
      },
      "source": [
        "cnpj_final = cnpj_final.drop(['codigo_ibge_ajustado','codigo_ibge_data'], axis=1) #eliminação das colunas desnecessárias"
      ],
      "execution_count": 75,
      "outputs": []
    },
    {
      "cell_type": "markdown",
      "metadata": {
        "id": "5hJewiAETBsO"
      },
      "source": [
        "## **Ajustes na formatação das variáveis númericas com pontos decimais e vírgulas**"
      ]
    },
    {
      "cell_type": "code",
      "metadata": {
        "id": "rhHXpmzqX8Wu"
      },
      "source": [
        "cnpj_final['pib'] = cnpj_final['pib'].str.replace('.', '')\n",
        "cnpj_final['pib_per_capita'] = cnpj_final['pib_per_capita'].str.replace('.', '')\n",
        "cnpj_final['capital_social'] = cnpj_final['capital_social'].str.replace(',', '.')\n",
        "cnpj_final['idh_municipio'] = cnpj_final['idh_municipio'].str.replace(',', '.')\n",
        "cnpj_final['idh_educacao'] = cnpj_final['idh_educacao'].str.replace(',', '.')\n",
        "cnpj_final['idh_longevidade'] = cnpj_final['idh_longevidade'].str.replace(',', '.')\n",
        "cnpj_final['idh_renda'] = cnpj_final['idh_renda'].str.replace(',', '.')\n",
        "cnpj_final['pib'] = cnpj_final['pib'].str.replace(',', '.')\n",
        "cnpj_final['pib_per_capita'] = cnpj_final['pib_per_capita'].str.replace(',', '.')"
      ],
      "execution_count": 76,
      "outputs": []
    },
    {
      "cell_type": "markdown",
      "metadata": {
        "id": "2sXYO-9hVcs3"
      },
      "source": [
        "## **Gravação do Dataset**"
      ]
    },
    {
      "cell_type": "code",
      "metadata": {
        "id": "OiTh-mKDD8sX"
      },
      "source": [
        "cnpj_final = cnpj_final[[\n",
        "    'cnpj_basico', 'cnpj_ordem', 'cnpj_dv', 'matriz_filial',  'capital_social',\n",
        "    'codigo_situacao_cadastral',  \n",
        "    'data_inicio_atividade', 'data_situacao_cadastral',  'data_situacao_cadastral_ano_mes', 'situacao_cadastral_target',\n",
        "    'codigo_ibge', 'codigo_municipio_siafi', 'descricao_municipio',  'regiao',  'estado', 'interior_metropolitana',\n",
        "    'casosAcumulado_covid',  'obitosAcumulado_covid',  'casos_acumulados_porcentagem_covid',  'obitos_acumulados_porcentagem_covid',\n",
        "    'idh_municipio', 'idh_educacao', 'idh_longevidade','idh_renda',\n",
        "    'populacaoTCU2019', 'pib', 'pib_per_capita',\n",
        "    'cnae_principal',  'cnae_divisao',  'cnae_secao',  'cnae_descricao'\n",
        "]]"
      ],
      "execution_count": 77,
      "outputs": []
    },
    {
      "cell_type": "code",
      "metadata": {
        "id": "rCTDB2ME0x8z",
        "colab": {
          "base_uri": "https://localhost:8080/"
        },
        "outputId": "27679fac-4d92-47e1-ac0f-dd95a5ccb559"
      },
      "source": [
        "cnpj_final.shape"
      ],
      "execution_count": 78,
      "outputs": [
        {
          "output_type": "execute_result",
          "data": {
            "text/plain": [
              "(11157257, 31)"
            ]
          },
          "metadata": {
            "tags": []
          },
          "execution_count": 78
        }
      ]
    },
    {
      "cell_type": "code",
      "metadata": {
        "id": "59DDyKQeH6M_",
        "colab": {
          "base_uri": "https://localhost:8080/",
          "height": 367
        },
        "outputId": "1d2bef1f-52b4-4a1f-fb55-09651811c55a"
      },
      "source": [
        "cnpj_final.head()"
      ],
      "execution_count": 79,
      "outputs": [
        {
          "output_type": "execute_result",
          "data": {
            "text/html": [
              "<div>\n",
              "<style scoped>\n",
              "    .dataframe tbody tr th:only-of-type {\n",
              "        vertical-align: middle;\n",
              "    }\n",
              "\n",
              "    .dataframe tbody tr th {\n",
              "        vertical-align: top;\n",
              "    }\n",
              "\n",
              "    .dataframe thead th {\n",
              "        text-align: right;\n",
              "    }\n",
              "</style>\n",
              "<table border=\"1\" class=\"dataframe\">\n",
              "  <thead>\n",
              "    <tr style=\"text-align: right;\">\n",
              "      <th></th>\n",
              "      <th>cnpj_basico</th>\n",
              "      <th>cnpj_ordem</th>\n",
              "      <th>cnpj_dv</th>\n",
              "      <th>matriz_filial</th>\n",
              "      <th>capital_social</th>\n",
              "      <th>codigo_situacao_cadastral</th>\n",
              "      <th>data_inicio_atividade</th>\n",
              "      <th>data_situacao_cadastral</th>\n",
              "      <th>data_situacao_cadastral_ano_mes</th>\n",
              "      <th>situacao_cadastral_target</th>\n",
              "      <th>codigo_ibge</th>\n",
              "      <th>codigo_municipio_siafi</th>\n",
              "      <th>descricao_municipio</th>\n",
              "      <th>regiao</th>\n",
              "      <th>estado</th>\n",
              "      <th>interior_metropolitana</th>\n",
              "      <th>casosAcumulado_covid</th>\n",
              "      <th>obitosAcumulado_covid</th>\n",
              "      <th>casos_acumulados_porcentagem_covid</th>\n",
              "      <th>obitos_acumulados_porcentagem_covid</th>\n",
              "      <th>idh_municipio</th>\n",
              "      <th>idh_educacao</th>\n",
              "      <th>idh_longevidade</th>\n",
              "      <th>idh_renda</th>\n",
              "      <th>populacaoTCU2019</th>\n",
              "      <th>pib</th>\n",
              "      <th>pib_per_capita</th>\n",
              "      <th>cnae_principal</th>\n",
              "      <th>cnae_divisao</th>\n",
              "      <th>cnae_secao</th>\n",
              "      <th>cnae_descricao</th>\n",
              "    </tr>\n",
              "  </thead>\n",
              "  <tbody>\n",
              "    <tr>\n",
              "      <th>0</th>\n",
              "      <td>29880797</td>\n",
              "      <td>0001</td>\n",
              "      <td>40</td>\n",
              "      <td>1</td>\n",
              "      <td>3500.00</td>\n",
              "      <td>08</td>\n",
              "      <td>20180308</td>\n",
              "      <td>20200507</td>\n",
              "      <td>202005</td>\n",
              "      <td>1</td>\n",
              "      <td>3170206</td>\n",
              "      <td>5403</td>\n",
              "      <td>UBERLANDIA</td>\n",
              "      <td>Sudeste</td>\n",
              "      <td>MG</td>\n",
              "      <td>0</td>\n",
              "      <td>199.0</td>\n",
              "      <td>9.0</td>\n",
              "      <td>0.029</td>\n",
              "      <td>0.001</td>\n",
              "      <td>0.789</td>\n",
              "      <td>0.716</td>\n",
              "      <td>0.776</td>\n",
              "      <td>0.885</td>\n",
              "      <td>691305.0</td>\n",
              "      <td>37442790976.00</td>\n",
              "      <td>54801.25</td>\n",
              "      <td>9511800</td>\n",
              "      <td>95</td>\n",
              "      <td>s</td>\n",
              "      <td>OUTRAS ATIVIDADES DE SERVIÇOS</td>\n",
              "    </tr>\n",
              "    <tr>\n",
              "      <th>1</th>\n",
              "      <td>28424384</td>\n",
              "      <td>0001</td>\n",
              "      <td>99</td>\n",
              "      <td>1</td>\n",
              "      <td>3000.00</td>\n",
              "      <td>08</td>\n",
              "      <td>20170815</td>\n",
              "      <td>20200610</td>\n",
              "      <td>202006</td>\n",
              "      <td>1</td>\n",
              "      <td>3304557</td>\n",
              "      <td>6001</td>\n",
              "      <td>RIO DE JANEIRO</td>\n",
              "      <td>Sudeste</td>\n",
              "      <td>RJ</td>\n",
              "      <td>1</td>\n",
              "      <td>38960.0</td>\n",
              "      <td>4716.0</td>\n",
              "      <td>0.580</td>\n",
              "      <td>0.070</td>\n",
              "      <td>0.799</td>\n",
              "      <td>0.719</td>\n",
              "      <td>0.84</td>\n",
              "      <td>0.845</td>\n",
              "      <td>6718903.0</td>\n",
              "      <td>364052058232.00</td>\n",
              "      <td>54426.08</td>\n",
              "      <td>8599604</td>\n",
              "      <td>85</td>\n",
              "      <td>p</td>\n",
              "      <td>EDUCAÇÃO</td>\n",
              "    </tr>\n",
              "    <tr>\n",
              "      <th>2</th>\n",
              "      <td>29881212</td>\n",
              "      <td>0001</td>\n",
              "      <td>07</td>\n",
              "      <td>1</td>\n",
              "      <td>10000.00</td>\n",
              "      <td>08</td>\n",
              "      <td>20180308</td>\n",
              "      <td>20201214</td>\n",
              "      <td>202012</td>\n",
              "      <td>1</td>\n",
              "      <td>4101200</td>\n",
              "      <td>7421</td>\n",
              "      <td>ANTONINA</td>\n",
              "      <td>Sul</td>\n",
              "      <td>PR</td>\n",
              "      <td>0</td>\n",
              "      <td>1038.0</td>\n",
              "      <td>26.0</td>\n",
              "      <td>5.469</td>\n",
              "      <td>0.137</td>\n",
              "      <td>0.687</td>\n",
              "      <td>0.564</td>\n",
              "      <td>0.686</td>\n",
              "      <td>0.838</td>\n",
              "      <td>18980.0</td>\n",
              "      <td>538253205.00</td>\n",
              "      <td>28312.72</td>\n",
              "      <td>4744099</td>\n",
              "      <td>47</td>\n",
              "      <td>g</td>\n",
              "      <td>COMÉRCIO; REPARAÇÃO DE VEÍCULOS AUTOMOTORES E ...</td>\n",
              "    </tr>\n",
              "    <tr>\n",
              "      <th>3</th>\n",
              "      <td>29881383</td>\n",
              "      <td>0001</td>\n",
              "      <td>36</td>\n",
              "      <td>1</td>\n",
              "      <td>5000.00</td>\n",
              "      <td>08</td>\n",
              "      <td>20180308</td>\n",
              "      <td>20210514</td>\n",
              "      <td>202105</td>\n",
              "      <td>1</td>\n",
              "      <td>3510500</td>\n",
              "      <td>6311</td>\n",
              "      <td>CARAGUATATUBA</td>\n",
              "      <td>Sudeste</td>\n",
              "      <td>SP</td>\n",
              "      <td>0</td>\n",
              "      <td>13239.0</td>\n",
              "      <td>354.0</td>\n",
              "      <td>10.893</td>\n",
              "      <td>0.291</td>\n",
              "      <td>0.759</td>\n",
              "      <td>0.705</td>\n",
              "      <td>0.735</td>\n",
              "      <td>0.845</td>\n",
              "      <td>121532.0</td>\n",
              "      <td>3325920049.00</td>\n",
              "      <td>27802.88</td>\n",
              "      <td>1091102</td>\n",
              "      <td>10</td>\n",
              "      <td>c</td>\n",
              "      <td>INDÚSTRIAS DE TRANSFORMAÇÃO</td>\n",
              "    </tr>\n",
              "    <tr>\n",
              "      <th>4</th>\n",
              "      <td>29881861</td>\n",
              "      <td>0001</td>\n",
              "      <td>08</td>\n",
              "      <td>1</td>\n",
              "      <td>100000.00</td>\n",
              "      <td>08</td>\n",
              "      <td>20180308</td>\n",
              "      <td>20200921</td>\n",
              "      <td>202009</td>\n",
              "      <td>1</td>\n",
              "      <td>4314902</td>\n",
              "      <td>8801</td>\n",
              "      <td>PORTO ALEGRE</td>\n",
              "      <td>Sul</td>\n",
              "      <td>RS</td>\n",
              "      <td>1</td>\n",
              "      <td>24446.0</td>\n",
              "      <td>926.0</td>\n",
              "      <td>1.648</td>\n",
              "      <td>0.062</td>\n",
              "      <td>0.805</td>\n",
              "      <td>0.702</td>\n",
              "      <td>0.867</td>\n",
              "      <td>0.857</td>\n",
              "      <td>1483771.0</td>\n",
              "      <td>77134613181.00</td>\n",
              "      <td>52149.66</td>\n",
              "      <td>8630504</td>\n",
              "      <td>86</td>\n",
              "      <td>q</td>\n",
              "      <td>SAÚDE HUMANA E SERVIÇOS SOCIAIS</td>\n",
              "    </tr>\n",
              "  </tbody>\n",
              "</table>\n",
              "</div>"
            ],
            "text/plain": [
              "  cnpj_basico  ...                                     cnae_descricao\n",
              "0    29880797  ...                      OUTRAS ATIVIDADES DE SERVIÇOS\n",
              "1    28424384  ...                                           EDUCAÇÃO\n",
              "2    29881212  ...  COMÉRCIO; REPARAÇÃO DE VEÍCULOS AUTOMOTORES E ...\n",
              "3    29881383  ...                        INDÚSTRIAS DE TRANSFORMAÇÃO\n",
              "4    29881861  ...                    SAÚDE HUMANA E SERVIÇOS SOCIAIS\n",
              "\n",
              "[5 rows x 31 columns]"
            ]
          },
          "metadata": {
            "tags": []
          },
          "execution_count": 79
        }
      ]
    },
    {
      "cell_type": "code",
      "metadata": {
        "id": "U_CWSTB0NS7O"
      },
      "source": [
        "cnpj_final.to_csv('/content/drive/MyDrive/TCC - PUC/dataset_final.csv', index=False, sep=';', encoding='ISO-8859-1')\n"
      ],
      "execution_count": 80,
      "outputs": []
    }
  ]
}