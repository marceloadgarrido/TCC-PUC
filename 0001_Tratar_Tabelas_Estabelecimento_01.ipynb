{
  "nbformat": 4,
  "nbformat_minor": 0,
  "metadata": {
    "colab": {
      "name": "0001 - Tratar Tabelas Estabelecimento_01.ipynb",
      "provenance": [],
      "collapsed_sections": [],
      "machine_shape": "hm"
    },
    "kernelspec": {
      "name": "python3",
      "display_name": "Python 3"
    },
    "language_info": {
      "name": "python"
    }
  },
  "cells": [
    {
      "cell_type": "code",
      "metadata": {
        "id": "Lm_XYoX5iDhu"
      },
      "source": [
        "import pandas as pd\n",
        "import numpy as np"
      ],
      "execution_count": 1,
      "outputs": []
    },
    {
      "cell_type": "code",
      "metadata": {
        "colab": {
          "base_uri": "https://localhost:8080/"
        },
        "id": "bCXl3RnliGaI",
        "outputId": "9bc775a9-b083-4151-fe54-0699ad41dff5"
      },
      "source": [
        "from google.colab import drive\n",
        "drive.mount('/content/drive')"
      ],
      "execution_count": 2,
      "outputs": [
        {
          "output_type": "stream",
          "text": [
            "Mounted at /content/drive\n"
          ],
          "name": "stdout"
        }
      ]
    },
    {
      "cell_type": "markdown",
      "metadata": {
        "id": "U8QyRWmiMouD"
      },
      "source": [
        "# **CARREGAMENTO DOS DADOS - Dados Abertos CNPJ ESTABELECIMENTO**"
      ]
    },
    {
      "cell_type": "markdown",
      "metadata": {
        "id": "ZiRGrFYjSXpU"
      },
      "source": [
        "*   Os dados dos CNPJ´s são a base do nosso estudo. Neles encontraremos as principais informações da empresas alvo do trabalho. Iremos, por conta do alto volume de dados, executar o carregamento e junção dos dados dos CNPJ´s em 3 notebooks. Os dados de CNPJ estão divididos em dois grupos:\n",
        "\n",
        "1.   Dados Abertos CNPJ EMPRESA\n",
        "2.   Dados Abertos CNPJ ESTABELECIMENTO\n",
        "\n",
        "-------------\n",
        "\n",
        "*   Tabela de CNPJ´s do site da Receita Federal\n",
        "*   https://www.gov.br/receitafederal/pt-br/assuntos/orientacao-tributaria/cadastros/consultas/dados-publicos-cnpj"
      ]
    },
    {
      "cell_type": "code",
      "metadata": {
        "id": "X0HvA-yFki3f"
      },
      "source": [
        "cnpj_estabelecimento_01 = pd.read_csv('/content/drive/MyDrive/TCC - PUC/Dados Abertos CNPJ ESTABELECIMENTO 01.csv', names=['cnpj_basico', 'cnpj_ordem', 'cnpj_dv', 'matriz_filial', 'nome_fantasia', 'codigo_situacao_cadastral', 'data_situacao_cadastral', 'motivo_situacao_cadastral', 'nome_cidade_exterior', 'codigo_pais', 'data_inicio_atividade', 'cnae_principal', 'cnae_secundario',\n",
        "'tipo_logradouro','logradouro','numero','complemento','bairro','cep','uf','codigo_municipio_siafi','ddd1', 'telefone1','ddd2','telefone2','dddfax','fax','email', 'situacao_especial', 'data_situacao_especial'],encoding='ISO-8859-1',decimal=',', sep=';' ,dtype=str, header=None,)\n",
        "cnpj_estabelecimento_02 = pd.read_csv('/content/drive/MyDrive/TCC - PUC/Dados Abertos CNPJ ESTABELECIMENTO 02.csv', names=['cnpj_basico', 'cnpj_ordem', 'cnpj_dv', 'matriz_filial', 'nome_fantasia', 'codigo_situacao_cadastral', 'data_situacao_cadastral', 'motivo_situacao_cadastral', 'nome_cidade_exterior', 'codigo_pais', 'data_inicio_atividade', 'cnae_principal', 'cnae_secundario',\n",
        "'tipo_logradouro','logradouro','numero','complemento','bairro','cep','uf','codigo_municipio_siafi','ddd1', 'telefone1','ddd2','telefone2','dddfax','fax','email', 'situacao_especial', 'data_situacao_especial'],encoding='ISO-8859-1',decimal=',', sep=';' ,dtype=str, header=None,)\n",
        "cnpj_estabelecimento_03 = pd.read_csv('/content/drive/MyDrive/TCC - PUC/Dados Abertos CNPJ ESTABELECIMENTO 03.csv', names=['cnpj_basico', 'cnpj_ordem', 'cnpj_dv', 'matriz_filial', 'nome_fantasia', 'codigo_situacao_cadastral', 'data_situacao_cadastral', 'motivo_situacao_cadastral', 'nome_cidade_exterior', 'codigo_pais', 'data_inicio_atividade', 'cnae_principal', 'cnae_secundario',\n",
        "'tipo_logradouro','logradouro','numero','complemento','bairro','cep','uf','codigo_municipio_siafi','ddd1', 'telefone1','ddd2','telefone2','dddfax','fax','email', 'situacao_especial', 'data_situacao_especial'],encoding='ISO-8859-1',decimal=',', sep=';' ,dtype=str, header=None,)\n",
        "cnpj_estabelecimento_04 = pd.read_csv('/content/drive/MyDrive/TCC - PUC/Dados Abertos CNPJ ESTABELECIMENTO 04.csv', names=['cnpj_basico', 'cnpj_ordem', 'cnpj_dv', 'matriz_filial', 'nome_fantasia', 'codigo_situacao_cadastral', 'data_situacao_cadastral', 'motivo_situacao_cadastral', 'nome_cidade_exterior', 'codigo_pais', 'data_inicio_atividade', 'cnae_principal', 'cnae_secundario',\n",
        "'tipo_logradouro','logradouro','numero','complemento','bairro','cep','uf','codigo_municipio_siafi','ddd1', 'telefone1','ddd2','telefone2','dddfax','fax','email', 'situacao_especial', 'data_situacao_especial'],encoding='ISO-8859-1',decimal=',', sep=';' ,dtype=str, header=None,)\n",
        "cnpj_estabelecimento_05 = pd.read_csv('/content/drive/MyDrive/TCC - PUC/Dados Abertos CNPJ ESTABELECIMENTO 05.csv', names=['cnpj_basico', 'cnpj_ordem', 'cnpj_dv', 'matriz_filial', 'nome_fantasia', 'codigo_situacao_cadastral', 'data_situacao_cadastral', 'motivo_situacao_cadastral', 'nome_cidade_exterior', 'codigo_pais', 'data_inicio_atividade', 'cnae_principal', 'cnae_secundario',\n",
        "'tipo_logradouro','logradouro','numero','complemento','bairro','cep','uf','codigo_municipio_siafi','ddd1', 'telefone1','ddd2','telefone2','dddfax','fax','email', 'situacao_especial', 'data_situacao_especial'],encoding='ISO-8859-1',decimal=',', sep=';' ,dtype=str, header=None,)"
      ],
      "execution_count": 3,
      "outputs": []
    },
    {
      "cell_type": "code",
      "metadata": {
        "id": "hpiNx3hlG1jB"
      },
      "source": [
        "cnpj_estabelecimento_todas_parte01 = pd.concat([cnpj_estabelecimento_01, cnpj_estabelecimento_02, cnpj_estabelecimento_03, cnpj_estabelecimento_04, cnpj_estabelecimento_05], axis=0)"
      ],
      "execution_count": 4,
      "outputs": []
    },
    {
      "cell_type": "code",
      "metadata": {
        "colab": {
          "base_uri": "https://localhost:8080/"
        },
        "id": "PJbp5m6Hdd4z",
        "outputId": "2ceb8ef5-5fdf-43d6-cedd-d76d0c0f52bd"
      },
      "source": [
        "cnpj_estabelecimento_todas_parte01.shape"
      ],
      "execution_count": 5,
      "outputs": [
        {
          "output_type": "execute_result",
          "data": {
            "text/plain": [
              "(25087343, 30)"
            ]
          },
          "metadata": {
            "tags": []
          },
          "execution_count": 5
        }
      ]
    },
    {
      "cell_type": "code",
      "metadata": {
        "colab": {
          "base_uri": "https://localhost:8080/",
          "height": 384
        },
        "id": "aRfEsx66Ot4v",
        "outputId": "63c5aa9e-ed8a-45f4-e9f8-3f31a032f4b8"
      },
      "source": [
        "cnpj_estabelecimento_todas_parte01.head()"
      ],
      "execution_count": 6,
      "outputs": [
        {
          "output_type": "execute_result",
          "data": {
            "text/html": [
              "<div>\n",
              "<style scoped>\n",
              "    .dataframe tbody tr th:only-of-type {\n",
              "        vertical-align: middle;\n",
              "    }\n",
              "\n",
              "    .dataframe tbody tr th {\n",
              "        vertical-align: top;\n",
              "    }\n",
              "\n",
              "    .dataframe thead th {\n",
              "        text-align: right;\n",
              "    }\n",
              "</style>\n",
              "<table border=\"1\" class=\"dataframe\">\n",
              "  <thead>\n",
              "    <tr style=\"text-align: right;\">\n",
              "      <th></th>\n",
              "      <th>cnpj_basico</th>\n",
              "      <th>cnpj_ordem</th>\n",
              "      <th>cnpj_dv</th>\n",
              "      <th>matriz_filial</th>\n",
              "      <th>nome_fantasia</th>\n",
              "      <th>codigo_situacao_cadastral</th>\n",
              "      <th>data_situacao_cadastral</th>\n",
              "      <th>motivo_situacao_cadastral</th>\n",
              "      <th>nome_cidade_exterior</th>\n",
              "      <th>codigo_pais</th>\n",
              "      <th>data_inicio_atividade</th>\n",
              "      <th>cnae_principal</th>\n",
              "      <th>cnae_secundario</th>\n",
              "      <th>tipo_logradouro</th>\n",
              "      <th>logradouro</th>\n",
              "      <th>numero</th>\n",
              "      <th>complemento</th>\n",
              "      <th>bairro</th>\n",
              "      <th>cep</th>\n",
              "      <th>uf</th>\n",
              "      <th>codigo_municipio_siafi</th>\n",
              "      <th>ddd1</th>\n",
              "      <th>telefone1</th>\n",
              "      <th>ddd2</th>\n",
              "      <th>telefone2</th>\n",
              "      <th>dddfax</th>\n",
              "      <th>fax</th>\n",
              "      <th>email</th>\n",
              "      <th>situacao_especial</th>\n",
              "      <th>data_situacao_especial</th>\n",
              "    </tr>\n",
              "  </thead>\n",
              "  <tbody>\n",
              "    <tr>\n",
              "      <th>0</th>\n",
              "      <td>29880578</td>\n",
              "      <td>0001</td>\n",
              "      <td>61</td>\n",
              "      <td>1</td>\n",
              "      <td>MERCEARIA GRAJAU</td>\n",
              "      <td>02</td>\n",
              "      <td>20180308</td>\n",
              "      <td>00</td>\n",
              "      <td>NaN</td>\n",
              "      <td>NaN</td>\n",
              "      <td>20180308</td>\n",
              "      <td>4712100</td>\n",
              "      <td>4763601,4755503,4755502,4781400,4789099,472370...</td>\n",
              "      <td>AVENIDA</td>\n",
              "      <td>JACUBA</td>\n",
              "      <td>S/N</td>\n",
              "      <td>QUADRA 15;LOTE 36</td>\n",
              "      <td>LOTEAMENTO JARDINS MONACO</td>\n",
              "      <td>77828466</td>\n",
              "      <td>TO</td>\n",
              "      <td>9241</td>\n",
              "      <td>63</td>\n",
              "      <td>99387328</td>\n",
              "      <td>NaN</td>\n",
              "      <td>NaN</td>\n",
              "      <td>NaN</td>\n",
              "      <td>NaN</td>\n",
              "      <td>fneuznia@yahoo.com</td>\n",
              "      <td>NaN</td>\n",
              "      <td>NaN</td>\n",
              "    </tr>\n",
              "    <tr>\n",
              "      <th>1</th>\n",
              "      <td>29880593</td>\n",
              "      <td>0001</td>\n",
              "      <td>00</td>\n",
              "      <td>1</td>\n",
              "      <td>FRONTEC INFORMATICA</td>\n",
              "      <td>02</td>\n",
              "      <td>20180308</td>\n",
              "      <td>00</td>\n",
              "      <td>NaN</td>\n",
              "      <td>NaN</td>\n",
              "      <td>20180308</td>\n",
              "      <td>9511800</td>\n",
              "      <td>8599605,8599603,3313999,4752100,4757100,619069...</td>\n",
              "      <td>RUA</td>\n",
              "      <td>20 DE SETEMBRO</td>\n",
              "      <td>804</td>\n",
              "      <td>NaN</td>\n",
              "      <td>TIRO</td>\n",
              "      <td>97670000</td>\n",
              "      <td>RS</td>\n",
              "      <td>8863</td>\n",
              "      <td>55</td>\n",
              "      <td>34315854</td>\n",
              "      <td>NaN</td>\n",
              "      <td>NaN</td>\n",
              "      <td>NaN</td>\n",
              "      <td>NaN</td>\n",
              "      <td>frontec.sb@gmail.com</td>\n",
              "      <td>NaN</td>\n",
              "      <td>NaN</td>\n",
              "    </tr>\n",
              "    <tr>\n",
              "      <th>2</th>\n",
              "      <td>29880610</td>\n",
              "      <td>0001</td>\n",
              "      <td>09</td>\n",
              "      <td>1</td>\n",
              "      <td>SOL E LUA CONFECCOES</td>\n",
              "      <td>02</td>\n",
              "      <td>20180308</td>\n",
              "      <td>00</td>\n",
              "      <td>NaN</td>\n",
              "      <td>NaN</td>\n",
              "      <td>20180308</td>\n",
              "      <td>1412601</td>\n",
              "      <td>NaN</td>\n",
              "      <td>PRACA</td>\n",
              "      <td>DA MATRIZ</td>\n",
              "      <td>41</td>\n",
              "      <td>CASA</td>\n",
              "      <td>CENTRO</td>\n",
              "      <td>77320000</td>\n",
              "      <td>TO</td>\n",
              "      <td>9615</td>\n",
              "      <td>63</td>\n",
              "      <td>85006078</td>\n",
              "      <td>NaN</td>\n",
              "      <td>NaN</td>\n",
              "      <td>NaN</td>\n",
              "      <td>NaN</td>\n",
              "      <td>NaN</td>\n",
              "      <td>NaN</td>\n",
              "      <td>NaN</td>\n",
              "    </tr>\n",
              "    <tr>\n",
              "      <th>3</th>\n",
              "      <td>29880623</td>\n",
              "      <td>0001</td>\n",
              "      <td>88</td>\n",
              "      <td>1</td>\n",
              "      <td>IGREJA PENTECOSTAL DEUS DE TODOS OS MILAGRES</td>\n",
              "      <td>04</td>\n",
              "      <td>20201027</td>\n",
              "      <td>63</td>\n",
              "      <td>NaN</td>\n",
              "      <td>NaN</td>\n",
              "      <td>20180209</td>\n",
              "      <td>9491000</td>\n",
              "      <td>NaN</td>\n",
              "      <td>RUA</td>\n",
              "      <td>DIVONZIR LUCIANO</td>\n",
              "      <td>1311</td>\n",
              "      <td>NaN</td>\n",
              "      <td>PARQUE DA FONTE</td>\n",
              "      <td>83050060</td>\n",
              "      <td>PR</td>\n",
              "      <td>7885</td>\n",
              "      <td>41</td>\n",
              "      <td>95909931</td>\n",
              "      <td>41</td>\n",
              "      <td>30814121</td>\n",
              "      <td>NaN</td>\n",
              "      <td>NaN</td>\n",
              "      <td>NaN</td>\n",
              "      <td>NaN</td>\n",
              "      <td>NaN</td>\n",
              "    </tr>\n",
              "    <tr>\n",
              "      <th>4</th>\n",
              "      <td>29880632</td>\n",
              "      <td>0001</td>\n",
              "      <td>79</td>\n",
              "      <td>1</td>\n",
              "      <td>SALGADARIA SABOR &amp; CIA</td>\n",
              "      <td>08</td>\n",
              "      <td>20181119</td>\n",
              "      <td>01</td>\n",
              "      <td>NaN</td>\n",
              "      <td>NaN</td>\n",
              "      <td>20180308</td>\n",
              "      <td>5611203</td>\n",
              "      <td>5611204</td>\n",
              "      <td>RUA</td>\n",
              "      <td>ADELINO RODRIGUES GATTO</td>\n",
              "      <td>550</td>\n",
              "      <td>NaN</td>\n",
              "      <td>JARDIM MONTE ALTO</td>\n",
              "      <td>19067040</td>\n",
              "      <td>SP</td>\n",
              "      <td>6929</td>\n",
              "      <td>18</td>\n",
              "      <td>97484163</td>\n",
              "      <td>NaN</td>\n",
              "      <td>NaN</td>\n",
              "      <td>NaN</td>\n",
              "      <td>NaN</td>\n",
              "      <td>NaN</td>\n",
              "      <td>NaN</td>\n",
              "      <td>NaN</td>\n",
              "    </tr>\n",
              "  </tbody>\n",
              "</table>\n",
              "</div>"
            ],
            "text/plain": [
              "  cnpj_basico cnpj_ordem  ... situacao_especial data_situacao_especial\n",
              "0    29880578       0001  ...               NaN                    NaN\n",
              "1    29880593       0001  ...               NaN                    NaN\n",
              "2    29880610       0001  ...               NaN                    NaN\n",
              "3    29880623       0001  ...               NaN                    NaN\n",
              "4    29880632       0001  ...               NaN                    NaN\n",
              "\n",
              "[5 rows x 30 columns]"
            ]
          },
          "metadata": {
            "tags": []
          },
          "execution_count": 6
        }
      ]
    },
    {
      "cell_type": "markdown",
      "metadata": {
        "id": "F61ItDv3Ls3k"
      },
      "source": [
        "# **Tratamento das colunas do Dataset**"
      ]
    },
    {
      "cell_type": "code",
      "metadata": {
        "colab": {
          "base_uri": "https://localhost:8080/"
        },
        "id": "9pmFAIfGIO2-",
        "outputId": "c68c81ac-4ccf-4561-af84-2cab28e52d6a"
      },
      "source": [
        "cnpj_estabelecimento_todas_parte01.isna().sum()"
      ],
      "execution_count": 7,
      "outputs": [
        {
          "output_type": "execute_result",
          "data": {
            "text/plain": [
              "cnpj_basico                         0\n",
              "cnpj_ordem                          0\n",
              "cnpj_dv                             0\n",
              "matriz_filial                       0\n",
              "nome_fantasia                10277858\n",
              "codigo_situacao_cadastral           0\n",
              "data_situacao_cadastral             0\n",
              "motivo_situacao_cadastral           0\n",
              "nome_cidade_exterior         25073270\n",
              "codigo_pais                  25023602\n",
              "data_inicio_atividade               0\n",
              "cnae_principal                      0\n",
              "cnae_secundario              14310823\n",
              "tipo_logradouro                460061\n",
              "logradouro                       1016\n",
              "numero                            832\n",
              "complemento                  14635389\n",
              "bairro                         191386\n",
              "cep                             75834\n",
              "uf                                  0\n",
              "codigo_municipio_siafi              0\n",
              "ddd1                          6263302\n",
              "telefone1                     6263286\n",
              "ddd2                         22988666\n",
              "telefone2                    22992659\n",
              "dddfax                       21532746\n",
              "fax                          21530413\n",
              "email                        11639875\n",
              "situacao_especial            25087292\n",
              "data_situacao_especial       25087292\n",
              "dtype: int64"
            ]
          },
          "metadata": {
            "tags": []
          },
          "execution_count": 7
        }
      ]
    },
    {
      "cell_type": "markdown",
      "metadata": {
        "id": "iZK-3EmyUE8t"
      },
      "source": [
        "**As colunas a seguir serão eliminados pelas seguintes motivações:**\n",
        "\n",
        "1.   Devido ao grande número de registros sem informações e a sua irrelevância para o para o projeto em estudo:\n",
        "*   nome_fantasia\n",
        "*   nome_cidade_exterior\n",
        "*   codigo_pais\n",
        "*   tipo_logradouro\n",
        "*   logradouro\n",
        "*   numero\n",
        "*   complemento\n",
        "*   bairro\n",
        "*   cep\n",
        "*   uf\n",
        "*   ddd1\n",
        "*   telefone1\n",
        "*   ddd2\n",
        "*   telefone2\n",
        "*   dddfax\n",
        "*   fax\n",
        "*   email\n",
        "*   situacao_especial\n",
        "\n",
        "\n",
        "\n",
        "2.   A coluna \"motivo_situacao_cadastral\" traz o motivo pelo qual a Situação Cadastral do CNPJ foi alterada. No nosso estudo, como o TARGET é a Situação Cadastral \"02\" ou \"08\", indenpendentemente do seu motivo, a coluna será eliminada.\n",
        "\n",
        "\n",
        "\n",
        "3.   A coluna \"cnae_secundario\" traz um detalhamento excessivo para o CNAE da empresa. No nosso estudo, para diminuirmos a amplitude das informações, iremos trabalhar com a classificação da Secão e e da Divisão, além do CANE principal. Por esse motivo, a coluna \"cnae_secundario\" será eliminada."
      ]
    },
    {
      "cell_type": "code",
      "metadata": {
        "id": "O45Fa5MPoMgg"
      },
      "source": [
        "cnpj_estabelecimento_todas_parte01 = cnpj_estabelecimento_todas_parte01.drop(['motivo_situacao_cadastral','nome_fantasia','nome_cidade_exterior','codigo_pais','cnae_secundario','tipo_logradouro',\t'logradouro',\t'numero',\t'complemento',\t'bairro',\t'cep',\t'uf','ddd1',\t'telefone1',\t'ddd2',\t'telefone2',\t'dddfax',\t'fax', 'email',\t'situacao_especial',\t'data_situacao_especial'], axis=1) #eliminação das colunas desnecessárias"
      ],
      "execution_count": 8,
      "outputs": []
    },
    {
      "cell_type": "markdown",
      "metadata": {
        "id": "PTO-LoAaNXkr"
      },
      "source": [
        "# **CORTE NO DATASET DE ESTABELECIMENTOS**"
      ]
    },
    {
      "cell_type": "markdown",
      "metadata": {
        "id": "3PbqngGiSpOl"
      },
      "source": [
        "\n",
        "Para um melhor estudo do impacto da COVID no fechamento das empresas, realizamos duas seleções no dataset de estabelecimentos (base do estudo) considerando a data da situação cadastral como delimitador do prazo e selecionando os CNPJ´s pelo Código da Situação Cadastral.\n",
        "\n",
        "*   **PERÍODO: No total, estamos avaliando 28 meses de atividade, divididos da seguinte forma:**\n",
        "\n",
        "1.   Período 20-21 - COM COVID (14 meses) - Início: 01/04/2020 - Término: 31/05/2021\n",
        "2.   Período 19-20 - SEM COVID (14 meses) - Início: 01/02/2019 - Término: 31/03/2020\n",
        "\n",
        "*   **SITUAÇÃO CADASTRAL: Iremos avaliar somente os CNPJ´s abaixo descritos:**\n",
        "\n",
        "1.   CNPJ´s FECHADOS - situação cadastral igual a \"8\"\n",
        "2.   CNPJ´s ABERTOS - situação cadastral igual a \"2\""
      ]
    },
    {
      "cell_type": "code",
      "metadata": {
        "id": "x7kKBjcttNnq"
      },
      "source": [
        "cnpj_estabelecimento_todas_parte01 = cnpj_estabelecimento_todas_parte01.query( 'codigo_situacao_cadastral==\"02\" or codigo_situacao_cadastral==\"08\" ')"
      ],
      "execution_count": 9,
      "outputs": []
    },
    {
      "cell_type": "code",
      "metadata": {
        "id": "PLUpKtcyEV0x"
      },
      "source": [
        "cnpj_estabelecimento_todas_parte01 = cnpj_estabelecimento_todas_parte01.query('data_situacao_cadastral >= \"20190201\" and data_situacao_cadastral <= \"20210531\" ')"
      ],
      "execution_count": 10,
      "outputs": []
    },
    {
      "cell_type": "markdown",
      "metadata": {
        "id": "tiD5KfZhPFo7"
      },
      "source": [
        "# **GRAVAÇÃO DO DATASET**"
      ]
    },
    {
      "cell_type": "code",
      "metadata": {
        "colab": {
          "base_uri": "https://localhost:8080/"
        },
        "id": "7xwxQVWvS83S",
        "outputId": "738f9251-5d6f-4c2f-a38d-3e6089b9b877"
      },
      "source": [
        "cnpj_estabelecimento_todas_parte01.shape"
      ],
      "execution_count": 11,
      "outputs": [
        {
          "output_type": "execute_result",
          "data": {
            "text/plain": [
              "(6016988, 9)"
            ]
          },
          "metadata": {
            "tags": []
          },
          "execution_count": 11
        }
      ]
    },
    {
      "cell_type": "code",
      "metadata": {
        "id": "xsPd8fHWpjjG",
        "colab": {
          "base_uri": "https://localhost:8080/"
        },
        "outputId": "592b762d-4b4f-4107-d582-01bf557cf5cd"
      },
      "source": [
        "cnpj_estabelecimento_todas_parte01.dtypes"
      ],
      "execution_count": 12,
      "outputs": [
        {
          "output_type": "execute_result",
          "data": {
            "text/plain": [
              "cnpj_basico                  object\n",
              "cnpj_ordem                   object\n",
              "cnpj_dv                      object\n",
              "matriz_filial                object\n",
              "codigo_situacao_cadastral    object\n",
              "data_situacao_cadastral      object\n",
              "data_inicio_atividade        object\n",
              "cnae_principal               object\n",
              "codigo_municipio_siafi       object\n",
              "dtype: object"
            ]
          },
          "metadata": {
            "tags": []
          },
          "execution_count": 12
        }
      ]
    },
    {
      "cell_type": "code",
      "metadata": {
        "colab": {
          "base_uri": "https://localhost:8080/",
          "height": 197
        },
        "id": "7nxjTFj8Qw5K",
        "outputId": "f80921e1-61f8-486a-bf9f-863b0f77aaf7"
      },
      "source": [
        "cnpj_estabelecimento_todas_parte01.head()"
      ],
      "execution_count": 13,
      "outputs": [
        {
          "output_type": "execute_result",
          "data": {
            "text/html": [
              "<div>\n",
              "<style scoped>\n",
              "    .dataframe tbody tr th:only-of-type {\n",
              "        vertical-align: middle;\n",
              "    }\n",
              "\n",
              "    .dataframe tbody tr th {\n",
              "        vertical-align: top;\n",
              "    }\n",
              "\n",
              "    .dataframe thead th {\n",
              "        text-align: right;\n",
              "    }\n",
              "</style>\n",
              "<table border=\"1\" class=\"dataframe\">\n",
              "  <thead>\n",
              "    <tr style=\"text-align: right;\">\n",
              "      <th></th>\n",
              "      <th>cnpj_basico</th>\n",
              "      <th>cnpj_ordem</th>\n",
              "      <th>cnpj_dv</th>\n",
              "      <th>matriz_filial</th>\n",
              "      <th>codigo_situacao_cadastral</th>\n",
              "      <th>data_situacao_cadastral</th>\n",
              "      <th>data_inicio_atividade</th>\n",
              "      <th>cnae_principal</th>\n",
              "      <th>codigo_municipio_siafi</th>\n",
              "    </tr>\n",
              "  </thead>\n",
              "  <tbody>\n",
              "    <tr>\n",
              "      <th>5</th>\n",
              "      <td>29880642</td>\n",
              "      <td>0001</td>\n",
              "      <td>04</td>\n",
              "      <td>1</td>\n",
              "      <td>08</td>\n",
              "      <td>20190921</td>\n",
              "      <td>20180308</td>\n",
              "      <td>8712300</td>\n",
              "      <td>7107</td>\n",
              "    </tr>\n",
              "    <tr>\n",
              "      <th>17</th>\n",
              "      <td>29880783</td>\n",
              "      <td>0001</td>\n",
              "      <td>27</td>\n",
              "      <td>1</td>\n",
              "      <td>08</td>\n",
              "      <td>20200106</td>\n",
              "      <td>20180308</td>\n",
              "      <td>8630503</td>\n",
              "      <td>4205</td>\n",
              "    </tr>\n",
              "    <tr>\n",
              "      <th>18</th>\n",
              "      <td>29880797</td>\n",
              "      <td>0001</td>\n",
              "      <td>40</td>\n",
              "      <td>1</td>\n",
              "      <td>08</td>\n",
              "      <td>20200507</td>\n",
              "      <td>20180308</td>\n",
              "      <td>9511800</td>\n",
              "      <td>5403</td>\n",
              "    </tr>\n",
              "    <tr>\n",
              "      <th>19</th>\n",
              "      <td>29880805</td>\n",
              "      <td>0001</td>\n",
              "      <td>59</td>\n",
              "      <td>1</td>\n",
              "      <td>08</td>\n",
              "      <td>20190213</td>\n",
              "      <td>20180308</td>\n",
              "      <td>5620104</td>\n",
              "      <td>6623</td>\n",
              "    </tr>\n",
              "    <tr>\n",
              "      <th>20</th>\n",
              "      <td>29880816</td>\n",
              "      <td>0001</td>\n",
              "      <td>39</td>\n",
              "      <td>1</td>\n",
              "      <td>08</td>\n",
              "      <td>20190808</td>\n",
              "      <td>20180308</td>\n",
              "      <td>9602501</td>\n",
              "      <td>3105</td>\n",
              "    </tr>\n",
              "  </tbody>\n",
              "</table>\n",
              "</div>"
            ],
            "text/plain": [
              "   cnpj_basico cnpj_ordem  ... cnae_principal codigo_municipio_siafi\n",
              "5     29880642       0001  ...        8712300                   7107\n",
              "17    29880783       0001  ...        8630503                   4205\n",
              "18    29880797       0001  ...        9511800                   5403\n",
              "19    29880805       0001  ...        5620104                   6623\n",
              "20    29880816       0001  ...        9602501                   3105\n",
              "\n",
              "[5 rows x 9 columns]"
            ]
          },
          "metadata": {
            "tags": []
          },
          "execution_count": 13
        }
      ]
    },
    {
      "cell_type": "code",
      "metadata": {
        "id": "GLiuD_X_jXpG"
      },
      "source": [
        "cnpj_estabelecimento_todas_parte01.to_csv('/content/drive/MyDrive/TCC - PUC/cnpj_estabelecimento_todas_parte01.csv', index=False, sep=';') "
      ],
      "execution_count": 14,
      "outputs": []
    }
  ]
}