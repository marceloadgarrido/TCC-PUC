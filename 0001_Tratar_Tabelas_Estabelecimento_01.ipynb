{
  "nbformat": 4,
  "nbformat_minor": 0,
  "metadata": {
    "colab": {
      "name": "0001 - Tratar Tabelas Estabelecimento_01.ipynb",
      "provenance": [],
      "collapsed_sections": [],
      "machine_shape": "hm"
    },
    "kernelspec": {
      "name": "python3",
      "display_name": "Python 3"
    },
    "language_info": {
      "name": "python"
    }
  },
  "cells": [
    {
      "cell_type": "code",
      "metadata": {
        "id": "Lm_XYoX5iDhu"
      },
      "source": [
        "import pandas as pd\n",
        "import numpy as np"
      ],
      "execution_count": 1,
      "outputs": []
    },
    {
      "cell_type": "code",
      "metadata": {
        "colab": {
          "base_uri": "https://localhost:8080/"
        },
        "id": "bCXl3RnliGaI",
        "outputId": "0c312b69-33f4-4603-8c84-39ef1f3b6981"
      },
      "source": [
        "from google.colab import drive\n",
        "drive.mount('/content/drive')"
      ],
      "execution_count": 2,
      "outputs": [
        {
          "output_type": "stream",
          "text": [
            "Mounted at /content/drive\n"
          ],
          "name": "stdout"
        }
      ]
    },
    {
      "cell_type": "markdown",
      "metadata": {
        "id": "U8QyRWmiMouD"
      },
      "source": [
        "# **CARREGAMENTO DOS DADOS - Dados Abertos CNPJ ESTABELECIMENTO**"
      ]
    },
    {
      "cell_type": "markdown",
      "metadata": {
        "id": "ZiRGrFYjSXpU"
      },
      "source": [
        "*   Os dados dos CNPJ´s são a base do nosso estudo. Neles encontraremos as principais informações da empresas alvo do trabalho. Iremos, por conta do alto volume de dados, executar o carregamento e junção dos dados dos CNPJ´s em 3 notebooks. Os dados de CNPJ estão divididos em dois grupos:\n",
        "\n",
        "1.   Dados Abertos CNPJ EMPRESA\n",
        "2.   Dados Abertos CNPJ ESTABELECIMENTO\n",
        "\n",
        "-------------\n",
        "\n",
        "*   Tabela de CNPJ´s do site da Receita Federal\n",
        "*   https://www.gov.br/receitafederal/pt-br/assuntos/orientacao-tributaria/cadastros/consultas/dados-publicos-cnpj"
      ]
    },
    {
      "cell_type": "code",
      "metadata": {
        "id": "X0HvA-yFki3f"
      },
      "source": [
        "cnpj_estabelecimento_01 = pd.read_csv('/content/drive/MyDrive/TCC - PUC/Dados Abertos CNPJ ESTABELECIMENTO 01.csv', names=['cnpj_basico', 'cnpj_ordem', 'cnpj_dv', 'matriz_filial', 'nome_fantasia', 'codigo_situacao_cadastral', 'data_situacao_cadastral', 'motivo_situacao_cadastral', 'nome_cidade_exterior', 'codigo_pais', 'data_inicio_atividade', 'cnae_principal', 'cnae_secundario',\n",
        "'tipo_logradouro','logradouro','numero','complemento','bairro','cep','uf','codigo_municipio_siafi','ddd1', 'telefone1','ddd2','telefone2','dddfax','fax','email', 'situacao_especial', 'data_situacao_especial'],encoding='ISO-8859-1',decimal=',', sep=';' ,dtype=str, header=None,)\n",
        "cnpj_estabelecimento_02 = pd.read_csv('/content/drive/MyDrive/TCC - PUC/Dados Abertos CNPJ ESTABELECIMENTO 02.csv', names=['cnpj_basico', 'cnpj_ordem', 'cnpj_dv', 'matriz_filial', 'nome_fantasia', 'codigo_situacao_cadastral', 'data_situacao_cadastral', 'motivo_situacao_cadastral', 'nome_cidade_exterior', 'codigo_pais', 'data_inicio_atividade', 'cnae_principal', 'cnae_secundario',\n",
        "'tipo_logradouro','logradouro','numero','complemento','bairro','cep','uf','codigo_municipio_siafi','ddd1', 'telefone1','ddd2','telefone2','dddfax','fax','email', 'situacao_especial', 'data_situacao_especial'],encoding='ISO-8859-1',decimal=',', sep=';' ,dtype=str, header=None,)\n",
        "cnpj_estabelecimento_03 = pd.read_csv('/content/drive/MyDrive/TCC - PUC/Dados Abertos CNPJ ESTABELECIMENTO 03.csv', names=['cnpj_basico', 'cnpj_ordem', 'cnpj_dv', 'matriz_filial', 'nome_fantasia', 'codigo_situacao_cadastral', 'data_situacao_cadastral', 'motivo_situacao_cadastral', 'nome_cidade_exterior', 'codigo_pais', 'data_inicio_atividade', 'cnae_principal', 'cnae_secundario',\n",
        "'tipo_logradouro','logradouro','numero','complemento','bairro','cep','uf','codigo_municipio_siafi','ddd1', 'telefone1','ddd2','telefone2','dddfax','fax','email', 'situacao_especial', 'data_situacao_especial'],encoding='ISO-8859-1',decimal=',', sep=';' ,dtype=str, header=None,)\n",
        "cnpj_estabelecimento_04 = pd.read_csv('/content/drive/MyDrive/TCC - PUC/Dados Abertos CNPJ ESTABELECIMENTO 04.csv', names=['cnpj_basico', 'cnpj_ordem', 'cnpj_dv', 'matriz_filial', 'nome_fantasia', 'codigo_situacao_cadastral', 'data_situacao_cadastral', 'motivo_situacao_cadastral', 'nome_cidade_exterior', 'codigo_pais', 'data_inicio_atividade', 'cnae_principal', 'cnae_secundario',\n",
        "'tipo_logradouro','logradouro','numero','complemento','bairro','cep','uf','codigo_municipio_siafi','ddd1', 'telefone1','ddd2','telefone2','dddfax','fax','email', 'situacao_especial', 'data_situacao_especial'],encoding='ISO-8859-1',decimal=',', sep=';' ,dtype=str, header=None,)\n",
        "cnpj_estabelecimento_05 = pd.read_csv('/content/drive/MyDrive/TCC - PUC/Dados Abertos CNPJ ESTABELECIMENTO 05.csv', names=['cnpj_basico', 'cnpj_ordem', 'cnpj_dv', 'matriz_filial', 'nome_fantasia', 'codigo_situacao_cadastral', 'data_situacao_cadastral', 'motivo_situacao_cadastral', 'nome_cidade_exterior', 'codigo_pais', 'data_inicio_atividade', 'cnae_principal', 'cnae_secundario',\n",
        "'tipo_logradouro','logradouro','numero','complemento','bairro','cep','uf','codigo_municipio_siafi','ddd1', 'telefone1','ddd2','telefone2','dddfax','fax','email', 'situacao_especial', 'data_situacao_especial'],encoding='ISO-8859-1',decimal=',', sep=';' ,dtype=str, header=None,)"
      ],
      "execution_count": 3,
      "outputs": []
    },
    {
      "cell_type": "markdown",
      "metadata": {
        "id": "iZK-3EmyUE8t"
      },
      "source": [
        "**Eliminação de colunas que não serão utilizadas no nosso estudo**"
      ]
    },
    {
      "cell_type": "code",
      "metadata": {
        "id": "O45Fa5MPoMgg"
      },
      "source": [
        "cnpj_estabelecimento_01 = cnpj_estabelecimento_01.drop(['motivo_situacao_cadastral','nome_fantasia','nome_cidade_exterior','codigo_pais','cnae_secundario','tipo_logradouro',\t'logradouro',\t'numero',\t'complemento',\t'bairro',\t'cep',\t'uf','ddd1',\t'telefone1',\t'ddd2',\t'telefone2',\t'dddfax',\t'fax', 'email',\t'situacao_especial',\t'data_situacao_especial'], axis=1) #eliminação das colunas desnecessárias\n",
        "cnpj_estabelecimento_02 = cnpj_estabelecimento_02.drop(['motivo_situacao_cadastral','nome_fantasia','nome_cidade_exterior','codigo_pais','cnae_secundario','tipo_logradouro',\t'logradouro',\t'numero',\t'complemento',\t'bairro',\t'cep',\t'uf','ddd1',\t'telefone1',\t'ddd2',\t'telefone2',\t'dddfax',\t'fax', 'email',\t'situacao_especial',\t'data_situacao_especial'], axis=1) #eliminação das colunas desnecessárias\n",
        "cnpj_estabelecimento_03 = cnpj_estabelecimento_03.drop(['motivo_situacao_cadastral','nome_fantasia','nome_cidade_exterior','codigo_pais','cnae_secundario','tipo_logradouro',\t'logradouro',\t'numero',\t'complemento',\t'bairro',\t'cep',\t'uf','ddd1',\t'telefone1',\t'ddd2',\t'telefone2',\t'dddfax',\t'fax', 'email',\t'situacao_especial',\t'data_situacao_especial'], axis=1) #eliminação das colunas desnecessárias\n",
        "cnpj_estabelecimento_04 = cnpj_estabelecimento_04.drop(['motivo_situacao_cadastral','nome_fantasia','nome_cidade_exterior','codigo_pais','cnae_secundario','tipo_logradouro',\t'logradouro',\t'numero',\t'complemento',\t'bairro',\t'cep',\t'uf','ddd1',\t'telefone1',\t'ddd2',\t'telefone2',\t'dddfax',\t'fax', 'email',\t'situacao_especial',\t'data_situacao_especial'], axis=1) #eliminação das colunas desnecessárias\n",
        "cnpj_estabelecimento_05 = cnpj_estabelecimento_05.drop(['motivo_situacao_cadastral','nome_fantasia','nome_cidade_exterior','codigo_pais','cnae_secundario','tipo_logradouro',\t'logradouro',\t'numero',\t'complemento',\t'bairro',\t'cep',\t'uf','ddd1',\t'telefone1',\t'ddd2',\t'telefone2',\t'dddfax',\t'fax', 'email',\t'situacao_especial',\t'data_situacao_especial'], axis=1) #eliminação das colunas desnecessárias"
      ],
      "execution_count": 4,
      "outputs": []
    },
    {
      "cell_type": "code",
      "metadata": {
        "id": "4BklFsgpoXaA"
      },
      "source": [
        "cnpj_estabelecimento_todas_parte01 = pd.concat([cnpj_estabelecimento_01, cnpj_estabelecimento_02, cnpj_estabelecimento_03, cnpj_estabelecimento_04, cnpj_estabelecimento_05], axis=0)"
      ],
      "execution_count": 5,
      "outputs": []
    },
    {
      "cell_type": "markdown",
      "metadata": {
        "id": "PTO-LoAaNXkr"
      },
      "source": [
        "# **CORTE NO DATASET DE ESTABELECIMENTOS**"
      ]
    },
    {
      "cell_type": "markdown",
      "metadata": {
        "id": "3PbqngGiSpOl"
      },
      "source": [
        "\n",
        "Para um melhor estudo do impacto da COVID no fechamento das empresas, realizamos duas seleções no dataset de estabelecimentos (base do estudo) considerando a data da situação cadastral como delimitador do prazo e selecionando os CNPJ´s pelo Código da Situação Cadastral.\n",
        "\n",
        "*   **PERÍODO: No total, estamos avaliando 28 meses de atividade, divididos da seguinte forma:**\n",
        "\n",
        "1.   Período 20-21 - COM COVID (14 meses) - Início: 01/04/2020 - Término: 31/05/2021\n",
        "2.   Período 19-20 - SEM COVID (14 meses) - Início: 01/02/2019 - Término: 31/03/2020\n",
        "\n",
        "*   **SITUAÇÃO CADASTRAL: Iremos avaliar somente os CNPJ´s abaixo descritos:**\n",
        "\n",
        "1.   CNPJ´s FECHADOS - situação cadastral igual a \"8\"\n",
        "2.   CNPJ´s ABERTOS - situação cadastral igual a \"2\""
      ]
    },
    {
      "cell_type": "code",
      "metadata": {
        "id": "x7kKBjcttNnq"
      },
      "source": [
        "cnpj_estabelecimento_todas_parte01 = cnpj_estabelecimento_todas_parte01.query( 'codigo_situacao_cadastral==\"02\" or codigo_situacao_cadastral==\"08\" ')"
      ],
      "execution_count": 6,
      "outputs": []
    },
    {
      "cell_type": "code",
      "metadata": {
        "id": "PLUpKtcyEV0x"
      },
      "source": [
        "cnpj_estabelecimento_todas_parte01 = cnpj_estabelecimento_todas_parte01.query('data_situacao_cadastral >= \"20190201\" and data_situacao_cadastral <= \"20210531\" ')"
      ],
      "execution_count": 7,
      "outputs": []
    },
    {
      "cell_type": "markdown",
      "metadata": {
        "id": "tiD5KfZhPFo7"
      },
      "source": [
        "# **GRAVAÇÃO DO DATASET**"
      ]
    },
    {
      "cell_type": "code",
      "metadata": {
        "colab": {
          "base_uri": "https://localhost:8080/",
          "height": 197
        },
        "id": "7nxjTFj8Qw5K",
        "outputId": "75b1ee51-fbc5-4182-bbaa-d2d4c5101049"
      },
      "source": [
        "cnpj_estabelecimento_todas_parte01.head()"
      ],
      "execution_count": 8,
      "outputs": [
        {
          "output_type": "execute_result",
          "data": {
            "text/html": [
              "<div>\n",
              "<style scoped>\n",
              "    .dataframe tbody tr th:only-of-type {\n",
              "        vertical-align: middle;\n",
              "    }\n",
              "\n",
              "    .dataframe tbody tr th {\n",
              "        vertical-align: top;\n",
              "    }\n",
              "\n",
              "    .dataframe thead th {\n",
              "        text-align: right;\n",
              "    }\n",
              "</style>\n",
              "<table border=\"1\" class=\"dataframe\">\n",
              "  <thead>\n",
              "    <tr style=\"text-align: right;\">\n",
              "      <th></th>\n",
              "      <th>cnpj_basico</th>\n",
              "      <th>cnpj_ordem</th>\n",
              "      <th>cnpj_dv</th>\n",
              "      <th>matriz_filial</th>\n",
              "      <th>codigo_situacao_cadastral</th>\n",
              "      <th>data_situacao_cadastral</th>\n",
              "      <th>data_inicio_atividade</th>\n",
              "      <th>cnae_principal</th>\n",
              "      <th>codigo_municipio_siafi</th>\n",
              "    </tr>\n",
              "  </thead>\n",
              "  <tbody>\n",
              "    <tr>\n",
              "      <th>5</th>\n",
              "      <td>29880642</td>\n",
              "      <td>0001</td>\n",
              "      <td>04</td>\n",
              "      <td>1</td>\n",
              "      <td>08</td>\n",
              "      <td>20190921</td>\n",
              "      <td>20180308</td>\n",
              "      <td>8712300</td>\n",
              "      <td>7107</td>\n",
              "    </tr>\n",
              "    <tr>\n",
              "      <th>17</th>\n",
              "      <td>29880783</td>\n",
              "      <td>0001</td>\n",
              "      <td>27</td>\n",
              "      <td>1</td>\n",
              "      <td>08</td>\n",
              "      <td>20200106</td>\n",
              "      <td>20180308</td>\n",
              "      <td>8630503</td>\n",
              "      <td>4205</td>\n",
              "    </tr>\n",
              "    <tr>\n",
              "      <th>18</th>\n",
              "      <td>29880797</td>\n",
              "      <td>0001</td>\n",
              "      <td>40</td>\n",
              "      <td>1</td>\n",
              "      <td>08</td>\n",
              "      <td>20200507</td>\n",
              "      <td>20180308</td>\n",
              "      <td>9511800</td>\n",
              "      <td>5403</td>\n",
              "    </tr>\n",
              "    <tr>\n",
              "      <th>19</th>\n",
              "      <td>29880805</td>\n",
              "      <td>0001</td>\n",
              "      <td>59</td>\n",
              "      <td>1</td>\n",
              "      <td>08</td>\n",
              "      <td>20190213</td>\n",
              "      <td>20180308</td>\n",
              "      <td>5620104</td>\n",
              "      <td>6623</td>\n",
              "    </tr>\n",
              "    <tr>\n",
              "      <th>20</th>\n",
              "      <td>29880816</td>\n",
              "      <td>0001</td>\n",
              "      <td>39</td>\n",
              "      <td>1</td>\n",
              "      <td>08</td>\n",
              "      <td>20190808</td>\n",
              "      <td>20180308</td>\n",
              "      <td>9602501</td>\n",
              "      <td>3105</td>\n",
              "    </tr>\n",
              "  </tbody>\n",
              "</table>\n",
              "</div>"
            ],
            "text/plain": [
              "   cnpj_basico cnpj_ordem  ... cnae_principal codigo_municipio_siafi\n",
              "5     29880642       0001  ...        8712300                   7107\n",
              "17    29880783       0001  ...        8630503                   4205\n",
              "18    29880797       0001  ...        9511800                   5403\n",
              "19    29880805       0001  ...        5620104                   6623\n",
              "20    29880816       0001  ...        9602501                   3105\n",
              "\n",
              "[5 rows x 9 columns]"
            ]
          },
          "metadata": {
            "tags": []
          },
          "execution_count": 8
        }
      ]
    },
    {
      "cell_type": "code",
      "metadata": {
        "id": "GLiuD_X_jXpG"
      },
      "source": [
        "cnpj_estabelecimento_todas_parte01.to_csv('/content/drive/MyDrive/TCC - PUC/cnpj_estabelecimento_todas_parte01.csv', index=False, sep=';') "
      ],
      "execution_count": 9,
      "outputs": []
    }
  ]
}