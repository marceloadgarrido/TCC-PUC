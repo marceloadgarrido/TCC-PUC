{
  "nbformat": 4,
  "nbformat_minor": 0,
  "metadata": {
    "colab": {
      "name": "03 - Tratar Tabelas Estabelecimento_02.ipynb",
      "provenance": [],
      "collapsed_sections": [],
      "machine_shape": "hm"
    },
    "kernelspec": {
      "name": "python3",
      "display_name": "Python 3"
    },
    "language_info": {
      "name": "python"
    }
  },
  "cells": [
    {
      "cell_type": "code",
      "metadata": {
        "id": "Lm_XYoX5iDhu"
      },
      "source": [
        "import pandas as pd\n",
        "import numpy as np"
      ],
      "execution_count": null,
      "outputs": []
    },
    {
      "cell_type": "code",
      "metadata": {
        "colab": {
          "base_uri": "https://localhost:8080/"
        },
        "id": "bCXl3RnliGaI",
        "outputId": "6ae86ae6-48d0-41ba-9915-330d0a463367"
      },
      "source": [
        "from google.colab import drive\n",
        "drive.mount('/content/drive')"
      ],
      "execution_count": null,
      "outputs": [
        {
          "output_type": "stream",
          "text": [
            "Mounted at /content/drive\n"
          ],
          "name": "stdout"
        }
      ]
    },
    {
      "cell_type": "code",
      "metadata": {
        "id": "X0HvA-yFki3f"
      },
      "source": [
        "cnpj_estabelecimento_06 = pd.read_csv('/content/drive/MyDrive/TCC - PUC/Dados Abertos CNPJ ESTABELECIMENTO 06.csv', names=['cnpj_basico', 'cnpj_ordem', 'cnpj_dv', 'matriz_filial', 'nome_fantasia', 'codigo_situacao_cadastral', 'data_situacao_cadastral', 'motivo_situacao_cadastral', 'nome_cidade_exterior', 'codigo_pais', 'data_inicio_atividade', 'cnae_principal', 'cnae_secundario',\n",
        "'tipo_logradouro','logradouro','numero','complemento','bairro','cep','uf','codigo_municipio_siafi','ddd1', 'telefone1','ddd2','telefone2','dddfax','fax','email', 'situacao_especial', 'data_situacao_especial'],encoding='ISO-8859-1',decimal=',', sep=';' ,dtype=str, header=None,)\n",
        "cnpj_estabelecimento_07 = pd.read_csv('/content/drive/MyDrive/TCC - PUC/Dados Abertos CNPJ ESTABELECIMENTO 07.csv', names=['cnpj_basico', 'cnpj_ordem', 'cnpj_dv', 'matriz_filial', 'nome_fantasia', 'codigo_situacao_cadastral', 'data_situacao_cadastral', 'motivo_situacao_cadastral', 'nome_cidade_exterior', 'codigo_pais', 'data_inicio_atividade', 'cnae_principal', 'cnae_secundario',\n",
        "'tipo_logradouro','logradouro','numero','complemento','bairro','cep','uf','codigo_municipio_siafi','ddd1', 'telefone1','ddd2','telefone2','dddfax','fax','email', 'situacao_especial', 'data_situacao_especial'],encoding='ISO-8859-1',decimal=',', sep=';' ,dtype=str, header=None,)\n",
        "cnpj_estabelecimento_08 = pd.read_csv('/content/drive/MyDrive/TCC - PUC/Dados Abertos CNPJ ESTABELECIMENTO 08.csv', names=['cnpj_basico', 'cnpj_ordem', 'cnpj_dv', 'matriz_filial', 'nome_fantasia', 'codigo_situacao_cadastral', 'data_situacao_cadastral', 'motivo_situacao_cadastral', 'nome_cidade_exterior', 'codigo_pais', 'data_inicio_atividade', 'cnae_principal', 'cnae_secundario',\n",
        "'tipo_logradouro','logradouro','numero','complemento','bairro','cep','uf','codigo_municipio_siafi','ddd1', 'telefone1','ddd2','telefone2','dddfax','fax','email', 'situacao_especial', 'data_situacao_especial'],encoding='ISO-8859-1',decimal=',', sep=';' ,dtype=str, header=None,)\n",
        "cnpj_estabelecimento_09 = pd.read_csv('/content/drive/MyDrive/TCC - PUC/Dados Abertos CNPJ ESTABELECIMENTO 09.csv', names=['cnpj_basico', 'cnpj_ordem', 'cnpj_dv', 'matriz_filial', 'nome_fantasia', 'codigo_situacao_cadastral', 'data_situacao_cadastral', 'motivo_situacao_cadastral', 'nome_cidade_exterior', 'codigo_pais', 'data_inicio_atividade', 'cnae_principal', 'cnae_secundario',\n",
        "'tipo_logradouro','logradouro','numero','complemento','bairro','cep','uf','codigo_municipio_siafi','ddd1', 'telefone1','ddd2','telefone2','dddfax','fax','email', 'situacao_especial', 'data_situacao_especial'],encoding='ISO-8859-1',decimal=',', sep=';' ,dtype=str, header=None,)\n",
        "cnpj_estabelecimento_10 = pd.read_csv('/content/drive/MyDrive/TCC - PUC/Dados Abertos CNPJ ESTABELECIMENTO 10.csv', names=['cnpj_basico', 'cnpj_ordem', 'cnpj_dv', 'matriz_filial', 'nome_fantasia', 'codigo_situacao_cadastral', 'data_situacao_cadastral', 'motivo_situacao_cadastral', 'nome_cidade_exterior', 'codigo_pais', 'data_inicio_atividade', 'cnae_principal', 'cnae_secundario',\n",
        "'tipo_logradouro','logradouro','numero','complemento','bairro','cep','uf','codigo_municipio_siafi','ddd1', 'telefone1','ddd2','telefone2','dddfax','fax','email', 'situacao_especial', 'data_situacao_especial'],encoding='ISO-8859-1',decimal=',', sep=';' ,dtype=str, header=None,)"
      ],
      "execution_count": null,
      "outputs": []
    },
    {
      "cell_type": "code",
      "metadata": {
        "id": "O45Fa5MPoMgg"
      },
      "source": [
        "cnpj_estabelecimento_06 = cnpj_estabelecimento_06.drop(['nome_fantasia','nome_cidade_exterior','codigo_pais','cnae_secundario','tipo_logradouro',\t'logradouro',\t'numero',\t'complemento',\t'bairro',\t'cep',\t'uf','ddd1',\t'telefone1',\t'ddd2',\t'telefone2',\t'dddfax',\t'fax', 'email',\t'situacao_especial',\t'data_situacao_especial'], axis=1) #eliminação das colunas desnecessárias\n",
        "cnpj_estabelecimento_07 = cnpj_estabelecimento_07.drop(['nome_fantasia','nome_cidade_exterior','codigo_pais','cnae_secundario','tipo_logradouro',\t'logradouro',\t'numero',\t'complemento',\t'bairro',\t'cep',\t'uf','ddd1',\t'telefone1',\t'ddd2',\t'telefone2',\t'dddfax',\t'fax', 'email',\t'situacao_especial',\t'data_situacao_especial'], axis=1) #eliminação das colunas desnecessárias\n",
        "cnpj_estabelecimento_08 = cnpj_estabelecimento_08.drop(['nome_fantasia','nome_cidade_exterior','codigo_pais','cnae_secundario','tipo_logradouro',\t'logradouro',\t'numero',\t'complemento',\t'bairro',\t'cep',\t'uf','ddd1',\t'telefone1',\t'ddd2',\t'telefone2',\t'dddfax',\t'fax', 'email',\t'situacao_especial',\t'data_situacao_especial'], axis=1) #eliminação das colunas desnecessárias\n",
        "cnpj_estabelecimento_09 = cnpj_estabelecimento_09.drop(['nome_fantasia','nome_cidade_exterior','codigo_pais','cnae_secundario','tipo_logradouro',\t'logradouro',\t'numero',\t'complemento',\t'bairro',\t'cep',\t'uf','ddd1',\t'telefone1',\t'ddd2',\t'telefone2',\t'dddfax',\t'fax', 'email',\t'situacao_especial',\t'data_situacao_especial'], axis=1) #eliminação das colunas desnecessárias\n",
        "cnpj_estabelecimento_10 = cnpj_estabelecimento_10.drop(['nome_fantasia','nome_cidade_exterior','codigo_pais','cnae_secundario','tipo_logradouro',\t'logradouro',\t'numero',\t'complemento',\t'bairro',\t'cep',\t'uf','ddd1',\t'telefone1',\t'ddd2',\t'telefone2',\t'dddfax',\t'fax', 'email',\t'situacao_especial',\t'data_situacao_especial'], axis=1) #eliminação das colunas desnecessárias"
      ],
      "execution_count": null,
      "outputs": []
    },
    {
      "cell_type": "code",
      "metadata": {
        "id": "RL_9bo7niGwe"
      },
      "source": [
        "cnpj_estabelecimento_todas_parte02 = pd.concat([cnpj_estabelecimento_06, cnpj_estabelecimento_07, cnpj_estabelecimento_08, cnpj_estabelecimento_09, cnpj_estabelecimento_10], axis=0)"
      ],
      "execution_count": null,
      "outputs": []
    },
    {
      "cell_type": "code",
      "metadata": {
        "id": "cuvgoawYWIOG"
      },
      "source": [
        "cnpj_estabelecimento_todas_parte02 = cnpj_estabelecimento_todas_parte02.query( 'codigo_situacao_cadastral==\"2\" or codigo_situacao_cadastral==\"8\" ')"
      ],
      "execution_count": null,
      "outputs": []
    },
    {
      "cell_type": "code",
      "metadata": {
        "id": "Qa9R4_6aWvgu"
      },
      "source": [
        "cnpj_estabelecimento_todas_parte02.to_csv('/content/drive/MyDrive/TCC - PUC/cnpj_estabelecimento_todas_parte02.csv', index=False, sep=';') "
      ],
      "execution_count": null,
      "outputs": []
    }
  ]
}