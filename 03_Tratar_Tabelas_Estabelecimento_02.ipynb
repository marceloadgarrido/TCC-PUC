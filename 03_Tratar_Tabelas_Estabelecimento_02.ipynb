{
  "nbformat": 4,
  "nbformat_minor": 0,
  "metadata": {
    "colab": {
      "name": "03 - Tratar Tabelas Estabelecimento_02.ipynb",
      "provenance": [],
      "collapsed_sections": [],
      "machine_shape": "hm"
    },
    "kernelspec": {
      "name": "python3",
      "display_name": "Python 3"
    },
    "language_info": {
      "name": "python"
    }
  },
  "cells": [
    {
      "cell_type": "code",
      "metadata": {
        "id": "Lm_XYoX5iDhu"
      },
      "source": [
        "import pandas as pd\n",
        "import numpy as np"
      ],
      "execution_count": null,
      "outputs": []
    },
    {
      "cell_type": "code",
      "metadata": {
        "colab": {
          "base_uri": "https://localhost:8080/"
        },
        "id": "bCXl3RnliGaI",
        "outputId": "c196bbd8-edaf-47c9-b5b5-2510424f64be"
      },
      "source": [
        "from google.colab import drive\n",
        "drive.mount('/content/drive')"
      ],
      "execution_count": null,
      "outputs": [
        {
          "output_type": "stream",
          "text": [
            "Mounted at /content/drive\n"
          ],
          "name": "stdout"
        }
      ]
    },
    {
      "cell_type": "code",
      "metadata": {
        "id": "X0HvA-yFki3f"
      },
      "source": [
        "cnpj_estabelecimento_06 = pd.read_csv('/content/drive/MyDrive/TCC - PUC/Dados Abertos CNPJ ESTABELECIMENTO 06.csv', names=['cnpj_basico', 'cnpj_ordem', 'cnpj_dv', 'matriz_filial', 'nome_fantasia', 'codigo_situacao_cadastral', 'data_situacao_cadastral', 'motivo_situacao_cadastral', 'nome_cidade_exterior', 'codigo_pais', 'data_inicio_atividade', 'cnae_principal', 'cnae_secundario',\n",
        "'tipo_logradouro','logradouro','numero','complemento','bairro','cep','uf','codigo_municipio_siafi','ddd1', 'telefone1','ddd2','telefone2','dddfax','fax','email', 'situacao_especial', 'data_situacao_especial'],encoding='ISO-8859-1',decimal=',', sep=';' ,dtype=str, header=None,)\n",
        "cnpj_estabelecimento_07 = pd.read_csv('/content/drive/MyDrive/TCC - PUC/Dados Abertos CNPJ ESTABELECIMENTO 07.csv', names=['cnpj_basico', 'cnpj_ordem', 'cnpj_dv', 'matriz_filial', 'nome_fantasia', 'codigo_situacao_cadastral', 'data_situacao_cadastral', 'motivo_situacao_cadastral', 'nome_cidade_exterior', 'codigo_pais', 'data_inicio_atividade', 'cnae_principal', 'cnae_secundario',\n",
        "'tipo_logradouro','logradouro','numero','complemento','bairro','cep','uf','codigo_municipio_siafi','ddd1', 'telefone1','ddd2','telefone2','dddfax','fax','email', 'situacao_especial', 'data_situacao_especial'],encoding='ISO-8859-1',decimal=',', sep=';' ,dtype=str, header=None,)\n",
        "cnpj_estabelecimento_08 = pd.read_csv('/content/drive/MyDrive/TCC - PUC/Dados Abertos CNPJ ESTABELECIMENTO 08.csv', names=['cnpj_basico', 'cnpj_ordem', 'cnpj_dv', 'matriz_filial', 'nome_fantasia', 'codigo_situacao_cadastral', 'data_situacao_cadastral', 'motivo_situacao_cadastral', 'nome_cidade_exterior', 'codigo_pais', 'data_inicio_atividade', 'cnae_principal', 'cnae_secundario',\n",
        "'tipo_logradouro','logradouro','numero','complemento','bairro','cep','uf','codigo_municipio_siafi','ddd1', 'telefone1','ddd2','telefone2','dddfax','fax','email', 'situacao_especial', 'data_situacao_especial'],encoding='ISO-8859-1',decimal=',', sep=';' ,dtype=str, header=None,)\n",
        "cnpj_estabelecimento_09 = pd.read_csv('/content/drive/MyDrive/TCC - PUC/Dados Abertos CNPJ ESTABELECIMENTO 09.csv', names=['cnpj_basico', 'cnpj_ordem', 'cnpj_dv', 'matriz_filial', 'nome_fantasia', 'codigo_situacao_cadastral', 'data_situacao_cadastral', 'motivo_situacao_cadastral', 'nome_cidade_exterior', 'codigo_pais', 'data_inicio_atividade', 'cnae_principal', 'cnae_secundario',\n",
        "'tipo_logradouro','logradouro','numero','complemento','bairro','cep','uf','codigo_municipio_siafi','ddd1', 'telefone1','ddd2','telefone2','dddfax','fax','email', 'situacao_especial', 'data_situacao_especial'],encoding='ISO-8859-1',decimal=',', sep=';' ,dtype=str, header=None,)\n",
        "cnpj_estabelecimento_10 = pd.read_csv('/content/drive/MyDrive/TCC - PUC/Dados Abertos CNPJ ESTABELECIMENTO 10.csv', names=['cnpj_basico', 'cnpj_ordem', 'cnpj_dv', 'matriz_filial', 'nome_fantasia', 'codigo_situacao_cadastral', 'data_situacao_cadastral', 'motivo_situacao_cadastral', 'nome_cidade_exterior', 'codigo_pais', 'data_inicio_atividade', 'cnae_principal', 'cnae_secundario',\n",
        "'tipo_logradouro','logradouro','numero','complemento','bairro','cep','uf','codigo_municipio_siafi','ddd1', 'telefone1','ddd2','telefone2','dddfax','fax','email', 'situacao_especial', 'data_situacao_especial'],encoding='ISO-8859-1',decimal=',', sep=';' ,dtype=str, header=None,)"
      ],
      "execution_count": null,
      "outputs": []
    },
    {
      "cell_type": "code",
      "metadata": {
        "id": "O45Fa5MPoMgg"
      },
      "source": [
        "cnpj_estabelecimento_06 = cnpj_estabelecimento_06.drop(['nome_fantasia','nome_cidade_exterior','codigo_pais','cnae_secundario','tipo_logradouro',\t'logradouro',\t'numero',\t'complemento',\t'bairro',\t'cep',\t'uf','ddd1',\t'telefone1',\t'ddd2',\t'telefone2',\t'dddfax',\t'fax', 'email',\t'situacao_especial',\t'data_situacao_especial'], axis=1) #eliminação das colunas desnecessárias\n",
        "cnpj_estabelecimento_07 = cnpj_estabelecimento_07.drop(['nome_fantasia','nome_cidade_exterior','codigo_pais','cnae_secundario','tipo_logradouro',\t'logradouro',\t'numero',\t'complemento',\t'bairro',\t'cep',\t'uf','ddd1',\t'telefone1',\t'ddd2',\t'telefone2',\t'dddfax',\t'fax', 'email',\t'situacao_especial',\t'data_situacao_especial'], axis=1) #eliminação das colunas desnecessárias\n",
        "cnpj_estabelecimento_08 = cnpj_estabelecimento_08.drop(['nome_fantasia','nome_cidade_exterior','codigo_pais','cnae_secundario','tipo_logradouro',\t'logradouro',\t'numero',\t'complemento',\t'bairro',\t'cep',\t'uf','ddd1',\t'telefone1',\t'ddd2',\t'telefone2',\t'dddfax',\t'fax', 'email',\t'situacao_especial',\t'data_situacao_especial'], axis=1) #eliminação das colunas desnecessárias\n",
        "cnpj_estabelecimento_09 = cnpj_estabelecimento_09.drop(['nome_fantasia','nome_cidade_exterior','codigo_pais','cnae_secundario','tipo_logradouro',\t'logradouro',\t'numero',\t'complemento',\t'bairro',\t'cep',\t'uf','ddd1',\t'telefone1',\t'ddd2',\t'telefone2',\t'dddfax',\t'fax', 'email',\t'situacao_especial',\t'data_situacao_especial'], axis=1) #eliminação das colunas desnecessárias\n",
        "cnpj_estabelecimento_10 = cnpj_estabelecimento_10.drop(['nome_fantasia','nome_cidade_exterior','codigo_pais','cnae_secundario','tipo_logradouro',\t'logradouro',\t'numero',\t'complemento',\t'bairro',\t'cep',\t'uf','ddd1',\t'telefone1',\t'ddd2',\t'telefone2',\t'dddfax',\t'fax', 'email',\t'situacao_especial',\t'data_situacao_especial'], axis=1) #eliminação das colunas desnecessárias"
      ],
      "execution_count": null,
      "outputs": []
    },
    {
      "cell_type": "code",
      "metadata": {
        "id": "06eSyBeFrd-Q"
      },
      "source": [
        "cnpj_estabelecimento_todas_parte02 = pd.concat([cnpj_estabelecimento_06, cnpj_estabelecimento_07, cnpj_estabelecimento_08, cnpj_estabelecimento_09, cnpj_estabelecimento_10], axis=0)"
      ],
      "execution_count": null,
      "outputs": []
    },
    {
      "cell_type": "code",
      "metadata": {
        "colab": {
          "base_uri": "https://localhost:8080/",
          "height": 419
        },
        "id": "X2qHZnxWMeQ0",
        "outputId": "0f87c89f-86f2-4da9-d2a6-d220a48c5362"
      },
      "source": [
        "cnpj_estabelecimento_todas_parte02"
      ],
      "execution_count": null,
      "outputs": [
        {
          "output_type": "execute_result",
          "data": {
            "text/html": [
              "<div>\n",
              "<style scoped>\n",
              "    .dataframe tbody tr th:only-of-type {\n",
              "        vertical-align: middle;\n",
              "    }\n",
              "\n",
              "    .dataframe tbody tr th {\n",
              "        vertical-align: top;\n",
              "    }\n",
              "\n",
              "    .dataframe thead th {\n",
              "        text-align: right;\n",
              "    }\n",
              "</style>\n",
              "<table border=\"1\" class=\"dataframe\">\n",
              "  <thead>\n",
              "    <tr style=\"text-align: right;\">\n",
              "      <th></th>\n",
              "      <th>cnpj_basico</th>\n",
              "      <th>cnpj_ordem</th>\n",
              "      <th>cnpj_dv</th>\n",
              "      <th>matriz_filial</th>\n",
              "      <th>codigo_situacao_cadastral</th>\n",
              "      <th>data_situacao_cadastral</th>\n",
              "      <th>motivo_situacao_cadastral</th>\n",
              "      <th>data_inicio_atividade</th>\n",
              "      <th>cnae_principal</th>\n",
              "      <th>codigo_municipio_siafi</th>\n",
              "    </tr>\n",
              "  </thead>\n",
              "  <tbody>\n",
              "    <tr>\n",
              "      <th>0</th>\n",
              "      <td>37249908</td>\n",
              "      <td>0001</td>\n",
              "      <td>43</td>\n",
              "      <td>1</td>\n",
              "      <td>02</td>\n",
              "      <td>20200527</td>\n",
              "      <td>00</td>\n",
              "      <td>20200527</td>\n",
              "      <td>5611203</td>\n",
              "      <td>6001</td>\n",
              "    </tr>\n",
              "    <tr>\n",
              "      <th>1</th>\n",
              "      <td>37249917</td>\n",
              "      <td>0001</td>\n",
              "      <td>34</td>\n",
              "      <td>1</td>\n",
              "      <td>02</td>\n",
              "      <td>20200527</td>\n",
              "      <td>00</td>\n",
              "      <td>20200527</td>\n",
              "      <td>4930201</td>\n",
              "      <td>8901</td>\n",
              "    </tr>\n",
              "    <tr>\n",
              "      <th>2</th>\n",
              "      <td>37249931</td>\n",
              "      <td>0001</td>\n",
              "      <td>38</td>\n",
              "      <td>1</td>\n",
              "      <td>02</td>\n",
              "      <td>20200527</td>\n",
              "      <td>00</td>\n",
              "      <td>20200527</td>\n",
              "      <td>1359600</td>\n",
              "      <td>6001</td>\n",
              "    </tr>\n",
              "    <tr>\n",
              "      <th>3</th>\n",
              "      <td>37249942</td>\n",
              "      <td>0001</td>\n",
              "      <td>18</td>\n",
              "      <td>1</td>\n",
              "      <td>02</td>\n",
              "      <td>20200527</td>\n",
              "      <td>00</td>\n",
              "      <td>20200527</td>\n",
              "      <td>5229099</td>\n",
              "      <td>4733</td>\n",
              "    </tr>\n",
              "    <tr>\n",
              "      <th>4</th>\n",
              "      <td>37249954</td>\n",
              "      <td>0001</td>\n",
              "      <td>42</td>\n",
              "      <td>1</td>\n",
              "      <td>08</td>\n",
              "      <td>20210317</td>\n",
              "      <td>01</td>\n",
              "      <td>20200527</td>\n",
              "      <td>4781400</td>\n",
              "      <td>0427</td>\n",
              "    </tr>\n",
              "    <tr>\n",
              "      <th>...</th>\n",
              "      <td>...</td>\n",
              "      <td>...</td>\n",
              "      <td>...</td>\n",
              "      <td>...</td>\n",
              "      <td>...</td>\n",
              "      <td>...</td>\n",
              "      <td>...</td>\n",
              "      <td>...</td>\n",
              "      <td>...</td>\n",
              "      <td>...</td>\n",
              "    </tr>\n",
              "    <tr>\n",
              "      <th>4753429</th>\n",
              "      <td>29880509</td>\n",
              "      <td>0001</td>\n",
              "      <td>58</td>\n",
              "      <td>1</td>\n",
              "      <td>08</td>\n",
              "      <td>20190711</td>\n",
              "      <td>01</td>\n",
              "      <td>20180308</td>\n",
              "      <td>5612100</td>\n",
              "      <td>2531</td>\n",
              "    </tr>\n",
              "    <tr>\n",
              "      <th>4753430</th>\n",
              "      <td>29880524</td>\n",
              "      <td>0001</td>\n",
              "      <td>04</td>\n",
              "      <td>1</td>\n",
              "      <td>02</td>\n",
              "      <td>20180308</td>\n",
              "      <td>00</td>\n",
              "      <td>20180308</td>\n",
              "      <td>1412601</td>\n",
              "      <td>4661</td>\n",
              "    </tr>\n",
              "    <tr>\n",
              "      <th>4753431</th>\n",
              "      <td>29880535</td>\n",
              "      <td>0001</td>\n",
              "      <td>86</td>\n",
              "      <td>1</td>\n",
              "      <td>08</td>\n",
              "      <td>20180712</td>\n",
              "      <td>01</td>\n",
              "      <td>20180308</td>\n",
              "      <td>5611203</td>\n",
              "      <td>8963</td>\n",
              "    </tr>\n",
              "    <tr>\n",
              "      <th>4753433</th>\n",
              "      <td>29880559</td>\n",
              "      <td>0001</td>\n",
              "      <td>35</td>\n",
              "      <td>1</td>\n",
              "      <td>08</td>\n",
              "      <td>20180523</td>\n",
              "      <td>01</td>\n",
              "      <td>20180308</td>\n",
              "      <td>9602501</td>\n",
              "      <td>5847</td>\n",
              "    </tr>\n",
              "    <tr>\n",
              "      <th>4753434</th>\n",
              "      <td>29255741</td>\n",
              "      <td>0001</td>\n",
              "      <td>03</td>\n",
              "      <td>1</td>\n",
              "      <td>02</td>\n",
              "      <td>20171211</td>\n",
              "      <td>00</td>\n",
              "      <td>20171211</td>\n",
              "      <td>8011101</td>\n",
              "      <td>6001</td>\n",
              "    </tr>\n",
              "  </tbody>\n",
              "</table>\n",
              "<p>20055212 rows × 10 columns</p>\n",
              "</div>"
            ],
            "text/plain": [
              "        cnpj_basico cnpj_ordem  ... cnae_principal codigo_municipio_siafi\n",
              "0          37249908       0001  ...        5611203                   6001\n",
              "1          37249917       0001  ...        4930201                   8901\n",
              "2          37249931       0001  ...        1359600                   6001\n",
              "3          37249942       0001  ...        5229099                   4733\n",
              "4          37249954       0001  ...        4781400                   0427\n",
              "...             ...        ...  ...            ...                    ...\n",
              "4753429    29880509       0001  ...        5612100                   2531\n",
              "4753430    29880524       0001  ...        1412601                   4661\n",
              "4753431    29880535       0001  ...        5611203                   8963\n",
              "4753433    29880559       0001  ...        9602501                   5847\n",
              "4753434    29255741       0001  ...        8011101                   6001\n",
              "\n",
              "[20055212 rows x 10 columns]"
            ]
          },
          "metadata": {
            "tags": []
          },
          "execution_count": 8
        }
      ]
    },
    {
      "cell_type": "code",
      "metadata": {
        "id": "bbusWBhLtA5h"
      },
      "source": [
        "cnpj_estabelecimento_todas_parte02 = cnpj_estabelecimento_todas_parte02.query( 'codigo_situacao_cadastral==\"02\" or codigo_situacao_cadastral==\"08\" ')"
      ],
      "execution_count": null,
      "outputs": []
    },
    {
      "cell_type": "code",
      "metadata": {
        "id": "Qa9R4_6aWvgu"
      },
      "source": [
        "cnpj_estabelecimento_todas_parte02.to_csv('/content/drive/MyDrive/TCC - PUC/cnpj_estabelecimento_todas_parte02.csv', index=False, sep=';') "
      ],
      "execution_count": null,
      "outputs": []
    }
  ]
}