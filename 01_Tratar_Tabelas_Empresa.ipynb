{
  "nbformat": 4,
  "nbformat_minor": 0,
  "metadata": {
    "colab": {
      "name": "01 - Tratar Tabelas Empresa.ipynb",
      "provenance": [],
      "collapsed_sections": [],
      "machine_shape": "hm"
    },
    "kernelspec": {
      "name": "python3",
      "display_name": "Python 3"
    },
    "language_info": {
      "name": "python"
    }
  },
  "cells": [
    {
      "cell_type": "code",
      "metadata": {
        "id": "Lm_XYoX5iDhu"
      },
      "source": [
        "import pandas as pd\n",
        "import numpy as np"
      ],
      "execution_count": null,
      "outputs": []
    },
    {
      "cell_type": "code",
      "metadata": {
        "colab": {
          "base_uri": "https://localhost:8080/"
        },
        "id": "bCXl3RnliGaI",
        "outputId": "0743f84a-5439-4a28-8621-92e858c47b6c"
      },
      "source": [
        "from google.colab import drive\n",
        "drive.mount('/content/drive')"
      ],
      "execution_count": null,
      "outputs": [
        {
          "output_type": "stream",
          "text": [
            "Mounted at /content/drive\n"
          ],
          "name": "stdout"
        }
      ]
    },
    {
      "cell_type": "code",
      "metadata": {
        "id": "X0HvA-yFki3f"
      },
      "source": [
        "cnpj_empresa_01 = pd.read_csv('/content/drive/MyDrive/TCC - PUC/Dados Abertos CNPJ EMPRESA 01.csv', names=['cnpj_basico', 'razao_social', 'natureza_juridica', 'qualificacao_responsavel', 'capital_social', 'porte_empresa', 'ente_federativo_responsavel'],encoding='ISO-8859-1',decimal=',', sep=';' ,dtype=str, header=None,)\n",
        "cnpj_empresa_02 = pd.read_csv('/content/drive/MyDrive/TCC - PUC/Dados Abertos CNPJ EMPRESA 02.csv', names=['cnpj_basico', 'razao_social', 'natureza_juridica', 'qualificacao_responsavel', 'capital_social', 'porte_empresa', 'ente_federativo_responsavel'],encoding='ISO-8859-1',decimal=',', sep=';' ,dtype=str, header=None,)\n",
        "cnpj_empresa_03 = pd.read_csv('/content/drive/MyDrive/TCC - PUC/Dados Abertos CNPJ EMPRESA 03.csv', names=['cnpj_basico', 'razao_social', 'natureza_juridica', 'qualificacao_responsavel', 'capital_social', 'porte_empresa', 'ente_federativo_responsavel'],encoding='ISO-8859-1',decimal=',', sep=';' ,dtype=str, header=None,)\n",
        "cnpj_empresa_04 = pd.read_csv('/content/drive/MyDrive/TCC - PUC/Dados Abertos CNPJ EMPRESA 04.csv', names=['cnpj_basico', 'razao_social', 'natureza_juridica', 'qualificacao_responsavel', 'capital_social', 'porte_empresa', 'ente_federativo_responsavel'],encoding='ISO-8859-1',decimal=',', sep=';' ,dtype=str, header=None,)\n",
        "cnpj_empresa_05 = pd.read_csv('/content/drive/MyDrive/TCC - PUC/Dados Abertos CNPJ EMPRESA 05.csv', names=['cnpj_basico', 'razao_social', 'natureza_juridica', 'qualificacao_responsavel', 'capital_social', 'porte_empresa', 'ente_federativo_responsavel'],encoding='ISO-8859-1',decimal=',', sep=';' ,dtype=str, header=None,)\n",
        "cnpj_empresa_06 = pd.read_csv('/content/drive/MyDrive/TCC - PUC/Dados Abertos CNPJ EMPRESA 06.csv', names=['cnpj_basico', 'razao_social', 'natureza_juridica', 'qualificacao_responsavel', 'capital_social', 'porte_empresa', 'ente_federativo_responsavel'],encoding='ISO-8859-1',decimal=',', sep=';' ,dtype=str, header=None,)\n",
        "cnpj_empresa_07 = pd.read_csv('/content/drive/MyDrive/TCC - PUC/Dados Abertos CNPJ EMPRESA 07.csv', names=['cnpj_basico', 'razao_social', 'natureza_juridica', 'qualificacao_responsavel', 'capital_social', 'porte_empresa', 'ente_federativo_responsavel'],encoding='ISO-8859-1',decimal=',', sep=';' ,dtype=str, header=None,)\n",
        "cnpj_empresa_08 = pd.read_csv('/content/drive/MyDrive/TCC - PUC/Dados Abertos CNPJ EMPRESA 08.csv', names=['cnpj_basico', 'razao_social', 'natureza_juridica', 'qualificacao_responsavel', 'capital_social', 'porte_empresa', 'ente_federativo_responsavel'],encoding='ISO-8859-1',decimal=',', sep=';' ,dtype=str, header=None,)\n",
        "cnpj_empresa_09 = pd.read_csv('/content/drive/MyDrive/TCC - PUC/Dados Abertos CNPJ EMPRESA 09.csv', names=['cnpj_basico', 'razao_social', 'natureza_juridica', 'qualificacao_responsavel', 'capital_social', 'porte_empresa', 'ente_federativo_responsavel'],encoding='ISO-8859-1',decimal=',', sep=';' ,dtype=str, header=None,)\n",
        "cnpj_empresa_10 = pd.read_csv('/content/drive/MyDrive/TCC - PUC/Dados Abertos CNPJ EMPRESA 10.csv', names=['cnpj_basico', 'razao_social', 'natureza_juridica', 'qualificacao_responsavel', 'capital_social', 'porte_empresa', 'ente_federativo_responsavel'],encoding='ISO-8859-1',decimal=',', sep=';' ,dtype=str, header=None,)"
      ],
      "execution_count": null,
      "outputs": []
    },
    {
      "cell_type": "code",
      "metadata": {
        "id": "O45Fa5MPoMgg"
      },
      "source": [
        "cnpj_empresa_01 = cnpj_empresa_01.drop(['razao_social','natureza_juridica','qualificacao_responsavel','porte_empresa','ente_federativo_responsavel'], axis=1)\n",
        "cnpj_empresa_02 = cnpj_empresa_02.drop(['razao_social','natureza_juridica','qualificacao_responsavel','porte_empresa','ente_federativo_responsavel'], axis=1)\n",
        "cnpj_empresa_03 = cnpj_empresa_03.drop(['razao_social','natureza_juridica','qualificacao_responsavel','porte_empresa','ente_federativo_responsavel'], axis=1)\n",
        "cnpj_empresa_04 = cnpj_empresa_04.drop(['razao_social','natureza_juridica','qualificacao_responsavel','porte_empresa','ente_federativo_responsavel'], axis=1)\n",
        "cnpj_empresa_05 = cnpj_empresa_05.drop(['razao_social','natureza_juridica','qualificacao_responsavel','porte_empresa','ente_federativo_responsavel'], axis=1)\n",
        "cnpj_empresa_06 = cnpj_empresa_06.drop(['razao_social','natureza_juridica','qualificacao_responsavel','porte_empresa','ente_federativo_responsavel'], axis=1)\n",
        "cnpj_empresa_07 = cnpj_empresa_07.drop(['razao_social','natureza_juridica','qualificacao_responsavel','porte_empresa','ente_federativo_responsavel'], axis=1)\n",
        "cnpj_empresa_08 = cnpj_empresa_08.drop(['razao_social','natureza_juridica','qualificacao_responsavel','porte_empresa','ente_federativo_responsavel'], axis=1)\n",
        "cnpj_empresa_09 = cnpj_empresa_09.drop(['razao_social','natureza_juridica','qualificacao_responsavel','porte_empresa','ente_federativo_responsavel'], axis=1)\n",
        "cnpj_empresa_10 = cnpj_empresa_10.drop(['razao_social','natureza_juridica','qualificacao_responsavel','porte_empresa','ente_federativo_responsavel'], axis=1)"
      ],
      "execution_count": null,
      "outputs": []
    },
    {
      "cell_type": "code",
      "metadata": {
        "id": "RL_9bo7niGwe"
      },
      "source": [
        "cnpj_empresa_todas = pd.concat([cnpj_empresa_01, cnpj_empresa_02, cnpj_empresa_03, cnpj_empresa_04, cnpj_empresa_05, cnpj_empresa_06, cnpj_empresa_07, cnpj_empresa_08, cnpj_empresa_09, cnpj_empresa_10], axis=0)"
      ],
      "execution_count": null,
      "outputs": []
    },
    {
      "cell_type": "code",
      "metadata": {
        "id": "GLiuD_X_jXpG"
      },
      "source": [
        "cnpj_empresa_todas.to_csv('/content/drive/MyDrive/TCC - PUC/cnpj_empresa_todas.csv', index=False, sep=';') "
      ],
      "execution_count": null,
      "outputs": []
    }
  ]
}