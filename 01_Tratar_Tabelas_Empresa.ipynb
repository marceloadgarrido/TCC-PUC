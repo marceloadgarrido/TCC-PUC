{
  "nbformat": 4,
  "nbformat_minor": 0,
  "metadata": {
    "colab": {
      "name": "01 - Tratar Tabelas Empresa.ipynb",
      "provenance": [],
      "collapsed_sections": [],
      "machine_shape": "hm"
    },
    "kernelspec": {
      "name": "python3",
      "display_name": "Python 3"
    },
    "language_info": {
      "name": "python"
    }
  },
  "cells": [
    {
      "cell_type": "code",
      "metadata": {
        "id": "Lm_XYoX5iDhu"
      },
      "source": [
        "import pandas as pd\n",
        "import numpy as np"
      ],
      "execution_count": null,
      "outputs": []
    },
    {
      "cell_type": "code",
      "metadata": {
        "colab": {
          "base_uri": "https://localhost:8080/"
        },
        "id": "bCXl3RnliGaI",
        "outputId": "5d556c96-b40e-4750-83e6-c8122c227191"
      },
      "source": [
        "from google.colab import drive\n",
        "drive.mount('/content/drive')"
      ],
      "execution_count": null,
      "outputs": [
        {
          "output_type": "stream",
          "text": [
            "Mounted at /content/drive\n"
          ],
          "name": "stdout"
        }
      ]
    },
    {
      "cell_type": "markdown",
      "metadata": {
        "id": "8aCcEOGTauQG"
      },
      "source": [
        "# **CARREGAMENTO DOS DADOS**\n",
        "\n",
        "Tabela de CNPJ do site da Receita Federal\n",
        "\n",
        "\n"
      ]
    },
    {
      "cell_type": "code",
      "metadata": {
        "id": "X0HvA-yFki3f"
      },
      "source": [
        "cnpj_empresa_01 = pd.read_csv('/content/drive/MyDrive/TCC - PUC/Dados Abertos CNPJ EMPRESA 01.csv', names=['cnpj_basico', 'razao_social', 'natureza_juridica', 'qualificacao_responsavel', 'capital_social', 'porte_empresa', 'ente_federativo_responsavel'],encoding='ISO-8859-1',decimal=',', sep=';' ,dtype=str, header=None,)\n",
        "cnpj_empresa_02 = pd.read_csv('/content/drive/MyDrive/TCC - PUC/Dados Abertos CNPJ EMPRESA 02.csv', names=['cnpj_basico', 'razao_social', 'natureza_juridica', 'qualificacao_responsavel', 'capital_social', 'porte_empresa', 'ente_federativo_responsavel'],encoding='ISO-8859-1',decimal=',', sep=';' ,dtype=str, header=None,)\n",
        "cnpj_empresa_03 = pd.read_csv('/content/drive/MyDrive/TCC - PUC/Dados Abertos CNPJ EMPRESA 03.csv', names=['cnpj_basico', 'razao_social', 'natureza_juridica', 'qualificacao_responsavel', 'capital_social', 'porte_empresa', 'ente_federativo_responsavel'],encoding='ISO-8859-1',decimal=',', sep=';' ,dtype=str, header=None,)\n",
        "cnpj_empresa_04 = pd.read_csv('/content/drive/MyDrive/TCC - PUC/Dados Abertos CNPJ EMPRESA 04.csv', names=['cnpj_basico', 'razao_social', 'natureza_juridica', 'qualificacao_responsavel', 'capital_social', 'porte_empresa', 'ente_federativo_responsavel'],encoding='ISO-8859-1',decimal=',', sep=';' ,dtype=str, header=None,)\n",
        "cnpj_empresa_05 = pd.read_csv('/content/drive/MyDrive/TCC - PUC/Dados Abertos CNPJ EMPRESA 05.csv', names=['cnpj_basico', 'razao_social', 'natureza_juridica', 'qualificacao_responsavel', 'capital_social', 'porte_empresa', 'ente_federativo_responsavel'],encoding='ISO-8859-1',decimal=',', sep=';' ,dtype=str, header=None,)\n",
        "cnpj_empresa_06 = pd.read_csv('/content/drive/MyDrive/TCC - PUC/Dados Abertos CNPJ EMPRESA 06.csv', names=['cnpj_basico', 'razao_social', 'natureza_juridica', 'qualificacao_responsavel', 'capital_social', 'porte_empresa', 'ente_federativo_responsavel'],encoding='ISO-8859-1',decimal=',', sep=';' ,dtype=str, header=None,)\n",
        "cnpj_empresa_07 = pd.read_csv('/content/drive/MyDrive/TCC - PUC/Dados Abertos CNPJ EMPRESA 07.csv', names=['cnpj_basico', 'razao_social', 'natureza_juridica', 'qualificacao_responsavel', 'capital_social', 'porte_empresa', 'ente_federativo_responsavel'],encoding='ISO-8859-1',decimal=',', sep=';' ,dtype=str, header=None,)\n",
        "cnpj_empresa_08 = pd.read_csv('/content/drive/MyDrive/TCC - PUC/Dados Abertos CNPJ EMPRESA 08.csv', names=['cnpj_basico', 'razao_social', 'natureza_juridica', 'qualificacao_responsavel', 'capital_social', 'porte_empresa', 'ente_federativo_responsavel'],encoding='ISO-8859-1',decimal=',', sep=';' ,dtype=str, header=None,)\n",
        "cnpj_empresa_09 = pd.read_csv('/content/drive/MyDrive/TCC - PUC/Dados Abertos CNPJ EMPRESA 09.csv', names=['cnpj_basico', 'razao_social', 'natureza_juridica', 'qualificacao_responsavel', 'capital_social', 'porte_empresa', 'ente_federativo_responsavel'],encoding='ISO-8859-1',decimal=',', sep=';' ,dtype=str, header=None,)\n",
        "cnpj_empresa_10 = pd.read_csv('/content/drive/MyDrive/TCC - PUC/Dados Abertos CNPJ EMPRESA 10.csv', names=['cnpj_basico', 'razao_social', 'natureza_juridica', 'qualificacao_responsavel', 'capital_social', 'porte_empresa', 'ente_federativo_responsavel'],encoding='ISO-8859-1',decimal=',', sep=';' ,dtype=str, header=None,)"
      ],
      "execution_count": null,
      "outputs": []
    },
    {
      "cell_type": "code",
      "metadata": {
        "id": "O45Fa5MPoMgg"
      },
      "source": [
        "cnpj_empresa_01 = cnpj_empresa_01.drop(['razao_social','natureza_juridica','qualificacao_responsavel','porte_empresa','ente_federativo_responsavel'], axis=1)\n",
        "cnpj_empresa_02 = cnpj_empresa_02.drop(['razao_social','natureza_juridica','qualificacao_responsavel','porte_empresa','ente_federativo_responsavel'], axis=1)\n",
        "cnpj_empresa_03 = cnpj_empresa_03.drop(['razao_social','natureza_juridica','qualificacao_responsavel','porte_empresa','ente_federativo_responsavel'], axis=1)\n",
        "cnpj_empresa_04 = cnpj_empresa_04.drop(['razao_social','natureza_juridica','qualificacao_responsavel','porte_empresa','ente_federativo_responsavel'], axis=1)\n",
        "cnpj_empresa_05 = cnpj_empresa_05.drop(['razao_social','natureza_juridica','qualificacao_responsavel','porte_empresa','ente_federativo_responsavel'], axis=1)\n",
        "cnpj_empresa_06 = cnpj_empresa_06.drop(['razao_social','natureza_juridica','qualificacao_responsavel','porte_empresa','ente_federativo_responsavel'], axis=1)\n",
        "cnpj_empresa_07 = cnpj_empresa_07.drop(['razao_social','natureza_juridica','qualificacao_responsavel','porte_empresa','ente_federativo_responsavel'], axis=1)\n",
        "cnpj_empresa_08 = cnpj_empresa_08.drop(['razao_social','natureza_juridica','qualificacao_responsavel','porte_empresa','ente_federativo_responsavel'], axis=1)\n",
        "cnpj_empresa_09 = cnpj_empresa_09.drop(['razao_social','natureza_juridica','qualificacao_responsavel','porte_empresa','ente_federativo_responsavel'], axis=1)\n",
        "cnpj_empresa_10 = cnpj_empresa_10.drop(['razao_social','natureza_juridica','qualificacao_responsavel','porte_empresa','ente_federativo_responsavel'], axis=1)"
      ],
      "execution_count": null,
      "outputs": []
    },
    {
      "cell_type": "code",
      "metadata": {
        "id": "RL_9bo7niGwe"
      },
      "source": [
        "cnpj_empresa_todas = pd.concat([cnpj_empresa_01, cnpj_empresa_02, cnpj_empresa_03, cnpj_empresa_04, cnpj_empresa_05, cnpj_empresa_06, cnpj_empresa_07, cnpj_empresa_08, cnpj_empresa_09, cnpj_empresa_10], axis=0)"
      ],
      "execution_count": null,
      "outputs": []
    },
    {
      "cell_type": "code",
      "metadata": {
        "colab": {
          "base_uri": "https://localhost:8080/",
          "height": 419
        },
        "id": "XM8-dIUzOaPE",
        "outputId": "63537b28-c637-4fbf-ee6c-d5124a739cd1"
      },
      "source": [
        "cnpj_empresa_todas"
      ],
      "execution_count": null,
      "outputs": [
        {
          "output_type": "execute_result",
          "data": {
            "text/html": [
              "<div>\n",
              "<style scoped>\n",
              "    .dataframe tbody tr th:only-of-type {\n",
              "        vertical-align: middle;\n",
              "    }\n",
              "\n",
              "    .dataframe tbody tr th {\n",
              "        vertical-align: top;\n",
              "    }\n",
              "\n",
              "    .dataframe thead th {\n",
              "        text-align: right;\n",
              "    }\n",
              "</style>\n",
              "<table border=\"1\" class=\"dataframe\">\n",
              "  <thead>\n",
              "    <tr style=\"text-align: right;\">\n",
              "      <th></th>\n",
              "      <th>cnpj_basico</th>\n",
              "      <th>capital_social</th>\n",
              "    </tr>\n",
              "  </thead>\n",
              "  <tbody>\n",
              "    <tr>\n",
              "      <th>0</th>\n",
              "      <td>41273604</td>\n",
              "      <td>10000,00</td>\n",
              "    </tr>\n",
              "    <tr>\n",
              "      <th>1</th>\n",
              "      <td>41273605</td>\n",
              "      <td>1000,00</td>\n",
              "    </tr>\n",
              "    <tr>\n",
              "      <th>2</th>\n",
              "      <td>41273606</td>\n",
              "      <td>72000,00</td>\n",
              "    </tr>\n",
              "    <tr>\n",
              "      <th>3</th>\n",
              "      <td>41273607</td>\n",
              "      <td>1,00</td>\n",
              "    </tr>\n",
              "    <tr>\n",
              "      <th>4</th>\n",
              "      <td>41273608</td>\n",
              "      <td>0,00</td>\n",
              "    </tr>\n",
              "    <tr>\n",
              "      <th>...</th>\n",
              "      <td>...</td>\n",
              "      <td>...</td>\n",
              "    </tr>\n",
              "    <tr>\n",
              "      <th>4494855</th>\n",
              "      <td>41273599</td>\n",
              "      <td>2000,00</td>\n",
              "    </tr>\n",
              "    <tr>\n",
              "      <th>4494856</th>\n",
              "      <td>41273600</td>\n",
              "      <td>50000,00</td>\n",
              "    </tr>\n",
              "    <tr>\n",
              "      <th>4494857</th>\n",
              "      <td>41273601</td>\n",
              "      <td>2000,00</td>\n",
              "    </tr>\n",
              "    <tr>\n",
              "      <th>4494858</th>\n",
              "      <td>41273602</td>\n",
              "      <td>15000,00</td>\n",
              "    </tr>\n",
              "    <tr>\n",
              "      <th>4494859</th>\n",
              "      <td>41273603</td>\n",
              "      <td>10000,00</td>\n",
              "    </tr>\n",
              "  </tbody>\n",
              "</table>\n",
              "<p>46232299 rows × 2 columns</p>\n",
              "</div>"
            ],
            "text/plain": [
              "        cnpj_basico capital_social\n",
              "0          41273604       10000,00\n",
              "1          41273605        1000,00\n",
              "2          41273606       72000,00\n",
              "3          41273607           1,00\n",
              "4          41273608           0,00\n",
              "...             ...            ...\n",
              "4494855    41273599        2000,00\n",
              "4494856    41273600       50000,00\n",
              "4494857    41273601        2000,00\n",
              "4494858    41273602       15000,00\n",
              "4494859    41273603       10000,00\n",
              "\n",
              "[46232299 rows x 2 columns]"
            ]
          },
          "metadata": {
            "tags": []
          },
          "execution_count": 9
        }
      ]
    },
    {
      "cell_type": "code",
      "metadata": {
        "id": "GLiuD_X_jXpG"
      },
      "source": [
        "cnpj_empresa_todas.to_csv('/content/drive/MyDrive/TCC - PUC/cnpj_empresa_todas.csv', index=False, sep=';') "
      ],
      "execution_count": null,
      "outputs": []
    }
  ]
}