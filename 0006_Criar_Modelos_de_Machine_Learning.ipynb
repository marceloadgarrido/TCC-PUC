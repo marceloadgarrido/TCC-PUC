{
  "nbformat": 4,
  "nbformat_minor": 0,
  "metadata": {
    "colab": {
      "name": "0006 - Criar Modelos de Machine Learning.ipynb",
      "provenance": [],
      "collapsed_sections": [],
      "machine_shape": "hm"
    },
    "kernelspec": {
      "name": "python3",
      "display_name": "Python 3"
    },
    "language_info": {
      "name": "python"
    }
  },
  "cells": [
    {
      "cell_type": "code",
      "metadata": {
        "id": "U9JO7W7dVtBm"
      },
      "source": [
        "import pandas as pd\n",
        "import numpy as np"
      ],
      "execution_count": 1,
      "outputs": []
    },
    {
      "cell_type": "code",
      "metadata": {
        "colab": {
          "base_uri": "https://localhost:8080/"
        },
        "id": "Gu1g4jnmV0zx",
        "outputId": "6222e103-41b0-4a14-dc65-c823dbb05a57"
      },
      "source": [
        "from google.colab import drive\n",
        "drive.mount('/content/drive')"
      ],
      "execution_count": 2,
      "outputs": [
        {
          "output_type": "stream",
          "text": [
            "Mounted at /content/drive\n"
          ],
          "name": "stdout"
        }
      ]
    },
    {
      "cell_type": "markdown",
      "metadata": {
        "id": "YKQ3OlOpgBAM"
      },
      "source": [
        "# **CARREGAMENTO DO DATASET**"
      ]
    },
    {
      "cell_type": "code",
      "metadata": {
        "id": "oLQQbiy5QpZX"
      },
      "source": [
        "cnpj_final_tratado = pd.read_csv('/content/drive/MyDrive/TCC - PUC/cnpj_final_tratado.csv',encoding='ISO-8859-1', sep=';' , header=0)"
      ],
      "execution_count": null,
      "outputs": []
    },
    {
      "cell_type": "code",
      "metadata": {
        "id": "hVZkHjaQ8d4L",
        "colab": {
          "base_uri": "https://localhost:8080/"
        },
        "outputId": "ccfa1670-2a67-46ca-f61b-d23971dd2b6f"
      },
      "source": [
        "cnpj_final_tratado.shape"
      ],
      "execution_count": 4,
      "outputs": [
        {
          "output_type": "execute_result",
          "data": {
            "text/plain": [
              "(10534042, 33)"
            ]
          },
          "metadata": {
            "tags": []
          },
          "execution_count": 4
        }
      ]
    },
    {
      "cell_type": "code",
      "metadata": {
        "id": "YCjtvBNqWSjQ",
        "colab": {
          "base_uri": "https://localhost:8080/"
        },
        "outputId": "82e2c238-5400-4968-dfea-98541b72b6de"
      },
      "source": [
        "cnpj_final_tratado.head()"
      ],
      "execution_count": 5,
      "outputs": [
        {
          "output_type": "execute_result",
          "data": {
            "text/html": [
              "<div>\n",
              "<style scoped>\n",
              "    .dataframe tbody tr th:only-of-type {\n",
              "        vertical-align: middle;\n",
              "    }\n",
              "\n",
              "    .dataframe tbody tr th {\n",
              "        vertical-align: top;\n",
              "    }\n",
              "\n",
              "    .dataframe thead th {\n",
              "        text-align: right;\n",
              "    }\n",
              "</style>\n",
              "<table border=\"1\" class=\"dataframe\">\n",
              "  <thead>\n",
              "    <tr style=\"text-align: right;\">\n",
              "      <th></th>\n",
              "      <th>capital_social</th>\n",
              "      <th>capital_social_faixas</th>\n",
              "      <th>data_situacao_cadastral_ano_mes</th>\n",
              "      <th>situacao_cadastral_target</th>\n",
              "      <th>casosAcumulado_covid</th>\n",
              "      <th>obitosAcumulado_covid</th>\n",
              "      <th>casos_acumulados_porcentagem_covid</th>\n",
              "      <th>obitos_acumulados_porcentagem_covid</th>\n",
              "      <th>casos_acumulados_porcentagem_covid_faixas</th>\n",
              "      <th>obitos_acumulados_porcentagem_covid_faixas</th>\n",
              "      <th>idh_municipio</th>\n",
              "      <th>idh_educacao</th>\n",
              "      <th>idh_longevidade</th>\n",
              "      <th>idh_renda</th>\n",
              "      <th>idh_municipios_faixas</th>\n",
              "      <th>idh_educacao_municipios_faixas</th>\n",
              "      <th>idh_longevidade_municipios_faixas</th>\n",
              "      <th>idh_renda_municipios_faixas</th>\n",
              "      <th>pib_per_capita</th>\n",
              "      <th>pib_per_capita_faixas</th>\n",
              "      <th>idh_municipios_faixas_graf</th>\n",
              "      <th>idh_educacao_municipios_faixas_graf</th>\n",
              "      <th>idh_longevidade_municipios_faixas_graf</th>\n",
              "      <th>idh_renda_municipios_faixas_graf</th>\n",
              "      <th>matriz_filial_2</th>\n",
              "      <th>regiao_Nordeste</th>\n",
              "      <th>regiao_Norte</th>\n",
              "      <th>regiao_Sudeste</th>\n",
              "      <th>regiao_Sul</th>\n",
              "      <th>interior_metropolitana_1</th>\n",
              "      <th>le_estado</th>\n",
              "      <th>le_cnae_divisao</th>\n",
              "      <th>le_cnae_secao</th>\n",
              "    </tr>\n",
              "  </thead>\n",
              "  <tbody>\n",
              "    <tr>\n",
              "      <th>0</th>\n",
              "      <td>3500.0</td>\n",
              "      <td>1</td>\n",
              "      <td>202005</td>\n",
              "      <td>1</td>\n",
              "      <td>199.0</td>\n",
              "      <td>9.0</td>\n",
              "      <td>0.029</td>\n",
              "      <td>0.001</td>\n",
              "      <td>0</td>\n",
              "      <td>0</td>\n",
              "      <td>0.789</td>\n",
              "      <td>0.716</td>\n",
              "      <td>0.776</td>\n",
              "      <td>0.885</td>\n",
              "      <td>7</td>\n",
              "      <td>7</td>\n",
              "      <td>7</td>\n",
              "      <td>8</td>\n",
              "      <td>54801.25</td>\n",
              "      <td>7</td>\n",
              "      <td>7</td>\n",
              "      <td>7</td>\n",
              "      <td>7</td>\n",
              "      <td>8</td>\n",
              "      <td>0</td>\n",
              "      <td>0</td>\n",
              "      <td>0</td>\n",
              "      <td>1</td>\n",
              "      <td>0</td>\n",
              "      <td>0</td>\n",
              "      <td>10</td>\n",
              "      <td>83</td>\n",
              "      <td>18</td>\n",
              "    </tr>\n",
              "    <tr>\n",
              "      <th>1</th>\n",
              "      <td>3000.0</td>\n",
              "      <td>1</td>\n",
              "      <td>202006</td>\n",
              "      <td>1</td>\n",
              "      <td>38960.0</td>\n",
              "      <td>4716.0</td>\n",
              "      <td>0.580</td>\n",
              "      <td>0.070</td>\n",
              "      <td>5</td>\n",
              "      <td>2</td>\n",
              "      <td>0.799</td>\n",
              "      <td>0.719</td>\n",
              "      <td>0.840</td>\n",
              "      <td>0.845</td>\n",
              "      <td>7</td>\n",
              "      <td>7</td>\n",
              "      <td>8</td>\n",
              "      <td>8</td>\n",
              "      <td>54426.08</td>\n",
              "      <td>7</td>\n",
              "      <td>7</td>\n",
              "      <td>7</td>\n",
              "      <td>8</td>\n",
              "      <td>8</td>\n",
              "      <td>0</td>\n",
              "      <td>0</td>\n",
              "      <td>0</td>\n",
              "      <td>1</td>\n",
              "      <td>0</td>\n",
              "      <td>1</td>\n",
              "      <td>18</td>\n",
              "      <td>74</td>\n",
              "      <td>15</td>\n",
              "    </tr>\n",
              "    <tr>\n",
              "      <th>2</th>\n",
              "      <td>10000.0</td>\n",
              "      <td>2</td>\n",
              "      <td>202012</td>\n",
              "      <td>1</td>\n",
              "      <td>1038.0</td>\n",
              "      <td>26.0</td>\n",
              "      <td>5.469</td>\n",
              "      <td>0.137</td>\n",
              "      <td>14</td>\n",
              "      <td>3</td>\n",
              "      <td>0.687</td>\n",
              "      <td>0.564</td>\n",
              "      <td>0.686</td>\n",
              "      <td>0.838</td>\n",
              "      <td>6</td>\n",
              "      <td>5</td>\n",
              "      <td>6</td>\n",
              "      <td>8</td>\n",
              "      <td>28312.72</td>\n",
              "      <td>4</td>\n",
              "      <td>6</td>\n",
              "      <td>5</td>\n",
              "      <td>6</td>\n",
              "      <td>8</td>\n",
              "      <td>0</td>\n",
              "      <td>0</td>\n",
              "      <td>0</td>\n",
              "      <td>0</td>\n",
              "      <td>1</td>\n",
              "      <td>0</td>\n",
              "      <td>17</td>\n",
              "      <td>42</td>\n",
              "      <td>6</td>\n",
              "    </tr>\n",
              "    <tr>\n",
              "      <th>3</th>\n",
              "      <td>5000.0</td>\n",
              "      <td>1</td>\n",
              "      <td>202105</td>\n",
              "      <td>1</td>\n",
              "      <td>13239.0</td>\n",
              "      <td>354.0</td>\n",
              "      <td>10.893</td>\n",
              "      <td>0.291</td>\n",
              "      <td>18</td>\n",
              "      <td>7</td>\n",
              "      <td>0.759</td>\n",
              "      <td>0.705</td>\n",
              "      <td>0.735</td>\n",
              "      <td>0.845</td>\n",
              "      <td>7</td>\n",
              "      <td>7</td>\n",
              "      <td>7</td>\n",
              "      <td>8</td>\n",
              "      <td>27802.88</td>\n",
              "      <td>4</td>\n",
              "      <td>7</td>\n",
              "      <td>7</td>\n",
              "      <td>7</td>\n",
              "      <td>8</td>\n",
              "      <td>0</td>\n",
              "      <td>0</td>\n",
              "      <td>0</td>\n",
              "      <td>1</td>\n",
              "      <td>0</td>\n",
              "      <td>0</td>\n",
              "      <td>25</td>\n",
              "      <td>8</td>\n",
              "      <td>2</td>\n",
              "    </tr>\n",
              "    <tr>\n",
              "      <th>4</th>\n",
              "      <td>100000.0</td>\n",
              "      <td>6</td>\n",
              "      <td>202009</td>\n",
              "      <td>1</td>\n",
              "      <td>24446.0</td>\n",
              "      <td>926.0</td>\n",
              "      <td>1.648</td>\n",
              "      <td>0.062</td>\n",
              "      <td>7</td>\n",
              "      <td>2</td>\n",
              "      <td>0.805</td>\n",
              "      <td>0.702</td>\n",
              "      <td>0.867</td>\n",
              "      <td>0.857</td>\n",
              "      <td>8</td>\n",
              "      <td>7</td>\n",
              "      <td>8</td>\n",
              "      <td>8</td>\n",
              "      <td>52149.66</td>\n",
              "      <td>7</td>\n",
              "      <td>8</td>\n",
              "      <td>7</td>\n",
              "      <td>8</td>\n",
              "      <td>8</td>\n",
              "      <td>0</td>\n",
              "      <td>0</td>\n",
              "      <td>0</td>\n",
              "      <td>0</td>\n",
              "      <td>1</td>\n",
              "      <td>1</td>\n",
              "      <td>22</td>\n",
              "      <td>75</td>\n",
              "      <td>16</td>\n",
              "    </tr>\n",
              "  </tbody>\n",
              "</table>\n",
              "</div>"
            ],
            "text/plain": [
              "   capital_social  capital_social_faixas  ...  le_cnae_divisao  le_cnae_secao\n",
              "0          3500.0                      1  ...               83             18\n",
              "1          3000.0                      1  ...               74             15\n",
              "2         10000.0                      2  ...               42              6\n",
              "3          5000.0                      1  ...                8              2\n",
              "4        100000.0                      6  ...               75             16\n",
              "\n",
              "[5 rows x 33 columns]"
            ]
          },
          "metadata": {
            "tags": []
          },
          "execution_count": 5
        }
      ]
    },
    {
      "cell_type": "code",
      "metadata": {
        "id": "vB0TzyZw68fH",
        "colab": {
          "base_uri": "https://localhost:8080/"
        },
        "outputId": "b2d3ce71-d74a-4628-d3e5-eed2488954a4"
      },
      "source": [
        "cnpj_final_tratado.dtypes"
      ],
      "execution_count": 6,
      "outputs": [
        {
          "output_type": "execute_result",
          "data": {
            "text/plain": [
              "capital_social                                float64\n",
              "capital_social_faixas                           int64\n",
              "data_situacao_cadastral_ano_mes                 int64\n",
              "situacao_cadastral_target                       int64\n",
              "casosAcumulado_covid                          float64\n",
              "obitosAcumulado_covid                         float64\n",
              "casos_acumulados_porcentagem_covid            float64\n",
              "obitos_acumulados_porcentagem_covid           float64\n",
              "casos_acumulados_porcentagem_covid_faixas       int64\n",
              "obitos_acumulados_porcentagem_covid_faixas      int64\n",
              "idh_municipio                                 float64\n",
              "idh_educacao                                  float64\n",
              "idh_longevidade                               float64\n",
              "idh_renda                                     float64\n",
              "idh_municipios_faixas                           int64\n",
              "idh_educacao_municipios_faixas                  int64\n",
              "idh_longevidade_municipios_faixas               int64\n",
              "idh_renda_municipios_faixas                     int64\n",
              "pib_per_capita                                float64\n",
              "pib_per_capita_faixas                           int64\n",
              "idh_municipios_faixas_graf                      int64\n",
              "idh_educacao_municipios_faixas_graf             int64\n",
              "idh_longevidade_municipios_faixas_graf          int64\n",
              "idh_renda_municipios_faixas_graf                int64\n",
              "matriz_filial_2                                 int64\n",
              "regiao_Nordeste                                 int64\n",
              "regiao_Norte                                    int64\n",
              "regiao_Sudeste                                  int64\n",
              "regiao_Sul                                      int64\n",
              "interior_metropolitana_1                        int64\n",
              "le_estado                                       int64\n",
              "le_cnae_divisao                                 int64\n",
              "le_cnae_secao                                   int64\n",
              "dtype: object"
            ]
          },
          "metadata": {
            "tags": []
          },
          "execution_count": 6
        }
      ]
    },
    {
      "cell_type": "markdown",
      "metadata": {
        "id": "zu1h3FUD7BQH"
      },
      "source": [
        "#**DEFININDO OS DATASETS COM AS VARIÁVEIS EXPLICATIVAS E VARIÁVEL ALVO**"
      ]
    },
    {
      "cell_type": "code",
      "metadata": {
        "id": "ljnaXxbf38Tt"
      },
      "source": [
        "cnpj_final_explicativas = cnpj_final_tratado.drop(columns=['situacao_cadastral_target'])\n",
        "cnpj_final_alvo = cnpj_final_tratado['situacao_cadastral_target']"
      ],
      "execution_count": 7,
      "outputs": []
    },
    {
      "cell_type": "code",
      "metadata": {
        "colab": {
          "base_uri": "https://localhost:8080/"
        },
        "id": "kb0ybnG-4ybw",
        "outputId": "e4c2cd3d-4359-4b8a-ef0a-b543172954a6"
      },
      "source": [
        "cnpj_final_explicativas.head()"
      ],
      "execution_count": 8,
      "outputs": [
        {
          "output_type": "execute_result",
          "data": {
            "text/html": [
              "<div>\n",
              "<style scoped>\n",
              "    .dataframe tbody tr th:only-of-type {\n",
              "        vertical-align: middle;\n",
              "    }\n",
              "\n",
              "    .dataframe tbody tr th {\n",
              "        vertical-align: top;\n",
              "    }\n",
              "\n",
              "    .dataframe thead th {\n",
              "        text-align: right;\n",
              "    }\n",
              "</style>\n",
              "<table border=\"1\" class=\"dataframe\">\n",
              "  <thead>\n",
              "    <tr style=\"text-align: right;\">\n",
              "      <th></th>\n",
              "      <th>capital_social</th>\n",
              "      <th>capital_social_faixas</th>\n",
              "      <th>data_situacao_cadastral_ano_mes</th>\n",
              "      <th>casosAcumulado_covid</th>\n",
              "      <th>obitosAcumulado_covid</th>\n",
              "      <th>casos_acumulados_porcentagem_covid</th>\n",
              "      <th>obitos_acumulados_porcentagem_covid</th>\n",
              "      <th>casos_acumulados_porcentagem_covid_faixas</th>\n",
              "      <th>obitos_acumulados_porcentagem_covid_faixas</th>\n",
              "      <th>idh_municipio</th>\n",
              "      <th>idh_educacao</th>\n",
              "      <th>idh_longevidade</th>\n",
              "      <th>idh_renda</th>\n",
              "      <th>idh_municipios_faixas</th>\n",
              "      <th>idh_educacao_municipios_faixas</th>\n",
              "      <th>idh_longevidade_municipios_faixas</th>\n",
              "      <th>idh_renda_municipios_faixas</th>\n",
              "      <th>pib_per_capita</th>\n",
              "      <th>pib_per_capita_faixas</th>\n",
              "      <th>idh_municipios_faixas_graf</th>\n",
              "      <th>idh_educacao_municipios_faixas_graf</th>\n",
              "      <th>idh_longevidade_municipios_faixas_graf</th>\n",
              "      <th>idh_renda_municipios_faixas_graf</th>\n",
              "      <th>matriz_filial_2</th>\n",
              "      <th>regiao_Nordeste</th>\n",
              "      <th>regiao_Norte</th>\n",
              "      <th>regiao_Sudeste</th>\n",
              "      <th>regiao_Sul</th>\n",
              "      <th>interior_metropolitana_1</th>\n",
              "      <th>le_estado</th>\n",
              "      <th>le_cnae_divisao</th>\n",
              "      <th>le_cnae_secao</th>\n",
              "    </tr>\n",
              "  </thead>\n",
              "  <tbody>\n",
              "    <tr>\n",
              "      <th>0</th>\n",
              "      <td>3500.0</td>\n",
              "      <td>1</td>\n",
              "      <td>202005</td>\n",
              "      <td>199.0</td>\n",
              "      <td>9.0</td>\n",
              "      <td>0.029</td>\n",
              "      <td>0.001</td>\n",
              "      <td>0</td>\n",
              "      <td>0</td>\n",
              "      <td>0.789</td>\n",
              "      <td>0.716</td>\n",
              "      <td>0.776</td>\n",
              "      <td>0.885</td>\n",
              "      <td>7</td>\n",
              "      <td>7</td>\n",
              "      <td>7</td>\n",
              "      <td>8</td>\n",
              "      <td>54801.25</td>\n",
              "      <td>7</td>\n",
              "      <td>7</td>\n",
              "      <td>7</td>\n",
              "      <td>7</td>\n",
              "      <td>8</td>\n",
              "      <td>0</td>\n",
              "      <td>0</td>\n",
              "      <td>0</td>\n",
              "      <td>1</td>\n",
              "      <td>0</td>\n",
              "      <td>0</td>\n",
              "      <td>10</td>\n",
              "      <td>83</td>\n",
              "      <td>18</td>\n",
              "    </tr>\n",
              "    <tr>\n",
              "      <th>1</th>\n",
              "      <td>3000.0</td>\n",
              "      <td>1</td>\n",
              "      <td>202006</td>\n",
              "      <td>38960.0</td>\n",
              "      <td>4716.0</td>\n",
              "      <td>0.580</td>\n",
              "      <td>0.070</td>\n",
              "      <td>5</td>\n",
              "      <td>2</td>\n",
              "      <td>0.799</td>\n",
              "      <td>0.719</td>\n",
              "      <td>0.840</td>\n",
              "      <td>0.845</td>\n",
              "      <td>7</td>\n",
              "      <td>7</td>\n",
              "      <td>8</td>\n",
              "      <td>8</td>\n",
              "      <td>54426.08</td>\n",
              "      <td>7</td>\n",
              "      <td>7</td>\n",
              "      <td>7</td>\n",
              "      <td>8</td>\n",
              "      <td>8</td>\n",
              "      <td>0</td>\n",
              "      <td>0</td>\n",
              "      <td>0</td>\n",
              "      <td>1</td>\n",
              "      <td>0</td>\n",
              "      <td>1</td>\n",
              "      <td>18</td>\n",
              "      <td>74</td>\n",
              "      <td>15</td>\n",
              "    </tr>\n",
              "    <tr>\n",
              "      <th>2</th>\n",
              "      <td>10000.0</td>\n",
              "      <td>2</td>\n",
              "      <td>202012</td>\n",
              "      <td>1038.0</td>\n",
              "      <td>26.0</td>\n",
              "      <td>5.469</td>\n",
              "      <td>0.137</td>\n",
              "      <td>14</td>\n",
              "      <td>3</td>\n",
              "      <td>0.687</td>\n",
              "      <td>0.564</td>\n",
              "      <td>0.686</td>\n",
              "      <td>0.838</td>\n",
              "      <td>6</td>\n",
              "      <td>5</td>\n",
              "      <td>6</td>\n",
              "      <td>8</td>\n",
              "      <td>28312.72</td>\n",
              "      <td>4</td>\n",
              "      <td>6</td>\n",
              "      <td>5</td>\n",
              "      <td>6</td>\n",
              "      <td>8</td>\n",
              "      <td>0</td>\n",
              "      <td>0</td>\n",
              "      <td>0</td>\n",
              "      <td>0</td>\n",
              "      <td>1</td>\n",
              "      <td>0</td>\n",
              "      <td>17</td>\n",
              "      <td>42</td>\n",
              "      <td>6</td>\n",
              "    </tr>\n",
              "    <tr>\n",
              "      <th>3</th>\n",
              "      <td>5000.0</td>\n",
              "      <td>1</td>\n",
              "      <td>202105</td>\n",
              "      <td>13239.0</td>\n",
              "      <td>354.0</td>\n",
              "      <td>10.893</td>\n",
              "      <td>0.291</td>\n",
              "      <td>18</td>\n",
              "      <td>7</td>\n",
              "      <td>0.759</td>\n",
              "      <td>0.705</td>\n",
              "      <td>0.735</td>\n",
              "      <td>0.845</td>\n",
              "      <td>7</td>\n",
              "      <td>7</td>\n",
              "      <td>7</td>\n",
              "      <td>8</td>\n",
              "      <td>27802.88</td>\n",
              "      <td>4</td>\n",
              "      <td>7</td>\n",
              "      <td>7</td>\n",
              "      <td>7</td>\n",
              "      <td>8</td>\n",
              "      <td>0</td>\n",
              "      <td>0</td>\n",
              "      <td>0</td>\n",
              "      <td>1</td>\n",
              "      <td>0</td>\n",
              "      <td>0</td>\n",
              "      <td>25</td>\n",
              "      <td>8</td>\n",
              "      <td>2</td>\n",
              "    </tr>\n",
              "    <tr>\n",
              "      <th>4</th>\n",
              "      <td>100000.0</td>\n",
              "      <td>6</td>\n",
              "      <td>202009</td>\n",
              "      <td>24446.0</td>\n",
              "      <td>926.0</td>\n",
              "      <td>1.648</td>\n",
              "      <td>0.062</td>\n",
              "      <td>7</td>\n",
              "      <td>2</td>\n",
              "      <td>0.805</td>\n",
              "      <td>0.702</td>\n",
              "      <td>0.867</td>\n",
              "      <td>0.857</td>\n",
              "      <td>8</td>\n",
              "      <td>7</td>\n",
              "      <td>8</td>\n",
              "      <td>8</td>\n",
              "      <td>52149.66</td>\n",
              "      <td>7</td>\n",
              "      <td>8</td>\n",
              "      <td>7</td>\n",
              "      <td>8</td>\n",
              "      <td>8</td>\n",
              "      <td>0</td>\n",
              "      <td>0</td>\n",
              "      <td>0</td>\n",
              "      <td>0</td>\n",
              "      <td>1</td>\n",
              "      <td>1</td>\n",
              "      <td>22</td>\n",
              "      <td>75</td>\n",
              "      <td>16</td>\n",
              "    </tr>\n",
              "  </tbody>\n",
              "</table>\n",
              "</div>"
            ],
            "text/plain": [
              "   capital_social  capital_social_faixas  ...  le_cnae_divisao  le_cnae_secao\n",
              "0          3500.0                      1  ...               83             18\n",
              "1          3000.0                      1  ...               74             15\n",
              "2         10000.0                      2  ...               42              6\n",
              "3          5000.0                      1  ...                8              2\n",
              "4        100000.0                      6  ...               75             16\n",
              "\n",
              "[5 rows x 32 columns]"
            ]
          },
          "metadata": {
            "tags": []
          },
          "execution_count": 8
        }
      ]
    },
    {
      "cell_type": "code",
      "metadata": {
        "colab": {
          "base_uri": "https://localhost:8080/"
        },
        "id": "V9ENozFg-Nza",
        "outputId": "dc56717c-4a34-42ca-8ac0-289c718a2687"
      },
      "source": [
        "cnpj_final_alvo.head()"
      ],
      "execution_count": 9,
      "outputs": [
        {
          "output_type": "execute_result",
          "data": {
            "text/plain": [
              "0    1\n",
              "1    1\n",
              "2    1\n",
              "3    1\n",
              "4    1\n",
              "Name: situacao_cadastral_target, dtype: int64"
            ]
          },
          "metadata": {
            "tags": []
          },
          "execution_count": 9
        }
      ]
    },
    {
      "cell_type": "markdown",
      "metadata": {
        "id": "NpfQZG91CDjs"
      },
      "source": [
        "#  **PROCESSO DE SELEÇÃO DAS MELHORES VARIÁVEIS PARA O MODELO**"
      ]
    },
    {
      "cell_type": "markdown",
      "metadata": {
        "id": "iMAZ9UYjlI9G"
      },
      "source": [
        "## **Filtro**\n",
        "Este método avalia os atributos individualmente\n",
        "usando a medida χ2 com relação à classe"
      ]
    },
    {
      "cell_type": "code",
      "metadata": {
        "id": "dHovknGl5-HE"
      },
      "source": [
        "from sklearn.feature_selection import SelectKBest\n",
        "from sklearn.feature_selection import chi2"
      ],
      "execution_count": 10,
      "outputs": []
    },
    {
      "cell_type": "code",
      "metadata": {
        "id": "8IThNBLh6AHt",
        "colab": {
          "base_uri": "https://localhost:8080/"
        },
        "outputId": "70ee7e76-8ec2-4e75-9642-278ef645eb0b"
      },
      "source": [
        "chi_selector = SelectKBest(chi2,\n",
        "                           k=5) # define o número de variáveis selecionadas no filtro\n",
        "chi_selector"
      ],
      "execution_count": 11,
      "outputs": [
        {
          "output_type": "execute_result",
          "data": {
            "text/plain": [
              "SelectKBest(k=5, score_func=<function chi2 at 0x7f752b810c20>)"
            ]
          },
          "metadata": {
            "tags": []
          },
          "execution_count": 11
        }
      ]
    },
    {
      "cell_type": "code",
      "metadata": {
        "id": "lSkdlffG6OgV",
        "colab": {
          "base_uri": "https://localhost:8080/"
        },
        "outputId": "96c47eb0-a43b-4e09-e274-6d0a8a99f81d"
      },
      "source": [
        "chi_selector.fit(cnpj_final_explicativas, cnpj_final_alvo)"
      ],
      "execution_count": 12,
      "outputs": [
        {
          "output_type": "execute_result",
          "data": {
            "text/plain": [
              "SelectKBest(k=5, score_func=<function chi2 at 0x7f752b810c20>)"
            ]
          },
          "metadata": {
            "tags": []
          },
          "execution_count": 12
        }
      ]
    },
    {
      "cell_type": "code",
      "metadata": {
        "colab": {
          "base_uri": "https://localhost:8080/"
        },
        "id": "UwNURcmJPg1p",
        "outputId": "8f05e3a3-35dc-4e2d-e7e1-0af451a6daf1"
      },
      "source": [
        "chi_support  = chi_selector.get_support()\n",
        "chi_feature = cnpj_final_explicativas.loc[:,chi_support].columns.tolist()\n",
        "print(' Variávei selecionadas:')\n",
        "print(chi_feature)"
      ],
      "execution_count": 13,
      "outputs": [
        {
          "output_type": "stream",
          "text": [
            " Variávei selecionadas:\n",
            "['capital_social', 'casosAcumulado_covid', 'obitosAcumulado_covid', 'casos_acumulados_porcentagem_covid', 'casos_acumulados_porcentagem_covid_faixas']\n"
          ],
          "name": "stdout"
        }
      ]
    },
    {
      "cell_type": "markdown",
      "metadata": {
        "id": "EvvRGsXslNjc"
      },
      "source": [
        "##  **Wrapper (Empacotado)**\n",
        "Este método utiliza regressão logística para seleção de variáveis. O processo de escolha do subconjunto de atributos está “empacotado” junto com o algoritmo\n",
        "de aprendizado sendo utilizado"
      ]
    },
    {
      "cell_type": "code",
      "metadata": {
        "colab": {
          "base_uri": "https://localhost:8080/"
        },
        "id": "qNAs3k5nlFGe",
        "outputId": "c1551fb6-b6af-42e8-c021-a1a18e7bc3f6"
      },
      "source": [
        "from sklearn.feature_selection import RFE  \n",
        "from sklearn.linear_model import LogisticRegression\n",
        "\n",
        "rfe_selector = RFE(estimator=LogisticRegression(random_state=69),\n",
        "                  step=10,\n",
        "                  n_features_to_select=5)\n",
        "rfe_selector.fit(cnpj_final_explicativas, cnpj_final_alvo)\n",
        "rfe_support = rfe_selector.get_support()\n",
        "rfe_feature = cnpj_final_explicativas.loc[:,rfe_support].columns.tolist()\n",
        "\n",
        "print('Variáveis selecionadas:')\n",
        "print(rfe_feature)"
      ],
      "execution_count": 14,
      "outputs": [
        {
          "output_type": "stream",
          "text": [
            "Variáveis selecionadas:\n",
            "['data_situacao_cadastral_ano_mes', 'casosAcumulado_covid', 'obitosAcumulado_covid', 'casos_acumulados_porcentagem_covid_faixas', 'pib_per_capita']\n"
          ],
          "name": "stdout"
        }
      ]
    },
    {
      "cell_type": "markdown",
      "metadata": {
        "id": "9768MHWsnUMW"
      },
      "source": [
        "## **Embedded (Embutido)**\n",
        "Determinação de relevância. Este método usa RandomForest para selecionar as variáveis"
      ]
    },
    {
      "cell_type": "code",
      "metadata": {
        "colab": {
          "base_uri": "https://localhost:8080/"
        },
        "id": "E3lwAGnvlFMu",
        "outputId": "08e2ceb9-0b25-412f-8eb4-9a15f7914a51"
      },
      "source": [
        "from sklearn.feature_selection import SelectFromModel\n",
        "from sklearn.ensemble import RandomForestClassifier\n",
        "\n",
        "emb_selector = SelectFromModel(RandomForestClassifier(random_state=42))\n",
        "emb_selector.fit(cnpj_final_explicativas, cnpj_final_alvo)\n",
        "emb_support = emb_selector.get_support()\n",
        "emb_feature = cnpj_final_explicativas.loc[:,emb_support].columns.tolist()\n",
        "\n",
        "print('Variáveis selecionadas:')\n",
        "print(emb_feature)"
      ],
      "execution_count": 15,
      "outputs": [
        {
          "output_type": "stream",
          "text": [
            "Variáveis selecionadas:\n",
            "['capital_social', 'data_situacao_cadastral_ano_mes', 'casosAcumulado_covid', 'obitosAcumulado_covid', 'casos_acumulados_porcentagem_covid', 'obitos_acumulados_porcentagem_covid', 'casos_acumulados_porcentagem_covid_faixas', 'obitos_acumulados_porcentagem_covid_faixas', 'idh_municipio', 'idh_longevidade', 'le_cnae_divisao']\n"
          ],
          "name": "stdout"
        }
      ]
    },
    {
      "cell_type": "markdown",
      "metadata": {
        "id": "RcXcUnVKGW8p"
      },
      "source": [
        "## **Ranking das variáveis selecionadas**"
      ]
    },
    {
      "cell_type": "code",
      "metadata": {
        "colab": {
          "base_uri": "https://localhost:8080/",
          "height": 1000
        },
        "id": "JsezCkW5lFR1",
        "outputId": "94cc5f47-bd5c-4b46-da8b-2c71b70407e8"
      },
      "source": [
        "ranking_variaveis = pd.DataFrame({'Número e Nome da Variável': cnpj_final_explicativas.columns,\n",
        "                                    'Chi-2':chi_support, \n",
        "                                    'Recursive Feature Elimination': rfe_support, \n",
        "                                    'RandomForest':emb_support}) \n",
        "ranking_variaveis['Total de Verdadeiros'] = np.sum(ranking_variaveis, axis=1)                                     \n",
        "ranking_variaveis = ranking_variaveis.sort_values(['Total de Verdadeiros','Número e Nome da Variável'], ascending=False)\n",
        "ranking_variaveis"
      ],
      "execution_count": 16,
      "outputs": [
        {
          "output_type": "execute_result",
          "data": {
            "text/html": [
              "<div>\n",
              "<style scoped>\n",
              "    .dataframe tbody tr th:only-of-type {\n",
              "        vertical-align: middle;\n",
              "    }\n",
              "\n",
              "    .dataframe tbody tr th {\n",
              "        vertical-align: top;\n",
              "    }\n",
              "\n",
              "    .dataframe thead th {\n",
              "        text-align: right;\n",
              "    }\n",
              "</style>\n",
              "<table border=\"1\" class=\"dataframe\">\n",
              "  <thead>\n",
              "    <tr style=\"text-align: right;\">\n",
              "      <th></th>\n",
              "      <th>Número e Nome da Variável</th>\n",
              "      <th>Chi-2</th>\n",
              "      <th>Recursive Feature Elimination</th>\n",
              "      <th>RandomForest</th>\n",
              "      <th>Total de Verdadeiros</th>\n",
              "    </tr>\n",
              "  </thead>\n",
              "  <tbody>\n",
              "    <tr>\n",
              "      <th>4</th>\n",
              "      <td>obitosAcumulado_covid</td>\n",
              "      <td>True</td>\n",
              "      <td>True</td>\n",
              "      <td>True</td>\n",
              "      <td>3</td>\n",
              "    </tr>\n",
              "    <tr>\n",
              "      <th>7</th>\n",
              "      <td>casos_acumulados_porcentagem_covid_faixas</td>\n",
              "      <td>True</td>\n",
              "      <td>True</td>\n",
              "      <td>True</td>\n",
              "      <td>3</td>\n",
              "    </tr>\n",
              "    <tr>\n",
              "      <th>3</th>\n",
              "      <td>casosAcumulado_covid</td>\n",
              "      <td>True</td>\n",
              "      <td>True</td>\n",
              "      <td>True</td>\n",
              "      <td>3</td>\n",
              "    </tr>\n",
              "    <tr>\n",
              "      <th>2</th>\n",
              "      <td>data_situacao_cadastral_ano_mes</td>\n",
              "      <td>False</td>\n",
              "      <td>True</td>\n",
              "      <td>True</td>\n",
              "      <td>2</td>\n",
              "    </tr>\n",
              "    <tr>\n",
              "      <th>5</th>\n",
              "      <td>casos_acumulados_porcentagem_covid</td>\n",
              "      <td>True</td>\n",
              "      <td>False</td>\n",
              "      <td>True</td>\n",
              "      <td>2</td>\n",
              "    </tr>\n",
              "    <tr>\n",
              "      <th>0</th>\n",
              "      <td>capital_social</td>\n",
              "      <td>True</td>\n",
              "      <td>False</td>\n",
              "      <td>True</td>\n",
              "      <td>2</td>\n",
              "    </tr>\n",
              "    <tr>\n",
              "      <th>17</th>\n",
              "      <td>pib_per_capita</td>\n",
              "      <td>False</td>\n",
              "      <td>True</td>\n",
              "      <td>False</td>\n",
              "      <td>1</td>\n",
              "    </tr>\n",
              "    <tr>\n",
              "      <th>8</th>\n",
              "      <td>obitos_acumulados_porcentagem_covid_faixas</td>\n",
              "      <td>False</td>\n",
              "      <td>False</td>\n",
              "      <td>True</td>\n",
              "      <td>1</td>\n",
              "    </tr>\n",
              "    <tr>\n",
              "      <th>6</th>\n",
              "      <td>obitos_acumulados_porcentagem_covid</td>\n",
              "      <td>False</td>\n",
              "      <td>False</td>\n",
              "      <td>True</td>\n",
              "      <td>1</td>\n",
              "    </tr>\n",
              "    <tr>\n",
              "      <th>30</th>\n",
              "      <td>le_cnae_divisao</td>\n",
              "      <td>False</td>\n",
              "      <td>False</td>\n",
              "      <td>True</td>\n",
              "      <td>1</td>\n",
              "    </tr>\n",
              "    <tr>\n",
              "      <th>9</th>\n",
              "      <td>idh_municipio</td>\n",
              "      <td>False</td>\n",
              "      <td>False</td>\n",
              "      <td>True</td>\n",
              "      <td>1</td>\n",
              "    </tr>\n",
              "    <tr>\n",
              "      <th>11</th>\n",
              "      <td>idh_longevidade</td>\n",
              "      <td>False</td>\n",
              "      <td>False</td>\n",
              "      <td>True</td>\n",
              "      <td>1</td>\n",
              "    </tr>\n",
              "    <tr>\n",
              "      <th>27</th>\n",
              "      <td>regiao_Sul</td>\n",
              "      <td>False</td>\n",
              "      <td>False</td>\n",
              "      <td>False</td>\n",
              "      <td>0</td>\n",
              "    </tr>\n",
              "    <tr>\n",
              "      <th>26</th>\n",
              "      <td>regiao_Sudeste</td>\n",
              "      <td>False</td>\n",
              "      <td>False</td>\n",
              "      <td>False</td>\n",
              "      <td>0</td>\n",
              "    </tr>\n",
              "    <tr>\n",
              "      <th>25</th>\n",
              "      <td>regiao_Norte</td>\n",
              "      <td>False</td>\n",
              "      <td>False</td>\n",
              "      <td>False</td>\n",
              "      <td>0</td>\n",
              "    </tr>\n",
              "    <tr>\n",
              "      <th>24</th>\n",
              "      <td>regiao_Nordeste</td>\n",
              "      <td>False</td>\n",
              "      <td>False</td>\n",
              "      <td>False</td>\n",
              "      <td>0</td>\n",
              "    </tr>\n",
              "    <tr>\n",
              "      <th>18</th>\n",
              "      <td>pib_per_capita_faixas</td>\n",
              "      <td>False</td>\n",
              "      <td>False</td>\n",
              "      <td>False</td>\n",
              "      <td>0</td>\n",
              "    </tr>\n",
              "    <tr>\n",
              "      <th>23</th>\n",
              "      <td>matriz_filial_2</td>\n",
              "      <td>False</td>\n",
              "      <td>False</td>\n",
              "      <td>False</td>\n",
              "      <td>0</td>\n",
              "    </tr>\n",
              "    <tr>\n",
              "      <th>29</th>\n",
              "      <td>le_estado</td>\n",
              "      <td>False</td>\n",
              "      <td>False</td>\n",
              "      <td>False</td>\n",
              "      <td>0</td>\n",
              "    </tr>\n",
              "    <tr>\n",
              "      <th>31</th>\n",
              "      <td>le_cnae_secao</td>\n",
              "      <td>False</td>\n",
              "      <td>False</td>\n",
              "      <td>False</td>\n",
              "      <td>0</td>\n",
              "    </tr>\n",
              "    <tr>\n",
              "      <th>28</th>\n",
              "      <td>interior_metropolitana_1</td>\n",
              "      <td>False</td>\n",
              "      <td>False</td>\n",
              "      <td>False</td>\n",
              "      <td>0</td>\n",
              "    </tr>\n",
              "    <tr>\n",
              "      <th>22</th>\n",
              "      <td>idh_renda_municipios_faixas_graf</td>\n",
              "      <td>False</td>\n",
              "      <td>False</td>\n",
              "      <td>False</td>\n",
              "      <td>0</td>\n",
              "    </tr>\n",
              "    <tr>\n",
              "      <th>16</th>\n",
              "      <td>idh_renda_municipios_faixas</td>\n",
              "      <td>False</td>\n",
              "      <td>False</td>\n",
              "      <td>False</td>\n",
              "      <td>0</td>\n",
              "    </tr>\n",
              "    <tr>\n",
              "      <th>12</th>\n",
              "      <td>idh_renda</td>\n",
              "      <td>False</td>\n",
              "      <td>False</td>\n",
              "      <td>False</td>\n",
              "      <td>0</td>\n",
              "    </tr>\n",
              "    <tr>\n",
              "      <th>19</th>\n",
              "      <td>idh_municipios_faixas_graf</td>\n",
              "      <td>False</td>\n",
              "      <td>False</td>\n",
              "      <td>False</td>\n",
              "      <td>0</td>\n",
              "    </tr>\n",
              "    <tr>\n",
              "      <th>13</th>\n",
              "      <td>idh_municipios_faixas</td>\n",
              "      <td>False</td>\n",
              "      <td>False</td>\n",
              "      <td>False</td>\n",
              "      <td>0</td>\n",
              "    </tr>\n",
              "    <tr>\n",
              "      <th>21</th>\n",
              "      <td>idh_longevidade_municipios_faixas_graf</td>\n",
              "      <td>False</td>\n",
              "      <td>False</td>\n",
              "      <td>False</td>\n",
              "      <td>0</td>\n",
              "    </tr>\n",
              "    <tr>\n",
              "      <th>15</th>\n",
              "      <td>idh_longevidade_municipios_faixas</td>\n",
              "      <td>False</td>\n",
              "      <td>False</td>\n",
              "      <td>False</td>\n",
              "      <td>0</td>\n",
              "    </tr>\n",
              "    <tr>\n",
              "      <th>20</th>\n",
              "      <td>idh_educacao_municipios_faixas_graf</td>\n",
              "      <td>False</td>\n",
              "      <td>False</td>\n",
              "      <td>False</td>\n",
              "      <td>0</td>\n",
              "    </tr>\n",
              "    <tr>\n",
              "      <th>14</th>\n",
              "      <td>idh_educacao_municipios_faixas</td>\n",
              "      <td>False</td>\n",
              "      <td>False</td>\n",
              "      <td>False</td>\n",
              "      <td>0</td>\n",
              "    </tr>\n",
              "    <tr>\n",
              "      <th>10</th>\n",
              "      <td>idh_educacao</td>\n",
              "      <td>False</td>\n",
              "      <td>False</td>\n",
              "      <td>False</td>\n",
              "      <td>0</td>\n",
              "    </tr>\n",
              "    <tr>\n",
              "      <th>1</th>\n",
              "      <td>capital_social_faixas</td>\n",
              "      <td>False</td>\n",
              "      <td>False</td>\n",
              "      <td>False</td>\n",
              "      <td>0</td>\n",
              "    </tr>\n",
              "  </tbody>\n",
              "</table>\n",
              "</div>"
            ],
            "text/plain": [
              "                     Número e Nome da Variável  ...  Total de Verdadeiros\n",
              "4                        obitosAcumulado_covid  ...                     3\n",
              "7    casos_acumulados_porcentagem_covid_faixas  ...                     3\n",
              "3                         casosAcumulado_covid  ...                     3\n",
              "2              data_situacao_cadastral_ano_mes  ...                     2\n",
              "5           casos_acumulados_porcentagem_covid  ...                     2\n",
              "0                               capital_social  ...                     2\n",
              "17                              pib_per_capita  ...                     1\n",
              "8   obitos_acumulados_porcentagem_covid_faixas  ...                     1\n",
              "6          obitos_acumulados_porcentagem_covid  ...                     1\n",
              "30                             le_cnae_divisao  ...                     1\n",
              "9                                idh_municipio  ...                     1\n",
              "11                             idh_longevidade  ...                     1\n",
              "27                                  regiao_Sul  ...                     0\n",
              "26                              regiao_Sudeste  ...                     0\n",
              "25                                regiao_Norte  ...                     0\n",
              "24                             regiao_Nordeste  ...                     0\n",
              "18                       pib_per_capita_faixas  ...                     0\n",
              "23                             matriz_filial_2  ...                     0\n",
              "29                                   le_estado  ...                     0\n",
              "31                               le_cnae_secao  ...                     0\n",
              "28                    interior_metropolitana_1  ...                     0\n",
              "22            idh_renda_municipios_faixas_graf  ...                     0\n",
              "16                 idh_renda_municipios_faixas  ...                     0\n",
              "12                                   idh_renda  ...                     0\n",
              "19                  idh_municipios_faixas_graf  ...                     0\n",
              "13                       idh_municipios_faixas  ...                     0\n",
              "21      idh_longevidade_municipios_faixas_graf  ...                     0\n",
              "15           idh_longevidade_municipios_faixas  ...                     0\n",
              "20         idh_educacao_municipios_faixas_graf  ...                     0\n",
              "14              idh_educacao_municipios_faixas  ...                     0\n",
              "10                                idh_educacao  ...                     0\n",
              "1                        capital_social_faixas  ...                     0\n",
              "\n",
              "[32 rows x 5 columns]"
            ]
          },
          "metadata": {
            "tags": []
          },
          "execution_count": 16
        }
      ]
    },
    {
      "cell_type": "markdown",
      "metadata": {
        "id": "AYTXOfDJ33MV"
      },
      "source": [
        "# **CRIAÇÃO DE DATAFRAME COM VARIAVEIS SELECIONADAS**"
      ]
    },
    {
      "cell_type": "code",
      "metadata": {
        "colab": {
          "base_uri": "https://localhost:8080/",
          "height": 220
        },
        "id": "WP-5jXFsfzak",
        "outputId": "c95414c5-d966-477f-bbf0-c7eb8edf44e0"
      },
      "source": [
        "explicativas = cnpj_final_explicativas[['obitosAcumulado_covid', 'casos_acumulados_porcentagem_covid_faixas', 'casosAcumulado_covid','data_situacao_cadastral_ano_mes','casos_acumulados_porcentagem_covid','capital_social']]\n",
        "explicativas.head()"
      ],
      "execution_count": 17,
      "outputs": [
        {
          "output_type": "execute_result",
          "data": {
            "text/html": [
              "<div>\n",
              "<style scoped>\n",
              "    .dataframe tbody tr th:only-of-type {\n",
              "        vertical-align: middle;\n",
              "    }\n",
              "\n",
              "    .dataframe tbody tr th {\n",
              "        vertical-align: top;\n",
              "    }\n",
              "\n",
              "    .dataframe thead th {\n",
              "        text-align: right;\n",
              "    }\n",
              "</style>\n",
              "<table border=\"1\" class=\"dataframe\">\n",
              "  <thead>\n",
              "    <tr style=\"text-align: right;\">\n",
              "      <th></th>\n",
              "      <th>obitosAcumulado_covid</th>\n",
              "      <th>casos_acumulados_porcentagem_covid_faixas</th>\n",
              "      <th>casosAcumulado_covid</th>\n",
              "      <th>data_situacao_cadastral_ano_mes</th>\n",
              "      <th>casos_acumulados_porcentagem_covid</th>\n",
              "      <th>capital_social</th>\n",
              "    </tr>\n",
              "  </thead>\n",
              "  <tbody>\n",
              "    <tr>\n",
              "      <th>0</th>\n",
              "      <td>9.0</td>\n",
              "      <td>0</td>\n",
              "      <td>199.0</td>\n",
              "      <td>202005</td>\n",
              "      <td>0.029</td>\n",
              "      <td>3500.0</td>\n",
              "    </tr>\n",
              "    <tr>\n",
              "      <th>1</th>\n",
              "      <td>4716.0</td>\n",
              "      <td>5</td>\n",
              "      <td>38960.0</td>\n",
              "      <td>202006</td>\n",
              "      <td>0.580</td>\n",
              "      <td>3000.0</td>\n",
              "    </tr>\n",
              "    <tr>\n",
              "      <th>2</th>\n",
              "      <td>26.0</td>\n",
              "      <td>14</td>\n",
              "      <td>1038.0</td>\n",
              "      <td>202012</td>\n",
              "      <td>5.469</td>\n",
              "      <td>10000.0</td>\n",
              "    </tr>\n",
              "    <tr>\n",
              "      <th>3</th>\n",
              "      <td>354.0</td>\n",
              "      <td>18</td>\n",
              "      <td>13239.0</td>\n",
              "      <td>202105</td>\n",
              "      <td>10.893</td>\n",
              "      <td>5000.0</td>\n",
              "    </tr>\n",
              "    <tr>\n",
              "      <th>4</th>\n",
              "      <td>926.0</td>\n",
              "      <td>7</td>\n",
              "      <td>24446.0</td>\n",
              "      <td>202009</td>\n",
              "      <td>1.648</td>\n",
              "      <td>100000.0</td>\n",
              "    </tr>\n",
              "  </tbody>\n",
              "</table>\n",
              "</div>"
            ],
            "text/plain": [
              "   obitosAcumulado_covid  ...  capital_social\n",
              "0                    9.0  ...          3500.0\n",
              "1                 4716.0  ...          3000.0\n",
              "2                   26.0  ...         10000.0\n",
              "3                  354.0  ...          5000.0\n",
              "4                  926.0  ...        100000.0\n",
              "\n",
              "[5 rows x 6 columns]"
            ]
          },
          "metadata": {
            "tags": []
          },
          "execution_count": 17
        }
      ]
    },
    {
      "cell_type": "markdown",
      "metadata": {
        "id": "X5rexK3z4Uyk"
      },
      "source": [
        "# **SEPARAÇÃO DOS DATASETS EM TREINO E TESTE**"
      ]
    },
    {
      "cell_type": "code",
      "metadata": {
        "id": "2_vMWh0bfPis"
      },
      "source": [
        "from sklearn.model_selection import train_test_split \n",
        "x_treino, x_teste, y_treino, y_teste = train_test_split(explicativas, cnpj_final_alvo, test_size=0.3, random_state=69)"
      ],
      "execution_count": 18,
      "outputs": []
    },
    {
      "cell_type": "markdown",
      "metadata": {
        "id": "moCsDJKD54Zu"
      },
      "source": [
        "# **GERAÇÃO DOS MODELOS**"
      ]
    },
    {
      "cell_type": "markdown",
      "metadata": {
        "id": "rEIhjXWNUGPC"
      },
      "source": [
        "## **Logistic Regression**"
      ]
    },
    {
      "cell_type": "markdown",
      "metadata": {
        "id": "HqDpcSAL63HY"
      },
      "source": [
        "**Normalização dos Dados**"
      ]
    },
    {
      "cell_type": "code",
      "metadata": {
        "id": "3uKsyIl3Ua03"
      },
      "source": [
        "from sklearn.preprocessing import StandardScaler\n",
        "sc = StandardScaler()\n",
        "x_treino = sc.fit_transform(x_treino)\n",
        "x_teste = sc.transform(x_teste)"
      ],
      "execution_count": 19,
      "outputs": []
    },
    {
      "cell_type": "markdown",
      "metadata": {
        "id": "o0ILwzb668VW"
      },
      "source": [
        "**Aplicação do Modelo**"
      ]
    },
    {
      "cell_type": "code",
      "metadata": {
        "id": "sja2nYRSUqso"
      },
      "source": [
        "from sklearn.linear_model import LogisticRegression\n",
        "rl =LogisticRegression(random_state=69)\n",
        "rl.fit(x_treino,np.ravel(y_treino,order='C'))\n",
        "y_predicao=rl.predict(x_teste)"
      ],
      "execution_count": 20,
      "outputs": []
    },
    {
      "cell_type": "markdown",
      "metadata": {
        "id": "2yQlsm4Qdsez"
      },
      "source": [
        "**Vizualização das Métricas**"
      ]
    },
    {
      "cell_type": "code",
      "metadata": {
        "id": "Vvyga8m0VWVR",
        "colab": {
          "base_uri": "https://localhost:8080/"
        },
        "outputId": "5e4b6279-479f-4c9c-8fa7-81f9441c1388"
      },
      "source": [
        "from sklearn import metrics\n",
        "from sklearn.metrics import accuracy_score, classification_report, confusion_matrix\n",
        "print(metrics.classification_report(y_teste, y_predicao, target_names=['0','1']))\n",
        "print (\"Acurácia de Previsão:\", accuracy_score(y_teste, y_predicao))\n",
        "lr_resultado = accuracy_score(y_teste, y_predicao)"
      ],
      "execution_count": 21,
      "outputs": [
        {
          "output_type": "stream",
          "text": [
            "              precision    recall  f1-score   support\n",
            "\n",
            "           0       0.76      0.98      0.86   2338516\n",
            "           1       0.70      0.14      0.24    821697\n",
            "\n",
            "    accuracy                           0.76   3160213\n",
            "   macro avg       0.73      0.56      0.55   3160213\n",
            "weighted avg       0.75      0.76      0.70   3160213\n",
            "\n",
            "Acurácia de Previsão: 0.7612420428623007\n"
          ],
          "name": "stdout"
        }
      ]
    },
    {
      "cell_type": "code",
      "metadata": {
        "id": "_L7lNNdHWAK5",
        "colab": {
          "base_uri": "https://localhost:8080/"
        },
        "outputId": "927d164d-4103-460f-af56-6fbfb99907b3"
      },
      "source": [
        "rl.get_params()"
      ],
      "execution_count": 22,
      "outputs": [
        {
          "output_type": "execute_result",
          "data": {
            "text/plain": [
              "{'C': 1.0,\n",
              " 'class_weight': None,\n",
              " 'dual': False,\n",
              " 'fit_intercept': True,\n",
              " 'intercept_scaling': 1,\n",
              " 'l1_ratio': None,\n",
              " 'max_iter': 100,\n",
              " 'multi_class': 'auto',\n",
              " 'n_jobs': None,\n",
              " 'penalty': 'l2',\n",
              " 'random_state': 69,\n",
              " 'solver': 'lbfgs',\n",
              " 'tol': 0.0001,\n",
              " 'verbose': 0,\n",
              " 'warm_start': False}"
            ]
          },
          "metadata": {
            "tags": []
          },
          "execution_count": 22
        }
      ]
    },
    {
      "cell_type": "markdown",
      "metadata": {
        "id": "3_R6kNxfd1xa"
      },
      "source": [
        "**Matriz de Confusão**"
      ]
    },
    {
      "cell_type": "code",
      "metadata": {
        "id": "ykyHO1IhWDZ5"
      },
      "source": [
        "matriz_confusao =  metrics.confusion_matrix(y_teste, y_predicao)"
      ],
      "execution_count": 23,
      "outputs": []
    },
    {
      "cell_type": "code",
      "metadata": {
        "id": "EjGU98R4WNmS"
      },
      "source": [
        "import matplotlib.pyplot as plt\n",
        "import itertools\n",
        "def plot_confusion_matrix(cm, classes, normalize=False, title='Confusion matrix', cmap=plt.cm.Blues):\n",
        "\n",
        "    if normalize: cm = cm.astype('float') / cm.sum(axis=1)[:, np.newaxis]\n",
        "\n",
        "    plt.imshow(cm, interpolation='nearest', cmap=cmap)\n",
        "    plt.title(title)\n",
        "    plt.colorbar()\n",
        "    tick_marks = np.arange(len(classes))\n",
        "    plt.xticks(tick_marks, classes, rotation=45)\n",
        "    plt.yticks(tick_marks, classes)\n",
        "\n",
        "    fmt = '.2f' if normalize else 'd'\n",
        "    thresh = cm.max() / 2.\n",
        "    for i, j in itertools.product(range(cm.shape[0]), range(cm.shape[1])):\n",
        "        plt.text(j, i, format(cm[i, j], fmt), horizontalalignment=\"center\", color=\"white\" if cm[i, j] > thresh else \"black\")\n",
        "\n",
        "    plt.ylabel('True label')\n",
        "    plt.xlabel('Predicted label')\n",
        "    plt.tight_layout()\n",
        "  "
      ],
      "execution_count": 24,
      "outputs": []
    },
    {
      "cell_type": "code",
      "metadata": {
        "colab": {
          "base_uri": "https://localhost:8080/",
          "height": 729
        },
        "id": "fWvNk6yZWeMp",
        "outputId": "997060b4-f9f1-46c9-8770-20d7333022df"
      },
      "source": [
        "plt.figure(figsize=(10, 10))\n",
        "plot_confusion_matrix(matriz_confusao,classes =['0', '1'], title='Matriz de confusão não normalizada', normalize=False)"
      ],
      "execution_count": 25,
      "outputs": [
        {
          "output_type": "display_data",
          "data": {
            "image/png": "[encoded data removed]",
            "text/plain": [
              "<Figure size 720x720 with 2 Axes>"
            ]
          },
          "metadata": {
            "tags": [],
            "needs_background": "light"
          }
        }
      ]
    },
    {
      "cell_type": "markdown",
      "metadata": {
        "id": "zpV-iZERUGO9"
      },
      "source": [
        "## **Random Forest**"
      ]
    },
    {
      "cell_type": "markdown",
      "metadata": {
        "id": "D-AhkQE0eDS6"
      },
      "source": [
        "**Normalização dos Dados**"
      ]
    },
    {
      "cell_type": "code",
      "metadata": {
        "id": "SAGKmkTozPMO"
      },
      "source": [
        "sc = StandardScaler()\n",
        "x_treino = sc.fit_transform(x_treino)\n",
        "x_teste = sc.transform(x_teste)"
      ],
      "execution_count": 26,
      "outputs": []
    },
    {
      "cell_type": "markdown",
      "metadata": {
        "id": "7Z02YgkJeScm"
      },
      "source": [
        "**Aplicação do Modelo**"
      ]
    },
    {
      "cell_type": "code",
      "metadata": {
        "id": "-dqf39I4zPMO"
      },
      "source": [
        "from sklearn.ensemble import RandomForestClassifier\n",
        "rfc = RandomForestClassifier(random_state=15, min_samples_leaf = 200)\n",
        "rfc.fit(x_treino,np.ravel(y_treino,order='C'))\n",
        "y_predicao = rfc.predict(x_teste)"
      ],
      "execution_count": 27,
      "outputs": []
    },
    {
      "cell_type": "markdown",
      "metadata": {
        "id": "ERZXg1XBeWCi"
      },
      "source": [
        "**Vizualização das Métricas**"
      ]
    },
    {
      "cell_type": "code",
      "metadata": {
        "id": "QECbSalVzPMP",
        "colab": {
          "base_uri": "https://localhost:8080/"
        },
        "outputId": "dc1fe506-5ec9-4394-8ea2-b628058e867f"
      },
      "source": [
        "print(metrics.classification_report(y_teste, y_predicao, target_names=['0','1']))\n",
        "print (\"Acurácia de Previsão:\", accuracy_score(y_teste, y_predicao))\n",
        "rf_resultado = accuracy_score(y_teste, y_predicao)"
      ],
      "execution_count": 28,
      "outputs": [
        {
          "output_type": "stream",
          "text": [
            "              precision    recall  f1-score   support\n",
            "\n",
            "           0       0.83      1.00      0.91   2338516\n",
            "           1       0.97      0.43      0.60    821697\n",
            "\n",
            "    accuracy                           0.85   3160213\n",
            "   macro avg       0.90      0.71      0.75   3160213\n",
            "weighted avg       0.87      0.85      0.83   3160213\n",
            "\n",
            "Acurácia de Previsão: 0.8491585851966308\n"
          ],
          "name": "stdout"
        }
      ]
    },
    {
      "cell_type": "code",
      "metadata": {
        "id": "vllgfnrXzPMQ",
        "colab": {
          "base_uri": "https://localhost:8080/"
        },
        "outputId": "5f65d58b-4c75-4b86-d31d-155082637327"
      },
      "source": [
        "rfc.get_params()"
      ],
      "execution_count": 29,
      "outputs": [
        {
          "output_type": "execute_result",
          "data": {
            "text/plain": [
              "{'bootstrap': True,\n",
              " 'ccp_alpha': 0.0,\n",
              " 'class_weight': None,\n",
              " 'criterion': 'gini',\n",
              " 'max_depth': None,\n",
              " 'max_features': 'auto',\n",
              " 'max_leaf_nodes': None,\n",
              " 'max_samples': None,\n",
              " 'min_impurity_decrease': 0.0,\n",
              " 'min_impurity_split': None,\n",
              " 'min_samples_leaf': 200,\n",
              " 'min_samples_split': 2,\n",
              " 'min_weight_fraction_leaf': 0.0,\n",
              " 'n_estimators': 100,\n",
              " 'n_jobs': None,\n",
              " 'oob_score': False,\n",
              " 'random_state': 15,\n",
              " 'verbose': 0,\n",
              " 'warm_start': False}"
            ]
          },
          "metadata": {
            "tags": []
          },
          "execution_count": 29
        }
      ]
    },
    {
      "cell_type": "markdown",
      "metadata": {
        "id": "F-lzNTXaeeM6"
      },
      "source": [
        "**Matriz de Confusão**"
      ]
    },
    {
      "cell_type": "code",
      "metadata": {
        "id": "7s5AVgEbzPMQ"
      },
      "source": [
        "cnf_matrix =  metrics.confusion_matrix(y_teste, y_predicao)"
      ],
      "execution_count": 30,
      "outputs": []
    },
    {
      "cell_type": "code",
      "metadata": {
        "id": "2nDOGp4OzPMQ"
      },
      "source": [
        "import itertools\n",
        "def plot_confusion_matrix(cm, classes, normalize=False, title='Confusion matrix', cmap=plt.cm.Blues):\n",
        "    if normalize: cm = cm.astype('float') / cm.sum(axis=1)[:, np.newaxis]\n",
        "\n",
        "    plt.imshow(cm, interpolation='nearest', cmap=cmap)\n",
        "    plt.title(title)\n",
        "    plt.colorbar()\n",
        "    tick_marks = np.arange(len(classes))\n",
        "    plt.xticks(tick_marks, classes, rotation=45)\n",
        "    plt.yticks(tick_marks, classes)\n",
        "\n",
        "    fmt = '.2f' if normalize else 'd'\n",
        "    thresh = cm.max() / 2.\n",
        "    for i, j in itertools.product(range(cm.shape[0]), range(cm.shape[1])): plt.text(j, i, format(cm[i, j], fmt), horizontalalignment=\"center\", color=\"white\" if cm[i, j] > thresh else \"black\")\n",
        "\n",
        "    plt.ylabel('True label')\n",
        "    plt.xlabel('Predicted label')\n",
        "    plt.tight_layout()\n"
      ],
      "execution_count": 31,
      "outputs": []
    },
    {
      "cell_type": "code",
      "metadata": {
        "scrolled": true,
        "id": "ukmJM292zPMR",
        "colab": {
          "base_uri": "https://localhost:8080/",
          "height": 729
        },
        "outputId": "c63e40ed-71b5-42a8-c87b-60e2c55b0f1b"
      },
      "source": [
        "plt.figure(figsize=(10, 10))\n",
        "plot_confusion_matrix(cnf_matrix,classes =['0', '1'], title='Matriz de confusão não normalizada', normalize=False)"
      ],
      "execution_count": 32,
      "outputs": [
        {
          "output_type": "display_data",
          "data": {
            "image/png": "[encoded data removed]",
            "text/plain": [
              "<Figure size 720x720 with 2 Axes>"
            ]
          },
          "metadata": {
            "tags": [],
            "needs_background": "light"
          }
        }
      ]
    },
    {
      "cell_type": "markdown",
      "metadata": {
        "id": "DxxBTZmSrCzz"
      },
      "source": [
        "## **Ranking dos Modelos**"
      ]
    },
    {
      "cell_type": "code",
      "metadata": {
        "id": "5M0xPlQTrCz0",
        "colab": {
          "base_uri": "https://localhost:8080/",
          "height": 109
        },
        "outputId": "44dad525-59d5-4c44-8c17-0c6e8cb8dd9a"
      },
      "source": [
        "ranking_modelos = pd.DataFrame({\n",
        "                                 'NOME DO MODELO': ['REGRESSÃO LOGÍSTICA', 'RANDOM FOREST'],\n",
        "                                 'RESULTADO': [lr_resultado, rf_resultado]})\n",
        "ranking_modelos"
      ],
      "execution_count": 33,
      "outputs": [
        {
          "output_type": "execute_result",
          "data": {
            "text/html": [
              "<div>\n",
              "<style scoped>\n",
              "    .dataframe tbody tr th:only-of-type {\n",
              "        vertical-align: middle;\n",
              "    }\n",
              "\n",
              "    .dataframe tbody tr th {\n",
              "        vertical-align: top;\n",
              "    }\n",
              "\n",
              "    .dataframe thead th {\n",
              "        text-align: right;\n",
              "    }\n",
              "</style>\n",
              "<table border=\"1\" class=\"dataframe\">\n",
              "  <thead>\n",
              "    <tr style=\"text-align: right;\">\n",
              "      <th></th>\n",
              "      <th>NOME DO MODELO</th>\n",
              "      <th>RESULTADO</th>\n",
              "    </tr>\n",
              "  </thead>\n",
              "  <tbody>\n",
              "    <tr>\n",
              "      <th>0</th>\n",
              "      <td>REGRESSÃO LOGÍSTICA</td>\n",
              "      <td>0.761242</td>\n",
              "    </tr>\n",
              "    <tr>\n",
              "      <th>1</th>\n",
              "      <td>RANDOM FOREST</td>\n",
              "      <td>0.849159</td>\n",
              "    </tr>\n",
              "  </tbody>\n",
              "</table>\n",
              "</div>"
            ],
            "text/plain": [
              "        NOME DO MODELO  RESULTADO\n",
              "0  REGRESSÃO LOGÍSTICA   0.761242\n",
              "1        RANDOM FOREST   0.849159"
            ]
          },
          "metadata": {
            "tags": []
          },
          "execution_count": 33
        }
      ]
    }
  ]
}