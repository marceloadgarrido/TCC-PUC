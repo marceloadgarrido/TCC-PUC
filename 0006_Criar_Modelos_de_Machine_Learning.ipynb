{
  "nbformat": 4,
  "nbformat_minor": 0,
  "metadata": {
    "colab": {
      "name": "0006_Criar_Modelos_de_Machine_Learning.ipynb",
      "provenance": [],
      "collapsed_sections": [],
      "machine_shape": "hm"
    },
    "kernelspec": {
      "display_name": "Python 3",
      "name": "python3"
    },
    "language_info": {
      "name": "python"
    }
  },
  "cells": [
    {
      "cell_type": "code",
      "metadata": {
        "id": "U9JO7W7dVtBm"
      },
      "source": [
        "import pandas as pd\n",
        "import numpy as np"
      ],
      "execution_count": 1,
      "outputs": []
    },
    {
      "cell_type": "code",
      "metadata": {
        "colab": {
          "base_uri": "https://localhost:8080/"
        },
        "id": "Gu1g4jnmV0zx",
        "outputId": "505cf0b7-149d-4573-a296-a693007d97fc"
      },
      "source": [
        "from google.colab import drive\n",
        "drive.mount('/content/drive')"
      ],
      "execution_count": 2,
      "outputs": [
        {
          "output_type": "stream",
          "text": [
            "Mounted at /content/drive\n"
          ],
          "name": "stdout"
        }
      ]
    },
    {
      "cell_type": "markdown",
      "metadata": {
        "id": "YKQ3OlOpgBAM"
      },
      "source": [
        "# **CARREGAMENTO DO DATASET**"
      ]
    },
    {
      "cell_type": "code",
      "metadata": {
        "id": "oLQQbiy5QpZX"
      },
      "source": [
        "cnpj_final_tratado = pd.read_csv('/content/drive/MyDrive/TCC - PUC/cnpj_final_tratado.csv',encoding='ISO-8859-1', sep=';' , header=0)"
      ],
      "execution_count": 3,
      "outputs": []
    },
    {
      "cell_type": "code",
      "metadata": {
        "colab": {
          "base_uri": "https://localhost:8080/"
        },
        "id": "hVZkHjaQ8d4L",
        "outputId": "51766cc6-bd09-4a21-ac0a-84f4f0f8a000"
      },
      "source": [
        "cnpj_final_tratado.shape"
      ],
      "execution_count": 4,
      "outputs": [
        {
          "output_type": "execute_result",
          "data": {
            "text/plain": [
              "(10534042, 28)"
            ]
          },
          "metadata": {
            "tags": []
          },
          "execution_count": 4
        }
      ]
    },
    {
      "cell_type": "code",
      "metadata": {
        "colab": {
          "base_uri": "https://localhost:8080/",
          "height": 217
        },
        "id": "YCjtvBNqWSjQ",
        "outputId": "ff7d68fb-b736-495c-90ce-57f23c17129a"
      },
      "source": [
        "cnpj_final_tratado.head()"
      ],
      "execution_count": 5,
      "outputs": [
        {
          "output_type": "execute_result",
          "data": {
            "text/html": [
              "<div>\n",
              "<style scoped>\n",
              "    .dataframe tbody tr th:only-of-type {\n",
              "        vertical-align: middle;\n",
              "    }\n",
              "\n",
              "    .dataframe tbody tr th {\n",
              "        vertical-align: top;\n",
              "    }\n",
              "\n",
              "    .dataframe thead th {\n",
              "        text-align: right;\n",
              "    }\n",
              "</style>\n",
              "<table border=\"1\" class=\"dataframe\">\n",
              "  <thead>\n",
              "    <tr style=\"text-align: right;\">\n",
              "      <th></th>\n",
              "      <th>capital_social</th>\n",
              "      <th>capital_social_faixas</th>\n",
              "      <th>situacao_cadastral_target</th>\n",
              "      <th>casosAcumulado_covid</th>\n",
              "      <th>obitosAcumulado_covid</th>\n",
              "      <th>casos_acumulados_porcentagem_covid</th>\n",
              "      <th>obitos_acumulados_porcentagem_covid</th>\n",
              "      <th>casos_acumulados_porcentagem_covid_faixas</th>\n",
              "      <th>obitos_acumulados_porcentagem_covid_faixas</th>\n",
              "      <th>idh_municipio</th>\n",
              "      <th>idh_educacao</th>\n",
              "      <th>idh_longevidade</th>\n",
              "      <th>idh_renda</th>\n",
              "      <th>idh_municipios_faixas</th>\n",
              "      <th>idh_educacao_municipios_faixas</th>\n",
              "      <th>idh_longevidade_municipios_faixas</th>\n",
              "      <th>idh_renda_municipios_faixas</th>\n",
              "      <th>pib_per_capita</th>\n",
              "      <th>pib_per_capita_faixas</th>\n",
              "      <th>matriz_filial_2</th>\n",
              "      <th>regiao_Nordeste</th>\n",
              "      <th>regiao_Norte</th>\n",
              "      <th>regiao_Sudeste</th>\n",
              "      <th>regiao_Sul</th>\n",
              "      <th>interior_metropolitana_1</th>\n",
              "      <th>le_estado</th>\n",
              "      <th>le_cnae_divisao</th>\n",
              "      <th>le_cnae_secao</th>\n",
              "    </tr>\n",
              "  </thead>\n",
              "  <tbody>\n",
              "    <tr>\n",
              "      <th>0</th>\n",
              "      <td>3500.0</td>\n",
              "      <td>1</td>\n",
              "      <td>1</td>\n",
              "      <td>199.0</td>\n",
              "      <td>9.0</td>\n",
              "      <td>0.029</td>\n",
              "      <td>0.001</td>\n",
              "      <td>0</td>\n",
              "      <td>0</td>\n",
              "      <td>0.789</td>\n",
              "      <td>0.716</td>\n",
              "      <td>0.776</td>\n",
              "      <td>0.885</td>\n",
              "      <td>7</td>\n",
              "      <td>7</td>\n",
              "      <td>7</td>\n",
              "      <td>8</td>\n",
              "      <td>54801.25</td>\n",
              "      <td>7</td>\n",
              "      <td>0</td>\n",
              "      <td>0</td>\n",
              "      <td>0</td>\n",
              "      <td>1</td>\n",
              "      <td>0</td>\n",
              "      <td>0</td>\n",
              "      <td>10</td>\n",
              "      <td>83</td>\n",
              "      <td>18</td>\n",
              "    </tr>\n",
              "    <tr>\n",
              "      <th>1</th>\n",
              "      <td>3000.0</td>\n",
              "      <td>1</td>\n",
              "      <td>1</td>\n",
              "      <td>38960.0</td>\n",
              "      <td>4716.0</td>\n",
              "      <td>0.580</td>\n",
              "      <td>0.070</td>\n",
              "      <td>5</td>\n",
              "      <td>2</td>\n",
              "      <td>0.799</td>\n",
              "      <td>0.719</td>\n",
              "      <td>0.840</td>\n",
              "      <td>0.845</td>\n",
              "      <td>7</td>\n",
              "      <td>7</td>\n",
              "      <td>8</td>\n",
              "      <td>8</td>\n",
              "      <td>54426.08</td>\n",
              "      <td>7</td>\n",
              "      <td>0</td>\n",
              "      <td>0</td>\n",
              "      <td>0</td>\n",
              "      <td>1</td>\n",
              "      <td>0</td>\n",
              "      <td>1</td>\n",
              "      <td>18</td>\n",
              "      <td>74</td>\n",
              "      <td>15</td>\n",
              "    </tr>\n",
              "    <tr>\n",
              "      <th>2</th>\n",
              "      <td>10000.0</td>\n",
              "      <td>2</td>\n",
              "      <td>1</td>\n",
              "      <td>1038.0</td>\n",
              "      <td>26.0</td>\n",
              "      <td>5.469</td>\n",
              "      <td>0.137</td>\n",
              "      <td>14</td>\n",
              "      <td>3</td>\n",
              "      <td>0.687</td>\n",
              "      <td>0.564</td>\n",
              "      <td>0.686</td>\n",
              "      <td>0.838</td>\n",
              "      <td>6</td>\n",
              "      <td>5</td>\n",
              "      <td>6</td>\n",
              "      <td>8</td>\n",
              "      <td>28312.72</td>\n",
              "      <td>4</td>\n",
              "      <td>0</td>\n",
              "      <td>0</td>\n",
              "      <td>0</td>\n",
              "      <td>0</td>\n",
              "      <td>1</td>\n",
              "      <td>0</td>\n",
              "      <td>17</td>\n",
              "      <td>42</td>\n",
              "      <td>6</td>\n",
              "    </tr>\n",
              "    <tr>\n",
              "      <th>3</th>\n",
              "      <td>5000.0</td>\n",
              "      <td>1</td>\n",
              "      <td>1</td>\n",
              "      <td>13239.0</td>\n",
              "      <td>354.0</td>\n",
              "      <td>10.893</td>\n",
              "      <td>0.291</td>\n",
              "      <td>18</td>\n",
              "      <td>7</td>\n",
              "      <td>0.759</td>\n",
              "      <td>0.705</td>\n",
              "      <td>0.735</td>\n",
              "      <td>0.845</td>\n",
              "      <td>7</td>\n",
              "      <td>7</td>\n",
              "      <td>7</td>\n",
              "      <td>8</td>\n",
              "      <td>27802.88</td>\n",
              "      <td>4</td>\n",
              "      <td>0</td>\n",
              "      <td>0</td>\n",
              "      <td>0</td>\n",
              "      <td>1</td>\n",
              "      <td>0</td>\n",
              "      <td>0</td>\n",
              "      <td>25</td>\n",
              "      <td>8</td>\n",
              "      <td>2</td>\n",
              "    </tr>\n",
              "    <tr>\n",
              "      <th>4</th>\n",
              "      <td>100000.0</td>\n",
              "      <td>6</td>\n",
              "      <td>1</td>\n",
              "      <td>24446.0</td>\n",
              "      <td>926.0</td>\n",
              "      <td>1.648</td>\n",
              "      <td>0.062</td>\n",
              "      <td>7</td>\n",
              "      <td>2</td>\n",
              "      <td>0.805</td>\n",
              "      <td>0.702</td>\n",
              "      <td>0.867</td>\n",
              "      <td>0.857</td>\n",
              "      <td>8</td>\n",
              "      <td>7</td>\n",
              "      <td>8</td>\n",
              "      <td>8</td>\n",
              "      <td>52149.66</td>\n",
              "      <td>7</td>\n",
              "      <td>0</td>\n",
              "      <td>0</td>\n",
              "      <td>0</td>\n",
              "      <td>0</td>\n",
              "      <td>1</td>\n",
              "      <td>1</td>\n",
              "      <td>22</td>\n",
              "      <td>75</td>\n",
              "      <td>16</td>\n",
              "    </tr>\n",
              "  </tbody>\n",
              "</table>\n",
              "</div>"
            ],
            "text/plain": [
              "   capital_social  capital_social_faixas  ...  le_cnae_divisao  le_cnae_secao\n",
              "0          3500.0                      1  ...               83             18\n",
              "1          3000.0                      1  ...               74             15\n",
              "2         10000.0                      2  ...               42              6\n",
              "3          5000.0                      1  ...                8              2\n",
              "4        100000.0                      6  ...               75             16\n",
              "\n",
              "[5 rows x 28 columns]"
            ]
          },
          "metadata": {
            "tags": []
          },
          "execution_count": 5
        }
      ]
    },
    {
      "cell_type": "code",
      "metadata": {
        "colab": {
          "base_uri": "https://localhost:8080/"
        },
        "id": "vB0TzyZw68fH",
        "outputId": "550558bc-1c0e-49ab-c93d-cfe68de97a42"
      },
      "source": [
        "cnpj_final_tratado.dtypes"
      ],
      "execution_count": 6,
      "outputs": [
        {
          "output_type": "execute_result",
          "data": {
            "text/plain": [
              "capital_social                                float64\n",
              "capital_social_faixas                           int64\n",
              "situacao_cadastral_target                       int64\n",
              "casosAcumulado_covid                          float64\n",
              "obitosAcumulado_covid                         float64\n",
              "casos_acumulados_porcentagem_covid            float64\n",
              "obitos_acumulados_porcentagem_covid           float64\n",
              "casos_acumulados_porcentagem_covid_faixas       int64\n",
              "obitos_acumulados_porcentagem_covid_faixas      int64\n",
              "idh_municipio                                 float64\n",
              "idh_educacao                                  float64\n",
              "idh_longevidade                               float64\n",
              "idh_renda                                     float64\n",
              "idh_municipios_faixas                           int64\n",
              "idh_educacao_municipios_faixas                  int64\n",
              "idh_longevidade_municipios_faixas               int64\n",
              "idh_renda_municipios_faixas                     int64\n",
              "pib_per_capita                                float64\n",
              "pib_per_capita_faixas                           int64\n",
              "matriz_filial_2                                 int64\n",
              "regiao_Nordeste                                 int64\n",
              "regiao_Norte                                    int64\n",
              "regiao_Sudeste                                  int64\n",
              "regiao_Sul                                      int64\n",
              "interior_metropolitana_1                        int64\n",
              "le_estado                                       int64\n",
              "le_cnae_divisao                                 int64\n",
              "le_cnae_secao                                   int64\n",
              "dtype: object"
            ]
          },
          "metadata": {
            "tags": []
          },
          "execution_count": 6
        }
      ]
    },
    {
      "cell_type": "markdown",
      "metadata": {
        "id": "zu1h3FUD7BQH"
      },
      "source": [
        "#**DEFININDO OS DATASETS COM AS VARIÁVEIS EXPLICATIVAS E VARIÁVEL ALVO**"
      ]
    },
    {
      "cell_type": "code",
      "metadata": {
        "id": "ljnaXxbf38Tt"
      },
      "source": [
        "cnpj_final_explicativas = cnpj_final_tratado.drop(columns=['situacao_cadastral_target'])\n",
        "cnpj_final_alvo = cnpj_final_tratado['situacao_cadastral_target']"
      ],
      "execution_count": 7,
      "outputs": []
    },
    {
      "cell_type": "code",
      "metadata": {
        "colab": {
          "base_uri": "https://localhost:8080/",
          "height": 217
        },
        "id": "kb0ybnG-4ybw",
        "outputId": "95a07d2a-0bfb-4772-e359-d6c0836cd9f5"
      },
      "source": [
        "cnpj_final_explicativas.head()"
      ],
      "execution_count": 8,
      "outputs": [
        {
          "output_type": "execute_result",
          "data": {
            "text/html": [
              "<div>\n",
              "<style scoped>\n",
              "    .dataframe tbody tr th:only-of-type {\n",
              "        vertical-align: middle;\n",
              "    }\n",
              "\n",
              "    .dataframe tbody tr th {\n",
              "        vertical-align: top;\n",
              "    }\n",
              "\n",
              "    .dataframe thead th {\n",
              "        text-align: right;\n",
              "    }\n",
              "</style>\n",
              "<table border=\"1\" class=\"dataframe\">\n",
              "  <thead>\n",
              "    <tr style=\"text-align: right;\">\n",
              "      <th></th>\n",
              "      <th>capital_social</th>\n",
              "      <th>capital_social_faixas</th>\n",
              "      <th>casosAcumulado_covid</th>\n",
              "      <th>obitosAcumulado_covid</th>\n",
              "      <th>casos_acumulados_porcentagem_covid</th>\n",
              "      <th>obitos_acumulados_porcentagem_covid</th>\n",
              "      <th>casos_acumulados_porcentagem_covid_faixas</th>\n",
              "      <th>obitos_acumulados_porcentagem_covid_faixas</th>\n",
              "      <th>idh_municipio</th>\n",
              "      <th>idh_educacao</th>\n",
              "      <th>idh_longevidade</th>\n",
              "      <th>idh_renda</th>\n",
              "      <th>idh_municipios_faixas</th>\n",
              "      <th>idh_educacao_municipios_faixas</th>\n",
              "      <th>idh_longevidade_municipios_faixas</th>\n",
              "      <th>idh_renda_municipios_faixas</th>\n",
              "      <th>pib_per_capita</th>\n",
              "      <th>pib_per_capita_faixas</th>\n",
              "      <th>matriz_filial_2</th>\n",
              "      <th>regiao_Nordeste</th>\n",
              "      <th>regiao_Norte</th>\n",
              "      <th>regiao_Sudeste</th>\n",
              "      <th>regiao_Sul</th>\n",
              "      <th>interior_metropolitana_1</th>\n",
              "      <th>le_estado</th>\n",
              "      <th>le_cnae_divisao</th>\n",
              "      <th>le_cnae_secao</th>\n",
              "    </tr>\n",
              "  </thead>\n",
              "  <tbody>\n",
              "    <tr>\n",
              "      <th>0</th>\n",
              "      <td>3500.0</td>\n",
              "      <td>1</td>\n",
              "      <td>199.0</td>\n",
              "      <td>9.0</td>\n",
              "      <td>0.029</td>\n",
              "      <td>0.001</td>\n",
              "      <td>0</td>\n",
              "      <td>0</td>\n",
              "      <td>0.789</td>\n",
              "      <td>0.716</td>\n",
              "      <td>0.776</td>\n",
              "      <td>0.885</td>\n",
              "      <td>7</td>\n",
              "      <td>7</td>\n",
              "      <td>7</td>\n",
              "      <td>8</td>\n",
              "      <td>54801.25</td>\n",
              "      <td>7</td>\n",
              "      <td>0</td>\n",
              "      <td>0</td>\n",
              "      <td>0</td>\n",
              "      <td>1</td>\n",
              "      <td>0</td>\n",
              "      <td>0</td>\n",
              "      <td>10</td>\n",
              "      <td>83</td>\n",
              "      <td>18</td>\n",
              "    </tr>\n",
              "    <tr>\n",
              "      <th>1</th>\n",
              "      <td>3000.0</td>\n",
              "      <td>1</td>\n",
              "      <td>38960.0</td>\n",
              "      <td>4716.0</td>\n",
              "      <td>0.580</td>\n",
              "      <td>0.070</td>\n",
              "      <td>5</td>\n",
              "      <td>2</td>\n",
              "      <td>0.799</td>\n",
              "      <td>0.719</td>\n",
              "      <td>0.840</td>\n",
              "      <td>0.845</td>\n",
              "      <td>7</td>\n",
              "      <td>7</td>\n",
              "      <td>8</td>\n",
              "      <td>8</td>\n",
              "      <td>54426.08</td>\n",
              "      <td>7</td>\n",
              "      <td>0</td>\n",
              "      <td>0</td>\n",
              "      <td>0</td>\n",
              "      <td>1</td>\n",
              "      <td>0</td>\n",
              "      <td>1</td>\n",
              "      <td>18</td>\n",
              "      <td>74</td>\n",
              "      <td>15</td>\n",
              "    </tr>\n",
              "    <tr>\n",
              "      <th>2</th>\n",
              "      <td>10000.0</td>\n",
              "      <td>2</td>\n",
              "      <td>1038.0</td>\n",
              "      <td>26.0</td>\n",
              "      <td>5.469</td>\n",
              "      <td>0.137</td>\n",
              "      <td>14</td>\n",
              "      <td>3</td>\n",
              "      <td>0.687</td>\n",
              "      <td>0.564</td>\n",
              "      <td>0.686</td>\n",
              "      <td>0.838</td>\n",
              "      <td>6</td>\n",
              "      <td>5</td>\n",
              "      <td>6</td>\n",
              "      <td>8</td>\n",
              "      <td>28312.72</td>\n",
              "      <td>4</td>\n",
              "      <td>0</td>\n",
              "      <td>0</td>\n",
              "      <td>0</td>\n",
              "      <td>0</td>\n",
              "      <td>1</td>\n",
              "      <td>0</td>\n",
              "      <td>17</td>\n",
              "      <td>42</td>\n",
              "      <td>6</td>\n",
              "    </tr>\n",
              "    <tr>\n",
              "      <th>3</th>\n",
              "      <td>5000.0</td>\n",
              "      <td>1</td>\n",
              "      <td>13239.0</td>\n",
              "      <td>354.0</td>\n",
              "      <td>10.893</td>\n",
              "      <td>0.291</td>\n",
              "      <td>18</td>\n",
              "      <td>7</td>\n",
              "      <td>0.759</td>\n",
              "      <td>0.705</td>\n",
              "      <td>0.735</td>\n",
              "      <td>0.845</td>\n",
              "      <td>7</td>\n",
              "      <td>7</td>\n",
              "      <td>7</td>\n",
              "      <td>8</td>\n",
              "      <td>27802.88</td>\n",
              "      <td>4</td>\n",
              "      <td>0</td>\n",
              "      <td>0</td>\n",
              "      <td>0</td>\n",
              "      <td>1</td>\n",
              "      <td>0</td>\n",
              "      <td>0</td>\n",
              "      <td>25</td>\n",
              "      <td>8</td>\n",
              "      <td>2</td>\n",
              "    </tr>\n",
              "    <tr>\n",
              "      <th>4</th>\n",
              "      <td>100000.0</td>\n",
              "      <td>6</td>\n",
              "      <td>24446.0</td>\n",
              "      <td>926.0</td>\n",
              "      <td>1.648</td>\n",
              "      <td>0.062</td>\n",
              "      <td>7</td>\n",
              "      <td>2</td>\n",
              "      <td>0.805</td>\n",
              "      <td>0.702</td>\n",
              "      <td>0.867</td>\n",
              "      <td>0.857</td>\n",
              "      <td>8</td>\n",
              "      <td>7</td>\n",
              "      <td>8</td>\n",
              "      <td>8</td>\n",
              "      <td>52149.66</td>\n",
              "      <td>7</td>\n",
              "      <td>0</td>\n",
              "      <td>0</td>\n",
              "      <td>0</td>\n",
              "      <td>0</td>\n",
              "      <td>1</td>\n",
              "      <td>1</td>\n",
              "      <td>22</td>\n",
              "      <td>75</td>\n",
              "      <td>16</td>\n",
              "    </tr>\n",
              "  </tbody>\n",
              "</table>\n",
              "</div>"
            ],
            "text/plain": [
              "   capital_social  capital_social_faixas  ...  le_cnae_divisao  le_cnae_secao\n",
              "0          3500.0                      1  ...               83             18\n",
              "1          3000.0                      1  ...               74             15\n",
              "2         10000.0                      2  ...               42              6\n",
              "3          5000.0                      1  ...                8              2\n",
              "4        100000.0                      6  ...               75             16\n",
              "\n",
              "[5 rows x 27 columns]"
            ]
          },
          "metadata": {
            "tags": []
          },
          "execution_count": 8
        }
      ]
    },
    {
      "cell_type": "code",
      "metadata": {
        "colab": {
          "base_uri": "https://localhost:8080/"
        },
        "id": "V9ENozFg-Nza",
        "outputId": "129da4e6-9a1e-43f4-b175-031f704dfe6c"
      },
      "source": [
        "cnpj_final_alvo.head()"
      ],
      "execution_count": 9,
      "outputs": [
        {
          "output_type": "execute_result",
          "data": {
            "text/plain": [
              "0    1\n",
              "1    1\n",
              "2    1\n",
              "3    1\n",
              "4    1\n",
              "Name: situacao_cadastral_target, dtype: int64"
            ]
          },
          "metadata": {
            "tags": []
          },
          "execution_count": 9
        }
      ]
    },
    {
      "cell_type": "markdown",
      "metadata": {
        "id": "NpfQZG91CDjs"
      },
      "source": [
        "#  **PROCESSO DE SELEÇÃO DAS MELHORES VARIÁVEIS PARA O MODELO**"
      ]
    },
    {
      "cell_type": "markdown",
      "metadata": {
        "id": "iMAZ9UYjlI9G"
      },
      "source": [
        "## **Filtro**\n",
        "Este método avalia os atributos individualmente\n",
        "usando a medida χ2 com relação à classe"
      ]
    },
    {
      "cell_type": "code",
      "metadata": {
        "id": "dHovknGl5-HE"
      },
      "source": [
        "from sklearn.feature_selection import SelectKBest\n",
        "from sklearn.feature_selection import chi2"
      ],
      "execution_count": 10,
      "outputs": []
    },
    {
      "cell_type": "code",
      "metadata": {
        "colab": {
          "base_uri": "https://localhost:8080/"
        },
        "id": "8IThNBLh6AHt",
        "outputId": "bddc9519-0312-4b18-a527-c24ff9e3e458"
      },
      "source": [
        "chi_selector = SelectKBest(chi2,\n",
        "                           k=5) # define o número de variáveis selecionadas no filtro\n",
        "chi_selector"
      ],
      "execution_count": 11,
      "outputs": [
        {
          "output_type": "execute_result",
          "data": {
            "text/plain": [
              "SelectKBest(k=5, score_func=<function chi2 at 0x7f11a2fec7a0>)"
            ]
          },
          "metadata": {
            "tags": []
          },
          "execution_count": 11
        }
      ]
    },
    {
      "cell_type": "code",
      "metadata": {
        "colab": {
          "base_uri": "https://localhost:8080/"
        },
        "id": "lSkdlffG6OgV",
        "outputId": "4103aac7-7af5-4c61-d708-ed013ab3f426"
      },
      "source": [
        "chi_selector.fit(cnpj_final_explicativas, cnpj_final_alvo)"
      ],
      "execution_count": 12,
      "outputs": [
        {
          "output_type": "execute_result",
          "data": {
            "text/plain": [
              "SelectKBest(k=5, score_func=<function chi2 at 0x7f11a2fec7a0>)"
            ]
          },
          "metadata": {
            "tags": []
          },
          "execution_count": 12
        }
      ]
    },
    {
      "cell_type": "code",
      "metadata": {
        "colab": {
          "base_uri": "https://localhost:8080/"
        },
        "id": "UwNURcmJPg1p",
        "outputId": "e36bceb0-ab8f-44c8-c421-4175cc2ea5b8"
      },
      "source": [
        "chi_support  = chi_selector.get_support()\n",
        "chi_feature = cnpj_final_explicativas.loc[:,chi_support].columns.tolist()\n",
        "print(' Variávei selecionadas:')\n",
        "print(chi_feature)"
      ],
      "execution_count": 13,
      "outputs": [
        {
          "output_type": "stream",
          "text": [
            " Variávei selecionadas:\n",
            "['capital_social', 'casosAcumulado_covid', 'obitosAcumulado_covid', 'casos_acumulados_porcentagem_covid', 'casos_acumulados_porcentagem_covid_faixas']\n"
          ],
          "name": "stdout"
        }
      ]
    },
    {
      "cell_type": "markdown",
      "metadata": {
        "id": "EvvRGsXslNjc"
      },
      "source": [
        "##  **Wrapper (Empacotado)**\n",
        "Este método utiliza regressão logística para seleção de variáveis. O processo de escolha do subconjunto de atributos está “empacotado” junto com o algoritmo\n",
        "de aprendizado sendo utilizado"
      ]
    },
    {
      "cell_type": "code",
      "metadata": {
        "colab": {
          "base_uri": "https://localhost:8080/"
        },
        "id": "qNAs3k5nlFGe",
        "outputId": "0afc34be-bbb6-4b2e-b9a0-21e8b245ffb0"
      },
      "source": [
        "from sklearn.feature_selection import RFE  \n",
        "from sklearn.linear_model import LogisticRegression\n",
        "\n",
        "rfe_selector = RFE(estimator=LogisticRegression(random_state=69),\n",
        "                  step=10,\n",
        "                  n_features_to_select=5)\n",
        "rfe_selector.fit(cnpj_final_explicativas, cnpj_final_alvo)\n",
        "rfe_support = rfe_selector.get_support()\n",
        "rfe_feature = cnpj_final_explicativas.loc[:,rfe_support].columns.tolist()\n",
        "\n",
        "print('Variáveis selecionadas:')\n",
        "print(rfe_feature)"
      ],
      "execution_count": 14,
      "outputs": [
        {
          "output_type": "stream",
          "text": [
            "Variáveis selecionadas:\n",
            "['casos_acumulados_porcentagem_covid', 'casos_acumulados_porcentagem_covid_faixas', 'obitos_acumulados_porcentagem_covid_faixas', 'idh_longevidade_municipios_faixas', 'idh_renda_municipios_faixas']\n"
          ],
          "name": "stdout"
        }
      ]
    },
    {
      "cell_type": "markdown",
      "metadata": {
        "id": "9768MHWsnUMW"
      },
      "source": [
        "## **Embedded (Embutido)**\n",
        "Determinação de relevância. Este método usa RandomForest para selecionar as variáveis"
      ]
    },
    {
      "cell_type": "code",
      "metadata": {
        "colab": {
          "base_uri": "https://localhost:8080/"
        },
        "id": "E3lwAGnvlFMu",
        "outputId": "f668e99f-906d-4f39-a06b-5a88df19e5ba"
      },
      "source": [
        "from sklearn.feature_selection import SelectFromModel\n",
        "from sklearn.ensemble import RandomForestClassifier\n",
        "\n",
        "emb_selector = SelectFromModel(RandomForestClassifier(random_state=42))\n",
        "emb_selector.fit(cnpj_final_explicativas, cnpj_final_alvo)\n",
        "emb_support = emb_selector.get_support()\n",
        "emb_feature = cnpj_final_explicativas.loc[:,emb_support].columns.tolist()\n",
        "\n",
        "print('Variáveis selecionadas:')\n",
        "print(emb_feature)"
      ],
      "execution_count": 15,
      "outputs": [
        {
          "output_type": "stream",
          "text": [
            "Variáveis selecionadas:\n",
            "['capital_social', 'casosAcumulado_covid', 'obitosAcumulado_covid', 'casos_acumulados_porcentagem_covid', 'obitos_acumulados_porcentagem_covid', 'casos_acumulados_porcentagem_covid_faixas', 'obitos_acumulados_porcentagem_covid_faixas', 'idh_municipio', 'idh_longevidade', 'le_cnae_divisao']\n"
          ],
          "name": "stdout"
        }
      ]
    },
    {
      "cell_type": "markdown",
      "metadata": {
        "id": "RcXcUnVKGW8p"
      },
      "source": [
        "## **Ranking das variáveis selecionadas**"
      ]
    },
    {
      "cell_type": "code",
      "metadata": {
        "colab": {
          "base_uri": "https://localhost:8080/",
          "height": 857
        },
        "id": "JsezCkW5lFR1",
        "outputId": "85c2b667-2105-4e35-c9de-ecfc07f0e57c"
      },
      "source": [
        "ranking_variaveis = pd.DataFrame({'Número e Nome da Variável': cnpj_final_explicativas.columns,\n",
        "                                    'Chi-2':chi_support, \n",
        "                                    'Recursive Feature Elimination': rfe_support, \n",
        "                                    'RandomForest':emb_support}) \n",
        "ranking_variaveis['Total de Verdadeiros'] = np.sum(ranking_variaveis, axis=1)                                     \n",
        "ranking_variaveis = ranking_variaveis.sort_values(['Total de Verdadeiros','Número e Nome da Variável'], ascending=False)\n",
        "ranking_variaveis"
      ],
      "execution_count": 16,
      "outputs": [
        {
          "output_type": "execute_result",
          "data": {
            "text/html": [
              "<div>\n",
              "<style scoped>\n",
              "    .dataframe tbody tr th:only-of-type {\n",
              "        vertical-align: middle;\n",
              "    }\n",
              "\n",
              "    .dataframe tbody tr th {\n",
              "        vertical-align: top;\n",
              "    }\n",
              "\n",
              "    .dataframe thead th {\n",
              "        text-align: right;\n",
              "    }\n",
              "</style>\n",
              "<table border=\"1\" class=\"dataframe\">\n",
              "  <thead>\n",
              "    <tr style=\"text-align: right;\">\n",
              "      <th></th>\n",
              "      <th>Número e Nome da Variável</th>\n",
              "      <th>Chi-2</th>\n",
              "      <th>Recursive Feature Elimination</th>\n",
              "      <th>RandomForest</th>\n",
              "      <th>Total de Verdadeiros</th>\n",
              "    </tr>\n",
              "  </thead>\n",
              "  <tbody>\n",
              "    <tr>\n",
              "      <th>6</th>\n",
              "      <td>casos_acumulados_porcentagem_covid_faixas</td>\n",
              "      <td>True</td>\n",
              "      <td>True</td>\n",
              "      <td>True</td>\n",
              "      <td>3</td>\n",
              "    </tr>\n",
              "    <tr>\n",
              "      <th>4</th>\n",
              "      <td>casos_acumulados_porcentagem_covid</td>\n",
              "      <td>True</td>\n",
              "      <td>True</td>\n",
              "      <td>True</td>\n",
              "      <td>3</td>\n",
              "    </tr>\n",
              "    <tr>\n",
              "      <th>7</th>\n",
              "      <td>obitos_acumulados_porcentagem_covid_faixas</td>\n",
              "      <td>False</td>\n",
              "      <td>True</td>\n",
              "      <td>True</td>\n",
              "      <td>2</td>\n",
              "    </tr>\n",
              "    <tr>\n",
              "      <th>3</th>\n",
              "      <td>obitosAcumulado_covid</td>\n",
              "      <td>True</td>\n",
              "      <td>False</td>\n",
              "      <td>True</td>\n",
              "      <td>2</td>\n",
              "    </tr>\n",
              "    <tr>\n",
              "      <th>2</th>\n",
              "      <td>casosAcumulado_covid</td>\n",
              "      <td>True</td>\n",
              "      <td>False</td>\n",
              "      <td>True</td>\n",
              "      <td>2</td>\n",
              "    </tr>\n",
              "    <tr>\n",
              "      <th>0</th>\n",
              "      <td>capital_social</td>\n",
              "      <td>True</td>\n",
              "      <td>False</td>\n",
              "      <td>True</td>\n",
              "      <td>2</td>\n",
              "    </tr>\n",
              "    <tr>\n",
              "      <th>5</th>\n",
              "      <td>obitos_acumulados_porcentagem_covid</td>\n",
              "      <td>False</td>\n",
              "      <td>False</td>\n",
              "      <td>True</td>\n",
              "      <td>1</td>\n",
              "    </tr>\n",
              "    <tr>\n",
              "      <th>25</th>\n",
              "      <td>le_cnae_divisao</td>\n",
              "      <td>False</td>\n",
              "      <td>False</td>\n",
              "      <td>True</td>\n",
              "      <td>1</td>\n",
              "    </tr>\n",
              "    <tr>\n",
              "      <th>15</th>\n",
              "      <td>idh_renda_municipios_faixas</td>\n",
              "      <td>False</td>\n",
              "      <td>True</td>\n",
              "      <td>False</td>\n",
              "      <td>1</td>\n",
              "    </tr>\n",
              "    <tr>\n",
              "      <th>8</th>\n",
              "      <td>idh_municipio</td>\n",
              "      <td>False</td>\n",
              "      <td>False</td>\n",
              "      <td>True</td>\n",
              "      <td>1</td>\n",
              "    </tr>\n",
              "    <tr>\n",
              "      <th>14</th>\n",
              "      <td>idh_longevidade_municipios_faixas</td>\n",
              "      <td>False</td>\n",
              "      <td>True</td>\n",
              "      <td>False</td>\n",
              "      <td>1</td>\n",
              "    </tr>\n",
              "    <tr>\n",
              "      <th>10</th>\n",
              "      <td>idh_longevidade</td>\n",
              "      <td>False</td>\n",
              "      <td>False</td>\n",
              "      <td>True</td>\n",
              "      <td>1</td>\n",
              "    </tr>\n",
              "    <tr>\n",
              "      <th>22</th>\n",
              "      <td>regiao_Sul</td>\n",
              "      <td>False</td>\n",
              "      <td>False</td>\n",
              "      <td>False</td>\n",
              "      <td>0</td>\n",
              "    </tr>\n",
              "    <tr>\n",
              "      <th>21</th>\n",
              "      <td>regiao_Sudeste</td>\n",
              "      <td>False</td>\n",
              "      <td>False</td>\n",
              "      <td>False</td>\n",
              "      <td>0</td>\n",
              "    </tr>\n",
              "    <tr>\n",
              "      <th>20</th>\n",
              "      <td>regiao_Norte</td>\n",
              "      <td>False</td>\n",
              "      <td>False</td>\n",
              "      <td>False</td>\n",
              "      <td>0</td>\n",
              "    </tr>\n",
              "    <tr>\n",
              "      <th>19</th>\n",
              "      <td>regiao_Nordeste</td>\n",
              "      <td>False</td>\n",
              "      <td>False</td>\n",
              "      <td>False</td>\n",
              "      <td>0</td>\n",
              "    </tr>\n",
              "    <tr>\n",
              "      <th>17</th>\n",
              "      <td>pib_per_capita_faixas</td>\n",
              "      <td>False</td>\n",
              "      <td>False</td>\n",
              "      <td>False</td>\n",
              "      <td>0</td>\n",
              "    </tr>\n",
              "    <tr>\n",
              "      <th>16</th>\n",
              "      <td>pib_per_capita</td>\n",
              "      <td>False</td>\n",
              "      <td>False</td>\n",
              "      <td>False</td>\n",
              "      <td>0</td>\n",
              "    </tr>\n",
              "    <tr>\n",
              "      <th>18</th>\n",
              "      <td>matriz_filial_2</td>\n",
              "      <td>False</td>\n",
              "      <td>False</td>\n",
              "      <td>False</td>\n",
              "      <td>0</td>\n",
              "    </tr>\n",
              "    <tr>\n",
              "      <th>24</th>\n",
              "      <td>le_estado</td>\n",
              "      <td>False</td>\n",
              "      <td>False</td>\n",
              "      <td>False</td>\n",
              "      <td>0</td>\n",
              "    </tr>\n",
              "    <tr>\n",
              "      <th>26</th>\n",
              "      <td>le_cnae_secao</td>\n",
              "      <td>False</td>\n",
              "      <td>False</td>\n",
              "      <td>False</td>\n",
              "      <td>0</td>\n",
              "    </tr>\n",
              "    <tr>\n",
              "      <th>23</th>\n",
              "      <td>interior_metropolitana_1</td>\n",
              "      <td>False</td>\n",
              "      <td>False</td>\n",
              "      <td>False</td>\n",
              "      <td>0</td>\n",
              "    </tr>\n",
              "    <tr>\n",
              "      <th>11</th>\n",
              "      <td>idh_renda</td>\n",
              "      <td>False</td>\n",
              "      <td>False</td>\n",
              "      <td>False</td>\n",
              "      <td>0</td>\n",
              "    </tr>\n",
              "    <tr>\n",
              "      <th>12</th>\n",
              "      <td>idh_municipios_faixas</td>\n",
              "      <td>False</td>\n",
              "      <td>False</td>\n",
              "      <td>False</td>\n",
              "      <td>0</td>\n",
              "    </tr>\n",
              "    <tr>\n",
              "      <th>13</th>\n",
              "      <td>idh_educacao_municipios_faixas</td>\n",
              "      <td>False</td>\n",
              "      <td>False</td>\n",
              "      <td>False</td>\n",
              "      <td>0</td>\n",
              "    </tr>\n",
              "    <tr>\n",
              "      <th>9</th>\n",
              "      <td>idh_educacao</td>\n",
              "      <td>False</td>\n",
              "      <td>False</td>\n",
              "      <td>False</td>\n",
              "      <td>0</td>\n",
              "    </tr>\n",
              "    <tr>\n",
              "      <th>1</th>\n",
              "      <td>capital_social_faixas</td>\n",
              "      <td>False</td>\n",
              "      <td>False</td>\n",
              "      <td>False</td>\n",
              "      <td>0</td>\n",
              "    </tr>\n",
              "  </tbody>\n",
              "</table>\n",
              "</div>"
            ],
            "text/plain": [
              "                     Número e Nome da Variável  ...  Total de Verdadeiros\n",
              "6    casos_acumulados_porcentagem_covid_faixas  ...                     3\n",
              "4           casos_acumulados_porcentagem_covid  ...                     3\n",
              "7   obitos_acumulados_porcentagem_covid_faixas  ...                     2\n",
              "3                        obitosAcumulado_covid  ...                     2\n",
              "2                         casosAcumulado_covid  ...                     2\n",
              "0                               capital_social  ...                     2\n",
              "5          obitos_acumulados_porcentagem_covid  ...                     1\n",
              "25                             le_cnae_divisao  ...                     1\n",
              "15                 idh_renda_municipios_faixas  ...                     1\n",
              "8                                idh_municipio  ...                     1\n",
              "14           idh_longevidade_municipios_faixas  ...                     1\n",
              "10                             idh_longevidade  ...                     1\n",
              "22                                  regiao_Sul  ...                     0\n",
              "21                              regiao_Sudeste  ...                     0\n",
              "20                                regiao_Norte  ...                     0\n",
              "19                             regiao_Nordeste  ...                     0\n",
              "17                       pib_per_capita_faixas  ...                     0\n",
              "16                              pib_per_capita  ...                     0\n",
              "18                             matriz_filial_2  ...                     0\n",
              "24                                   le_estado  ...                     0\n",
              "26                               le_cnae_secao  ...                     0\n",
              "23                    interior_metropolitana_1  ...                     0\n",
              "11                                   idh_renda  ...                     0\n",
              "12                       idh_municipios_faixas  ...                     0\n",
              "13              idh_educacao_municipios_faixas  ...                     0\n",
              "9                                 idh_educacao  ...                     0\n",
              "1                        capital_social_faixas  ...                     0\n",
              "\n",
              "[27 rows x 5 columns]"
            ]
          },
          "metadata": {
            "tags": []
          },
          "execution_count": 16
        }
      ]
    },
    {
      "cell_type": "markdown",
      "metadata": {
        "id": "AYTXOfDJ33MV"
      },
      "source": [
        "# **CRIAÇÃO DE DATASET COM VARIAVEIS SELECIONADAS**\n",
        "\n",
        "**Seleção das variáveis**"
      ]
    },
    {
      "cell_type": "code",
      "metadata": {
        "id": "WP-5jXFsfzak"
      },
      "source": [
        "explicativas = cnpj_final_explicativas[['casos_acumulados_porcentagem_covid_faixas', 'casos_acumulados_porcentagem_covid',\n",
        "                                        'obitos_acumulados_porcentagem_covid_faixas','obitosAcumulado_covid','casosAcumulado_covid']]"
      ],
      "execution_count": 17,
      "outputs": []
    },
    {
      "cell_type": "code",
      "metadata": {
        "colab": {
          "base_uri": "https://localhost:8080/",
          "height": 197
        },
        "id": "gqWCykIY3TD1",
        "outputId": "34c2547d-bd63-41e8-9648-ae80ae93f416"
      },
      "source": [
        "explicativas.head()"
      ],
      "execution_count": 18,
      "outputs": [
        {
          "output_type": "execute_result",
          "data": {
            "text/html": [
              "<div>\n",
              "<style scoped>\n",
              "    .dataframe tbody tr th:only-of-type {\n",
              "        vertical-align: middle;\n",
              "    }\n",
              "\n",
              "    .dataframe tbody tr th {\n",
              "        vertical-align: top;\n",
              "    }\n",
              "\n",
              "    .dataframe thead th {\n",
              "        text-align: right;\n",
              "    }\n",
              "</style>\n",
              "<table border=\"1\" class=\"dataframe\">\n",
              "  <thead>\n",
              "    <tr style=\"text-align: right;\">\n",
              "      <th></th>\n",
              "      <th>casos_acumulados_porcentagem_covid_faixas</th>\n",
              "      <th>casos_acumulados_porcentagem_covid</th>\n",
              "      <th>obitos_acumulados_porcentagem_covid_faixas</th>\n",
              "      <th>obitosAcumulado_covid</th>\n",
              "      <th>casosAcumulado_covid</th>\n",
              "    </tr>\n",
              "  </thead>\n",
              "  <tbody>\n",
              "    <tr>\n",
              "      <th>0</th>\n",
              "      <td>0</td>\n",
              "      <td>0.029</td>\n",
              "      <td>0</td>\n",
              "      <td>9.0</td>\n",
              "      <td>199.0</td>\n",
              "    </tr>\n",
              "    <tr>\n",
              "      <th>1</th>\n",
              "      <td>5</td>\n",
              "      <td>0.580</td>\n",
              "      <td>2</td>\n",
              "      <td>4716.0</td>\n",
              "      <td>38960.0</td>\n",
              "    </tr>\n",
              "    <tr>\n",
              "      <th>2</th>\n",
              "      <td>14</td>\n",
              "      <td>5.469</td>\n",
              "      <td>3</td>\n",
              "      <td>26.0</td>\n",
              "      <td>1038.0</td>\n",
              "    </tr>\n",
              "    <tr>\n",
              "      <th>3</th>\n",
              "      <td>18</td>\n",
              "      <td>10.893</td>\n",
              "      <td>7</td>\n",
              "      <td>354.0</td>\n",
              "      <td>13239.0</td>\n",
              "    </tr>\n",
              "    <tr>\n",
              "      <th>4</th>\n",
              "      <td>7</td>\n",
              "      <td>1.648</td>\n",
              "      <td>2</td>\n",
              "      <td>926.0</td>\n",
              "      <td>24446.0</td>\n",
              "    </tr>\n",
              "  </tbody>\n",
              "</table>\n",
              "</div>"
            ],
            "text/plain": [
              "   casos_acumulados_porcentagem_covid_faixas  ...  casosAcumulado_covid\n",
              "0                                          0  ...                 199.0\n",
              "1                                          5  ...               38960.0\n",
              "2                                         14  ...                1038.0\n",
              "3                                         18  ...               13239.0\n",
              "4                                          7  ...               24446.0\n",
              "\n",
              "[5 rows x 5 columns]"
            ]
          },
          "metadata": {
            "tags": []
          },
          "execution_count": 18
        }
      ]
    },
    {
      "cell_type": "markdown",
      "metadata": {
        "id": "X5rexK3z4Uyk"
      },
      "source": [
        "# **SEPARAÇÃO DOS DATASETS EM TREINO E TESTE**"
      ]
    },
    {
      "cell_type": "code",
      "metadata": {
        "id": "2_vMWh0bfPis"
      },
      "source": [
        "from sklearn.model_selection import train_test_split \n",
        "x_treino, x_teste, y_treino, y_teste = train_test_split(explicativas, cnpj_final_alvo, test_size=0.3, random_state=69)"
      ],
      "execution_count": 19,
      "outputs": []
    },
    {
      "cell_type": "markdown",
      "metadata": {
        "id": "moCsDJKD54Zu"
      },
      "source": [
        "# **GERAÇÃO DOS MODELOS**"
      ]
    },
    {
      "cell_type": "markdown",
      "metadata": {
        "id": "IpDGaZIbqT3v"
      },
      "source": [
        "## **Normalização dos Dados**"
      ]
    },
    {
      "cell_type": "code",
      "metadata": {
        "id": "AZ0wpQZEqTj4"
      },
      "source": [
        "from sklearn.preprocessing import StandardScaler\n",
        "scaler = StandardScaler()\n",
        "x_treino = scaler.fit_transform(x_treino)\n",
        "x_teste = scaler.transform(x_teste)"
      ],
      "execution_count": 20,
      "outputs": []
    },
    {
      "cell_type": "markdown",
      "metadata": {
        "id": "rEIhjXWNUGPC"
      },
      "source": [
        "## **Logistic Regression**"
      ]
    },
    {
      "cell_type": "markdown",
      "metadata": {
        "id": "o0ILwzb668VW"
      },
      "source": [
        "**Aplicação do Modelo**"
      ]
    },
    {
      "cell_type": "code",
      "metadata": {
        "id": "sja2nYRSUqso"
      },
      "source": [
        "from sklearn.linear_model import LogisticRegression\n",
        "rl =LogisticRegression(random_state=69)\n",
        "rl.fit(x_treino,np.ravel(y_treino))\n",
        "y_predicao=rl.predict(x_teste)"
      ],
      "execution_count": 21,
      "outputs": []
    },
    {
      "cell_type": "markdown",
      "metadata": {
        "id": "2yQlsm4Qdsez"
      },
      "source": [
        "**Vizualização das Métricas**"
      ]
    },
    {
      "cell_type": "code",
      "metadata": {
        "colab": {
          "base_uri": "https://localhost:8080/"
        },
        "id": "Vvyga8m0VWVR",
        "outputId": "674be75b-d76f-42a0-9ed7-10d656b64be9"
      },
      "source": [
        "from sklearn import metrics\n",
        "from sklearn.metrics import accuracy_score, f1_score, classification_report, confusion_matrix\n",
        "print(metrics.classification_report(y_teste, y_predicao, target_names=['0','1']))\n",
        "print (\"F1-SCORE (macro-averaged):\", f1_score(y_teste, y_predicao, average=\"macro\"))\n",
        "lr_resultado = f1_score(y_teste, y_predicao, average=\"macro\")"
      ],
      "execution_count": 22,
      "outputs": [
        {
          "output_type": "stream",
          "text": [
            "              precision    recall  f1-score   support\n",
            "\n",
            "           0       0.78      0.98      0.87   2338516\n",
            "           1       0.76      0.21      0.33    821697\n",
            "\n",
            "    accuracy                           0.78   3160213\n",
            "   macro avg       0.77      0.59      0.60   3160213\n",
            "weighted avg       0.77      0.78      0.73   3160213\n",
            "\n",
            "F1-SCORE (macro-averaged): 0.5982584197113453\n"
          ],
          "name": "stdout"
        }
      ]
    },
    {
      "cell_type": "code",
      "metadata": {
        "id": "_L7lNNdHWAK5",
        "colab": {
          "base_uri": "https://localhost:8080/"
        },
        "outputId": "5c9ab827-82ef-412c-c725-612c58e50692"
      },
      "source": [
        "rl.get_params()"
      ],
      "execution_count": 23,
      "outputs": [
        {
          "output_type": "execute_result",
          "data": {
            "text/plain": [
              "{'C': 1.0,\n",
              " 'class_weight': None,\n",
              " 'dual': False,\n",
              " 'fit_intercept': True,\n",
              " 'intercept_scaling': 1,\n",
              " 'l1_ratio': None,\n",
              " 'max_iter': 100,\n",
              " 'multi_class': 'auto',\n",
              " 'n_jobs': None,\n",
              " 'penalty': 'l2',\n",
              " 'random_state': 69,\n",
              " 'solver': 'lbfgs',\n",
              " 'tol': 0.0001,\n",
              " 'verbose': 0,\n",
              " 'warm_start': False}"
            ]
          },
          "metadata": {
            "tags": []
          },
          "execution_count": 23
        }
      ]
    },
    {
      "cell_type": "markdown",
      "metadata": {
        "id": "3_R6kNxfd1xa"
      },
      "source": [
        "**Matriz de Confusão**"
      ]
    },
    {
      "cell_type": "code",
      "metadata": {
        "id": "ykyHO1IhWDZ5"
      },
      "source": [
        "matriz_confusao =  metrics.confusion_matrix(y_teste, y_predicao)"
      ],
      "execution_count": 24,
      "outputs": []
    },
    {
      "cell_type": "code",
      "metadata": {
        "id": "EjGU98R4WNmS"
      },
      "source": [
        "import matplotlib.pyplot as plt\n",
        "import itertools\n",
        "def plot_confusion_matrix(cm, classes, normalize=False, title='Confusion matrix', cmap=plt.cm.Blues):\n",
        "\n",
        "    if normalize: cm = cm.astype('float') / cm.sum(axis=1)[:, np.newaxis]\n",
        "\n",
        "    plt.imshow(cm, interpolation='nearest', cmap=cmap)\n",
        "    plt.title(title)\n",
        "    plt.colorbar()\n",
        "    tick_marks = np.arange(len(classes))\n",
        "    plt.xticks(tick_marks, classes, rotation=45)\n",
        "    plt.yticks(tick_marks, classes)\n",
        "\n",
        "    fmt = '.2f' if normalize else 'd'\n",
        "    thresh = cm.max() / 2.\n",
        "    for i, j in itertools.product(range(cm.shape[0]), range(cm.shape[1])):\n",
        "        plt.text(j, i, format(cm[i, j], fmt), horizontalalignment=\"center\", color=\"white\" if cm[i, j] > thresh else \"black\")\n",
        "\n",
        "    plt.ylabel('True label')\n",
        "    plt.xlabel('Predicted label')\n",
        "    plt.tight_layout()\n",
        "  "
      ],
      "execution_count": 25,
      "outputs": []
    },
    {
      "cell_type": "code",
      "metadata": {
        "id": "fWvNk6yZWeMp",
        "colab": {
          "base_uri": "https://localhost:8080/",
          "height": 728
        },
        "outputId": "073239fb-90dd-4abf-f7c6-a0a83dfe79c1"
      },
      "source": [
        "plt.figure(figsize=(10, 10))\n",
        "plot_confusion_matrix(matriz_confusao,classes =['0', '1'], title='Matriz de confusão não normalizada', normalize=False)"
      ],
      "execution_count": 26,
      "outputs": [
        {
          "output_type": "display_data",
          "data": {
            "image/png": "[encoded data removed]",
            "text/plain": [
              "<Figure size 720x720 with 2 Axes>"
            ]
          },
          "metadata": {
            "tags": [],
            "needs_background": "light"
          }
        }
      ]
    },
    {
      "cell_type": "markdown",
      "metadata": {
        "id": "zpV-iZERUGO9"
      },
      "source": [
        "## **Random Forest**"
      ]
    },
    {
      "cell_type": "markdown",
      "metadata": {
        "id": "7Z02YgkJeScm"
      },
      "source": [
        "**Aplicação do Modelo**"
      ]
    },
    {
      "cell_type": "code",
      "metadata": {
        "id": "-dqf39I4zPMO"
      },
      "source": [
        "from sklearn.ensemble import RandomForestClassifier\n",
        "rfc = RandomForestClassifier(random_state=15, min_samples_leaf = 200)\n",
        "rfc.fit(x_treino,np.ravel(y_treino))\n",
        "y_predicao = rfc.predict(x_teste)"
      ],
      "execution_count": 27,
      "outputs": []
    },
    {
      "cell_type": "markdown",
      "metadata": {
        "id": "ERZXg1XBeWCi"
      },
      "source": [
        "**Vizualização das Métricas**"
      ]
    },
    {
      "cell_type": "code",
      "metadata": {
        "id": "QECbSalVzPMP",
        "colab": {
          "base_uri": "https://localhost:8080/"
        },
        "outputId": "ceeb3cd7-d61b-453f-88ef-cf32eadcf108"
      },
      "source": [
        "print(metrics.classification_report(y_teste, y_predicao, target_names=['0','1']))\n",
        "print (\"F1-SCORE (macro-averaged):\", f1_score(y_teste, y_predicao, average=\"macro\"))\n",
        "rf_resultado = f1_score(y_teste, y_predicao, average=\"macro\")"
      ],
      "execution_count": 28,
      "outputs": [
        {
          "output_type": "stream",
          "text": [
            "              precision    recall  f1-score   support\n",
            "\n",
            "           0       0.83      1.00      0.91   2338516\n",
            "           1       0.98      0.43      0.60    821697\n",
            "\n",
            "    accuracy                           0.85   3160213\n",
            "   macro avg       0.91      0.71      0.75   3160213\n",
            "weighted avg       0.87      0.85      0.83   3160213\n",
            "\n",
            "F1-SCORE (macro-averaged): 0.7531758858632199\n"
          ],
          "name": "stdout"
        }
      ]
    },
    {
      "cell_type": "code",
      "metadata": {
        "id": "vllgfnrXzPMQ",
        "colab": {
          "base_uri": "https://localhost:8080/"
        },
        "outputId": "7de8da42-1b67-4065-8386-3e3397521e9d"
      },
      "source": [
        "rfc.get_params()"
      ],
      "execution_count": 29,
      "outputs": [
        {
          "output_type": "execute_result",
          "data": {
            "text/plain": [
              "{'bootstrap': True,\n",
              " 'ccp_alpha': 0.0,\n",
              " 'class_weight': None,\n",
              " 'criterion': 'gini',\n",
              " 'max_depth': None,\n",
              " 'max_features': 'auto',\n",
              " 'max_leaf_nodes': None,\n",
              " 'max_samples': None,\n",
              " 'min_impurity_decrease': 0.0,\n",
              " 'min_impurity_split': None,\n",
              " 'min_samples_leaf': 200,\n",
              " 'min_samples_split': 2,\n",
              " 'min_weight_fraction_leaf': 0.0,\n",
              " 'n_estimators': 100,\n",
              " 'n_jobs': None,\n",
              " 'oob_score': False,\n",
              " 'random_state': 15,\n",
              " 'verbose': 0,\n",
              " 'warm_start': False}"
            ]
          },
          "metadata": {
            "tags": []
          },
          "execution_count": 29
        }
      ]
    },
    {
      "cell_type": "markdown",
      "metadata": {
        "id": "F-lzNTXaeeM6"
      },
      "source": [
        "**Matriz de Confusão**"
      ]
    },
    {
      "cell_type": "code",
      "metadata": {
        "id": "7s5AVgEbzPMQ"
      },
      "source": [
        "cnf_matrix =  metrics.confusion_matrix(y_teste, y_predicao)"
      ],
      "execution_count": 30,
      "outputs": []
    },
    {
      "cell_type": "code",
      "metadata": {
        "id": "2nDOGp4OzPMQ"
      },
      "source": [
        "import itertools\n",
        "def plot_confusion_matrix(cm, classes, normalize=False, title='Confusion matrix', cmap=plt.cm.Blues):\n",
        "    if normalize: cm = cm.astype('float') / cm.sum(axis=1)[:, np.newaxis]\n",
        "\n",
        "    plt.imshow(cm, interpolation='nearest', cmap=cmap)\n",
        "    plt.title(title)\n",
        "    plt.colorbar()\n",
        "    tick_marks = np.arange(len(classes))\n",
        "    plt.xticks(tick_marks, classes, rotation=45)\n",
        "    plt.yticks(tick_marks, classes)\n",
        "\n",
        "    fmt = '.2f' if normalize else 'd'\n",
        "    thresh = cm.max() / 2.\n",
        "    for i, j in itertools.product(range(cm.shape[0]), range(cm.shape[1])): plt.text(j, i, format(cm[i, j], fmt), horizontalalignment=\"center\", color=\"white\" if cm[i, j] > thresh else \"black\")\n",
        "\n",
        "    plt.ylabel('True label')\n",
        "    plt.xlabel('Predicted label')\n",
        "    plt.tight_layout()\n"
      ],
      "execution_count": 31,
      "outputs": []
    },
    {
      "cell_type": "code",
      "metadata": {
        "id": "ukmJM292zPMR",
        "scrolled": true,
        "colab": {
          "base_uri": "https://localhost:8080/",
          "height": 728
        },
        "outputId": "d2cd10ef-957d-4043-8904-3a3cd5d8447c"
      },
      "source": [
        "plt.figure(figsize=(10, 10))\n",
        "plot_confusion_matrix(cnf_matrix,classes =['0', '1'], title='Matriz de confusão não normalizada', normalize=False)"
      ],
      "execution_count": 32,
      "outputs": [
        {
          "output_type": "display_data",
          "data": {
            "image/png": "[encoded data removed]",
            "text/plain": [
              "<Figure size 720x720 with 2 Axes>"
            ]
          },
          "metadata": {
            "tags": [],
            "needs_background": "light"
          }
        }
      ]
    },
    {
      "cell_type": "markdown",
      "metadata": {
        "id": "DxxBTZmSrCzz"
      },
      "source": [
        "## **Ranking dos Modelos**"
      ]
    },
    {
      "cell_type": "code",
      "metadata": {
        "colab": {
          "base_uri": "https://localhost:8080/",
          "height": 107
        },
        "id": "5M0xPlQTrCz0",
        "outputId": "537db5aa-831b-4dbc-94af-f87d91d151de"
      },
      "source": [
        "ranking_modelos = pd.DataFrame({\n",
        "                                 'NOME DO MODELO': ['REGRESSÃO LOGÍSTICA', 'RANDOM FOREST'],\n",
        "                                 'F1-SCORE(macro-averaged)': [lr_resultado, rf_resultado]})\n",
        "ranking_modelos"
      ],
      "execution_count": 33,
      "outputs": [
        {
          "output_type": "execute_result",
          "data": {
            "text/html": [
              "<div>\n",
              "<style scoped>\n",
              "    .dataframe tbody tr th:only-of-type {\n",
              "        vertical-align: middle;\n",
              "    }\n",
              "\n",
              "    .dataframe tbody tr th {\n",
              "        vertical-align: top;\n",
              "    }\n",
              "\n",
              "    .dataframe thead th {\n",
              "        text-align: right;\n",
              "    }\n",
              "</style>\n",
              "<table border=\"1\" class=\"dataframe\">\n",
              "  <thead>\n",
              "    <tr style=\"text-align: right;\">\n",
              "      <th></th>\n",
              "      <th>NOME DO MODELO</th>\n",
              "      <th>F1-SCORE(macro-averaged)</th>\n",
              "    </tr>\n",
              "  </thead>\n",
              "  <tbody>\n",
              "    <tr>\n",
              "      <th>0</th>\n",
              "      <td>REGRESSÃO LOGÍSTICA</td>\n",
              "      <td>0.598258</td>\n",
              "    </tr>\n",
              "    <tr>\n",
              "      <th>1</th>\n",
              "      <td>RANDOM FOREST</td>\n",
              "      <td>0.753176</td>\n",
              "    </tr>\n",
              "  </tbody>\n",
              "</table>\n",
              "</div>"
            ],
            "text/plain": [
              "        NOME DO MODELO  F1-SCORE(macro-averaged)\n",
              "0  REGRESSÃO LOGÍSTICA                  0.598258\n",
              "1        RANDOM FOREST                  0.753176"
            ]
          },
          "metadata": {
            "tags": []
          },
          "execution_count": 33
        }
      ]
    }
  ]
}