{
  "nbformat": 4,
  "nbformat_minor": 0,
  "metadata": {
    "colab": {
      "name": "0002 - Tratar Tabelas Estabelecimento_02.ipynb",
      "provenance": [],
      "collapsed_sections": [],
      "machine_shape": "hm"
    },
    "kernelspec": {
      "name": "python3",
      "display_name": "Python 3"
    },
    "language_info": {
      "name": "python"
    }
  },
  "cells": [
    {
      "cell_type": "code",
      "metadata": {
        "id": "Lm_XYoX5iDhu"
      },
      "source": [
        "import pandas as pd\n",
        "import numpy as np"
      ],
      "execution_count": 1,
      "outputs": []
    },
    {
      "cell_type": "code",
      "metadata": {
        "colab": {
          "base_uri": "https://localhost:8080/"
        },
        "id": "bCXl3RnliGaI",
        "outputId": "2244c84a-66e8-439f-f5bb-751e6b09c8ab"
      },
      "source": [
        "from google.colab import drive\n",
        "drive.mount('/content/drive')"
      ],
      "execution_count": 2,
      "outputs": [
        {
          "output_type": "stream",
          "text": [
            "Mounted at /content/drive\n"
          ],
          "name": "stdout"
        }
      ]
    },
    {
      "cell_type": "markdown",
      "metadata": {
        "id": "HMin5RjjPaHN"
      },
      "source": [
        "# **CARREGAMENTO DOS DADOS - Dados Abertos CNPJ ESTABELECIMENTO**"
      ]
    },
    {
      "cell_type": "markdown",
      "metadata": {
        "id": "paUZxzPeS4St"
      },
      "source": [
        "*   Os dados dos CNPJ´s são a base do nosso estudo. Neles encontraremos as principais informações da empresas alvo do trabalho. Iremos, por conta do alto volume de dados, executar o carregamento e junção dos dados dos CNPJ´s em 3 notebooks. Os dados de CNPJ estão divididos em dois grupos:\n",
        "\n",
        "1.   Dados Abertos CNPJ EMPRESA\n",
        "2.   Dados Abertos CNPJ ESTABELECIMENTO\n",
        "\n",
        "-------------\n",
        "\n",
        "Tabela de CNPJ´s do site da Receita Federal\n",
        "\n",
        "*   https://www.gov.br/receitafederal/pt-br/assuntos/orientacao-tributaria/cadastros/consultas/dados-publicos-cnpj"
      ]
    },
    {
      "cell_type": "code",
      "metadata": {
        "id": "X0HvA-yFki3f"
      },
      "source": [
        "cnpj_estabelecimento_06 = pd.read_csv('/content/drive/MyDrive/TCC - PUC/Dados Abertos CNPJ ESTABELECIMENTO 06.csv', names=['cnpj_basico', 'cnpj_ordem', 'cnpj_dv', 'matriz_filial', 'nome_fantasia', 'codigo_situacao_cadastral', 'data_situacao_cadastral', 'motivo_situacao_cadastral', 'nome_cidade_exterior', 'codigo_pais', 'data_inicio_atividade', 'cnae_principal', 'cnae_secundario',\n",
        "'tipo_logradouro','logradouro','numero','complemento','bairro','cep','uf','codigo_municipio_siafi','ddd1', 'telefone1','ddd2','telefone2','dddfax','fax','email', 'situacao_especial', 'data_situacao_especial'],encoding='ISO-8859-1',decimal=',', sep=';' ,dtype=str, header=None,)\n",
        "cnpj_estabelecimento_07 = pd.read_csv('/content/drive/MyDrive/TCC - PUC/Dados Abertos CNPJ ESTABELECIMENTO 07.csv', names=['cnpj_basico', 'cnpj_ordem', 'cnpj_dv', 'matriz_filial', 'nome_fantasia', 'codigo_situacao_cadastral', 'data_situacao_cadastral', 'motivo_situacao_cadastral', 'nome_cidade_exterior', 'codigo_pais', 'data_inicio_atividade', 'cnae_principal', 'cnae_secundario',\n",
        "'tipo_logradouro','logradouro','numero','complemento','bairro','cep','uf','codigo_municipio_siafi','ddd1', 'telefone1','ddd2','telefone2','dddfax','fax','email', 'situacao_especial', 'data_situacao_especial'],encoding='ISO-8859-1',decimal=',', sep=';' ,dtype=str, header=None,)\n",
        "cnpj_estabelecimento_08 = pd.read_csv('/content/drive/MyDrive/TCC - PUC/Dados Abertos CNPJ ESTABELECIMENTO 08.csv', names=['cnpj_basico', 'cnpj_ordem', 'cnpj_dv', 'matriz_filial', 'nome_fantasia', 'codigo_situacao_cadastral', 'data_situacao_cadastral', 'motivo_situacao_cadastral', 'nome_cidade_exterior', 'codigo_pais', 'data_inicio_atividade', 'cnae_principal', 'cnae_secundario',\n",
        "'tipo_logradouro','logradouro','numero','complemento','bairro','cep','uf','codigo_municipio_siafi','ddd1', 'telefone1','ddd2','telefone2','dddfax','fax','email', 'situacao_especial', 'data_situacao_especial'],encoding='ISO-8859-1',decimal=',', sep=';' ,dtype=str, header=None,)\n",
        "cnpj_estabelecimento_09 = pd.read_csv('/content/drive/MyDrive/TCC - PUC/Dados Abertos CNPJ ESTABELECIMENTO 09.csv', names=['cnpj_basico', 'cnpj_ordem', 'cnpj_dv', 'matriz_filial', 'nome_fantasia', 'codigo_situacao_cadastral', 'data_situacao_cadastral', 'motivo_situacao_cadastral', 'nome_cidade_exterior', 'codigo_pais', 'data_inicio_atividade', 'cnae_principal', 'cnae_secundario',\n",
        "'tipo_logradouro','logradouro','numero','complemento','bairro','cep','uf','codigo_municipio_siafi','ddd1', 'telefone1','ddd2','telefone2','dddfax','fax','email', 'situacao_especial', 'data_situacao_especial'],encoding='ISO-8859-1',decimal=',', sep=';' ,dtype=str, header=None,)\n",
        "cnpj_estabelecimento_10 = pd.read_csv('/content/drive/MyDrive/TCC - PUC/Dados Abertos CNPJ ESTABELECIMENTO 10.csv', names=['cnpj_basico', 'cnpj_ordem', 'cnpj_dv', 'matriz_filial', 'nome_fantasia', 'codigo_situacao_cadastral', 'data_situacao_cadastral', 'motivo_situacao_cadastral', 'nome_cidade_exterior', 'codigo_pais', 'data_inicio_atividade', 'cnae_principal', 'cnae_secundario',\n",
        "'tipo_logradouro','logradouro','numero','complemento','bairro','cep','uf','codigo_municipio_siafi','ddd1', 'telefone1','ddd2','telefone2','dddfax','fax','email', 'situacao_especial', 'data_situacao_especial'],encoding='ISO-8859-1',decimal=',', sep=';' ,dtype=str, header=None,)"
      ],
      "execution_count": 3,
      "outputs": []
    },
    {
      "cell_type": "markdown",
      "metadata": {
        "id": "nNbsTyrqTyG1"
      },
      "source": [
        "**Eliminação de colunas que não serão utilizadas no nosso estudo**"
      ]
    },
    {
      "cell_type": "code",
      "metadata": {
        "id": "O45Fa5MPoMgg"
      },
      "source": [
        "cnpj_estabelecimento_06 = cnpj_estabelecimento_06.drop(['motivo_situacao_cadastral','nome_fantasia','nome_cidade_exterior','codigo_pais','cnae_secundario','tipo_logradouro',\t'logradouro',\t'numero',\t'complemento',\t'bairro',\t'cep',\t'uf','ddd1',\t'telefone1',\t'ddd2',\t'telefone2',\t'dddfax',\t'fax', 'email',\t'situacao_especial',\t'data_situacao_especial'], axis=1) #eliminação das colunas desnecessárias\n",
        "cnpj_estabelecimento_07 = cnpj_estabelecimento_07.drop(['motivo_situacao_cadastral','nome_fantasia','nome_cidade_exterior','codigo_pais','cnae_secundario','tipo_logradouro',\t'logradouro',\t'numero',\t'complemento',\t'bairro',\t'cep',\t'uf','ddd1',\t'telefone1',\t'ddd2',\t'telefone2',\t'dddfax',\t'fax', 'email',\t'situacao_especial',\t'data_situacao_especial'], axis=1) #eliminação das colunas desnecessárias\n",
        "cnpj_estabelecimento_08 = cnpj_estabelecimento_08.drop(['motivo_situacao_cadastral','nome_fantasia','nome_cidade_exterior','codigo_pais','cnae_secundario','tipo_logradouro',\t'logradouro',\t'numero',\t'complemento',\t'bairro',\t'cep',\t'uf','ddd1',\t'telefone1',\t'ddd2',\t'telefone2',\t'dddfax',\t'fax', 'email',\t'situacao_especial',\t'data_situacao_especial'], axis=1) #eliminação das colunas desnecessárias\n",
        "cnpj_estabelecimento_09 = cnpj_estabelecimento_09.drop(['motivo_situacao_cadastral','nome_fantasia','nome_cidade_exterior','codigo_pais','cnae_secundario','tipo_logradouro',\t'logradouro',\t'numero',\t'complemento',\t'bairro',\t'cep',\t'uf','ddd1',\t'telefone1',\t'ddd2',\t'telefone2',\t'dddfax',\t'fax', 'email',\t'situacao_especial',\t'data_situacao_especial'], axis=1) #eliminação das colunas desnecessárias\n",
        "cnpj_estabelecimento_10 = cnpj_estabelecimento_10.drop(['motivo_situacao_cadastral','nome_fantasia','nome_cidade_exterior','codigo_pais','cnae_secundario','tipo_logradouro',\t'logradouro',\t'numero',\t'complemento',\t'bairro',\t'cep',\t'uf','ddd1',\t'telefone1',\t'ddd2',\t'telefone2',\t'dddfax',\t'fax', 'email',\t'situacao_especial',\t'data_situacao_especial'], axis=1) #eliminação das colunas desnecessárias"
      ],
      "execution_count": 4,
      "outputs": []
    },
    {
      "cell_type": "code",
      "metadata": {
        "id": "06eSyBeFrd-Q"
      },
      "source": [
        "cnpj_estabelecimento_todas_parte02 = pd.concat([cnpj_estabelecimento_06, cnpj_estabelecimento_07, cnpj_estabelecimento_08, cnpj_estabelecimento_09, cnpj_estabelecimento_10], axis=0)"
      ],
      "execution_count": 5,
      "outputs": []
    },
    {
      "cell_type": "markdown",
      "metadata": {
        "id": "aGN8ND89PgkK"
      },
      "source": [
        "# **CORTE NO DATASET DE ESTABELECIMENTOS**"
      ]
    },
    {
      "cell_type": "markdown",
      "metadata": {
        "id": "ToDGf_boS_T7"
      },
      "source": [
        "Para um melhor estudo do impacto da COVID no fechamento das empresas, realizamos duas seleções no dataset de estabelecimentos (base do estudo) considerando a data da situação cadastral como delimitador do prazo e selecionando os CNPJ´s pelo Código da Situação Cadastral.\n",
        "\n",
        "*   **PERÍODO: No total, estamos avaliando 28 meses de atividade, divididos da seguinte forma:**\n",
        "\n",
        "1.   Período 20-21 - COM COVID (14 meses) - Início: 01/04/2020 - Término: 31/05/2021\n",
        "2.   Período 19-20 - SEM COVID (14 meses) - Início: 01/02/2019 - Término: 31/03/2020\n",
        "\n",
        "*   **SITUAÇÃO CADASTRAL: Iremos avaliar somente os CNPJ´s abaixo descritos:**\n",
        "\n",
        "1.   CNPJ´s FECHADOS - situação cadastral igual a \"8\"\n",
        "2.   CNPJ´s ABERTOS - situação cadastral igual a \"2\""
      ]
    },
    {
      "cell_type": "code",
      "metadata": {
        "id": "bbusWBhLtA5h"
      },
      "source": [
        "cnpj_estabelecimento_todas_parte02 = cnpj_estabelecimento_todas_parte02.query( 'codigo_situacao_cadastral==\"02\" or codigo_situacao_cadastral==\"08\" ')"
      ],
      "execution_count": 6,
      "outputs": []
    },
    {
      "cell_type": "code",
      "metadata": {
        "id": "V_zDUBhqFL94"
      },
      "source": [
        "cnpj_estabelecimento_todas_parte02 = cnpj_estabelecimento_todas_parte02.query('data_situacao_cadastral >= \"20190201\" and data_situacao_cadastral <= \"20210531\" ')"
      ],
      "execution_count": 7,
      "outputs": []
    },
    {
      "cell_type": "markdown",
      "metadata": {
        "id": "UMgJ7qZpPkDc"
      },
      "source": [
        "# **GRAVAÇÃO DO DATASET**"
      ]
    },
    {
      "cell_type": "code",
      "metadata": {
        "colab": {
          "base_uri": "https://localhost:8080/",
          "height": 197
        },
        "id": "C_DmP8tY72fr",
        "outputId": "6e5bb88f-a10b-490d-a1d6-d33ed892826a"
      },
      "source": [
        "cnpj_estabelecimento_todas_parte02.head()"
      ],
      "execution_count": 8,
      "outputs": [
        {
          "output_type": "execute_result",
          "data": {
            "text/html": [
              "<div>\n",
              "<style scoped>\n",
              "    .dataframe tbody tr th:only-of-type {\n",
              "        vertical-align: middle;\n",
              "    }\n",
              "\n",
              "    .dataframe tbody tr th {\n",
              "        vertical-align: top;\n",
              "    }\n",
              "\n",
              "    .dataframe thead th {\n",
              "        text-align: right;\n",
              "    }\n",
              "</style>\n",
              "<table border=\"1\" class=\"dataframe\">\n",
              "  <thead>\n",
              "    <tr style=\"text-align: right;\">\n",
              "      <th></th>\n",
              "      <th>cnpj_basico</th>\n",
              "      <th>cnpj_ordem</th>\n",
              "      <th>cnpj_dv</th>\n",
              "      <th>matriz_filial</th>\n",
              "      <th>codigo_situacao_cadastral</th>\n",
              "      <th>data_situacao_cadastral</th>\n",
              "      <th>data_inicio_atividade</th>\n",
              "      <th>cnae_principal</th>\n",
              "      <th>codigo_municipio_siafi</th>\n",
              "    </tr>\n",
              "  </thead>\n",
              "  <tbody>\n",
              "    <tr>\n",
              "      <th>0</th>\n",
              "      <td>37249908</td>\n",
              "      <td>0001</td>\n",
              "      <td>43</td>\n",
              "      <td>1</td>\n",
              "      <td>02</td>\n",
              "      <td>20200527</td>\n",
              "      <td>20200527</td>\n",
              "      <td>5611203</td>\n",
              "      <td>6001</td>\n",
              "    </tr>\n",
              "    <tr>\n",
              "      <th>1</th>\n",
              "      <td>37249917</td>\n",
              "      <td>0001</td>\n",
              "      <td>34</td>\n",
              "      <td>1</td>\n",
              "      <td>02</td>\n",
              "      <td>20200527</td>\n",
              "      <td>20200527</td>\n",
              "      <td>4930201</td>\n",
              "      <td>8901</td>\n",
              "    </tr>\n",
              "    <tr>\n",
              "      <th>2</th>\n",
              "      <td>37249931</td>\n",
              "      <td>0001</td>\n",
              "      <td>38</td>\n",
              "      <td>1</td>\n",
              "      <td>02</td>\n",
              "      <td>20200527</td>\n",
              "      <td>20200527</td>\n",
              "      <td>1359600</td>\n",
              "      <td>6001</td>\n",
              "    </tr>\n",
              "    <tr>\n",
              "      <th>3</th>\n",
              "      <td>37249942</td>\n",
              "      <td>0001</td>\n",
              "      <td>18</td>\n",
              "      <td>1</td>\n",
              "      <td>02</td>\n",
              "      <td>20200527</td>\n",
              "      <td>20200527</td>\n",
              "      <td>5229099</td>\n",
              "      <td>4733</td>\n",
              "    </tr>\n",
              "    <tr>\n",
              "      <th>4</th>\n",
              "      <td>37249954</td>\n",
              "      <td>0001</td>\n",
              "      <td>42</td>\n",
              "      <td>1</td>\n",
              "      <td>08</td>\n",
              "      <td>20210317</td>\n",
              "      <td>20200527</td>\n",
              "      <td>4781400</td>\n",
              "      <td>0427</td>\n",
              "    </tr>\n",
              "  </tbody>\n",
              "</table>\n",
              "</div>"
            ],
            "text/plain": [
              "  cnpj_basico cnpj_ordem  ... cnae_principal codigo_municipio_siafi\n",
              "0    37249908       0001  ...        5611203                   6001\n",
              "1    37249917       0001  ...        4930201                   8901\n",
              "2    37249931       0001  ...        1359600                   6001\n",
              "3    37249942       0001  ...        5229099                   4733\n",
              "4    37249954       0001  ...        4781400                   0427\n",
              "\n",
              "[5 rows x 9 columns]"
            ]
          },
          "metadata": {
            "tags": []
          },
          "execution_count": 8
        }
      ]
    },
    {
      "cell_type": "code",
      "metadata": {
        "id": "Qa9R4_6aWvgu"
      },
      "source": [
        "cnpj_estabelecimento_todas_parte02.to_csv('/content/drive/MyDrive/TCC - PUC/cnpj_estabelecimento_todas_parte02.csv', index=False, sep=';') "
      ],
      "execution_count": 9,
      "outputs": []
    }
  ]
}