{
  "nbformat": 4,
  "nbformat_minor": 0,
  "metadata": {
    "colab": {
      "name": "0002 - Tratar Tabelas Estabelecimento_02.ipynb",
      "provenance": [],
      "collapsed_sections": [],
      "machine_shape": "hm"
    },
    "kernelspec": {
      "name": "python3",
      "display_name": "Python 3"
    },
    "language_info": {
      "name": "python"
    }
  },
  "cells": [
    {
      "cell_type": "code",
      "metadata": {
        "id": "Lm_XYoX5iDhu"
      },
      "source": [
        "import pandas as pd\n",
        "import numpy as np"
      ],
      "execution_count": 1,
      "outputs": []
    },
    {
      "cell_type": "code",
      "metadata": {
        "colab": {
          "base_uri": "https://localhost:8080/"
        },
        "id": "bCXl3RnliGaI",
        "outputId": "a7f2df8c-2fb7-4639-fd43-73dc906f3e70"
      },
      "source": [
        "from google.colab import drive\n",
        "drive.mount('/content/drive')"
      ],
      "execution_count": 2,
      "outputs": [
        {
          "output_type": "stream",
          "text": [
            "Mounted at /content/drive\n"
          ],
          "name": "stdout"
        }
      ]
    },
    {
      "cell_type": "markdown",
      "metadata": {
        "id": "U8QyRWmiMouD"
      },
      "source": [
        "# **CARREGAMENTO DOS DADOS - Dados Abertos CNPJ ESTABELECIMENTO**"
      ]
    },
    {
      "cell_type": "markdown",
      "metadata": {
        "id": "ZiRGrFYjSXpU"
      },
      "source": [
        "*   Os dados dos CNPJ´s são a base do nosso estudo. Neles encontraremos as principais informações da empresas alvo do trabalho. Iremos, por conta do alto volume de dados, executar o carregamento e junção dos dados dos CNPJ´s em 3 notebooks. Os dados de CNPJ estão divididos em dois grupos:\n",
        "\n",
        "1.   Dados Abertos CNPJ EMPRESA\n",
        "2.   Dados Abertos CNPJ ESTABELECIMENTO\n",
        "\n",
        "-------------\n",
        "\n",
        "*   Tabela de CNPJ´s do site da Receita Federal\n",
        "*   https://www.gov.br/receitafederal/pt-br/assuntos/orientacao-tributaria/cadastros/consultas/dados-publicos-cnpj"
      ]
    },
    {
      "cell_type": "code",
      "metadata": {
        "id": "X0HvA-yFki3f"
      },
      "source": [
        "cnpj_estabelecimento_06 = pd.read_csv('/content/drive/MyDrive/TCC - PUC/Dados Abertos CNPJ ESTABELECIMENTO 06.csv', names=['cnpj_basico', 'cnpj_ordem', 'cnpj_dv', 'matriz_filial', 'nome_fantasia', 'codigo_situacao_cadastral', 'data_situacao_cadastral', 'motivo_situacao_cadastral', 'nome_cidade_exterior', 'codigo_pais', 'data_inicio_atividade', 'cnae_principal', 'cnae_secundario',\n",
        "'tipo_logradouro','logradouro','numero','complemento','bairro','cep','uf','codigo_municipio_siafi','ddd1', 'telefone1','ddd2','telefone2','dddfax','fax','email', 'situacao_especial', 'data_situacao_especial'],encoding='ISO-8859-1',decimal=',', sep=';' ,dtype=str, header=None,)\n",
        "cnpj_estabelecimento_07 = pd.read_csv('/content/drive/MyDrive/TCC - PUC/Dados Abertos CNPJ ESTABELECIMENTO 07.csv', names=['cnpj_basico', 'cnpj_ordem', 'cnpj_dv', 'matriz_filial', 'nome_fantasia', 'codigo_situacao_cadastral', 'data_situacao_cadastral', 'motivo_situacao_cadastral', 'nome_cidade_exterior', 'codigo_pais', 'data_inicio_atividade', 'cnae_principal', 'cnae_secundario',\n",
        "'tipo_logradouro','logradouro','numero','complemento','bairro','cep','uf','codigo_municipio_siafi','ddd1', 'telefone1','ddd2','telefone2','dddfax','fax','email', 'situacao_especial', 'data_situacao_especial'],encoding='ISO-8859-1',decimal=',', sep=';' ,dtype=str, header=None,)\n",
        "cnpj_estabelecimento_08 = pd.read_csv('/content/drive/MyDrive/TCC - PUC/Dados Abertos CNPJ ESTABELECIMENTO 08.csv', names=['cnpj_basico', 'cnpj_ordem', 'cnpj_dv', 'matriz_filial', 'nome_fantasia', 'codigo_situacao_cadastral', 'data_situacao_cadastral', 'motivo_situacao_cadastral', 'nome_cidade_exterior', 'codigo_pais', 'data_inicio_atividade', 'cnae_principal', 'cnae_secundario',\n",
        "'tipo_logradouro','logradouro','numero','complemento','bairro','cep','uf','codigo_municipio_siafi','ddd1', 'telefone1','ddd2','telefone2','dddfax','fax','email', 'situacao_especial', 'data_situacao_especial'],encoding='ISO-8859-1',decimal=',', sep=';' ,dtype=str, header=None,)\n",
        "cnpj_estabelecimento_09 = pd.read_csv('/content/drive/MyDrive/TCC - PUC/Dados Abertos CNPJ ESTABELECIMENTO 09.csv', names=['cnpj_basico', 'cnpj_ordem', 'cnpj_dv', 'matriz_filial', 'nome_fantasia', 'codigo_situacao_cadastral', 'data_situacao_cadastral', 'motivo_situacao_cadastral', 'nome_cidade_exterior', 'codigo_pais', 'data_inicio_atividade', 'cnae_principal', 'cnae_secundario',\n",
        "'tipo_logradouro','logradouro','numero','complemento','bairro','cep','uf','codigo_municipio_siafi','ddd1', 'telefone1','ddd2','telefone2','dddfax','fax','email', 'situacao_especial', 'data_situacao_especial'],encoding='ISO-8859-1',decimal=',', sep=';' ,dtype=str, header=None,)\n",
        "cnpj_estabelecimento_10 = pd.read_csv('/content/drive/MyDrive/TCC - PUC/Dados Abertos CNPJ ESTABELECIMENTO 10.csv', names=['cnpj_basico', 'cnpj_ordem', 'cnpj_dv', 'matriz_filial', 'nome_fantasia', 'codigo_situacao_cadastral', 'data_situacao_cadastral', 'motivo_situacao_cadastral', 'nome_cidade_exterior', 'codigo_pais', 'data_inicio_atividade', 'cnae_principal', 'cnae_secundario',\n",
        "'tipo_logradouro','logradouro','numero','complemento','bairro','cep','uf','codigo_municipio_siafi','ddd1', 'telefone1','ddd2','telefone2','dddfax','fax','email', 'situacao_especial', 'data_situacao_especial'],encoding='ISO-8859-1',decimal=',', sep=';' ,dtype=str, header=None,)"
      ],
      "execution_count": 3,
      "outputs": []
    },
    {
      "cell_type": "code",
      "metadata": {
        "id": "hpiNx3hlG1jB"
      },
      "source": [
        "cnpj_estabelecimento_todas_parte02 = pd.concat([cnpj_estabelecimento_06, cnpj_estabelecimento_07, cnpj_estabelecimento_08, cnpj_estabelecimento_09, cnpj_estabelecimento_10], axis=0)"
      ],
      "execution_count": 4,
      "outputs": []
    },
    {
      "cell_type": "code",
      "metadata": {
        "colab": {
          "base_uri": "https://localhost:8080/"
        },
        "id": "255-WDmSdMdi",
        "outputId": "8504ca77-654a-40e1-8e54-68ff899395f7"
      },
      "source": [
        "cnpj_estabelecimento_todas_parte02.shape"
      ],
      "execution_count": 5,
      "outputs": [
        {
          "output_type": "execute_result",
          "data": {
            "text/plain": [
              "(23767175, 30)"
            ]
          },
          "metadata": {
            "tags": []
          },
          "execution_count": 5
        }
      ]
    },
    {
      "cell_type": "code",
      "metadata": {
        "colab": {
          "base_uri": "https://localhost:8080/",
          "height": 351
        },
        "id": "aRfEsx66Ot4v",
        "outputId": "452b59da-d44a-4cef-e8ce-ca8f1597bb14"
      },
      "source": [
        "cnpj_estabelecimento_todas_parte02.head()"
      ],
      "execution_count": 6,
      "outputs": [
        {
          "output_type": "execute_result",
          "data": {
            "text/html": [
              "<div>\n",
              "<style scoped>\n",
              "    .dataframe tbody tr th:only-of-type {\n",
              "        vertical-align: middle;\n",
              "    }\n",
              "\n",
              "    .dataframe tbody tr th {\n",
              "        vertical-align: top;\n",
              "    }\n",
              "\n",
              "    .dataframe thead th {\n",
              "        text-align: right;\n",
              "    }\n",
              "</style>\n",
              "<table border=\"1\" class=\"dataframe\">\n",
              "  <thead>\n",
              "    <tr style=\"text-align: right;\">\n",
              "      <th></th>\n",
              "      <th>cnpj_basico</th>\n",
              "      <th>cnpj_ordem</th>\n",
              "      <th>cnpj_dv</th>\n",
              "      <th>matriz_filial</th>\n",
              "      <th>nome_fantasia</th>\n",
              "      <th>codigo_situacao_cadastral</th>\n",
              "      <th>data_situacao_cadastral</th>\n",
              "      <th>motivo_situacao_cadastral</th>\n",
              "      <th>nome_cidade_exterior</th>\n",
              "      <th>codigo_pais</th>\n",
              "      <th>data_inicio_atividade</th>\n",
              "      <th>cnae_principal</th>\n",
              "      <th>cnae_secundario</th>\n",
              "      <th>tipo_logradouro</th>\n",
              "      <th>logradouro</th>\n",
              "      <th>numero</th>\n",
              "      <th>complemento</th>\n",
              "      <th>bairro</th>\n",
              "      <th>cep</th>\n",
              "      <th>uf</th>\n",
              "      <th>codigo_municipio_siafi</th>\n",
              "      <th>ddd1</th>\n",
              "      <th>telefone1</th>\n",
              "      <th>ddd2</th>\n",
              "      <th>telefone2</th>\n",
              "      <th>dddfax</th>\n",
              "      <th>fax</th>\n",
              "      <th>email</th>\n",
              "      <th>situacao_especial</th>\n",
              "      <th>data_situacao_especial</th>\n",
              "    </tr>\n",
              "  </thead>\n",
              "  <tbody>\n",
              "    <tr>\n",
              "      <th>0</th>\n",
              "      <td>37249908</td>\n",
              "      <td>0001</td>\n",
              "      <td>43</td>\n",
              "      <td>1</td>\n",
              "      <td>BURGER HOUSE</td>\n",
              "      <td>02</td>\n",
              "      <td>20200527</td>\n",
              "      <td>00</td>\n",
              "      <td>NaN</td>\n",
              "      <td>NaN</td>\n",
              "      <td>20200527</td>\n",
              "      <td>5611203</td>\n",
              "      <td>NaN</td>\n",
              "      <td>AVENIDA</td>\n",
              "      <td>FUNCIONARIO</td>\n",
              "      <td>05</td>\n",
              "      <td>APT 201;APT 201</td>\n",
              "      <td>BANGU</td>\n",
              "      <td>21842360</td>\n",
              "      <td>RJ</td>\n",
              "      <td>6001</td>\n",
              "      <td>21</td>\n",
              "      <td>24018270</td>\n",
              "      <td>NaN</td>\n",
              "      <td>NaN</td>\n",
              "      <td>NaN</td>\n",
              "      <td>NaN</td>\n",
              "      <td>MELLOMANES@GMAIL.COM</td>\n",
              "      <td>NaN</td>\n",
              "      <td>NaN</td>\n",
              "    </tr>\n",
              "    <tr>\n",
              "      <th>1</th>\n",
              "      <td>37249917</td>\n",
              "      <td>0001</td>\n",
              "      <td>34</td>\n",
              "      <td>1</td>\n",
              "      <td>TRANSP. VITHEO</td>\n",
              "      <td>02</td>\n",
              "      <td>20200527</td>\n",
              "      <td>00</td>\n",
              "      <td>NaN</td>\n",
              "      <td>NaN</td>\n",
              "      <td>20200527</td>\n",
              "      <td>4930201</td>\n",
              "      <td>5320202,4930204,5229099</td>\n",
              "      <td>RUA</td>\n",
              "      <td>VALDIR PEDRO MARTINELLI</td>\n",
              "      <td>65</td>\n",
              "      <td>NaN</td>\n",
              "      <td>BOA VISTA</td>\n",
              "      <td>93230062</td>\n",
              "      <td>RS</td>\n",
              "      <td>8901</td>\n",
              "      <td>51</td>\n",
              "      <td>34592277</td>\n",
              "      <td>NaN</td>\n",
              "      <td>NaN</td>\n",
              "      <td>NaN</td>\n",
              "      <td>NaN</td>\n",
              "      <td>VONICIUSVITHEO@GMAIL.COM</td>\n",
              "      <td>NaN</td>\n",
              "      <td>NaN</td>\n",
              "    </tr>\n",
              "    <tr>\n",
              "      <th>2</th>\n",
              "      <td>37249931</td>\n",
              "      <td>0001</td>\n",
              "      <td>38</td>\n",
              "      <td>1</td>\n",
              "      <td>LN ARTESANATOS</td>\n",
              "      <td>02</td>\n",
              "      <td>20200527</td>\n",
              "      <td>00</td>\n",
              "      <td>NaN</td>\n",
              "      <td>NaN</td>\n",
              "      <td>20200527</td>\n",
              "      <td>1359600</td>\n",
              "      <td>4789099,1412602,1412601,2229399,4772500,174940...</td>\n",
              "      <td>RUA</td>\n",
              "      <td>ADALGISA SUZANO</td>\n",
              "      <td>34</td>\n",
              "      <td>CASA FUNDOS</td>\n",
              "      <td>SANTA CRUZ</td>\n",
              "      <td>23560060</td>\n",
              "      <td>RJ</td>\n",
              "      <td>6001</td>\n",
              "      <td>21</td>\n",
              "      <td>26691068</td>\n",
              "      <td>NaN</td>\n",
              "      <td>NaN</td>\n",
              "      <td>NaN</td>\n",
              "      <td>NaN</td>\n",
              "      <td>LUA.A.NEPO@GMAIL.COM</td>\n",
              "      <td>NaN</td>\n",
              "      <td>NaN</td>\n",
              "    </tr>\n",
              "    <tr>\n",
              "      <th>3</th>\n",
              "      <td>37249942</td>\n",
              "      <td>0001</td>\n",
              "      <td>18</td>\n",
              "      <td>1</td>\n",
              "      <td>NaN</td>\n",
              "      <td>02</td>\n",
              "      <td>20200527</td>\n",
              "      <td>00</td>\n",
              "      <td>NaN</td>\n",
              "      <td>NaN</td>\n",
              "      <td>20200527</td>\n",
              "      <td>5229099</td>\n",
              "      <td>NaN</td>\n",
              "      <td>RUA</td>\n",
              "      <td>SYLVIO RIBEIRO ARAGAO</td>\n",
              "      <td>12550</td>\n",
              "      <td>BLOCO 7;APT 502</td>\n",
              "      <td>JOQUEI CLUBE</td>\n",
              "      <td>36083571</td>\n",
              "      <td>MG</td>\n",
              "      <td>4733</td>\n",
              "      <td>32</td>\n",
              "      <td>88814231</td>\n",
              "      <td>NaN</td>\n",
              "      <td>NaN</td>\n",
              "      <td>NaN</td>\n",
              "      <td>NaN</td>\n",
              "      <td>DJFELIPECASTROJF@GMAIL.COM</td>\n",
              "      <td>NaN</td>\n",
              "      <td>NaN</td>\n",
              "    </tr>\n",
              "    <tr>\n",
              "      <th>4</th>\n",
              "      <td>37249954</td>\n",
              "      <td>0001</td>\n",
              "      <td>42</td>\n",
              "      <td>1</td>\n",
              "      <td>KOURY STORE MKP</td>\n",
              "      <td>08</td>\n",
              "      <td>20210317</td>\n",
              "      <td>01</td>\n",
              "      <td>NaN</td>\n",
              "      <td>NaN</td>\n",
              "      <td>20200527</td>\n",
              "      <td>4781400</td>\n",
              "      <td>4789099,4723700,7319002,4729699,4763602,477250...</td>\n",
              "      <td>ESTRADA</td>\n",
              "      <td>DO TAPANA</td>\n",
              "      <td>4440</td>\n",
              "      <td>COND JBV2;BLOCO 28;APT 001</td>\n",
              "      <td>TAPANA (ICOARACI)</td>\n",
              "      <td>66825010</td>\n",
              "      <td>PA</td>\n",
              "      <td>0427</td>\n",
              "      <td>91</td>\n",
              "      <td>81804729</td>\n",
              "      <td>NaN</td>\n",
              "      <td>NaN</td>\n",
              "      <td>NaN</td>\n",
              "      <td>NaN</td>\n",
              "      <td>RAFAELKOURY92@GMAIL.COM</td>\n",
              "      <td>NaN</td>\n",
              "      <td>NaN</td>\n",
              "    </tr>\n",
              "  </tbody>\n",
              "</table>\n",
              "</div>"
            ],
            "text/plain": [
              "  cnpj_basico cnpj_ordem  ... situacao_especial data_situacao_especial\n",
              "0    37249908       0001  ...               NaN                    NaN\n",
              "1    37249917       0001  ...               NaN                    NaN\n",
              "2    37249931       0001  ...               NaN                    NaN\n",
              "3    37249942       0001  ...               NaN                    NaN\n",
              "4    37249954       0001  ...               NaN                    NaN\n",
              "\n",
              "[5 rows x 30 columns]"
            ]
          },
          "metadata": {
            "tags": []
          },
          "execution_count": 6
        }
      ]
    },
    {
      "cell_type": "markdown",
      "metadata": {
        "id": "F61ItDv3Ls3k"
      },
      "source": [
        "# **Tratamento das colunas do Dataset**"
      ]
    },
    {
      "cell_type": "code",
      "metadata": {
        "colab": {
          "base_uri": "https://localhost:8080/"
        },
        "id": "9pmFAIfGIO2-",
        "outputId": "3894840b-03a5-4130-fc6d-580adc04b838"
      },
      "source": [
        "cnpj_estabelecimento_todas_parte02.isna().sum()"
      ],
      "execution_count": 7,
      "outputs": [
        {
          "output_type": "execute_result",
          "data": {
            "text/plain": [
              "cnpj_basico                         0\n",
              "cnpj_ordem                          0\n",
              "cnpj_dv                             0\n",
              "matriz_filial                       0\n",
              "nome_fantasia                 9967743\n",
              "codigo_situacao_cadastral           0\n",
              "data_situacao_cadastral             0\n",
              "motivo_situacao_cadastral           0\n",
              "nome_cidade_exterior         23754056\n",
              "codigo_pais                  23705443\n",
              "data_inicio_atividade               0\n",
              "cnae_principal                      0\n",
              "cnae_secundario              13698593\n",
              "tipo_logradouro                458037\n",
              "logradouro                       1025\n",
              "numero                            861\n",
              "complemento                  13936467\n",
              "bairro                         190108\n",
              "cep                             73898\n",
              "uf                                  0\n",
              "codigo_municipio_siafi              0\n",
              "ddd1                          6261673\n",
              "telefone1                     6261634\n",
              "ddd2                         21723414\n",
              "telefone2                    21726945\n",
              "dddfax                       20248506\n",
              "fax                          20246156\n",
              "email                        11396062\n",
              "situacao_especial            23767137\n",
              "data_situacao_especial       23767137\n",
              "dtype: int64"
            ]
          },
          "metadata": {
            "tags": []
          },
          "execution_count": 7
        }
      ]
    },
    {
      "cell_type": "markdown",
      "metadata": {
        "id": "iZK-3EmyUE8t"
      },
      "source": [
        "**As colunas a seguir serão eliminados pelas seguintes motivações:**\n",
        "\n",
        "1.   Devido ao grande número de registros sem informações e a sua irrelevância para o para o projeto em estudo:\n",
        "*   nome_fantasia\n",
        "*   nome_cidade_exterior\n",
        "*   codigo_pais\n",
        "*   tipo_logradouro\n",
        "*   logradouro\n",
        "*   numero\n",
        "*   complemento\n",
        "*   bairro\n",
        "*   cep\n",
        "*   uf\n",
        "*   ddd1\n",
        "*   telefone1\n",
        "*   ddd2\n",
        "*   telefone2\n",
        "*   dddfax\n",
        "*   fax\n",
        "*   email\n",
        "*   situacao_especial\n",
        "\n",
        "\n",
        "\n",
        "2.   A coluna \"motivo_situacao_cadastral\" traz o motivo pelo qual a Situação Cadastral do CNPJ foi alterada. No nosso estudo, como o TARGET é a Situação Cadastral \"02\" ou \"08\", indenpendentemente do seu motivo, a coluna será eliminada.\n",
        "\n",
        "\n",
        "\n",
        "3.   A coluna \"cnae_secundario\" traz um detalhamento excessivo para o CNAE da empresa. No nosso estudo, para diminuirmos a amplitude das informações, iremos trabalhar com a classificação da Secão e e da Divisão, além do CANE principal. Por esse motivo, a coluna \"cnae_secundario\" será eliminada."
      ]
    },
    {
      "cell_type": "code",
      "metadata": {
        "id": "O45Fa5MPoMgg"
      },
      "source": [
        "cnpj_estabelecimento_todas_parte02 = cnpj_estabelecimento_todas_parte02.drop(['motivo_situacao_cadastral','nome_fantasia','nome_cidade_exterior','codigo_pais','cnae_secundario','tipo_logradouro',\t'logradouro',\t'numero',\t'complemento',\t'bairro',\t'cep',\t'uf','ddd1',\t'telefone1',\t'ddd2',\t'telefone2',\t'dddfax',\t'fax', 'email',\t'situacao_especial',\t'data_situacao_especial'], axis=1) #eliminação das co"
      ],
      "execution_count": 8,
      "outputs": []
    },
    {
      "cell_type": "markdown",
      "metadata": {
        "id": "PTO-LoAaNXkr"
      },
      "source": [
        "# **CORTE NO DATASET DE ESTABELECIMENTOS**"
      ]
    },
    {
      "cell_type": "markdown",
      "metadata": {
        "id": "3PbqngGiSpOl"
      },
      "source": [
        "\n",
        "Para um melhor estudo do impacto da COVID no fechamento das empresas, realizamos duas seleções no dataset de estabelecimentos (base do estudo) considerando a data da situação cadastral como delimitador do prazo e selecionando os CNPJ´s pelo Código da Situação Cadastral.\n",
        "\n",
        "*   **PERÍODO: No total, estamos avaliando 28 meses de atividade, divididos da seguinte forma:**\n",
        "\n",
        "1.   Período 20-21 - COM COVID (14 meses) - Início: 01/04/2020 - Término: 31/05/2021\n",
        "2.   Período 19-20 - SEM COVID (14 meses) - Início: 01/02/2019 - Término: 31/03/2020\n",
        "\n",
        "*   **SITUAÇÃO CADASTRAL: Iremos avaliar somente os CNPJ´s abaixo descritos:**\n",
        "\n",
        "1.   CNPJ´s FECHADOS - situação cadastral igual a \"8\"\n",
        "2.   CNPJ´s ABERTOS - situação cadastral igual a \"2\""
      ]
    },
    {
      "cell_type": "code",
      "metadata": {
        "id": "x7kKBjcttNnq"
      },
      "source": [
        "cnpj_estabelecimento_todas_parte02 = cnpj_estabelecimento_todas_parte02.query( 'codigo_situacao_cadastral==\"02\" or codigo_situacao_cadastral==\"08\" ')"
      ],
      "execution_count": 9,
      "outputs": []
    },
    {
      "cell_type": "code",
      "metadata": {
        "id": "PLUpKtcyEV0x"
      },
      "source": [
        "cnpj_estabelecimento_todas_parte02 = cnpj_estabelecimento_todas_parte02.query('data_situacao_cadastral >= \"20190201\" and data_situacao_cadastral <= \"20210531\" ')"
      ],
      "execution_count": 10,
      "outputs": []
    },
    {
      "cell_type": "markdown",
      "metadata": {
        "id": "tiD5KfZhPFo7"
      },
      "source": [
        "# **GRAVAÇÃO DO DATASET**"
      ]
    },
    {
      "cell_type": "code",
      "metadata": {
        "colab": {
          "base_uri": "https://localhost:8080/"
        },
        "id": "939kRd4STC3E",
        "outputId": "64badc6b-f47a-40d4-f3ca-eddcca97a934"
      },
      "source": [
        "cnpj_estabelecimento_todas_parte02.shape"
      ],
      "execution_count": 11,
      "outputs": [
        {
          "output_type": "execute_result",
          "data": {
            "text/plain": [
              "(5140269, 9)"
            ]
          },
          "metadata": {
            "tags": []
          },
          "execution_count": 11
        }
      ]
    },
    {
      "cell_type": "code",
      "metadata": {
        "id": "G_Tn7O4HpleV",
        "colab": {
          "base_uri": "https://localhost:8080/"
        },
        "outputId": "7f02a441-5c01-4762-fc37-980f2d18d81b"
      },
      "source": [
        "cnpj_estabelecimento_todas_parte02.dtypes"
      ],
      "execution_count": 12,
      "outputs": [
        {
          "output_type": "execute_result",
          "data": {
            "text/plain": [
              "cnpj_basico                  object\n",
              "cnpj_ordem                   object\n",
              "cnpj_dv                      object\n",
              "matriz_filial                object\n",
              "codigo_situacao_cadastral    object\n",
              "data_situacao_cadastral      object\n",
              "data_inicio_atividade        object\n",
              "cnae_principal               object\n",
              "codigo_municipio_siafi       object\n",
              "dtype: object"
            ]
          },
          "metadata": {
            "tags": []
          },
          "execution_count": 12
        }
      ]
    },
    {
      "cell_type": "code",
      "metadata": {
        "colab": {
          "base_uri": "https://localhost:8080/",
          "height": 197
        },
        "id": "7nxjTFj8Qw5K",
        "outputId": "6221632e-73fa-4937-e3f5-6cf8e1334bde"
      },
      "source": [
        "cnpj_estabelecimento_todas_parte02.head()"
      ],
      "execution_count": 13,
      "outputs": [
        {
          "output_type": "execute_result",
          "data": {
            "text/html": [
              "<div>\n",
              "<style scoped>\n",
              "    .dataframe tbody tr th:only-of-type {\n",
              "        vertical-align: middle;\n",
              "    }\n",
              "\n",
              "    .dataframe tbody tr th {\n",
              "        vertical-align: top;\n",
              "    }\n",
              "\n",
              "    .dataframe thead th {\n",
              "        text-align: right;\n",
              "    }\n",
              "</style>\n",
              "<table border=\"1\" class=\"dataframe\">\n",
              "  <thead>\n",
              "    <tr style=\"text-align: right;\">\n",
              "      <th></th>\n",
              "      <th>cnpj_basico</th>\n",
              "      <th>cnpj_ordem</th>\n",
              "      <th>cnpj_dv</th>\n",
              "      <th>matriz_filial</th>\n",
              "      <th>codigo_situacao_cadastral</th>\n",
              "      <th>data_situacao_cadastral</th>\n",
              "      <th>data_inicio_atividade</th>\n",
              "      <th>cnae_principal</th>\n",
              "      <th>codigo_municipio_siafi</th>\n",
              "    </tr>\n",
              "  </thead>\n",
              "  <tbody>\n",
              "    <tr>\n",
              "      <th>0</th>\n",
              "      <td>37249908</td>\n",
              "      <td>0001</td>\n",
              "      <td>43</td>\n",
              "      <td>1</td>\n",
              "      <td>02</td>\n",
              "      <td>20200527</td>\n",
              "      <td>20200527</td>\n",
              "      <td>5611203</td>\n",
              "      <td>6001</td>\n",
              "    </tr>\n",
              "    <tr>\n",
              "      <th>1</th>\n",
              "      <td>37249917</td>\n",
              "      <td>0001</td>\n",
              "      <td>34</td>\n",
              "      <td>1</td>\n",
              "      <td>02</td>\n",
              "      <td>20200527</td>\n",
              "      <td>20200527</td>\n",
              "      <td>4930201</td>\n",
              "      <td>8901</td>\n",
              "    </tr>\n",
              "    <tr>\n",
              "      <th>2</th>\n",
              "      <td>37249931</td>\n",
              "      <td>0001</td>\n",
              "      <td>38</td>\n",
              "      <td>1</td>\n",
              "      <td>02</td>\n",
              "      <td>20200527</td>\n",
              "      <td>20200527</td>\n",
              "      <td>1359600</td>\n",
              "      <td>6001</td>\n",
              "    </tr>\n",
              "    <tr>\n",
              "      <th>3</th>\n",
              "      <td>37249942</td>\n",
              "      <td>0001</td>\n",
              "      <td>18</td>\n",
              "      <td>1</td>\n",
              "      <td>02</td>\n",
              "      <td>20200527</td>\n",
              "      <td>20200527</td>\n",
              "      <td>5229099</td>\n",
              "      <td>4733</td>\n",
              "    </tr>\n",
              "    <tr>\n",
              "      <th>4</th>\n",
              "      <td>37249954</td>\n",
              "      <td>0001</td>\n",
              "      <td>42</td>\n",
              "      <td>1</td>\n",
              "      <td>08</td>\n",
              "      <td>20210317</td>\n",
              "      <td>20200527</td>\n",
              "      <td>4781400</td>\n",
              "      <td>0427</td>\n",
              "    </tr>\n",
              "  </tbody>\n",
              "</table>\n",
              "</div>"
            ],
            "text/plain": [
              "  cnpj_basico cnpj_ordem  ... cnae_principal codigo_municipio_siafi\n",
              "0    37249908       0001  ...        5611203                   6001\n",
              "1    37249917       0001  ...        4930201                   8901\n",
              "2    37249931       0001  ...        1359600                   6001\n",
              "3    37249942       0001  ...        5229099                   4733\n",
              "4    37249954       0001  ...        4781400                   0427\n",
              "\n",
              "[5 rows x 9 columns]"
            ]
          },
          "metadata": {
            "tags": []
          },
          "execution_count": 13
        }
      ]
    },
    {
      "cell_type": "code",
      "metadata": {
        "id": "GLiuD_X_jXpG"
      },
      "source": [
        "cnpj_estabelecimento_todas_parte02.to_csv('/content/drive/MyDrive/TCC - PUC/cnpj_estabelecimento_todas_parte02.csv', index=False, sep=';') "
      ],
      "execution_count": 14,
      "outputs": []
    }
  ]
}