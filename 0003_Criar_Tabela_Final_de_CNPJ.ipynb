{
  "nbformat": 4,
  "nbformat_minor": 0,
  "metadata": {
    "colab": {
      "name": "0003 - Criar Tabela Final de CNPJ.ipynb",
      "provenance": [],
      "collapsed_sections": [],
      "machine_shape": "hm"
    },
    "kernelspec": {
      "name": "python3",
      "display_name": "Python 3"
    },
    "language_info": {
      "name": "python"
    }
  },
  "cells": [
    {
      "cell_type": "code",
      "metadata": {
        "id": "Lm_XYoX5iDhu"
      },
      "source": [
        "import pandas as pd\n",
        "import numpy as np"
      ],
      "execution_count": 1,
      "outputs": []
    },
    {
      "cell_type": "code",
      "metadata": {
        "colab": {
          "base_uri": "https://localhost:8080/"
        },
        "id": "bCXl3RnliGaI",
        "outputId": "8ca49f7b-2ef4-4e49-8eac-8161fae0394c"
      },
      "source": [
        "from google.colab import drive\n",
        "drive.mount('/content/drive')"
      ],
      "execution_count": 2,
      "outputs": [
        {
          "output_type": "stream",
          "text": [
            "Mounted at /content/drive\n"
          ],
          "name": "stdout"
        }
      ]
    },
    {
      "cell_type": "markdown",
      "metadata": {
        "id": "8aCcEOGTauQG"
      },
      "source": [
        "# **CARREGAMENTO DOS DADOS - Dados Abertos CNPJ EMPRESA**\n"
      ]
    },
    {
      "cell_type": "markdown",
      "metadata": {
        "id": "9PQ2nGIITUtu"
      },
      "source": [
        "*   Os dados dos CNPJ´s são a base do nosso estudo. Neles encontraremos as principais informações da empresas alvo do trabalho. Iremos, por conta do alto volume de dados, executar o carregamento e junção dos dados dos CNPJ´s em 3 notebooks. Os dados de CNPJ estão divididos em dois grupos:\n",
        "\n",
        "1.   Dados Abertos CNPJ EMPRESA\n",
        "2.   Dados Abertos CNPJ ESTABELECIMENTO\n",
        "\n",
        "-------------\n",
        "\n",
        "Tabela de CNPJ´s do site da Receita Federal\n",
        "\n",
        "*   https://www.gov.br/receitafederal/pt-br/assuntos/orientacao-tributaria/cadastros/consultas/dados-publicos-cnpj"
      ]
    },
    {
      "cell_type": "code",
      "metadata": {
        "id": "X0HvA-yFki3f"
      },
      "source": [
        "cnpj_empresa_01 = pd.read_csv('/content/drive/MyDrive/TCC - PUC/Dados Abertos CNPJ EMPRESA 01.csv', names=['cnpj_basico', 'razao_social', 'natureza_juridica', 'qualificacao_responsavel', 'capital_social', 'porte_empresa', 'ente_federativo_responsavel'],encoding='ISO-8859-1',decimal=',', sep=';' ,dtype=str, header=None,)\n",
        "cnpj_empresa_02 = pd.read_csv('/content/drive/MyDrive/TCC - PUC/Dados Abertos CNPJ EMPRESA 02.csv', names=['cnpj_basico', 'razao_social', 'natureza_juridica', 'qualificacao_responsavel', 'capital_social', 'porte_empresa', 'ente_federativo_responsavel'],encoding='ISO-8859-1',decimal=',', sep=';' ,dtype=str, header=None,)\n",
        "cnpj_empresa_03 = pd.read_csv('/content/drive/MyDrive/TCC - PUC/Dados Abertos CNPJ EMPRESA 03.csv', names=['cnpj_basico', 'razao_social', 'natureza_juridica', 'qualificacao_responsavel', 'capital_social', 'porte_empresa', 'ente_federativo_responsavel'],encoding='ISO-8859-1',decimal=',', sep=';' ,dtype=str, header=None,)\n",
        "cnpj_empresa_04 = pd.read_csv('/content/drive/MyDrive/TCC - PUC/Dados Abertos CNPJ EMPRESA 04.csv', names=['cnpj_basico', 'razao_social', 'natureza_juridica', 'qualificacao_responsavel', 'capital_social', 'porte_empresa', 'ente_federativo_responsavel'],encoding='ISO-8859-1',decimal=',', sep=';' ,dtype=str, header=None,)\n",
        "cnpj_empresa_05 = pd.read_csv('/content/drive/MyDrive/TCC - PUC/Dados Abertos CNPJ EMPRESA 05.csv', names=['cnpj_basico', 'razao_social', 'natureza_juridica', 'qualificacao_responsavel', 'capital_social', 'porte_empresa', 'ente_federativo_responsavel'],encoding='ISO-8859-1',decimal=',', sep=';' ,dtype=str, header=None,)\n",
        "cnpj_empresa_06 = pd.read_csv('/content/drive/MyDrive/TCC - PUC/Dados Abertos CNPJ EMPRESA 06.csv', names=['cnpj_basico', 'razao_social', 'natureza_juridica', 'qualificacao_responsavel', 'capital_social', 'porte_empresa', 'ente_federativo_responsavel'],encoding='ISO-8859-1',decimal=',', sep=';' ,dtype=str, header=None,)\n",
        "cnpj_empresa_07 = pd.read_csv('/content/drive/MyDrive/TCC - PUC/Dados Abertos CNPJ EMPRESA 07.csv', names=['cnpj_basico', 'razao_social', 'natureza_juridica', 'qualificacao_responsavel', 'capital_social', 'porte_empresa', 'ente_federativo_responsavel'],encoding='ISO-8859-1',decimal=',', sep=';' ,dtype=str, header=None,)\n",
        "cnpj_empresa_08 = pd.read_csv('/content/drive/MyDrive/TCC - PUC/Dados Abertos CNPJ EMPRESA 08.csv', names=['cnpj_basico', 'razao_social', 'natureza_juridica', 'qualificacao_responsavel', 'capital_social', 'porte_empresa', 'ente_federativo_responsavel'],encoding='ISO-8859-1',decimal=',', sep=';' ,dtype=str, header=None,)\n",
        "cnpj_empresa_09 = pd.read_csv('/content/drive/MyDrive/TCC - PUC/Dados Abertos CNPJ EMPRESA 09.csv', names=['cnpj_basico', 'razao_social', 'natureza_juridica', 'qualificacao_responsavel', 'capital_social', 'porte_empresa', 'ente_federativo_responsavel'],encoding='ISO-8859-1',decimal=',', sep=';' ,dtype=str, header=None,)\n",
        "cnpj_empresa_10 = pd.read_csv('/content/drive/MyDrive/TCC - PUC/Dados Abertos CNPJ EMPRESA 10.csv', names=['cnpj_basico', 'razao_social', 'natureza_juridica', 'qualificacao_responsavel', 'capital_social', 'porte_empresa', 'ente_federativo_responsavel'],encoding='ISO-8859-1',decimal=',', sep=';' ,dtype=str, header=None,)"
      ],
      "execution_count": 3,
      "outputs": []
    },
    {
      "cell_type": "code",
      "metadata": {
        "id": "4XwHsNQPqfJr"
      },
      "source": [
        "cnpj_empresa_todas = pd.concat([cnpj_empresa_01, cnpj_empresa_02, cnpj_empresa_03, cnpj_empresa_04, cnpj_empresa_05, cnpj_empresa_06, cnpj_empresa_07, cnpj_empresa_08, cnpj_empresa_09, cnpj_empresa_10], axis=0)"
      ],
      "execution_count": 4,
      "outputs": []
    },
    {
      "cell_type": "code",
      "metadata": {
        "colab": {
          "base_uri": "https://localhost:8080/"
        },
        "id": "4mADKL3Or89c",
        "outputId": "aa1f26fe-e8e4-4c32-9a3d-522d46cab788"
      },
      "source": [
        "cnpj_empresa_todas.shape"
      ],
      "execution_count": 5,
      "outputs": [
        {
          "output_type": "execute_result",
          "data": {
            "text/plain": [
              "(46232299, 7)"
            ]
          },
          "metadata": {
            "tags": []
          },
          "execution_count": 5
        }
      ]
    },
    {
      "cell_type": "code",
      "metadata": {
        "id": "MCBJIdxCJAU4",
        "colab": {
          "base_uri": "https://localhost:8080/"
        },
        "outputId": "dccbad52-161d-4d56-aa0c-bdc11440f1f7"
      },
      "source": [
        "cnpj_empresa_todas.dtypes"
      ],
      "execution_count": 6,
      "outputs": [
        {
          "output_type": "execute_result",
          "data": {
            "text/plain": [
              "cnpj_basico                    object\n",
              "razao_social                   object\n",
              "natureza_juridica              object\n",
              "qualificacao_responsavel       object\n",
              "capital_social                 object\n",
              "porte_empresa                  object\n",
              "ente_federativo_responsavel    object\n",
              "dtype: object"
            ]
          },
          "metadata": {
            "tags": []
          },
          "execution_count": 6
        }
      ]
    },
    {
      "cell_type": "code",
      "metadata": {
        "colab": {
          "base_uri": "https://localhost:8080/",
          "height": 197
        },
        "id": "zGVWtIPsr89d",
        "outputId": "572f6f44-589e-44c0-a74d-3a7b7486f4d3"
      },
      "source": [
        "cnpj_empresa_todas.head()"
      ],
      "execution_count": 7,
      "outputs": [
        {
          "output_type": "execute_result",
          "data": {
            "text/html": [
              "<div>\n",
              "<style scoped>\n",
              "    .dataframe tbody tr th:only-of-type {\n",
              "        vertical-align: middle;\n",
              "    }\n",
              "\n",
              "    .dataframe tbody tr th {\n",
              "        vertical-align: top;\n",
              "    }\n",
              "\n",
              "    .dataframe thead th {\n",
              "        text-align: right;\n",
              "    }\n",
              "</style>\n",
              "<table border=\"1\" class=\"dataframe\">\n",
              "  <thead>\n",
              "    <tr style=\"text-align: right;\">\n",
              "      <th></th>\n",
              "      <th>cnpj_basico</th>\n",
              "      <th>razao_social</th>\n",
              "      <th>natureza_juridica</th>\n",
              "      <th>qualificacao_responsavel</th>\n",
              "      <th>capital_social</th>\n",
              "      <th>porte_empresa</th>\n",
              "      <th>ente_federativo_responsavel</th>\n",
              "    </tr>\n",
              "  </thead>\n",
              "  <tbody>\n",
              "    <tr>\n",
              "      <th>0</th>\n",
              "      <td>41273604</td>\n",
              "      <td>RUMO - ESTUDIO DE DANCA LTDA</td>\n",
              "      <td>2062</td>\n",
              "      <td>49</td>\n",
              "      <td>10000,00</td>\n",
              "      <td>01</td>\n",
              "      <td>NaN</td>\n",
              "    </tr>\n",
              "    <tr>\n",
              "      <th>1</th>\n",
              "      <td>41273605</td>\n",
              "      <td>WALLACE DE OLIVEIRA SILVA 42992101826</td>\n",
              "      <td>2135</td>\n",
              "      <td>50</td>\n",
              "      <td>1000,00</td>\n",
              "      <td>01</td>\n",
              "      <td>NaN</td>\n",
              "    </tr>\n",
              "    <tr>\n",
              "      <th>2</th>\n",
              "      <td>41273606</td>\n",
              "      <td>MARCOS CESAR DE MELO JUNIOR 02569327190</td>\n",
              "      <td>2135</td>\n",
              "      <td>50</td>\n",
              "      <td>72000,00</td>\n",
              "      <td>01</td>\n",
              "      <td>NaN</td>\n",
              "    </tr>\n",
              "    <tr>\n",
              "      <th>3</th>\n",
              "      <td>41273607</td>\n",
              "      <td>LAYANE SCARLETT DE SOUZA ARAUJO 07071498199</td>\n",
              "      <td>2135</td>\n",
              "      <td>50</td>\n",
              "      <td>1,00</td>\n",
              "      <td>01</td>\n",
              "      <td>NaN</td>\n",
              "    </tr>\n",
              "    <tr>\n",
              "      <th>4</th>\n",
              "      <td>41273608</td>\n",
              "      <td>FRANCISCA SAMPAIO DE OLIVEIRA</td>\n",
              "      <td>2135</td>\n",
              "      <td>50</td>\n",
              "      <td>0,00</td>\n",
              "      <td>01</td>\n",
              "      <td>NaN</td>\n",
              "    </tr>\n",
              "  </tbody>\n",
              "</table>\n",
              "</div>"
            ],
            "text/plain": [
              "  cnpj_basico  ... ente_federativo_responsavel\n",
              "0    41273604  ...                         NaN\n",
              "1    41273605  ...                         NaN\n",
              "2    41273606  ...                         NaN\n",
              "3    41273607  ...                         NaN\n",
              "4    41273608  ...                         NaN\n",
              "\n",
              "[5 rows x 7 columns]"
            ]
          },
          "metadata": {
            "tags": []
          },
          "execution_count": 7
        }
      ]
    },
    {
      "cell_type": "markdown",
      "metadata": {
        "id": "JrbMRHCKq8rT"
      },
      "source": [
        "# **Tratamento das colunas do Dataset**"
      ]
    },
    {
      "cell_type": "code",
      "metadata": {
        "id": "6PxNNWNnrC_T",
        "colab": {
          "base_uri": "https://localhost:8080/"
        },
        "outputId": "2de970e9-3b0d-40f6-c2d8-c72be486ff07"
      },
      "source": [
        "cnpj_empresa_todas.isna().sum()"
      ],
      "execution_count": 8,
      "outputs": [
        {
          "output_type": "execute_result",
          "data": {
            "text/plain": [
              "cnpj_basico                           0\n",
              "razao_social                          0\n",
              "natureza_juridica                     0\n",
              "qualificacao_responsavel              0\n",
              "capital_social                        0\n",
              "porte_empresa                     59882\n",
              "ente_federativo_responsavel    46172676\n",
              "dtype: int64"
            ]
          },
          "metadata": {
            "tags": []
          },
          "execution_count": 8
        }
      ]
    },
    {
      "cell_type": "markdown",
      "metadata": {
        "id": "oydyx7j0UIVc"
      },
      "source": [
        "## **As colunas a seguir serão eliminados pelas seguintes motivações:**\n",
        "\n"
      ]
    },
    {
      "cell_type": "markdown",
      "metadata": {
        "id": "uMrngrp0vxER"
      },
      "source": [
        "*   Razão Social: Traz o nome do estabelecimento. Por tratar-se de uma informação praticamente única para cada CNPJ, a informação é irrelevante para o estudo.\n",
        "\n",
        "*   Natureza Jurídica e Qualificação do Responsável: Traz informações sobre a característica da empresa. Como essas informações são complementares ao código CNAE, optamos pela eliminação.\n",
        "\n",
        "*   Ente Federativo Responsável: Informação redundante da informação do código SIAFI que será concatenado a seguir da tabela de Estabelecimentos.\n",
        "\n",
        "*   Porte da Empresa: conforme códigos do cadastro, a esmagadora maioria refere-se aos códigos 1 e 5, sem relevância para o estudo. Os números podem ser observados na pesquisa abaixo:\n",
        "\n",
        "*   01 – NÃO INFORMADO\n",
        "*   02 - MICRO EMPRESA\n",
        "*   03 - EMPRESA DE PEQUENO PORTE\n",
        "*   05 - DEMAIS"
      ]
    },
    {
      "cell_type": "code",
      "metadata": {
        "id": "7iW3TSwuvBJ7"
      },
      "source": [
        "porte_empresa = cnpj_empresa_todas.groupby('porte_empresa')['porte_empresa'].count()"
      ],
      "execution_count": 9,
      "outputs": []
    },
    {
      "cell_type": "code",
      "metadata": {
        "colab": {
          "base_uri": "https://localhost:8080/"
        },
        "id": "auVe5bXKvLqK",
        "outputId": "7687c318-967f-4666-be5c-1c36aab267e4"
      },
      "source": [
        "porte_empresa"
      ],
      "execution_count": 10,
      "outputs": [
        {
          "output_type": "execute_result",
          "data": {
            "text/plain": [
              "porte_empresa\n",
              "01    31649224\n",
              "03     1168801\n",
              "05    13354392\n",
              "Name: porte_empresa, dtype: int64"
            ]
          },
          "metadata": {
            "tags": []
          },
          "execution_count": 10
        }
      ]
    },
    {
      "cell_type": "markdown",
      "metadata": {
        "id": "DXN299zM7lGw"
      },
      "source": [
        "## **Eliminação das colunas**"
      ]
    },
    {
      "cell_type": "code",
      "metadata": {
        "id": "O45Fa5MPoMgg"
      },
      "source": [
        "cnpj_empresa_todas = cnpj_empresa_todas.drop(['razao_social','natureza_juridica','qualificacao_responsavel','porte_empresa','ente_federativo_responsavel'], axis=1)\n"
      ],
      "execution_count": 11,
      "outputs": []
    },
    {
      "cell_type": "markdown",
      "metadata": {
        "id": "LE4b_EmGUWGd"
      },
      "source": [
        "# **CARREGAMENTO DOS DADOS - Dados Abertos CNPJ ESTABELECIMENTO**"
      ]
    },
    {
      "cell_type": "code",
      "metadata": {
        "id": "MdcZHRoPP5Rk"
      },
      "source": [
        "cnpj_estabelecimento_todas_parte01 = pd.read_csv('/content/drive/MyDrive/TCC - PUC/cnpj_estabelecimento_todas_parte01.csv',encoding='ISO-8859-1', sep=';' ,dtype=str, header=0)\n",
        "cnpj_estabelecimento_todas_parte02 = pd.read_csv('/content/drive/MyDrive/TCC - PUC/cnpj_estabelecimento_todas_parte02.csv',encoding='ISO-8859-1', sep=';' ,dtype=str, header=0)"
      ],
      "execution_count": 12,
      "outputs": []
    },
    {
      "cell_type": "code",
      "metadata": {
        "id": "CJhnSFanSePn"
      },
      "source": [
        "cnpj_estabelecimento_todas = pd.concat([cnpj_estabelecimento_todas_parte01, cnpj_estabelecimento_todas_parte02], axis=0)"
      ],
      "execution_count": 13,
      "outputs": []
    },
    {
      "cell_type": "code",
      "metadata": {
        "id": "qn3RratRl9Ha",
        "colab": {
          "base_uri": "https://localhost:8080/"
        },
        "outputId": "d6b5c7d5-10c5-4ed8-c22f-277e147b81e6"
      },
      "source": [
        "cnpj_estabelecimento_todas.shape"
      ],
      "execution_count": 14,
      "outputs": [
        {
          "output_type": "execute_result",
          "data": {
            "text/plain": [
              "(11157257, 9)"
            ]
          },
          "metadata": {
            "tags": []
          },
          "execution_count": 14
        }
      ]
    },
    {
      "cell_type": "code",
      "metadata": {
        "id": "u6_fwtsEJGqv",
        "colab": {
          "base_uri": "https://localhost:8080/"
        },
        "outputId": "68f03b4c-353b-447b-e81b-7dd6255cbb87"
      },
      "source": [
        "cnpj_estabelecimento_todas.dtypes"
      ],
      "execution_count": 15,
      "outputs": [
        {
          "output_type": "execute_result",
          "data": {
            "text/plain": [
              "cnpj_basico                  object\n",
              "cnpj_ordem                   object\n",
              "cnpj_dv                      object\n",
              "matriz_filial                object\n",
              "codigo_situacao_cadastral    object\n",
              "data_situacao_cadastral      object\n",
              "data_inicio_atividade        object\n",
              "cnae_principal               object\n",
              "codigo_municipio_siafi       object\n",
              "dtype: object"
            ]
          },
          "metadata": {
            "tags": []
          },
          "execution_count": 15
        }
      ]
    },
    {
      "cell_type": "code",
      "metadata": {
        "id": "6N4_23M5rqAk",
        "colab": {
          "base_uri": "https://localhost:8080/",
          "height": 197
        },
        "outputId": "78b1cf50-9862-4be1-e74d-d802ec418ab0"
      },
      "source": [
        "cnpj_estabelecimento_todas.head()"
      ],
      "execution_count": 16,
      "outputs": [
        {
          "output_type": "execute_result",
          "data": {
            "text/html": [
              "<div>\n",
              "<style scoped>\n",
              "    .dataframe tbody tr th:only-of-type {\n",
              "        vertical-align: middle;\n",
              "    }\n",
              "\n",
              "    .dataframe tbody tr th {\n",
              "        vertical-align: top;\n",
              "    }\n",
              "\n",
              "    .dataframe thead th {\n",
              "        text-align: right;\n",
              "    }\n",
              "</style>\n",
              "<table border=\"1\" class=\"dataframe\">\n",
              "  <thead>\n",
              "    <tr style=\"text-align: right;\">\n",
              "      <th></th>\n",
              "      <th>cnpj_basico</th>\n",
              "      <th>cnpj_ordem</th>\n",
              "      <th>cnpj_dv</th>\n",
              "      <th>matriz_filial</th>\n",
              "      <th>codigo_situacao_cadastral</th>\n",
              "      <th>data_situacao_cadastral</th>\n",
              "      <th>data_inicio_atividade</th>\n",
              "      <th>cnae_principal</th>\n",
              "      <th>codigo_municipio_siafi</th>\n",
              "    </tr>\n",
              "  </thead>\n",
              "  <tbody>\n",
              "    <tr>\n",
              "      <th>0</th>\n",
              "      <td>29880642</td>\n",
              "      <td>0001</td>\n",
              "      <td>04</td>\n",
              "      <td>1</td>\n",
              "      <td>08</td>\n",
              "      <td>20190921</td>\n",
              "      <td>20180308</td>\n",
              "      <td>8712300</td>\n",
              "      <td>7107</td>\n",
              "    </tr>\n",
              "    <tr>\n",
              "      <th>1</th>\n",
              "      <td>29880783</td>\n",
              "      <td>0001</td>\n",
              "      <td>27</td>\n",
              "      <td>1</td>\n",
              "      <td>08</td>\n",
              "      <td>20200106</td>\n",
              "      <td>20180308</td>\n",
              "      <td>8630503</td>\n",
              "      <td>4205</td>\n",
              "    </tr>\n",
              "    <tr>\n",
              "      <th>2</th>\n",
              "      <td>29880797</td>\n",
              "      <td>0001</td>\n",
              "      <td>40</td>\n",
              "      <td>1</td>\n",
              "      <td>08</td>\n",
              "      <td>20200507</td>\n",
              "      <td>20180308</td>\n",
              "      <td>9511800</td>\n",
              "      <td>5403</td>\n",
              "    </tr>\n",
              "    <tr>\n",
              "      <th>3</th>\n",
              "      <td>29880805</td>\n",
              "      <td>0001</td>\n",
              "      <td>59</td>\n",
              "      <td>1</td>\n",
              "      <td>08</td>\n",
              "      <td>20190213</td>\n",
              "      <td>20180308</td>\n",
              "      <td>5620104</td>\n",
              "      <td>6623</td>\n",
              "    </tr>\n",
              "    <tr>\n",
              "      <th>4</th>\n",
              "      <td>29880816</td>\n",
              "      <td>0001</td>\n",
              "      <td>39</td>\n",
              "      <td>1</td>\n",
              "      <td>08</td>\n",
              "      <td>20190808</td>\n",
              "      <td>20180308</td>\n",
              "      <td>9602501</td>\n",
              "      <td>3105</td>\n",
              "    </tr>\n",
              "  </tbody>\n",
              "</table>\n",
              "</div>"
            ],
            "text/plain": [
              "  cnpj_basico cnpj_ordem  ... cnae_principal codigo_municipio_siafi\n",
              "0    29880642       0001  ...        8712300                   7107\n",
              "1    29880783       0001  ...        8630503                   4205\n",
              "2    29880797       0001  ...        9511800                   5403\n",
              "3    29880805       0001  ...        5620104                   6623\n",
              "4    29880816       0001  ...        9602501                   3105\n",
              "\n",
              "[5 rows x 9 columns]"
            ]
          },
          "metadata": {
            "tags": []
          },
          "execution_count": 16
        }
      ]
    },
    {
      "cell_type": "markdown",
      "metadata": {
        "id": "cnodwXNlUd6u"
      },
      "source": [
        "# **MERGE e GRAVAÇÃO DO DATASET**"
      ]
    },
    {
      "cell_type": "code",
      "metadata": {
        "id": "PKDhZM_eQfze"
      },
      "source": [
        "cnpj_final = pd.merge(cnpj_estabelecimento_todas, cnpj_empresa_todas, how='left', on='cnpj_basico')"
      ],
      "execution_count": 17,
      "outputs": []
    },
    {
      "cell_type": "code",
      "metadata": {
        "id": "4qxjgALXRGTI",
        "colab": {
          "base_uri": "https://localhost:8080/"
        },
        "outputId": "da676978-6a9d-4ef2-9fff-28974d1e5eac"
      },
      "source": [
        "cnpj_final.shape"
      ],
      "execution_count": 18,
      "outputs": [
        {
          "output_type": "execute_result",
          "data": {
            "text/plain": [
              "(11157257, 10)"
            ]
          },
          "metadata": {
            "tags": []
          },
          "execution_count": 18
        }
      ]
    },
    {
      "cell_type": "code",
      "metadata": {
        "colab": {
          "base_uri": "https://localhost:8080/"
        },
        "id": "SU9lmmxIovN2",
        "outputId": "dbf79d90-492f-4764-9929-b7eba3a50d3f"
      },
      "source": [
        "cnpj_final.dtypes"
      ],
      "execution_count": 19,
      "outputs": [
        {
          "output_type": "execute_result",
          "data": {
            "text/plain": [
              "cnpj_basico                  object\n",
              "cnpj_ordem                   object\n",
              "cnpj_dv                      object\n",
              "matriz_filial                object\n",
              "codigo_situacao_cadastral    object\n",
              "data_situacao_cadastral      object\n",
              "data_inicio_atividade        object\n",
              "cnae_principal               object\n",
              "codigo_municipio_siafi       object\n",
              "capital_social               object\n",
              "dtype: object"
            ]
          },
          "metadata": {
            "tags": []
          },
          "execution_count": 19
        }
      ]
    },
    {
      "cell_type": "code",
      "metadata": {
        "id": "L-7PQtNHsGZ3",
        "colab": {
          "base_uri": "https://localhost:8080/",
          "height": 197
        },
        "outputId": "2b92d054-d1c3-415d-f7cc-8df3ef40de9e"
      },
      "source": [
        "cnpj_final.head()"
      ],
      "execution_count": 20,
      "outputs": [
        {
          "output_type": "execute_result",
          "data": {
            "text/html": [
              "<div>\n",
              "<style scoped>\n",
              "    .dataframe tbody tr th:only-of-type {\n",
              "        vertical-align: middle;\n",
              "    }\n",
              "\n",
              "    .dataframe tbody tr th {\n",
              "        vertical-align: top;\n",
              "    }\n",
              "\n",
              "    .dataframe thead th {\n",
              "        text-align: right;\n",
              "    }\n",
              "</style>\n",
              "<table border=\"1\" class=\"dataframe\">\n",
              "  <thead>\n",
              "    <tr style=\"text-align: right;\">\n",
              "      <th></th>\n",
              "      <th>cnpj_basico</th>\n",
              "      <th>cnpj_ordem</th>\n",
              "      <th>cnpj_dv</th>\n",
              "      <th>matriz_filial</th>\n",
              "      <th>codigo_situacao_cadastral</th>\n",
              "      <th>data_situacao_cadastral</th>\n",
              "      <th>data_inicio_atividade</th>\n",
              "      <th>cnae_principal</th>\n",
              "      <th>codigo_municipio_siafi</th>\n",
              "      <th>capital_social</th>\n",
              "    </tr>\n",
              "  </thead>\n",
              "  <tbody>\n",
              "    <tr>\n",
              "      <th>0</th>\n",
              "      <td>29880642</td>\n",
              "      <td>0001</td>\n",
              "      <td>04</td>\n",
              "      <td>1</td>\n",
              "      <td>08</td>\n",
              "      <td>20190921</td>\n",
              "      <td>20180308</td>\n",
              "      <td>8712300</td>\n",
              "      <td>7107</td>\n",
              "      <td>2000,00</td>\n",
              "    </tr>\n",
              "    <tr>\n",
              "      <th>1</th>\n",
              "      <td>29880783</td>\n",
              "      <td>0001</td>\n",
              "      <td>27</td>\n",
              "      <td>1</td>\n",
              "      <td>08</td>\n",
              "      <td>20200106</td>\n",
              "      <td>20180308</td>\n",
              "      <td>8630503</td>\n",
              "      <td>4205</td>\n",
              "      <td>95400,00</td>\n",
              "    </tr>\n",
              "    <tr>\n",
              "      <th>2</th>\n",
              "      <td>29880797</td>\n",
              "      <td>0001</td>\n",
              "      <td>40</td>\n",
              "      <td>1</td>\n",
              "      <td>08</td>\n",
              "      <td>20200507</td>\n",
              "      <td>20180308</td>\n",
              "      <td>9511800</td>\n",
              "      <td>5403</td>\n",
              "      <td>3500,00</td>\n",
              "    </tr>\n",
              "    <tr>\n",
              "      <th>3</th>\n",
              "      <td>29880805</td>\n",
              "      <td>0001</td>\n",
              "      <td>59</td>\n",
              "      <td>1</td>\n",
              "      <td>08</td>\n",
              "      <td>20190213</td>\n",
              "      <td>20180308</td>\n",
              "      <td>5620104</td>\n",
              "      <td>6623</td>\n",
              "      <td>10000,00</td>\n",
              "    </tr>\n",
              "    <tr>\n",
              "      <th>4</th>\n",
              "      <td>29880816</td>\n",
              "      <td>0001</td>\n",
              "      <td>39</td>\n",
              "      <td>1</td>\n",
              "      <td>08</td>\n",
              "      <td>20190808</td>\n",
              "      <td>20180308</td>\n",
              "      <td>9602501</td>\n",
              "      <td>3105</td>\n",
              "      <td>1000,00</td>\n",
              "    </tr>\n",
              "  </tbody>\n",
              "</table>\n",
              "</div>"
            ],
            "text/plain": [
              "  cnpj_basico cnpj_ordem  ... codigo_municipio_siafi capital_social\n",
              "0    29880642       0001  ...                   7107        2000,00\n",
              "1    29880783       0001  ...                   4205       95400,00\n",
              "2    29880797       0001  ...                   5403        3500,00\n",
              "3    29880805       0001  ...                   6623       10000,00\n",
              "4    29880816       0001  ...                   3105        1000,00\n",
              "\n",
              "[5 rows x 10 columns]"
            ]
          },
          "metadata": {
            "tags": []
          },
          "execution_count": 20
        }
      ]
    },
    {
      "cell_type": "code",
      "metadata": {
        "id": "-t5VVCgGQpRc"
      },
      "source": [
        "cnpj_final.to_csv('/content/drive/MyDrive/TCC - PUC/cnpj_final.csv', index=False, sep=';') "
      ],
      "execution_count": 21,
      "outputs": []
    }
  ]
}