{
  "nbformat": 4,
  "nbformat_minor": 0,
  "metadata": {
    "colab": {
      "name": "0003 - Criar Tabela Final de CNPJ.ipynb",
      "provenance": [],
      "collapsed_sections": [],
      "machine_shape": "hm"
    },
    "kernelspec": {
      "name": "python3",
      "display_name": "Python 3"
    },
    "language_info": {
      "name": "python"
    }
  },
  "cells": [
    {
      "cell_type": "code",
      "metadata": {
        "id": "Lm_XYoX5iDhu"
      },
      "source": [
        "import pandas as pd\n",
        "import numpy as np"
      ],
      "execution_count": 1,
      "outputs": []
    },
    {
      "cell_type": "code",
      "metadata": {
        "colab": {
          "base_uri": "https://localhost:8080/"
        },
        "id": "bCXl3RnliGaI",
        "outputId": "9a2e3fb5-9e1f-4f31-91d2-8ca8e43c9742"
      },
      "source": [
        "from google.colab import drive\n",
        "drive.mount('/content/drive')"
      ],
      "execution_count": 2,
      "outputs": [
        {
          "output_type": "stream",
          "text": [
            "Mounted at /content/drive\n"
          ],
          "name": "stdout"
        }
      ]
    },
    {
      "cell_type": "markdown",
      "metadata": {
        "id": "8aCcEOGTauQG"
      },
      "source": [
        "# **CARREGAMENTO DOS DADOS - Dados Abertos CNPJ EMPRESA**\n"
      ]
    },
    {
      "cell_type": "markdown",
      "metadata": {
        "id": "9PQ2nGIITUtu"
      },
      "source": [
        "*   Os dados dos CNPJ´s são a base do nosso estudo. Neles encontraremos as principais informações da empresas alvo do trabalho. Iremos, por conta do alto volume de dados, executar o carregamento e junção dos dados dos CNPJ´s em 3 notebooks. Os dados de CNPJ estão divididos em dois grupos:\n",
        "\n",
        "1.   Dados Abertos CNPJ EMPRESA\n",
        "2.   Dados Abertos CNPJ ESTABELECIMENTO\n",
        "\n",
        "-------------\n",
        "\n",
        "Tabela de CNPJ´s do site da Receita Federal\n",
        "\n",
        "*   https://www.gov.br/receitafederal/pt-br/assuntos/orientacao-tributaria/cadastros/consultas/dados-publicos-cnpj"
      ]
    },
    {
      "cell_type": "code",
      "metadata": {
        "id": "X0HvA-yFki3f"
      },
      "source": [
        "cnpj_empresa_01 = pd.read_csv('/content/drive/MyDrive/TCC - PUC/Dados Abertos CNPJ EMPRESA 01.csv', names=['cnpj_basico', 'razao_social', 'natureza_juridica', 'qualificacao_responsavel', 'capital_social', 'porte_empresa', 'ente_federativo_responsavel'],encoding='ISO-8859-1',decimal=',', sep=';' ,dtype=str, header=None,)\n",
        "cnpj_empresa_02 = pd.read_csv('/content/drive/MyDrive/TCC - PUC/Dados Abertos CNPJ EMPRESA 02.csv', names=['cnpj_basico', 'razao_social', 'natureza_juridica', 'qualificacao_responsavel', 'capital_social', 'porte_empresa', 'ente_federativo_responsavel'],encoding='ISO-8859-1',decimal=',', sep=';' ,dtype=str, header=None,)\n",
        "cnpj_empresa_03 = pd.read_csv('/content/drive/MyDrive/TCC - PUC/Dados Abertos CNPJ EMPRESA 03.csv', names=['cnpj_basico', 'razao_social', 'natureza_juridica', 'qualificacao_responsavel', 'capital_social', 'porte_empresa', 'ente_federativo_responsavel'],encoding='ISO-8859-1',decimal=',', sep=';' ,dtype=str, header=None,)\n",
        "cnpj_empresa_04 = pd.read_csv('/content/drive/MyDrive/TCC - PUC/Dados Abertos CNPJ EMPRESA 04.csv', names=['cnpj_basico', 'razao_social', 'natureza_juridica', 'qualificacao_responsavel', 'capital_social', 'porte_empresa', 'ente_federativo_responsavel'],encoding='ISO-8859-1',decimal=',', sep=';' ,dtype=str, header=None,)\n",
        "cnpj_empresa_05 = pd.read_csv('/content/drive/MyDrive/TCC - PUC/Dados Abertos CNPJ EMPRESA 05.csv', names=['cnpj_basico', 'razao_social', 'natureza_juridica', 'qualificacao_responsavel', 'capital_social', 'porte_empresa', 'ente_federativo_responsavel'],encoding='ISO-8859-1',decimal=',', sep=';' ,dtype=str, header=None,)\n",
        "cnpj_empresa_06 = pd.read_csv('/content/drive/MyDrive/TCC - PUC/Dados Abertos CNPJ EMPRESA 06.csv', names=['cnpj_basico', 'razao_social', 'natureza_juridica', 'qualificacao_responsavel', 'capital_social', 'porte_empresa', 'ente_federativo_responsavel'],encoding='ISO-8859-1',decimal=',', sep=';' ,dtype=str, header=None,)\n",
        "cnpj_empresa_07 = pd.read_csv('/content/drive/MyDrive/TCC - PUC/Dados Abertos CNPJ EMPRESA 07.csv', names=['cnpj_basico', 'razao_social', 'natureza_juridica', 'qualificacao_responsavel', 'capital_social', 'porte_empresa', 'ente_federativo_responsavel'],encoding='ISO-8859-1',decimal=',', sep=';' ,dtype=str, header=None,)\n",
        "cnpj_empresa_08 = pd.read_csv('/content/drive/MyDrive/TCC - PUC/Dados Abertos CNPJ EMPRESA 08.csv', names=['cnpj_basico', 'razao_social', 'natureza_juridica', 'qualificacao_responsavel', 'capital_social', 'porte_empresa', 'ente_federativo_responsavel'],encoding='ISO-8859-1',decimal=',', sep=';' ,dtype=str, header=None,)\n",
        "cnpj_empresa_09 = pd.read_csv('/content/drive/MyDrive/TCC - PUC/Dados Abertos CNPJ EMPRESA 09.csv', names=['cnpj_basico', 'razao_social', 'natureza_juridica', 'qualificacao_responsavel', 'capital_social', 'porte_empresa', 'ente_federativo_responsavel'],encoding='ISO-8859-1',decimal=',', sep=';' ,dtype=str, header=None,)\n",
        "cnpj_empresa_10 = pd.read_csv('/content/drive/MyDrive/TCC - PUC/Dados Abertos CNPJ EMPRESA 10.csv', names=['cnpj_basico', 'razao_social', 'natureza_juridica', 'qualificacao_responsavel', 'capital_social', 'porte_empresa', 'ente_federativo_responsavel'],encoding='ISO-8859-1',decimal=',', sep=';' ,dtype=str, header=None,)"
      ],
      "execution_count": 3,
      "outputs": []
    },
    {
      "cell_type": "markdown",
      "metadata": {
        "id": "oydyx7j0UIVc"
      },
      "source": [
        "**Eliminação de colunas que não serão utilizadas no nosso estudo**"
      ]
    },
    {
      "cell_type": "code",
      "metadata": {
        "id": "O45Fa5MPoMgg"
      },
      "source": [
        "cnpj_empresa_01 = cnpj_empresa_01.drop(['razao_social','natureza_juridica','qualificacao_responsavel','porte_empresa','ente_federativo_responsavel'], axis=1)\n",
        "cnpj_empresa_02 = cnpj_empresa_02.drop(['razao_social','natureza_juridica','qualificacao_responsavel','porte_empresa','ente_federativo_responsavel'], axis=1)\n",
        "cnpj_empresa_03 = cnpj_empresa_03.drop(['razao_social','natureza_juridica','qualificacao_responsavel','porte_empresa','ente_federativo_responsavel'], axis=1)\n",
        "cnpj_empresa_04 = cnpj_empresa_04.drop(['razao_social','natureza_juridica','qualificacao_responsavel','porte_empresa','ente_federativo_responsavel'], axis=1)\n",
        "cnpj_empresa_05 = cnpj_empresa_05.drop(['razao_social','natureza_juridica','qualificacao_responsavel','porte_empresa','ente_federativo_responsavel'], axis=1)\n",
        "cnpj_empresa_06 = cnpj_empresa_06.drop(['razao_social','natureza_juridica','qualificacao_responsavel','porte_empresa','ente_federativo_responsavel'], axis=1)\n",
        "cnpj_empresa_07 = cnpj_empresa_07.drop(['razao_social','natureza_juridica','qualificacao_responsavel','porte_empresa','ente_federativo_responsavel'], axis=1)\n",
        "cnpj_empresa_08 = cnpj_empresa_08.drop(['razao_social','natureza_juridica','qualificacao_responsavel','porte_empresa','ente_federativo_responsavel'], axis=1)\n",
        "cnpj_empresa_09 = cnpj_empresa_09.drop(['razao_social','natureza_juridica','qualificacao_responsavel','porte_empresa','ente_federativo_responsavel'], axis=1)\n",
        "cnpj_empresa_10 = cnpj_empresa_10.drop(['razao_social','natureza_juridica','qualificacao_responsavel','porte_empresa','ente_federativo_responsavel'], axis=1)"
      ],
      "execution_count": 4,
      "outputs": []
    },
    {
      "cell_type": "code",
      "metadata": {
        "id": "RL_9bo7niGwe"
      },
      "source": [
        "cnpj_empresa_todas = pd.concat([cnpj_empresa_01, cnpj_empresa_02, cnpj_empresa_03, cnpj_empresa_04, cnpj_empresa_05, cnpj_empresa_06, cnpj_empresa_07, cnpj_empresa_08, cnpj_empresa_09, cnpj_empresa_10], axis=0)"
      ],
      "execution_count": 5,
      "outputs": []
    },
    {
      "cell_type": "markdown",
      "metadata": {
        "id": "LE4b_EmGUWGd"
      },
      "source": [
        "# **CARREGAMENTO DOS DADOS - Dados Abertos CNPJ ESTABELECIMENTO**"
      ]
    },
    {
      "cell_type": "code",
      "metadata": {
        "id": "MdcZHRoPP5Rk"
      },
      "source": [
        "cnpj_estabelecimento_todas_parte01 = pd.read_csv('/content/drive/MyDrive/TCC - PUC/cnpj_estabelecimento_todas_parte01.csv',encoding='ISO-8859-1', sep=';' ,dtype=str, header=0)\n",
        "cnpj_estabelecimento_todas_parte02 = pd.read_csv('/content/drive/MyDrive/TCC - PUC/cnpj_estabelecimento_todas_parte02.csv',encoding='ISO-8859-1', sep=';' ,dtype=str, header=0)"
      ],
      "execution_count": 6,
      "outputs": []
    },
    {
      "cell_type": "code",
      "metadata": {
        "id": "CJhnSFanSePn"
      },
      "source": [
        "cnpj_estabelecimento_todas = pd.concat([cnpj_estabelecimento_todas_parte01, cnpj_estabelecimento_todas_parte02], axis=0)"
      ],
      "execution_count": 7,
      "outputs": []
    },
    {
      "cell_type": "markdown",
      "metadata": {
        "id": "cnodwXNlUd6u"
      },
      "source": [
        "# **MERGE e GRAVAÇÃO DO DATASET**"
      ]
    },
    {
      "cell_type": "code",
      "metadata": {
        "id": "PKDhZM_eQfze"
      },
      "source": [
        "cnpj_final = pd.merge(cnpj_estabelecimento_todas, cnpj_empresa_todas, how='left', on='cnpj_basico')"
      ],
      "execution_count": 8,
      "outputs": []
    },
    {
      "cell_type": "code",
      "metadata": {
        "colab": {
          "base_uri": "https://localhost:8080/",
          "height": 406
        },
        "id": "4qxjgALXRGTI",
        "outputId": "fe41bdb8-187e-497c-c6a9-a77514e26f46"
      },
      "source": [
        "cnpj_final"
      ],
      "execution_count": 9,
      "outputs": [
        {
          "output_type": "execute_result",
          "data": {
            "text/html": [
              "<div>\n",
              "<style scoped>\n",
              "    .dataframe tbody tr th:only-of-type {\n",
              "        vertical-align: middle;\n",
              "    }\n",
              "\n",
              "    .dataframe tbody tr th {\n",
              "        vertical-align: top;\n",
              "    }\n",
              "\n",
              "    .dataframe thead th {\n",
              "        text-align: right;\n",
              "    }\n",
              "</style>\n",
              "<table border=\"1\" class=\"dataframe\">\n",
              "  <thead>\n",
              "    <tr style=\"text-align: right;\">\n",
              "      <th></th>\n",
              "      <th>cnpj_basico</th>\n",
              "      <th>cnpj_ordem</th>\n",
              "      <th>cnpj_dv</th>\n",
              "      <th>matriz_filial</th>\n",
              "      <th>codigo_situacao_cadastral</th>\n",
              "      <th>data_situacao_cadastral</th>\n",
              "      <th>data_inicio_atividade</th>\n",
              "      <th>cnae_principal</th>\n",
              "      <th>codigo_municipio_siafi</th>\n",
              "      <th>capital_social</th>\n",
              "    </tr>\n",
              "  </thead>\n",
              "  <tbody>\n",
              "    <tr>\n",
              "      <th>0</th>\n",
              "      <td>29880642</td>\n",
              "      <td>0001</td>\n",
              "      <td>04</td>\n",
              "      <td>1</td>\n",
              "      <td>08</td>\n",
              "      <td>20190921</td>\n",
              "      <td>20180308</td>\n",
              "      <td>8712300</td>\n",
              "      <td>7107</td>\n",
              "      <td>2000,00</td>\n",
              "    </tr>\n",
              "    <tr>\n",
              "      <th>1</th>\n",
              "      <td>29880783</td>\n",
              "      <td>0001</td>\n",
              "      <td>27</td>\n",
              "      <td>1</td>\n",
              "      <td>08</td>\n",
              "      <td>20200106</td>\n",
              "      <td>20180308</td>\n",
              "      <td>8630503</td>\n",
              "      <td>4205</td>\n",
              "      <td>95400,00</td>\n",
              "    </tr>\n",
              "    <tr>\n",
              "      <th>2</th>\n",
              "      <td>29880797</td>\n",
              "      <td>0001</td>\n",
              "      <td>40</td>\n",
              "      <td>1</td>\n",
              "      <td>08</td>\n",
              "      <td>20200507</td>\n",
              "      <td>20180308</td>\n",
              "      <td>9511800</td>\n",
              "      <td>5403</td>\n",
              "      <td>3500,00</td>\n",
              "    </tr>\n",
              "    <tr>\n",
              "      <th>3</th>\n",
              "      <td>29880805</td>\n",
              "      <td>0001</td>\n",
              "      <td>59</td>\n",
              "      <td>1</td>\n",
              "      <td>08</td>\n",
              "      <td>20190213</td>\n",
              "      <td>20180308</td>\n",
              "      <td>5620104</td>\n",
              "      <td>6623</td>\n",
              "      <td>10000,00</td>\n",
              "    </tr>\n",
              "    <tr>\n",
              "      <th>4</th>\n",
              "      <td>29880816</td>\n",
              "      <td>0001</td>\n",
              "      <td>39</td>\n",
              "      <td>1</td>\n",
              "      <td>08</td>\n",
              "      <td>20190808</td>\n",
              "      <td>20180308</td>\n",
              "      <td>9602501</td>\n",
              "      <td>3105</td>\n",
              "      <td>1000,00</td>\n",
              "    </tr>\n",
              "    <tr>\n",
              "      <th>...</th>\n",
              "      <td>...</td>\n",
              "      <td>...</td>\n",
              "      <td>...</td>\n",
              "      <td>...</td>\n",
              "      <td>...</td>\n",
              "      <td>...</td>\n",
              "      <td>...</td>\n",
              "      <td>...</td>\n",
              "      <td>...</td>\n",
              "      <td>...</td>\n",
              "    </tr>\n",
              "    <tr>\n",
              "      <th>11157252</th>\n",
              "      <td>29880238</td>\n",
              "      <td>0001</td>\n",
              "      <td>30</td>\n",
              "      <td>1</td>\n",
              "      <td>08</td>\n",
              "      <td>20190401</td>\n",
              "      <td>20180308</td>\n",
              "      <td>4772500</td>\n",
              "      <td>8047</td>\n",
              "      <td>40000,00</td>\n",
              "    </tr>\n",
              "    <tr>\n",
              "      <th>11157253</th>\n",
              "      <td>29880354</td>\n",
              "      <td>0001</td>\n",
              "      <td>50</td>\n",
              "      <td>1</td>\n",
              "      <td>02</td>\n",
              "      <td>20210527</td>\n",
              "      <td>20180308</td>\n",
              "      <td>4712100</td>\n",
              "      <td>0145</td>\n",
              "      <td>5000,00</td>\n",
              "    </tr>\n",
              "    <tr>\n",
              "      <th>11157254</th>\n",
              "      <td>29880380</td>\n",
              "      <td>0001</td>\n",
              "      <td>88</td>\n",
              "      <td>1</td>\n",
              "      <td>08</td>\n",
              "      <td>20190516</td>\n",
              "      <td>20180308</td>\n",
              "      <td>7319002</td>\n",
              "      <td>7107</td>\n",
              "      <td>1000,00</td>\n",
              "    </tr>\n",
              "    <tr>\n",
              "      <th>11157255</th>\n",
              "      <td>26520602</td>\n",
              "      <td>0001</td>\n",
              "      <td>63</td>\n",
              "      <td>1</td>\n",
              "      <td>08</td>\n",
              "      <td>20191219</td>\n",
              "      <td>20161110</td>\n",
              "      <td>4789004</td>\n",
              "      <td>7107</td>\n",
              "      <td>1000,00</td>\n",
              "    </tr>\n",
              "    <tr>\n",
              "      <th>11157256</th>\n",
              "      <td>29880509</td>\n",
              "      <td>0001</td>\n",
              "      <td>58</td>\n",
              "      <td>1</td>\n",
              "      <td>08</td>\n",
              "      <td>20190711</td>\n",
              "      <td>20180308</td>\n",
              "      <td>5612100</td>\n",
              "      <td>2531</td>\n",
              "      <td>4500,00</td>\n",
              "    </tr>\n",
              "  </tbody>\n",
              "</table>\n",
              "<p>11157257 rows × 10 columns</p>\n",
              "</div>"
            ],
            "text/plain": [
              "         cnpj_basico cnpj_ordem  ... codigo_municipio_siafi capital_social\n",
              "0           29880642       0001  ...                   7107        2000,00\n",
              "1           29880783       0001  ...                   4205       95400,00\n",
              "2           29880797       0001  ...                   5403        3500,00\n",
              "3           29880805       0001  ...                   6623       10000,00\n",
              "4           29880816       0001  ...                   3105        1000,00\n",
              "...              ...        ...  ...                    ...            ...\n",
              "11157252    29880238       0001  ...                   8047       40000,00\n",
              "11157253    29880354       0001  ...                   0145        5000,00\n",
              "11157254    29880380       0001  ...                   7107        1000,00\n",
              "11157255    26520602       0001  ...                   7107        1000,00\n",
              "11157256    29880509       0001  ...                   2531        4500,00\n",
              "\n",
              "[11157257 rows x 10 columns]"
            ]
          },
          "metadata": {
            "tags": []
          },
          "execution_count": 9
        }
      ]
    },
    {
      "cell_type": "code",
      "metadata": {
        "id": "-t5VVCgGQpRc"
      },
      "source": [
        "cnpj_final.to_csv('/content/drive/MyDrive/TCC - PUC/cnpj_final.csv', index=False, sep=';') "
      ],
      "execution_count": 10,
      "outputs": []
    }
  ]
}