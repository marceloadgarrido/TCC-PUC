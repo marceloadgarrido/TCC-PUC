{
  "nbformat": 4,
  "nbformat_minor": 0,
  "metadata": {
    "colab": {
      "name": "04 - Tratar Tabela Estabelecimento - TODAS.ipynb",
      "provenance": [],
      "collapsed_sections": [],
      "machine_shape": "hm"
    },
    "kernelspec": {
      "name": "python3",
      "display_name": "Python 3"
    },
    "language_info": {
      "name": "python"
    }
  },
  "cells": [
    {
      "cell_type": "code",
      "metadata": {
        "id": "Lm_XYoX5iDhu"
      },
      "source": [
        "import pandas as pd\n",
        "import numpy as np"
      ],
      "execution_count": null,
      "outputs": []
    },
    {
      "cell_type": "code",
      "metadata": {
        "colab": {
          "base_uri": "https://localhost:8080/"
        },
        "id": "bCXl3RnliGaI",
        "outputId": "3aba1053-f344-4d96-8320-01a5121f1459"
      },
      "source": [
        "from google.colab import drive\n",
        "drive.mount('/content/drive')"
      ],
      "execution_count": null,
      "outputs": [
        {
          "output_type": "stream",
          "text": [
            "Mounted at /content/drive\n"
          ],
          "name": "stdout"
        }
      ]
    },
    {
      "cell_type": "code",
      "metadata": {
        "id": "X0HvA-yFki3f"
      },
      "source": [
        "cnpj_estabelecimento_todas_parte01 = pd.read_csv('/content/drive/MyDrive/TCC - PUC/cnpj_estabelecimento_todas_parte01.csv',encoding='ISO-8859-1', sep=';' ,dtype=str, header=0)\n",
        "cnpj_estabelecimento_todas_parte02 = pd.read_csv('/content/drive/MyDrive/TCC - PUC/cnpj_estabelecimento_todas_parte02.csv',encoding='ISO-8859-1', sep=';' ,dtype=str, header=0)"
      ],
      "execution_count": null,
      "outputs": []
    },
    {
      "cell_type": "code",
      "metadata": {
        "id": "CJhnSFanSePn"
      },
      "source": [
        "cnpj_estabelecimento_todas = pd.concat([cnpj_estabelecimento_todas_parte01, cnpj_estabelecimento_todas_parte02], axis=0)"
      ],
      "execution_count": null,
      "outputs": []
    },
    {
      "cell_type": "code",
      "metadata": {
        "id": "uBb-OEDO5n-b"
      },
      "source": [
        "cnpj_empresa_todas = pd.read_csv('/content/drive/MyDrive/TCC - PUC/cnpj_empresa_todas.csv',encoding='ISO-8859-1', sep=';' ,dtype=str, header=0)"
      ],
      "execution_count": null,
      "outputs": []
    },
    {
      "cell_type": "code",
      "metadata": {
        "id": "F_bCqRWP5rkb"
      },
      "source": [
        "cnpj_final = pd.merge(cnpj_estabelecimento_todas, cnpj_empresa_todas, how='left', on='cnpj_basico')"
      ],
      "execution_count": null,
      "outputs": []
    },
    {
      "cell_type": "code",
      "metadata": {
        "id": "hBnppdnGALqw"
      },
      "source": [
        "cnpj_final = cnpj_final.query('data_situacao_cadastral >= \"20190201\" and data_situacao_cadastral <= \"20210531\" ')"
      ],
      "execution_count": null,
      "outputs": []
    },
    {
      "cell_type": "code",
      "metadata": {
        "id": "zEwwKRZbS55e"
      },
      "source": [
        "cnpj_final.to_csv('/content/drive/MyDrive/TCC - PUC/cnpj_final.csv', index=False, sep=';') "
      ],
      "execution_count": null,
      "outputs": []
    }
  ]
}