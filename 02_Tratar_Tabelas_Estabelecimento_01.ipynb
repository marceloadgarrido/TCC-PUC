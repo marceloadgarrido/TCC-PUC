{
  "nbformat": 4,
  "nbformat_minor": 0,
  "metadata": {
    "colab": {
      "name": "02 - Tratar Tabelas Estabelecimento_01.ipynb",
      "provenance": [],
      "collapsed_sections": [],
      "machine_shape": "hm"
    },
    "kernelspec": {
      "name": "python3",
      "display_name": "Python 3"
    },
    "language_info": {
      "name": "python"
    }
  },
  "cells": [
    {
      "cell_type": "code",
      "metadata": {
        "id": "Lm_XYoX5iDhu"
      },
      "source": [
        "import pandas as pd\n",
        "import numpy as np"
      ],
      "execution_count": null,
      "outputs": []
    },
    {
      "cell_type": "code",
      "metadata": {
        "colab": {
          "base_uri": "https://localhost:8080/"
        },
        "id": "bCXl3RnliGaI",
        "outputId": "a6df0640-8788-4d54-feae-dff9841cb603"
      },
      "source": [
        "from google.colab import drive\n",
        "drive.mount('/content/drive')"
      ],
      "execution_count": null,
      "outputs": [
        {
          "output_type": "stream",
          "text": [
            "Mounted at /content/drive\n"
          ],
          "name": "stdout"
        }
      ]
    },
    {
      "cell_type": "code",
      "metadata": {
        "id": "X0HvA-yFki3f"
      },
      "source": [
        "cnpj_estabelecimento_01 = pd.read_csv('/content/drive/MyDrive/TCC - PUC/Dados Abertos CNPJ ESTABELECIMENTO 01.csv', names=['cnpj_basico', 'cnpj_ordem', 'cnpj_dv', 'matriz_filial', 'nome_fantasia', 'codigo_situacao_cadastral', 'data_situacao_cadastral', 'motivo_situacao_cadastral', 'nome_cidade_exterior', 'codigo_pais', 'data_inicio_atividade', 'cnae_principal', 'cnae_secundario',\n",
        "'tipo_logradouro','logradouro','numero','complemento','bairro','cep','uf','codigo_municipio_siafi','ddd1', 'telefone1','ddd2','telefone2','dddfax','fax','email', 'situacao_especial', 'data_situacao_especial'],encoding='ISO-8859-1',decimal=',', sep=';' ,dtype=str, header=None,)\n",
        "cnpj_estabelecimento_02 = pd.read_csv('/content/drive/MyDrive/TCC - PUC/Dados Abertos CNPJ ESTABELECIMENTO 02.csv', names=['cnpj_basico', 'cnpj_ordem', 'cnpj_dv', 'matriz_filial', 'nome_fantasia', 'codigo_situacao_cadastral', 'data_situacao_cadastral', 'motivo_situacao_cadastral', 'nome_cidade_exterior', 'codigo_pais', 'data_inicio_atividade', 'cnae_principal', 'cnae_secundario',\n",
        "'tipo_logradouro','logradouro','numero','complemento','bairro','cep','uf','codigo_municipio_siafi','ddd1', 'telefone1','ddd2','telefone2','dddfax','fax','email', 'situacao_especial', 'data_situacao_especial'],encoding='ISO-8859-1',decimal=',', sep=';' ,dtype=str, header=None,)\n",
        "cnpj_estabelecimento_03 = pd.read_csv('/content/drive/MyDrive/TCC - PUC/Dados Abertos CNPJ ESTABELECIMENTO 03.csv', names=['cnpj_basico', 'cnpj_ordem', 'cnpj_dv', 'matriz_filial', 'nome_fantasia', 'codigo_situacao_cadastral', 'data_situacao_cadastral', 'motivo_situacao_cadastral', 'nome_cidade_exterior', 'codigo_pais', 'data_inicio_atividade', 'cnae_principal', 'cnae_secundario',\n",
        "'tipo_logradouro','logradouro','numero','complemento','bairro','cep','uf','codigo_municipio_siafi','ddd1', 'telefone1','ddd2','telefone2','dddfax','fax','email', 'situacao_especial', 'data_situacao_especial'],encoding='ISO-8859-1',decimal=',', sep=';' ,dtype=str, header=None,)\n",
        "cnpj_estabelecimento_04 = pd.read_csv('/content/drive/MyDrive/TCC - PUC/Dados Abertos CNPJ ESTABELECIMENTO 04.csv', names=['cnpj_basico', 'cnpj_ordem', 'cnpj_dv', 'matriz_filial', 'nome_fantasia', 'codigo_situacao_cadastral', 'data_situacao_cadastral', 'motivo_situacao_cadastral', 'nome_cidade_exterior', 'codigo_pais', 'data_inicio_atividade', 'cnae_principal', 'cnae_secundario',\n",
        "'tipo_logradouro','logradouro','numero','complemento','bairro','cep','uf','codigo_municipio_siafi','ddd1', 'telefone1','ddd2','telefone2','dddfax','fax','email', 'situacao_especial', 'data_situacao_especial'],encoding='ISO-8859-1',decimal=',', sep=';' ,dtype=str, header=None,)\n",
        "cnpj_estabelecimento_05 = pd.read_csv('/content/drive/MyDrive/TCC - PUC/Dados Abertos CNPJ ESTABELECIMENTO 05.csv', names=['cnpj_basico', 'cnpj_ordem', 'cnpj_dv', 'matriz_filial', 'nome_fantasia', 'codigo_situacao_cadastral', 'data_situacao_cadastral', 'motivo_situacao_cadastral', 'nome_cidade_exterior', 'codigo_pais', 'data_inicio_atividade', 'cnae_principal', 'cnae_secundario',\n",
        "'tipo_logradouro','logradouro','numero','complemento','bairro','cep','uf','codigo_municipio_siafi','ddd1', 'telefone1','ddd2','telefone2','dddfax','fax','email', 'situacao_especial', 'data_situacao_especial'],encoding='ISO-8859-1',decimal=',', sep=';' ,dtype=str, header=None,)"
      ],
      "execution_count": null,
      "outputs": []
    },
    {
      "cell_type": "code",
      "metadata": {
        "id": "O45Fa5MPoMgg"
      },
      "source": [
        "cnpj_estabelecimento_01 = cnpj_estabelecimento_01.drop(['nome_fantasia','nome_cidade_exterior','codigo_pais','cnae_secundario','tipo_logradouro',\t'logradouro',\t'numero',\t'complemento',\t'bairro',\t'cep',\t'uf','ddd1',\t'telefone1',\t'ddd2',\t'telefone2',\t'dddfax',\t'fax', 'email',\t'situacao_especial',\t'data_situacao_especial'], axis=1) #eliminação das colunas desnecessárias\n",
        "cnpj_estabelecimento_02 = cnpj_estabelecimento_02.drop(['nome_fantasia','nome_cidade_exterior','codigo_pais','cnae_secundario','tipo_logradouro',\t'logradouro',\t'numero',\t'complemento',\t'bairro',\t'cep',\t'uf','ddd1',\t'telefone1',\t'ddd2',\t'telefone2',\t'dddfax',\t'fax', 'email',\t'situacao_especial',\t'data_situacao_especial'], axis=1) #eliminação das colunas desnecessárias\n",
        "cnpj_estabelecimento_03 = cnpj_estabelecimento_03.drop(['nome_fantasia','nome_cidade_exterior','codigo_pais','cnae_secundario','tipo_logradouro',\t'logradouro',\t'numero',\t'complemento',\t'bairro',\t'cep',\t'uf','ddd1',\t'telefone1',\t'ddd2',\t'telefone2',\t'dddfax',\t'fax', 'email',\t'situacao_especial',\t'data_situacao_especial'], axis=1) #eliminação das colunas desnecessárias\n",
        "cnpj_estabelecimento_04 = cnpj_estabelecimento_04.drop(['nome_fantasia','nome_cidade_exterior','codigo_pais','cnae_secundario','tipo_logradouro',\t'logradouro',\t'numero',\t'complemento',\t'bairro',\t'cep',\t'uf','ddd1',\t'telefone1',\t'ddd2',\t'telefone2',\t'dddfax',\t'fax', 'email',\t'situacao_especial',\t'data_situacao_especial'], axis=1) #eliminação das colunas desnecessárias\n",
        "cnpj_estabelecimento_05 = cnpj_estabelecimento_05.drop(['nome_fantasia','nome_cidade_exterior','codigo_pais','cnae_secundario','tipo_logradouro',\t'logradouro',\t'numero',\t'complemento',\t'bairro',\t'cep',\t'uf','ddd1',\t'telefone1',\t'ddd2',\t'telefone2',\t'dddfax',\t'fax', 'email',\t'situacao_especial',\t'data_situacao_especial'], axis=1) #eliminação das colunas desnecessárias"
      ],
      "execution_count": null,
      "outputs": []
    },
    {
      "cell_type": "code",
      "metadata": {
        "id": "RL_9bo7niGwe"
      },
      "source": [
        "cnpj_estabelecimento_todas_parte01 = pd.concat([cnpj_estabelecimento_01, cnpj_estabelecimento_02, cnpj_estabelecimento_03, cnpj_estabelecimento_04, cnpj_estabelecimento_05], axis=0)"
      ],
      "execution_count": null,
      "outputs": []
    },
    {
      "cell_type": "code",
      "metadata": {
        "id": "U5e3lcDAUTDV"
      },
      "source": [
        "cnpj_estabelecimento_todas_parte01 = cnpj_estabelecimento_todas_parte01.query( 'codigo_situacao_cadastral==\"2\" or codigo_situacao_cadastral==\"8\" ')"
      ],
      "execution_count": null,
      "outputs": []
    },
    {
      "cell_type": "code",
      "metadata": {
        "id": "GLiuD_X_jXpG"
      },
      "source": [
        "cnpj_estabelecimento_todas_parte01.to_csv('/content/drive/MyDrive/TCC - PUC/cnpj_estabelecimento_todas_parte01.csv', index=False, sep=';') "
      ],
      "execution_count": null,
      "outputs": []
    }
  ]
}