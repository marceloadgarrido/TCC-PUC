{
  "nbformat": 4,
  "nbformat_minor": 0,
  "metadata": {
    "colab": {
      "name": "05 - Dataset Final.ipynb",
      "provenance": [],
      "collapsed_sections": [],
      "machine_shape": "hm"
    },
    "kernelspec": {
      "name": "python3",
      "display_name": "Python 3"
    },
    "language_info": {
      "name": "python"
    }
  },
  "cells": [
    {
      "cell_type": "code",
      "metadata": {
        "id": "fxFmNu4NKFwb"
      },
      "source": [
        "import pandas as pd\n",
        "import numpy as np"
      ],
      "execution_count": null,
      "outputs": []
    },
    {
      "cell_type": "code",
      "metadata": {
        "colab": {
          "base_uri": "https://localhost:8080/"
        },
        "id": "SWCFquB_KOqi",
        "outputId": "4e9c8dc2-9e4b-484c-aa65-d280bb8a231a"
      },
      "source": [
        "from google.colab import drive\n",
        "drive.mount('/content/drive')"
      ],
      "execution_count": null,
      "outputs": [
        {
          "output_type": "stream",
          "text": [
            "Mounted at /content/drive\n"
          ],
          "name": "stdout"
        }
      ]
    },
    {
      "cell_type": "code",
      "metadata": {
        "id": "mu2P0kKDl48h"
      },
      "source": [
        "cnpj_final = pd.read_csv('/content/drive/MyDrive/TCC - PUC/cnpj_final.csv',encoding='ISO-8859-1', sep=';' ,dtype=str, header=0)"
      ],
      "execution_count": null,
      "outputs": []
    },
    {
      "cell_type": "code",
      "metadata": {
        "id": "OQ_PQzOSjzge"
      },
      "source": [
        "municipios_siafi = pd.read_csv('//content/drive/MyDrive/TCC - PUC/TABELA DE MUNICÍPIOS DO SIAFI.csv',encoding='ISO-8859-1', sep=';' ,dtype=str, header=0,decimal=',')"
      ],
      "execution_count": null,
      "outputs": []
    },
    {
      "cell_type": "code",
      "metadata": {
        "id": "XWsKa68Hj4ZV"
      },
      "source": [
        "municipios_siafi.columns = ['codigo_municipio_siafi', 'cnpj_base', 'descricao_municipio', 'uf','codigo_ibge']"
      ],
      "execution_count": null,
      "outputs": []
    },
    {
      "cell_type": "code",
      "metadata": {
        "colab": {
          "base_uri": "https://localhost:8080/",
          "height": 419
        },
        "id": "h7TyWQ_rHShh",
        "outputId": "962f734e-8f3d-4dd5-f7a8-827345b5926f"
      },
      "source": [
        "municipios_siafi"
      ],
      "execution_count": null,
      "outputs": [
        {
          "output_type": "execute_result",
          "data": {
            "text/html": [
              "<div>\n",
              "<style scoped>\n",
              "    .dataframe tbody tr th:only-of-type {\n",
              "        vertical-align: middle;\n",
              "    }\n",
              "\n",
              "    .dataframe tbody tr th {\n",
              "        vertical-align: top;\n",
              "    }\n",
              "\n",
              "    .dataframe thead th {\n",
              "        text-align: right;\n",
              "    }\n",
              "</style>\n",
              "<table border=\"1\" class=\"dataframe\">\n",
              "  <thead>\n",
              "    <tr style=\"text-align: right;\">\n",
              "      <th></th>\n",
              "      <th>codigo_municipio_siafi</th>\n",
              "      <th>cnpj_base</th>\n",
              "      <th>descricao_municipio</th>\n",
              "      <th>uf</th>\n",
              "      <th>codigo_ibge</th>\n",
              "    </tr>\n",
              "  </thead>\n",
              "  <tbody>\n",
              "    <tr>\n",
              "      <th>0</th>\n",
              "      <td>1</td>\n",
              "      <td>5,89363E+12</td>\n",
              "      <td>GUAJARA-MIRIM</td>\n",
              "      <td>RO</td>\n",
              "      <td>1100106</td>\n",
              "    </tr>\n",
              "    <tr>\n",
              "      <th>1</th>\n",
              "      <td>2</td>\n",
              "      <td>8,4745E+13</td>\n",
              "      <td>ALTO ALEGRE DOS PARECIS</td>\n",
              "      <td>RO</td>\n",
              "      <td>1100379</td>\n",
              "    </tr>\n",
              "    <tr>\n",
              "      <th>2</th>\n",
              "      <td>3</td>\n",
              "      <td>5,90313E+12</td>\n",
              "      <td>PORTO VELHO</td>\n",
              "      <td>RO</td>\n",
              "      <td>1100205</td>\n",
              "    </tr>\n",
              "    <tr>\n",
              "      <th>3</th>\n",
              "      <td>8</td>\n",
              "      <td>8,47369E+13</td>\n",
              "      <td>CUJUBIM</td>\n",
              "      <td>RO</td>\n",
              "      <td>1100940</td>\n",
              "    </tr>\n",
              "    <tr>\n",
              "      <th>4</th>\n",
              "      <td>13</td>\n",
              "      <td>4,09271E+12</td>\n",
              "      <td>VILHENA</td>\n",
              "      <td>RO</td>\n",
              "      <td>1100304</td>\n",
              "    </tr>\n",
              "    <tr>\n",
              "      <th>...</th>\n",
              "      <td>...</td>\n",
              "      <td>...</td>\n",
              "      <td>...</td>\n",
              "      <td>...</td>\n",
              "      <td>...</td>\n",
              "    </tr>\n",
              "    <tr>\n",
              "      <th>5584</th>\n",
              "      <td>1190</td>\n",
              "      <td>1,73498E+13</td>\n",
              "      <td>MOJUI DOS CAMPOS</td>\n",
              "      <td>PA</td>\n",
              "      <td>1504752</td>\n",
              "    </tr>\n",
              "    <tr>\n",
              "      <th>5585</th>\n",
              "      <td>1192</td>\n",
              "      <td>1,72431E+13</td>\n",
              "      <td>BALNEARIO RINCAO</td>\n",
              "      <td>SC</td>\n",
              "      <td>4220000</td>\n",
              "    </tr>\n",
              "    <tr>\n",
              "      <th>5586</th>\n",
              "      <td>1194</td>\n",
              "      <td>1,67808E+13</td>\n",
              "      <td>PESCARIA BRAVA</td>\n",
              "      <td>SC</td>\n",
              "      <td>4212650</td>\n",
              "    </tr>\n",
              "    <tr>\n",
              "      <th>5587</th>\n",
              "      <td>1196</td>\n",
              "      <td>1,73616E+13</td>\n",
              "      <td>PARAISO DAS AGUAS</td>\n",
              "      <td>MS</td>\n",
              "      <td>5006275</td>\n",
              "    </tr>\n",
              "    <tr>\n",
              "      <th>5588</th>\n",
              "      <td>3001</td>\n",
              "      <td>4,08179E+13</td>\n",
              "      <td>DISTRITO ESTADUAL DE FERNANDO DE NORONHA</td>\n",
              "      <td>PE</td>\n",
              "      <td>2605459</td>\n",
              "    </tr>\n",
              "  </tbody>\n",
              "</table>\n",
              "<p>5589 rows × 5 columns</p>\n",
              "</div>"
            ],
            "text/plain": [
              "     codigo_municipio_siafi    cnpj_base  ...  uf codigo_ibge\n",
              "0                         1  5,89363E+12  ...  RO     1100106\n",
              "1                         2   8,4745E+13  ...  RO     1100379\n",
              "2                         3  5,90313E+12  ...  RO     1100205\n",
              "3                         8  8,47369E+13  ...  RO     1100940\n",
              "4                        13  4,09271E+12  ...  RO     1100304\n",
              "...                     ...          ...  ...  ..         ...\n",
              "5584                   1190  1,73498E+13  ...  PA     1504752\n",
              "5585                   1192  1,72431E+13  ...  SC     4220000\n",
              "5586                   1194  1,67808E+13  ...  SC     4212650\n",
              "5587                   1196  1,73616E+13  ...  MS     5006275\n",
              "5588                   3001  4,08179E+13  ...  PE     2605459\n",
              "\n",
              "[5589 rows x 5 columns]"
            ]
          },
          "metadata": {
            "tags": []
          },
          "execution_count": 6
        }
      ]
    },
    {
      "cell_type": "code",
      "metadata": {
        "id": "PrDlEPvQkmp-"
      },
      "source": [
        "codigo_ibge_ajustado = municipios_siafi['codigo_ibge'].map(lambda x: str(x)[:-1])"
      ],
      "execution_count": null,
      "outputs": []
    },
    {
      "cell_type": "code",
      "metadata": {
        "id": "aLDHMeibkspW"
      },
      "source": [
        "municipios_siafi = pd.concat([municipios_siafi, codigo_ibge_ajustado], axis=1)"
      ],
      "execution_count": null,
      "outputs": []
    },
    {
      "cell_type": "code",
      "metadata": {
        "id": "ois5-la3z1Z-"
      },
      "source": [
        "municipios_siafi['codigo_municipio_siafi'] = municipios_siafi['codigo_municipio_siafi'].astype(int)\n",
        "cnpj_final['codigo_municipio_siafi'] = cnpj_final['codigo_municipio_siafi'].astype(int)"
      ],
      "execution_count": null,
      "outputs": []
    },
    {
      "cell_type": "code",
      "metadata": {
        "id": "1bezAL4skww2"
      },
      "source": [
        "municipios_siafi.columns = ['codigo_municipio_siafi', 'cnpj_base', 'descricao_municipio', 'uf','codigo_ibge', 'codigo_ibge_ajustado']"
      ],
      "execution_count": null,
      "outputs": []
    },
    {
      "cell_type": "code",
      "metadata": {
        "id": "E1povPsgpz4J"
      },
      "source": [
        "municipios_siafi = municipios_siafi.drop(['cnpj_base','uf'], axis=1) #eliminação das colunas desnecessárias"
      ],
      "execution_count": null,
      "outputs": []
    },
    {
      "cell_type": "code",
      "metadata": {
        "id": "P7GAqHPupFVW"
      },
      "source": [
        "cnpj_final = pd.merge(cnpj_final, municipios_siafi, how='left', on='codigo_municipio_siafi')"
      ],
      "execution_count": null,
      "outputs": []
    },
    {
      "cell_type": "code",
      "metadata": {
        "id": "udVa7veNvd69",
        "colab": {
          "base_uri": "https://localhost:8080/",
          "height": 439
        },
        "outputId": "c5e8eab9-f79b-418e-a7db-b15ac3bc20ca"
      },
      "source": [
        "cnpj_final"
      ],
      "execution_count": null,
      "outputs": [
        {
          "output_type": "execute_result",
          "data": {
            "text/html": [
              "<div>\n",
              "<style scoped>\n",
              "    .dataframe tbody tr th:only-of-type {\n",
              "        vertical-align: middle;\n",
              "    }\n",
              "\n",
              "    .dataframe tbody tr th {\n",
              "        vertical-align: top;\n",
              "    }\n",
              "\n",
              "    .dataframe thead th {\n",
              "        text-align: right;\n",
              "    }\n",
              "</style>\n",
              "<table border=\"1\" class=\"dataframe\">\n",
              "  <thead>\n",
              "    <tr style=\"text-align: right;\">\n",
              "      <th></th>\n",
              "      <th>cnpj_basico</th>\n",
              "      <th>cnpj_ordem</th>\n",
              "      <th>cnpj_dv</th>\n",
              "      <th>matriz_filial</th>\n",
              "      <th>codigo_situacao_cadastral</th>\n",
              "      <th>data_situacao_cadastral</th>\n",
              "      <th>motivo_situacao_cadastral</th>\n",
              "      <th>data_inicio_atividade</th>\n",
              "      <th>cnae_principal</th>\n",
              "      <th>codigo_municipio_siafi</th>\n",
              "      <th>capital_social</th>\n",
              "      <th>descricao_municipio</th>\n",
              "      <th>codigo_ibge</th>\n",
              "      <th>codigo_ibge_ajustado</th>\n",
              "    </tr>\n",
              "  </thead>\n",
              "  <tbody>\n",
              "    <tr>\n",
              "      <th>0</th>\n",
              "      <td>29880642</td>\n",
              "      <td>0001</td>\n",
              "      <td>04</td>\n",
              "      <td>1</td>\n",
              "      <td>08</td>\n",
              "      <td>20190921</td>\n",
              "      <td>01</td>\n",
              "      <td>20180308</td>\n",
              "      <td>8712300</td>\n",
              "      <td>7107</td>\n",
              "      <td>2000,00</td>\n",
              "      <td>SAO PAULO</td>\n",
              "      <td>3550308</td>\n",
              "      <td>355030</td>\n",
              "    </tr>\n",
              "    <tr>\n",
              "      <th>1</th>\n",
              "      <td>29880783</td>\n",
              "      <td>0001</td>\n",
              "      <td>27</td>\n",
              "      <td>1</td>\n",
              "      <td>08</td>\n",
              "      <td>20200106</td>\n",
              "      <td>01</td>\n",
              "      <td>20180308</td>\n",
              "      <td>8630503</td>\n",
              "      <td>4205</td>\n",
              "      <td>95400,00</td>\n",
              "      <td>CALDAS</td>\n",
              "      <td>3110301</td>\n",
              "      <td>311030</td>\n",
              "    </tr>\n",
              "    <tr>\n",
              "      <th>2</th>\n",
              "      <td>29880797</td>\n",
              "      <td>0001</td>\n",
              "      <td>40</td>\n",
              "      <td>1</td>\n",
              "      <td>08</td>\n",
              "      <td>20200507</td>\n",
              "      <td>01</td>\n",
              "      <td>20180308</td>\n",
              "      <td>9511800</td>\n",
              "      <td>5403</td>\n",
              "      <td>3500,00</td>\n",
              "      <td>UBERLANDIA</td>\n",
              "      <td>3170206</td>\n",
              "      <td>317020</td>\n",
              "    </tr>\n",
              "    <tr>\n",
              "      <th>3</th>\n",
              "      <td>29880805</td>\n",
              "      <td>0001</td>\n",
              "      <td>59</td>\n",
              "      <td>1</td>\n",
              "      <td>08</td>\n",
              "      <td>20190213</td>\n",
              "      <td>01</td>\n",
              "      <td>20180308</td>\n",
              "      <td>5620104</td>\n",
              "      <td>6623</td>\n",
              "      <td>10000,00</td>\n",
              "      <td>JUQUIA</td>\n",
              "      <td>3526100</td>\n",
              "      <td>352610</td>\n",
              "    </tr>\n",
              "    <tr>\n",
              "      <th>4</th>\n",
              "      <td>29880816</td>\n",
              "      <td>0001</td>\n",
              "      <td>39</td>\n",
              "      <td>1</td>\n",
              "      <td>08</td>\n",
              "      <td>20190808</td>\n",
              "      <td>01</td>\n",
              "      <td>20180308</td>\n",
              "      <td>9602501</td>\n",
              "      <td>3105</td>\n",
              "      <td>1000,00</td>\n",
              "      <td>ARACAJU</td>\n",
              "      <td>2800308</td>\n",
              "      <td>280030</td>\n",
              "    </tr>\n",
              "    <tr>\n",
              "      <th>...</th>\n",
              "      <td>...</td>\n",
              "      <td>...</td>\n",
              "      <td>...</td>\n",
              "      <td>...</td>\n",
              "      <td>...</td>\n",
              "      <td>...</td>\n",
              "      <td>...</td>\n",
              "      <td>...</td>\n",
              "      <td>...</td>\n",
              "      <td>...</td>\n",
              "      <td>...</td>\n",
              "      <td>...</td>\n",
              "      <td>...</td>\n",
              "      <td>...</td>\n",
              "    </tr>\n",
              "    <tr>\n",
              "      <th>11157252</th>\n",
              "      <td>29880238</td>\n",
              "      <td>0001</td>\n",
              "      <td>30</td>\n",
              "      <td>1</td>\n",
              "      <td>08</td>\n",
              "      <td>20190401</td>\n",
              "      <td>01</td>\n",
              "      <td>20180308</td>\n",
              "      <td>4772500</td>\n",
              "      <td>8047</td>\n",
              "      <td>40000,00</td>\n",
              "      <td>BLUMENAU</td>\n",
              "      <td>4202404</td>\n",
              "      <td>420240</td>\n",
              "    </tr>\n",
              "    <tr>\n",
              "      <th>11157253</th>\n",
              "      <td>29880354</td>\n",
              "      <td>0001</td>\n",
              "      <td>50</td>\n",
              "      <td>1</td>\n",
              "      <td>02</td>\n",
              "      <td>20210527</td>\n",
              "      <td>00</td>\n",
              "      <td>20180308</td>\n",
              "      <td>4712100</td>\n",
              "      <td>145</td>\n",
              "      <td>5000,00</td>\n",
              "      <td>SENA MADUREIRA</td>\n",
              "      <td>1200500</td>\n",
              "      <td>120050</td>\n",
              "    </tr>\n",
              "    <tr>\n",
              "      <th>11157254</th>\n",
              "      <td>29880380</td>\n",
              "      <td>0001</td>\n",
              "      <td>88</td>\n",
              "      <td>1</td>\n",
              "      <td>08</td>\n",
              "      <td>20190516</td>\n",
              "      <td>01</td>\n",
              "      <td>20180308</td>\n",
              "      <td>7319002</td>\n",
              "      <td>7107</td>\n",
              "      <td>1000,00</td>\n",
              "      <td>SAO PAULO</td>\n",
              "      <td>3550308</td>\n",
              "      <td>355030</td>\n",
              "    </tr>\n",
              "    <tr>\n",
              "      <th>11157255</th>\n",
              "      <td>26520602</td>\n",
              "      <td>0001</td>\n",
              "      <td>63</td>\n",
              "      <td>1</td>\n",
              "      <td>08</td>\n",
              "      <td>20191219</td>\n",
              "      <td>01</td>\n",
              "      <td>20161110</td>\n",
              "      <td>4789004</td>\n",
              "      <td>7107</td>\n",
              "      <td>1000,00</td>\n",
              "      <td>SAO PAULO</td>\n",
              "      <td>3550308</td>\n",
              "      <td>355030</td>\n",
              "    </tr>\n",
              "    <tr>\n",
              "      <th>11157256</th>\n",
              "      <td>29880509</td>\n",
              "      <td>0001</td>\n",
              "      <td>58</td>\n",
              "      <td>1</td>\n",
              "      <td>08</td>\n",
              "      <td>20190711</td>\n",
              "      <td>01</td>\n",
              "      <td>20180308</td>\n",
              "      <td>5612100</td>\n",
              "      <td>2531</td>\n",
              "      <td>4500,00</td>\n",
              "      <td>RECIFE</td>\n",
              "      <td>2611606</td>\n",
              "      <td>261160</td>\n",
              "    </tr>\n",
              "  </tbody>\n",
              "</table>\n",
              "<p>11157257 rows × 14 columns</p>\n",
              "</div>"
            ],
            "text/plain": [
              "         cnpj_basico cnpj_ordem  ... codigo_ibge codigo_ibge_ajustado\n",
              "0           29880642       0001  ...     3550308               355030\n",
              "1           29880783       0001  ...     3110301               311030\n",
              "2           29880797       0001  ...     3170206               317020\n",
              "3           29880805       0001  ...     3526100               352610\n",
              "4           29880816       0001  ...     2800308               280030\n",
              "...              ...        ...  ...         ...                  ...\n",
              "11157252    29880238       0001  ...     4202404               420240\n",
              "11157253    29880354       0001  ...     1200500               120050\n",
              "11157254    29880380       0001  ...     3550308               355030\n",
              "11157255    26520602       0001  ...     3550308               355030\n",
              "11157256    29880509       0001  ...     2611606               261160\n",
              "\n",
              "[11157257 rows x 14 columns]"
            ]
          },
          "metadata": {
            "tags": []
          },
          "execution_count": 13
        }
      ]
    },
    {
      "cell_type": "code",
      "metadata": {
        "id": "WvF2nybagcfU"
      },
      "source": [
        ""
      ],
      "execution_count": null,
      "outputs": []
    },
    {
      "cell_type": "code",
      "metadata": {
        "id": "6sMkPDp5CkBS"
      },
      "source": [
        "covid_brasil_1 = pd.read_csv('//content/drive/MyDrive/TCC - PUC/HIST_PAINEL_COVIDBR_2020_Parte1_31mai2021.csv',encoding='ISO-8859-1', sep=';' ,dtype=str, header=0)\n",
        "covid_brasil_2 = pd.read_csv('//content/drive/MyDrive/TCC - PUC/HIST_PAINEL_COVIDBR_2020_Parte2_31mai2021.csv',encoding='ISO-8859-1', sep=';' ,dtype=str, header=0)\n",
        "covid_brasil_3 = pd.read_csv('//content/drive/MyDrive/TCC - PUC/HIST_PAINEL_COVIDBR_Parte3_31mai2021.csv',encoding='ISO-8859-1', sep=';' ,dtype=str, header=0)"
      ],
      "execution_count": null,
      "outputs": []
    },
    {
      "cell_type": "code",
      "metadata": {
        "id": "YTAuRXlZCnIB"
      },
      "source": [
        "covid_brasil_todas = pd.concat([covid_brasil_1, covid_brasil_2, covid_brasil_3], axis=0)"
      ],
      "execution_count": null,
      "outputs": []
    },
    {
      "cell_type": "code",
      "metadata": {
        "colab": {
          "base_uri": "https://localhost:8080/",
          "height": 609
        },
        "id": "J_3TJpnxHbxr",
        "outputId": "5bb2fd6d-7f42-4b9e-aee3-99508115fdfd"
      },
      "source": [
        "covid_brasil_todas"
      ],
      "execution_count": null,
      "outputs": [
        {
          "output_type": "execute_result",
          "data": {
            "text/html": [
              "<div>\n",
              "<style scoped>\n",
              "    .dataframe tbody tr th:only-of-type {\n",
              "        vertical-align: middle;\n",
              "    }\n",
              "\n",
              "    .dataframe tbody tr th {\n",
              "        vertical-align: top;\n",
              "    }\n",
              "\n",
              "    .dataframe thead th {\n",
              "        text-align: right;\n",
              "    }\n",
              "</style>\n",
              "<table border=\"1\" class=\"dataframe\">\n",
              "  <thead>\n",
              "    <tr style=\"text-align: right;\">\n",
              "      <th></th>\n",
              "      <th>regiao</th>\n",
              "      <th>estado</th>\n",
              "      <th>municipio</th>\n",
              "      <th>coduf</th>\n",
              "      <th>codmun</th>\n",
              "      <th>codRegiaoSaude</th>\n",
              "      <th>nomeRegiaoSaude</th>\n",
              "      <th>data</th>\n",
              "      <th>semanaEpi</th>\n",
              "      <th>populacaoTCU2019</th>\n",
              "      <th>casosAcumulado</th>\n",
              "      <th>casosNovos</th>\n",
              "      <th>obitosAcumulado</th>\n",
              "      <th>obitosNovos</th>\n",
              "      <th>Recuperadosnovos</th>\n",
              "      <th>emAcompanhamentoNovos</th>\n",
              "      <th>interior/metropolitana</th>\n",
              "    </tr>\n",
              "  </thead>\n",
              "  <tbody>\n",
              "    <tr>\n",
              "      <th>0</th>\n",
              "      <td>Brasil</td>\n",
              "      <td>NaN</td>\n",
              "      <td>NaN</td>\n",
              "      <td>76</td>\n",
              "      <td>NaN</td>\n",
              "      <td>NaN</td>\n",
              "      <td>NaN</td>\n",
              "      <td>2020-02-25</td>\n",
              "      <td>9</td>\n",
              "      <td>210147125</td>\n",
              "      <td>0</td>\n",
              "      <td>0</td>\n",
              "      <td>0</td>\n",
              "      <td>0</td>\n",
              "      <td>NaN</td>\n",
              "      <td>NaN</td>\n",
              "      <td>NaN</td>\n",
              "    </tr>\n",
              "    <tr>\n",
              "      <th>1</th>\n",
              "      <td>Brasil</td>\n",
              "      <td>NaN</td>\n",
              "      <td>NaN</td>\n",
              "      <td>76</td>\n",
              "      <td>NaN</td>\n",
              "      <td>NaN</td>\n",
              "      <td>NaN</td>\n",
              "      <td>2020-02-26</td>\n",
              "      <td>9</td>\n",
              "      <td>210147125</td>\n",
              "      <td>1</td>\n",
              "      <td>1</td>\n",
              "      <td>0</td>\n",
              "      <td>0</td>\n",
              "      <td>NaN</td>\n",
              "      <td>NaN</td>\n",
              "      <td>NaN</td>\n",
              "    </tr>\n",
              "    <tr>\n",
              "      <th>2</th>\n",
              "      <td>Brasil</td>\n",
              "      <td>NaN</td>\n",
              "      <td>NaN</td>\n",
              "      <td>76</td>\n",
              "      <td>NaN</td>\n",
              "      <td>NaN</td>\n",
              "      <td>NaN</td>\n",
              "      <td>2020-02-27</td>\n",
              "      <td>9</td>\n",
              "      <td>210147125</td>\n",
              "      <td>1</td>\n",
              "      <td>0</td>\n",
              "      <td>0</td>\n",
              "      <td>0</td>\n",
              "      <td>NaN</td>\n",
              "      <td>NaN</td>\n",
              "      <td>NaN</td>\n",
              "    </tr>\n",
              "    <tr>\n",
              "      <th>3</th>\n",
              "      <td>Brasil</td>\n",
              "      <td>NaN</td>\n",
              "      <td>NaN</td>\n",
              "      <td>76</td>\n",
              "      <td>NaN</td>\n",
              "      <td>NaN</td>\n",
              "      <td>NaN</td>\n",
              "      <td>2020-02-28</td>\n",
              "      <td>9</td>\n",
              "      <td>210147125</td>\n",
              "      <td>1</td>\n",
              "      <td>0</td>\n",
              "      <td>0</td>\n",
              "      <td>0</td>\n",
              "      <td>NaN</td>\n",
              "      <td>NaN</td>\n",
              "      <td>NaN</td>\n",
              "    </tr>\n",
              "    <tr>\n",
              "      <th>4</th>\n",
              "      <td>Brasil</td>\n",
              "      <td>NaN</td>\n",
              "      <td>NaN</td>\n",
              "      <td>76</td>\n",
              "      <td>NaN</td>\n",
              "      <td>NaN</td>\n",
              "      <td>NaN</td>\n",
              "      <td>2020-02-29</td>\n",
              "      <td>9</td>\n",
              "      <td>210147125</td>\n",
              "      <td>2</td>\n",
              "      <td>1</td>\n",
              "      <td>0</td>\n",
              "      <td>0</td>\n",
              "      <td>NaN</td>\n",
              "      <td>NaN</td>\n",
              "      <td>NaN</td>\n",
              "    </tr>\n",
              "    <tr>\n",
              "      <th>...</th>\n",
              "      <td>...</td>\n",
              "      <td>...</td>\n",
              "      <td>...</td>\n",
              "      <td>...</td>\n",
              "      <td>...</td>\n",
              "      <td>...</td>\n",
              "      <td>...</td>\n",
              "      <td>...</td>\n",
              "      <td>...</td>\n",
              "      <td>...</td>\n",
              "      <td>...</td>\n",
              "      <td>...</td>\n",
              "      <td>...</td>\n",
              "      <td>...</td>\n",
              "      <td>...</td>\n",
              "      <td>...</td>\n",
              "      <td>...</td>\n",
              "    </tr>\n",
              "    <tr>\n",
              "      <th>848465</th>\n",
              "      <td>Centro-Oeste</td>\n",
              "      <td>DF</td>\n",
              "      <td>BrasÃ­lia</td>\n",
              "      <td>53</td>\n",
              "      <td>530010</td>\n",
              "      <td>53001</td>\n",
              "      <td>DISTRITO FEDERAL</td>\n",
              "      <td>2021-05-27</td>\n",
              "      <td>21</td>\n",
              "      <td>3015268</td>\n",
              "      <td>402182</td>\n",
              "      <td>1205</td>\n",
              "      <td>8569</td>\n",
              "      <td>32</td>\n",
              "      <td>NaN</td>\n",
              "      <td>NaN</td>\n",
              "      <td>1</td>\n",
              "    </tr>\n",
              "    <tr>\n",
              "      <th>848466</th>\n",
              "      <td>Centro-Oeste</td>\n",
              "      <td>DF</td>\n",
              "      <td>BrasÃ­lia</td>\n",
              "      <td>53</td>\n",
              "      <td>530010</td>\n",
              "      <td>53001</td>\n",
              "      <td>DISTRITO FEDERAL</td>\n",
              "      <td>2021-05-28</td>\n",
              "      <td>21</td>\n",
              "      <td>3015268</td>\n",
              "      <td>403175</td>\n",
              "      <td>993</td>\n",
              "      <td>8600</td>\n",
              "      <td>31</td>\n",
              "      <td>NaN</td>\n",
              "      <td>NaN</td>\n",
              "      <td>1</td>\n",
              "    </tr>\n",
              "    <tr>\n",
              "      <th>848467</th>\n",
              "      <td>Centro-Oeste</td>\n",
              "      <td>DF</td>\n",
              "      <td>BrasÃ­lia</td>\n",
              "      <td>53</td>\n",
              "      <td>530010</td>\n",
              "      <td>53001</td>\n",
              "      <td>DISTRITO FEDERAL</td>\n",
              "      <td>2021-05-29</td>\n",
              "      <td>21</td>\n",
              "      <td>3015268</td>\n",
              "      <td>404190</td>\n",
              "      <td>1015</td>\n",
              "      <td>8621</td>\n",
              "      <td>21</td>\n",
              "      <td>NaN</td>\n",
              "      <td>NaN</td>\n",
              "      <td>1</td>\n",
              "    </tr>\n",
              "    <tr>\n",
              "      <th>848468</th>\n",
              "      <td>Centro-Oeste</td>\n",
              "      <td>DF</td>\n",
              "      <td>BrasÃ­lia</td>\n",
              "      <td>53</td>\n",
              "      <td>530010</td>\n",
              "      <td>53001</td>\n",
              "      <td>DISTRITO FEDERAL</td>\n",
              "      <td>2021-05-30</td>\n",
              "      <td>22</td>\n",
              "      <td>3015268</td>\n",
              "      <td>405001</td>\n",
              "      <td>811</td>\n",
              "      <td>8642</td>\n",
              "      <td>21</td>\n",
              "      <td>NaN</td>\n",
              "      <td>NaN</td>\n",
              "      <td>1</td>\n",
              "    </tr>\n",
              "    <tr>\n",
              "      <th>848469</th>\n",
              "      <td>Centro-Oeste</td>\n",
              "      <td>DF</td>\n",
              "      <td>BrasÃ­lia</td>\n",
              "      <td>53</td>\n",
              "      <td>530010</td>\n",
              "      <td>53001</td>\n",
              "      <td>DISTRITO FEDERAL</td>\n",
              "      <td>2021-05-31</td>\n",
              "      <td>22</td>\n",
              "      <td>3015268</td>\n",
              "      <td>405903</td>\n",
              "      <td>902</td>\n",
              "      <td>8670</td>\n",
              "      <td>28</td>\n",
              "      <td>NaN</td>\n",
              "      <td>NaN</td>\n",
              "      <td>1</td>\n",
              "    </tr>\n",
              "  </tbody>\n",
              "</table>\n",
              "<p>2422659 rows × 17 columns</p>\n",
              "</div>"
            ],
            "text/plain": [
              "              regiao estado  ... emAcompanhamentoNovos interior/metropolitana\n",
              "0             Brasil    NaN  ...                   NaN                    NaN\n",
              "1             Brasil    NaN  ...                   NaN                    NaN\n",
              "2             Brasil    NaN  ...                   NaN                    NaN\n",
              "3             Brasil    NaN  ...                   NaN                    NaN\n",
              "4             Brasil    NaN  ...                   NaN                    NaN\n",
              "...              ...    ...  ...                   ...                    ...\n",
              "848465  Centro-Oeste     DF  ...                   NaN                      1\n",
              "848466  Centro-Oeste     DF  ...                   NaN                      1\n",
              "848467  Centro-Oeste     DF  ...                   NaN                      1\n",
              "848468  Centro-Oeste     DF  ...                   NaN                      1\n",
              "848469  Centro-Oeste     DF  ...                   NaN                      1\n",
              "\n",
              "[2422659 rows x 17 columns]"
            ]
          },
          "metadata": {
            "tags": []
          },
          "execution_count": 16
        }
      ]
    },
    {
      "cell_type": "code",
      "metadata": {
        "id": "pKfyf1rBCsWh"
      },
      "source": [
        "covid_brasil_todas = covid_brasil_todas[covid_brasil_todas['codmun'] .notnull()] \n",
        "covid_brasil_todas = covid_brasil_todas[covid_brasil_todas['municipio'] .notnull()] "
      ],
      "execution_count": null,
      "outputs": []
    },
    {
      "cell_type": "code",
      "metadata": {
        "id": "Foo0hdT9CxJp"
      },
      "source": [
        "covid_brasil_todas = covid_brasil_todas.drop(['municipio','coduf','codRegiaoSaude','nomeRegiaoSaude','semanaEpi','Recuperadosnovos','emAcompanhamentoNovos','emAcompanhamentoNovos', 'interior/metropolitana'], axis=1) #eliminação das colunas desnecessárias"
      ],
      "execution_count": null,
      "outputs": []
    },
    {
      "cell_type": "code",
      "metadata": {
        "id": "DZPXKSIcC1UB"
      },
      "source": [
        "covid_brasil_todas.columns = ['regiao', 'estado', 'codigo_ibge_ajustado', 'data_covid','populacaoTCU2019', 'casosAcumulado','casosNovos','obitosAcumulado','obitosNovos']"
      ],
      "execution_count": null,
      "outputs": []
    },
    {
      "cell_type": "code",
      "metadata": {
        "id": "rOB2HE-ZC4RK"
      },
      "source": [
        "data_removido = covid_brasil_todas['data_covid'].str.replace(r'\\D', '')"
      ],
      "execution_count": null,
      "outputs": []
    },
    {
      "cell_type": "code",
      "metadata": {
        "id": "yiSnZdx0C7gx"
      },
      "source": [
        "codigo_ibge_data = data_removido + covid_brasil_todas['codigo_ibge_ajustado']"
      ],
      "execution_count": null,
      "outputs": []
    },
    {
      "cell_type": "code",
      "metadata": {
        "id": "-emKksR7C9cZ"
      },
      "source": [
        "covid_brasil_todas['populacaoTCU2019'] = covid_brasil_todas['populacaoTCU2019'].astype(int)\n",
        "covid_brasil_todas['casosAcumulado'] = covid_brasil_todas['casosAcumulado'].astype(int)\n",
        "covid_brasil_todas['obitosAcumulado'] = covid_brasil_todas['obitosAcumulado'].astype(int)"
      ],
      "execution_count": null,
      "outputs": []
    },
    {
      "cell_type": "code",
      "metadata": {
        "id": "OZsrC8QoDAMR"
      },
      "source": [
        "casos_acumulados_porcentagem = round(((covid_brasil_todas['casosAcumulado'] * 100) / (covid_brasil_todas['populacaoTCU2019'])),3)\n",
        "obitos_acumulados_porcentagem = round(((covid_brasil_todas['obitosAcumulado'] * 100) / (covid_brasil_todas['populacaoTCU2019'])),3)"
      ],
      "execution_count": null,
      "outputs": []
    },
    {
      "cell_type": "code",
      "metadata": {
        "id": "YGBHFrfjDB7S"
      },
      "source": [
        "covid_brasil_todas = pd.concat([covid_brasil_todas, casos_acumulados_porcentagem, obitos_acumulados_porcentagem, codigo_ibge_data], axis=1)"
      ],
      "execution_count": null,
      "outputs": []
    },
    {
      "cell_type": "code",
      "metadata": {
        "id": "h-c3rW3j2UdX"
      },
      "source": [
        "covid_brasil_todas.columns = ['regiao', 'estado', 'codigo_ibge_ajustado','data_covid', 'populacaoTCU2019','casosAcumulado', 'casosNovos','obitosAcumulado','obitosNovos', 'casos_acumulados_porcentagem','obitos_acumulados_porcentagem','codigo_ibge_data']"
      ],
      "execution_count": null,
      "outputs": []
    },
    {
      "cell_type": "code",
      "metadata": {
        "id": "_zziMDG4OzqL"
      },
      "source": [
        "codigo_ibge_data_regiao = pd.DataFrame (\"20210531\" + cnpj_final['codigo_ibge_ajustado'])"
      ],
      "execution_count": null,
      "outputs": []
    },
    {
      "cell_type": "code",
      "metadata": {
        "id": "TwD35LhX2Bmc"
      },
      "source": [
        "codigo_ibge_data_regiao.columns = ['codigo_ibge_data']"
      ],
      "execution_count": null,
      "outputs": []
    },
    {
      "cell_type": "code",
      "metadata": {
        "id": "TdPF-OaY1seQ"
      },
      "source": [
        "codigo_ibge_data_regiao  = pd.merge(codigo_ibge_data_regiao, covid_brasil_todas, how='left', on='codigo_ibge_data')"
      ],
      "execution_count": null,
      "outputs": []
    },
    {
      "cell_type": "code",
      "metadata": {
        "id": "H9lLuf8F1smH"
      },
      "source": [
        "codigo_ibge_data_regiao = codigo_ibge_data_regiao.drop(['codigo_ibge_data','codigo_ibge_ajustado','data_covid','casosAcumulado','casosNovos','obitosAcumulado','obitosNovos','casos_acumulados_porcentagem','obitos_acumulados_porcentagem'], axis=1) #eliminação das colunas desnecessárias"
      ],
      "execution_count": null,
      "outputs": []
    },
    {
      "cell_type": "code",
      "metadata": {
        "id": "G5tueMP9DETy"
      },
      "source": [
        "cnpj_final = pd.concat([cnpj_final, codigo_ibge_data_regiao], axis=1)"
      ],
      "execution_count": null,
      "outputs": []
    },
    {
      "cell_type": "code",
      "metadata": {
        "id": "5BOk4YK1OzbC"
      },
      "source": [
        "codigo_ibge_data_covid = pd.DataFrame (np.where((cnpj_final['codigo_situacao_cadastral']=='08'), cnpj_final['data_situacao_cadastral'] + cnpj_final['codigo_ibge_ajustado'] , \"20210531\" + cnpj_final['codigo_ibge_ajustado']))"
      ],
      "execution_count": null,
      "outputs": []
    },
    {
      "cell_type": "code",
      "metadata": {
        "id": "IVEYBVUcpYWR"
      },
      "source": [
        "cnpj_final = pd.concat([cnpj_final, codigo_ibge_data_covid], axis=1)"
      ],
      "execution_count": null,
      "outputs": []
    },
    {
      "cell_type": "code",
      "metadata": {
        "id": "2TWr_lWX2SrK"
      },
      "source": [
        "cnpj_final.columns = ['cnpj_basico','cnpj_ordem','cnpj_dv','matriz_filial','codigo_situacao_cadastral','data_situacao_cadastral','motivo_situacao_cadastral','data_inicio_atividade','cnae_principal','codigo_municipio_siafi','capital_social','descricao_municipio','codigo_ibge','codigo_ibge_ajustado','regiao','estado','populacaoTCU2019','codigo_ibge_data']"
      ],
      "execution_count": null,
      "outputs": []
    },
    {
      "cell_type": "code",
      "metadata": {
        "id": "BtnHtxix43L_"
      },
      "source": [
        "codigo_ibge_data_covid.columns = ['codigo_ibge_data']"
      ],
      "execution_count": null,
      "outputs": []
    },
    {
      "cell_type": "code",
      "metadata": {
        "id": "yf8JsD4743PG"
      },
      "source": [
        "codigo_ibge_data_covid  = pd.merge(codigo_ibge_data_covid, covid_brasil_todas, how='left', on='codigo_ibge_data')"
      ],
      "execution_count": null,
      "outputs": []
    },
    {
      "cell_type": "code",
      "metadata": {
        "id": "la5ZKizz43VM"
      },
      "source": [
        "codigo_ibge_data_covid = codigo_ibge_data_covid.drop(['codigo_ibge_data','regiao','estado','codigo_ibge_ajustado','data_covid','populacaoTCU2019','casosNovos','obitosNovos'], axis=1) #eliminação das colunas desnecessárias"
      ],
      "execution_count": null,
      "outputs": []
    },
    {
      "cell_type": "code",
      "metadata": {
        "id": "04vkE_5S43X0"
      },
      "source": [
        "codigo_ibge_data_covid.columns = ['casosAcumulado_covid','obitosAcumulado_covid','casos_acumulados_porcentagem_covid','obitos_acumulados_porcentagem_covid']"
      ],
      "execution_count": null,
      "outputs": []
    },
    {
      "cell_type": "code",
      "metadata": {
        "id": "dONEqij_43aN"
      },
      "source": [
        "cnpj_final = pd.concat([cnpj_final, codigo_ibge_data_covid], axis=1)"
      ],
      "execution_count": null,
      "outputs": []
    },
    {
      "cell_type": "code",
      "metadata": {
        "id": "j2mColr6iC6P"
      },
      "source": [
        ""
      ],
      "execution_count": null,
      "outputs": []
    },
    {
      "cell_type": "code",
      "metadata": {
        "id": "J7_6wvlpP83C"
      },
      "source": [
        "idh_municipios = pd.read_csv('//content/drive/MyDrive//TCC - PUC/IDH por Município - FINAL COM CÓDIGO IBGE.csv',encoding='ISO-8859-1', sep=';' ,dtype=str, header=0,decimal=',')"
      ],
      "execution_count": null,
      "outputs": []
    },
    {
      "cell_type": "code",
      "metadata": {
        "colab": {
          "base_uri": "https://localhost:8080/",
          "height": 419
        },
        "id": "_3X9cKQSHnYC",
        "outputId": "08653c02-3ea9-4a52-8703-6f6b5d0bb771"
      },
      "source": [
        "idh_municipios"
      ],
      "execution_count": null,
      "outputs": [
        {
          "output_type": "execute_result",
          "data": {
            "text/html": [
              "<div>\n",
              "<style scoped>\n",
              "    .dataframe tbody tr th:only-of-type {\n",
              "        vertical-align: middle;\n",
              "    }\n",
              "\n",
              "    .dataframe tbody tr th {\n",
              "        vertical-align: top;\n",
              "    }\n",
              "\n",
              "    .dataframe thead th {\n",
              "        text-align: right;\n",
              "    }\n",
              "</style>\n",
              "<table border=\"1\" class=\"dataframe\">\n",
              "  <thead>\n",
              "    <tr style=\"text-align: right;\">\n",
              "      <th></th>\n",
              "      <th>Territorialidade</th>\n",
              "      <th>CODIGO IBGE</th>\n",
              "      <th>Posicao IDHM</th>\n",
              "      <th>IDHM</th>\n",
              "      <th>Posicao IDHM Educacao</th>\n",
              "      <th>IDHM Educacao</th>\n",
              "      <th>Posicao IDHM Longevidade</th>\n",
              "      <th>IDHM Longevidade</th>\n",
              "      <th>Posicao IDHM Renda</th>\n",
              "      <th>IDHM Renda</th>\n",
              "    </tr>\n",
              "  </thead>\n",
              "  <tbody>\n",
              "    <tr>\n",
              "      <th>0</th>\n",
              "      <td>ABADIA DE GOIAS</td>\n",
              "      <td>5200050</td>\n",
              "      <td>117</td>\n",
              "      <td>0,708</td>\n",
              "      <td>155</td>\n",
              "      <td>0,622</td>\n",
              "      <td>151</td>\n",
              "      <td>0,687</td>\n",
              "      <td>65</td>\n",
              "      <td>0,83</td>\n",
              "    </tr>\n",
              "    <tr>\n",
              "      <th>1</th>\n",
              "      <td>ABADIA DOS DOURADOS</td>\n",
              "      <td>3100104</td>\n",
              "      <td>136</td>\n",
              "      <td>0,689</td>\n",
              "      <td>214</td>\n",
              "      <td>0,563</td>\n",
              "      <td>145</td>\n",
              "      <td>0,693</td>\n",
              "      <td>56</td>\n",
              "      <td>0,839</td>\n",
              "    </tr>\n",
              "    <tr>\n",
              "      <th>2</th>\n",
              "      <td>ABADIANIA</td>\n",
              "      <td>5200100</td>\n",
              "      <td>136</td>\n",
              "      <td>0,689</td>\n",
              "      <td>198</td>\n",
              "      <td>0,579</td>\n",
              "      <td>167</td>\n",
              "      <td>0,671</td>\n",
              "      <td>54</td>\n",
              "      <td>0,841</td>\n",
              "    </tr>\n",
              "    <tr>\n",
              "      <th>3</th>\n",
              "      <td>ABAETE</td>\n",
              "      <td>3100203</td>\n",
              "      <td>127</td>\n",
              "      <td>0,698</td>\n",
              "      <td>221</td>\n",
              "      <td>0,556</td>\n",
              "      <td>118</td>\n",
              "      <td>0,72</td>\n",
              "      <td>47</td>\n",
              "      <td>0,848</td>\n",
              "    </tr>\n",
              "    <tr>\n",
              "      <th>4</th>\n",
              "      <td>ABAETETUBA</td>\n",
              "      <td>1500107</td>\n",
              "      <td>197</td>\n",
              "      <td>0,628</td>\n",
              "      <td>240</td>\n",
              "      <td>0,537</td>\n",
              "      <td>259</td>\n",
              "      <td>0,579</td>\n",
              "      <td>97</td>\n",
              "      <td>0,798</td>\n",
              "    </tr>\n",
              "    <tr>\n",
              "      <th>...</th>\n",
              "      <td>...</td>\n",
              "      <td>...</td>\n",
              "      <td>...</td>\n",
              "      <td>...</td>\n",
              "      <td>...</td>\n",
              "      <td>...</td>\n",
              "      <td>...</td>\n",
              "      <td>...</td>\n",
              "      <td>...</td>\n",
              "      <td>...</td>\n",
              "    </tr>\n",
              "    <tr>\n",
              "      <th>5560</th>\n",
              "      <td>XIQUE-XIQUE</td>\n",
              "      <td>2933604</td>\n",
              "      <td>240</td>\n",
              "      <td>0,585</td>\n",
              "      <td>298</td>\n",
              "      <td>0,479</td>\n",
              "      <td>275</td>\n",
              "      <td>0,563</td>\n",
              "      <td>154</td>\n",
              "      <td>0,741</td>\n",
              "    </tr>\n",
              "    <tr>\n",
              "      <th>5561</th>\n",
              "      <td>ZABELE</td>\n",
              "      <td>2517407</td>\n",
              "      <td>202</td>\n",
              "      <td>0,623</td>\n",
              "      <td>190</td>\n",
              "      <td>0,587</td>\n",
              "      <td>271</td>\n",
              "      <td>0,567</td>\n",
              "      <td>170</td>\n",
              "      <td>0,725</td>\n",
              "    </tr>\n",
              "    <tr>\n",
              "      <th>5562</th>\n",
              "      <td>ZACARIAS</td>\n",
              "      <td>3557154</td>\n",
              "      <td>96</td>\n",
              "      <td>0,729</td>\n",
              "      <td>103</td>\n",
              "      <td>0,674</td>\n",
              "      <td>143</td>\n",
              "      <td>0,695</td>\n",
              "      <td>69</td>\n",
              "      <td>0,826</td>\n",
              "    </tr>\n",
              "    <tr>\n",
              "      <th>5563</th>\n",
              "      <td>ZE DOCA</td>\n",
              "      <td>2114007</td>\n",
              "      <td>230</td>\n",
              "      <td>0,595</td>\n",
              "      <td>272</td>\n",
              "      <td>0,505</td>\n",
              "      <td>279</td>\n",
              "      <td>0,559</td>\n",
              "      <td>150</td>\n",
              "      <td>0,745</td>\n",
              "    </tr>\n",
              "    <tr>\n",
              "      <th>5564</th>\n",
              "      <td>ZORTEA</td>\n",
              "      <td>4219853</td>\n",
              "      <td>64</td>\n",
              "      <td>0,761</td>\n",
              "      <td>116</td>\n",
              "      <td>0,661</td>\n",
              "      <td>86</td>\n",
              "      <td>0,752</td>\n",
              "      <td>10</td>\n",
              "      <td>0,885</td>\n",
              "    </tr>\n",
              "  </tbody>\n",
              "</table>\n",
              "<p>5565 rows × 10 columns</p>\n",
              "</div>"
            ],
            "text/plain": [
              "         Territorialidade CODIGO IBGE  ... Posicao IDHM Renda IDHM Renda\n",
              "0         ABADIA DE GOIAS     5200050  ...                 65       0,83\n",
              "1     ABADIA DOS DOURADOS     3100104  ...                 56      0,839\n",
              "2               ABADIANIA     5200100  ...                 54      0,841\n",
              "3                  ABAETE     3100203  ...                 47      0,848\n",
              "4              ABAETETUBA     1500107  ...                 97      0,798\n",
              "...                   ...         ...  ...                ...        ...\n",
              "5560          XIQUE-XIQUE     2933604  ...                154      0,741\n",
              "5561               ZABELE     2517407  ...                170      0,725\n",
              "5562             ZACARIAS     3557154  ...                 69      0,826\n",
              "5563              ZE DOCA     2114007  ...                150      0,745\n",
              "5564               ZORTEA     4219853  ...                 10      0,885\n",
              "\n",
              "[5565 rows x 10 columns]"
            ]
          },
          "metadata": {
            "tags": []
          },
          "execution_count": 40
        }
      ]
    },
    {
      "cell_type": "code",
      "metadata": {
        "id": "IlQvrCXHvNwV"
      },
      "source": [
        "idh_municipios = idh_municipios.drop(['Territorialidade','Posicao IDHM','Posicao IDHM Educacao','Posicao IDHM Longevidade','Posicao IDHM Renda'], axis=1) #eliminação das colunas desnecessárias"
      ],
      "execution_count": null,
      "outputs": []
    },
    {
      "cell_type": "code",
      "metadata": {
        "id": "bRagc2VYCCyZ"
      },
      "source": [
        "idh_municipios.columns = ['codigo_ibge', 'IDH DO MUNICIPIO', 'IDHM EDUCACAO DO MUNICIPIO', 'IDHM LONGEVIDADE DO MUNICIPIO','IDHM RENDA DO MUNICIPIO']"
      ],
      "execution_count": null,
      "outputs": []
    },
    {
      "cell_type": "code",
      "metadata": {
        "id": "nb0g5A0xAhWp"
      },
      "source": [
        "cnpj_final = pd.merge(cnpj_final, idh_municipios, how='left', on='codigo_ibge')"
      ],
      "execution_count": null,
      "outputs": []
    },
    {
      "cell_type": "code",
      "metadata": {
        "id": "RjP8PVcpR0Yq"
      },
      "source": [
        ""
      ],
      "execution_count": null,
      "outputs": []
    },
    {
      "cell_type": "code",
      "metadata": {
        "id": "FnfnqbRhJJEy"
      },
      "source": [
        "pib_municipios = pd.read_csv('//content/drive/MyDrive/TCC - PUC/PIB dos Municípios - base de dados 2010-2018 - AJUSTADO.csv',encoding='ISO-8859-1', sep=';' ,dtype=str, header=0,decimal=',')"
      ],
      "execution_count": null,
      "outputs": []
    },
    {
      "cell_type": "code",
      "metadata": {
        "colab": {
          "base_uri": "https://localhost:8080/",
          "height": 419
        },
        "id": "nW8uAlv5Hq7y",
        "outputId": "98275bd5-c48d-41e1-8ea2-c35863863920"
      },
      "source": [
        "pib_municipios"
      ],
      "execution_count": null,
      "outputs": [
        {
          "output_type": "execute_result",
          "data": {
            "text/html": [
              "<div>\n",
              "<style scoped>\n",
              "    .dataframe tbody tr th:only-of-type {\n",
              "        vertical-align: middle;\n",
              "    }\n",
              "\n",
              "    .dataframe tbody tr th {\n",
              "        vertical-align: top;\n",
              "    }\n",
              "\n",
              "    .dataframe thead th {\n",
              "        text-align: right;\n",
              "    }\n",
              "</style>\n",
              "<table border=\"1\" class=\"dataframe\">\n",
              "  <thead>\n",
              "    <tr style=\"text-align: right;\">\n",
              "      <th></th>\n",
              "      <th>Sigla da Unidade da Federação</th>\n",
              "      <th>Código do Município</th>\n",
              "      <th>Nome do Município</th>\n",
              "      <th>PIB</th>\n",
              "      <th>PIB PER CAPITA</th>\n",
              "      <th>Ano</th>\n",
              "    </tr>\n",
              "  </thead>\n",
              "  <tbody>\n",
              "    <tr>\n",
              "      <th>0</th>\n",
              "      <td>AC</td>\n",
              "      <td>1200013</td>\n",
              "      <td>Acrelândia</td>\n",
              "      <td>236.379.386,00</td>\n",
              "      <td>15.737,64</td>\n",
              "      <td>2018</td>\n",
              "    </tr>\n",
              "    <tr>\n",
              "      <th>1</th>\n",
              "      <td>AC</td>\n",
              "      <td>1200054</td>\n",
              "      <td>Assis Brasil</td>\n",
              "      <td>91.485.893,00</td>\n",
              "      <td>12.532,31</td>\n",
              "      <td>2018</td>\n",
              "    </tr>\n",
              "    <tr>\n",
              "      <th>2</th>\n",
              "      <td>AC</td>\n",
              "      <td>1200104</td>\n",
              "      <td>Brasiléia</td>\n",
              "      <td>417.839.292,00</td>\n",
              "      <td>16.165,25</td>\n",
              "      <td>2018</td>\n",
              "    </tr>\n",
              "    <tr>\n",
              "      <th>3</th>\n",
              "      <td>AC</td>\n",
              "      <td>1200138</td>\n",
              "      <td>Bujari</td>\n",
              "      <td>157.797.041,00</td>\n",
              "      <td>15.606,47</td>\n",
              "      <td>2018</td>\n",
              "    </tr>\n",
              "    <tr>\n",
              "      <th>4</th>\n",
              "      <td>AC</td>\n",
              "      <td>1200179</td>\n",
              "      <td>Capixaba</td>\n",
              "      <td>170.402.523,00</td>\n",
              "      <td>14.874,52</td>\n",
              "      <td>2018</td>\n",
              "    </tr>\n",
              "    <tr>\n",
              "      <th>...</th>\n",
              "      <td>...</td>\n",
              "      <td>...</td>\n",
              "      <td>...</td>\n",
              "      <td>...</td>\n",
              "      <td>...</td>\n",
              "      <td>...</td>\n",
              "    </tr>\n",
              "    <tr>\n",
              "      <th>5565</th>\n",
              "      <td>TO</td>\n",
              "      <td>1721208</td>\n",
              "      <td>Tocantinópolis</td>\n",
              "      <td>295.668.770,00</td>\n",
              "      <td>12.913,56</td>\n",
              "      <td>2018</td>\n",
              "    </tr>\n",
              "    <tr>\n",
              "      <th>5566</th>\n",
              "      <td>TO</td>\n",
              "      <td>1721257</td>\n",
              "      <td>Tupirama</td>\n",
              "      <td>49.161.629,00</td>\n",
              "      <td>26.430,98</td>\n",
              "      <td>2018</td>\n",
              "    </tr>\n",
              "    <tr>\n",
              "      <th>5567</th>\n",
              "      <td>TO</td>\n",
              "      <td>1721307</td>\n",
              "      <td>Tupiratins</td>\n",
              "      <td>29.765.709,00</td>\n",
              "      <td>11.391,39</td>\n",
              "      <td>2018</td>\n",
              "    </tr>\n",
              "    <tr>\n",
              "      <th>5568</th>\n",
              "      <td>TO</td>\n",
              "      <td>1722081</td>\n",
              "      <td>Wanderlândia</td>\n",
              "      <td>140.613.090,00</td>\n",
              "      <td>12.089,51</td>\n",
              "      <td>2018</td>\n",
              "    </tr>\n",
              "    <tr>\n",
              "      <th>5569</th>\n",
              "      <td>TO</td>\n",
              "      <td>1722107</td>\n",
              "      <td>Xambioá</td>\n",
              "      <td>290.954.395,00</td>\n",
              "      <td>25.166,89</td>\n",
              "      <td>2018</td>\n",
              "    </tr>\n",
              "  </tbody>\n",
              "</table>\n",
              "<p>5570 rows × 6 columns</p>\n",
              "</div>"
            ],
            "text/plain": [
              "     Sigla da Unidade da Federação Código do Município  ... PIB PER CAPITA   Ano\n",
              "0                               AC             1200013  ...      15.737,64  2018\n",
              "1                               AC             1200054  ...      12.532,31  2018\n",
              "2                               AC             1200104  ...      16.165,25  2018\n",
              "3                               AC             1200138  ...      15.606,47  2018\n",
              "4                               AC             1200179  ...      14.874,52  2018\n",
              "...                            ...                 ...  ...            ...   ...\n",
              "5565                            TO             1721208  ...      12.913,56  2018\n",
              "5566                            TO             1721257  ...      26.430,98  2018\n",
              "5567                            TO             1721307  ...      11.391,39  2018\n",
              "5568                            TO             1722081  ...      12.089,51  2018\n",
              "5569                            TO             1722107  ...      25.166,89  2018\n",
              "\n",
              "[5570 rows x 6 columns]"
            ]
          },
          "metadata": {
            "tags": []
          },
          "execution_count": 45
        }
      ]
    },
    {
      "cell_type": "code",
      "metadata": {
        "id": "7gXJddOjJJla"
      },
      "source": [
        "pib_municipios = pib_municipios.drop(['Sigla da Unidade da Federação','Nome do Município','Ano'], axis=1) #eliminação das colunas desnecessárias"
      ],
      "execution_count": null,
      "outputs": []
    },
    {
      "cell_type": "code",
      "metadata": {
        "id": "l20auywAJXxi"
      },
      "source": [
        "pib_municipios.columns = ['codigo_ibge', 'PIB', 'PIB PER CAPITA']"
      ],
      "execution_count": null,
      "outputs": []
    },
    {
      "cell_type": "code",
      "metadata": {
        "id": "bC1cJ0nEJuVy"
      },
      "source": [
        "cnpj_final = pd.merge(cnpj_final, pib_municipios, how='left', on='codigo_ibge')"
      ],
      "execution_count": null,
      "outputs": []
    },
    {
      "cell_type": "code",
      "metadata": {
        "id": "cAhCY9YDv-SN"
      },
      "source": [
        ""
      ],
      "execution_count": null,
      "outputs": []
    },
    {
      "cell_type": "code",
      "metadata": {
        "id": "9zGFYdNW2y7g"
      },
      "source": [
        "cnae = pd.read_csv('//content/drive/MyDrive/TCC - PUC/CLASSIFICACAO CNAE POR SECAO.csv',encoding='ISO-8859-1', sep=';' ,dtype=str, header=0)"
      ],
      "execution_count": null,
      "outputs": []
    },
    {
      "cell_type": "code",
      "metadata": {
        "id": "ymFdKARd27hR"
      },
      "source": [
        "cnae.columns = ['cnae_divisao', 'cnae_secao','cnae_descricao']"
      ],
      "execution_count": null,
      "outputs": []
    },
    {
      "cell_type": "code",
      "metadata": {
        "colab": {
          "base_uri": "https://localhost:8080/",
          "height": 419
        },
        "id": "FVe1FJvqHvkz",
        "outputId": "ca2ef879-5cc9-4cd0-921b-40e4f29a6f88"
      },
      "source": [
        "cnae"
      ],
      "execution_count": null,
      "outputs": [
        {
          "output_type": "execute_result",
          "data": {
            "text/html": [
              "<div>\n",
              "<style scoped>\n",
              "    .dataframe tbody tr th:only-of-type {\n",
              "        vertical-align: middle;\n",
              "    }\n",
              "\n",
              "    .dataframe tbody tr th {\n",
              "        vertical-align: top;\n",
              "    }\n",
              "\n",
              "    .dataframe thead th {\n",
              "        text-align: right;\n",
              "    }\n",
              "</style>\n",
              "<table border=\"1\" class=\"dataframe\">\n",
              "  <thead>\n",
              "    <tr style=\"text-align: right;\">\n",
              "      <th></th>\n",
              "      <th>cnae_divisao</th>\n",
              "      <th>cnae_secao</th>\n",
              "      <th>cnae_descricao</th>\n",
              "    </tr>\n",
              "  </thead>\n",
              "  <tbody>\n",
              "    <tr>\n",
              "      <th>0</th>\n",
              "      <td>1</td>\n",
              "      <td>a</td>\n",
              "      <td>AGRICULTURA, PECUÁRIA, PRODUÇÃO FLORESTAL, PES...</td>\n",
              "    </tr>\n",
              "    <tr>\n",
              "      <th>1</th>\n",
              "      <td>2</td>\n",
              "      <td>a</td>\n",
              "      <td>AGRICULTURA, PECUÁRIA, PRODUÇÃO FLORESTAL, PES...</td>\n",
              "    </tr>\n",
              "    <tr>\n",
              "      <th>2</th>\n",
              "      <td>3</td>\n",
              "      <td>a</td>\n",
              "      <td>AGRICULTURA, PECUÁRIA, PRODUÇÃO FLORESTAL, PES...</td>\n",
              "    </tr>\n",
              "    <tr>\n",
              "      <th>3</th>\n",
              "      <td>5</td>\n",
              "      <td>b</td>\n",
              "      <td>INDÚSTRIAS EXTRATIVAS</td>\n",
              "    </tr>\n",
              "    <tr>\n",
              "      <th>4</th>\n",
              "      <td>6</td>\n",
              "      <td>b</td>\n",
              "      <td>INDÚSTRIAS EXTRATIVAS</td>\n",
              "    </tr>\n",
              "    <tr>\n",
              "      <th>...</th>\n",
              "      <td>...</td>\n",
              "      <td>...</td>\n",
              "      <td>...</td>\n",
              "    </tr>\n",
              "    <tr>\n",
              "      <th>82</th>\n",
              "      <td>94</td>\n",
              "      <td>s</td>\n",
              "      <td>OUTRAS ATIVIDADES DE SERVIÇOS</td>\n",
              "    </tr>\n",
              "    <tr>\n",
              "      <th>83</th>\n",
              "      <td>95</td>\n",
              "      <td>s</td>\n",
              "      <td>OUTRAS ATIVIDADES DE SERVIÇOS</td>\n",
              "    </tr>\n",
              "    <tr>\n",
              "      <th>84</th>\n",
              "      <td>96</td>\n",
              "      <td>s</td>\n",
              "      <td>OUTRAS ATIVIDADES DE SERVIÇOS</td>\n",
              "    </tr>\n",
              "    <tr>\n",
              "      <th>85</th>\n",
              "      <td>97</td>\n",
              "      <td>t</td>\n",
              "      <td>SERVIÇOS DOMÉSTICOS</td>\n",
              "    </tr>\n",
              "    <tr>\n",
              "      <th>86</th>\n",
              "      <td>99</td>\n",
              "      <td>u</td>\n",
              "      <td>ORGANISMOS INTERNACIONAIS E OUTRAS INSTITUIÇÕE...</td>\n",
              "    </tr>\n",
              "  </tbody>\n",
              "</table>\n",
              "<p>87 rows × 3 columns</p>\n",
              "</div>"
            ],
            "text/plain": [
              "   cnae_divisao cnae_secao                                     cnae_descricao\n",
              "0             1          a  AGRICULTURA, PECUÁRIA, PRODUÇÃO FLORESTAL, PES...\n",
              "1             2          a  AGRICULTURA, PECUÁRIA, PRODUÇÃO FLORESTAL, PES...\n",
              "2             3          a  AGRICULTURA, PECUÁRIA, PRODUÇÃO FLORESTAL, PES...\n",
              "3             5          b                              INDÚSTRIAS EXTRATIVAS\n",
              "4             6          b                              INDÚSTRIAS EXTRATIVAS\n",
              "..          ...        ...                                                ...\n",
              "82           94          s                      OUTRAS ATIVIDADES DE SERVIÇOS\n",
              "83           95          s                      OUTRAS ATIVIDADES DE SERVIÇOS\n",
              "84           96          s                      OUTRAS ATIVIDADES DE SERVIÇOS\n",
              "85           97          t                                SERVIÇOS DOMÉSTICOS\n",
              "86           99          u  ORGANISMOS INTERNACIONAIS E OUTRAS INSTITUIÇÕE...\n",
              "\n",
              "[87 rows x 3 columns]"
            ]
          },
          "metadata": {
            "tags": []
          },
          "execution_count": 51
        }
      ]
    },
    {
      "cell_type": "code",
      "metadata": {
        "id": "-6CvDjvU28jZ"
      },
      "source": [
        "cnae_divisao = cnpj_final['cnae_principal'].map(lambda x: str(x)[:-5])"
      ],
      "execution_count": null,
      "outputs": []
    },
    {
      "cell_type": "code",
      "metadata": {
        "id": "XYO7lbotKblc"
      },
      "source": [
        "cnae_divisao = cnae_divisao.astype(int)"
      ],
      "execution_count": null,
      "outputs": []
    },
    {
      "cell_type": "code",
      "metadata": {
        "id": "GqiEiyzUJina"
      },
      "source": [
        "cnae['cnae_divisao'] = cnae['cnae_divisao'].astype(int)"
      ],
      "execution_count": null,
      "outputs": []
    },
    {
      "cell_type": "code",
      "metadata": {
        "id": "HpLPT6VeONli"
      },
      "source": [
        "secao_condicao = [\n",
        "    (cnae['cnae_secao'] == 'a'),\n",
        "    (cnae['cnae_secao'] == 'b'),\n",
        "    (cnae['cnae_secao'] == 'c'),\n",
        "    (cnae['cnae_secao'] == 'd'),\n",
        "    (cnae['cnae_secao'] == 'e'),\n",
        "    (cnae['cnae_secao'] == 'f'),\n",
        "    (cnae['cnae_secao'] == 'g'),\n",
        "    (cnae['cnae_secao'] == 'h'),\n",
        "    (cnae['cnae_secao'] == 'i'),\n",
        "    (cnae['cnae_secao'] == 'j'),\n",
        "    (cnae['cnae_secao'] == 'k'),\n",
        "    (cnae['cnae_secao'] == 'l'),\n",
        "    (cnae['cnae_secao'] == 'm'),\n",
        "    (cnae['cnae_secao'] == 'n'),\n",
        "    (cnae['cnae_secao'] == 'o'),\n",
        "    (cnae['cnae_secao'] == 'p'),\n",
        "    (cnae['cnae_secao'] == 'q'),\n",
        "    (cnae['cnae_secao'] == 'r'),\n",
        "    (cnae['cnae_secao'] == 's'),\n",
        "    (cnae['cnae_secao'] == 't'),\n",
        "    (cnae['cnae_secao'] == 'u')]\n",
        "cnae_secao = ['1', '2', '3','4', '5', '6','7', '8', '9','10', '11', '12','13', '14', '15','16', '17', '18','19', '20', '21']\n",
        "cnae['cnae_secao_numero'] = np.select(secao_condicao, cnae_secao)"
      ],
      "execution_count": null,
      "outputs": []
    },
    {
      "cell_type": "code",
      "metadata": {
        "id": "cowUemHb3CMJ"
      },
      "source": [
        "cnpj_final = pd.concat([cnpj_final, cnae_divisao], axis=1)"
      ],
      "execution_count": null,
      "outputs": []
    },
    {
      "cell_type": "code",
      "metadata": {
        "id": "0hKaCo7s3O6r"
      },
      "source": [
        "cnpj_final.columns = ['cnpj_basico','cnpj_ordem','cnpj_dv','matriz_filial','codigo_situacao_cadastral','data_situacao_cadastral','motivo_situacao_cadastral','data_inicio_atividade','cnae_principal','codigo_municipio_siafi','capital_social','descricao_municipio','codigo_ibge','codigo_ibge_ajustado','regiao','estado','populacaoTCU2019','codigo_ibge_data','casosAcumulado_covid','obitosAcumulado_covid','casos_acumulados_porcentagem_covid','obitos_acumulados_porcentagem_covid','IDH DO MUNICIPIO','IDHM EDUCACAO DO MUNICIPIO','IDHM LONGEVIDADE DO MUNICIPIO','IDHM RENDA DO MUNICIPIO','PIB','PIB PER CAPITA','cnae_divisao']"
      ],
      "execution_count": null,
      "outputs": []
    },
    {
      "cell_type": "code",
      "metadata": {
        "id": "Ljfv6Oo7HU-2"
      },
      "source": [
        "cnpj_final = pd.merge(cnpj_final, cnae, how='left', on='cnae_divisao')"
      ],
      "execution_count": null,
      "outputs": []
    },
    {
      "cell_type": "code",
      "metadata": {
        "id": "9YUDuvTkyzO3"
      },
      "source": [
        "cnpj_final['PIB'] = cnpj_final['PIB'].str.replace('.', '')\n",
        "cnpj_final['PIB PER CAPITA'] = cnpj_final['PIB PER CAPITA'].str.replace('.', '')"
      ],
      "execution_count": null,
      "outputs": []
    },
    {
      "cell_type": "code",
      "metadata": {
        "id": "V2KlPwp19pKo"
      },
      "source": [
        "cnpj_final['capital_social'] = cnpj_final['capital_social'].str.replace(',', '.')\n",
        "cnpj_final['IDH DO MUNICIPIO'] = cnpj_final['IDH DO MUNICIPIO'].str.replace(',', '.')\n",
        "cnpj_final['IDHM EDUCACAO DO MUNICIPIO'] = cnpj_final['IDHM EDUCACAO DO MUNICIPIO'].str.replace(',', '.')\n",
        "cnpj_final['IDHM LONGEVIDADE DO MUNICIPIO'] = cnpj_final['IDHM LONGEVIDADE DO MUNICIPIO'].str.replace(',', '.')\n",
        "cnpj_final['IDHM RENDA DO MUNICIPIO'] = cnpj_final['IDHM RENDA DO MUNICIPIO'].str.replace(',', '.')\n",
        "cnpj_final['PIB'] = cnpj_final['PIB'].str.replace(',', '.')\n",
        "cnpj_final['PIB PER CAPITA'] = cnpj_final['PIB PER CAPITA'].str.replace(',', '.')"
      ],
      "execution_count": null,
      "outputs": []
    },
    {
      "cell_type": "code",
      "metadata": {
        "id": "YFfhUPbo7GMb"
      },
      "source": [
        "cnpj_final = cnpj_final.drop(['codigo_ibge_ajustado','codigo_ibge_data'], axis=1) #eliminação das colunas desnecessárias"
      ],
      "execution_count": null,
      "outputs": []
    },
    {
      "cell_type": "code",
      "metadata": {
        "id": "UkfwGFUebE-H"
      },
      "source": [
        "data = {\n",
        "'codigo_situacao_cadastral': ['02', '08'],\n",
        "'situacao_cadastral_modelo': ['0', '1']\n",
        "}"
      ],
      "execution_count": null,
      "outputs": []
    },
    {
      "cell_type": "code",
      "metadata": {
        "id": "6fGLfXkzbFDl"
      },
      "source": [
        "situacao_cadastral = pd.DataFrame(data, columns=['codigo_situacao_cadastral','situacao_cadastral_modelo'])"
      ],
      "execution_count": null,
      "outputs": []
    },
    {
      "cell_type": "code",
      "metadata": {
        "id": "kH25vCekb4et"
      },
      "source": [
        "cnpj_final = pd.merge(cnpj_final, situacao_cadastral, how='left', on='codigo_situacao_cadastral')"
      ],
      "execution_count": null,
      "outputs": []
    },
    {
      "cell_type": "code",
      "metadata": {
        "id": "U_CWSTB0NS7O"
      },
      "source": [
        "cnpj_final.to_csv('/content/drive/MyDrive/TCC - PUC/dataset_final.csv', index=False, sep=';', encoding='ISO-8859-1')"
      ],
      "execution_count": null,
      "outputs": []
    },
    {
      "cell_type": "code",
      "metadata": {
        "colab": {
          "base_uri": "https://localhost:8080/",
          "height": 915
        },
        "id": "fM6N2vQe1LZh",
        "outputId": "b27ae649-cddd-4571-b65b-992f8744fab0"
      },
      "source": [
        "cnpj_final"
      ],
      "execution_count": null,
      "outputs": [
        {
          "output_type": "execute_result",
          "data": {
            "text/html": [
              "<div>\n",
              "<style scoped>\n",
              "    .dataframe tbody tr th:only-of-type {\n",
              "        vertical-align: middle;\n",
              "    }\n",
              "\n",
              "    .dataframe tbody tr th {\n",
              "        vertical-align: top;\n",
              "    }\n",
              "\n",
              "    .dataframe thead th {\n",
              "        text-align: right;\n",
              "    }\n",
              "</style>\n",
              "<table border=\"1\" class=\"dataframe\">\n",
              "  <thead>\n",
              "    <tr style=\"text-align: right;\">\n",
              "      <th></th>\n",
              "      <th>cnpj_basico</th>\n",
              "      <th>cnpj_ordem</th>\n",
              "      <th>cnpj_dv</th>\n",
              "      <th>matriz_filial</th>\n",
              "      <th>codigo_situacao_cadastral</th>\n",
              "      <th>data_situacao_cadastral</th>\n",
              "      <th>motivo_situacao_cadastral</th>\n",
              "      <th>data_inicio_atividade</th>\n",
              "      <th>cnae_principal</th>\n",
              "      <th>codigo_municipio_siafi</th>\n",
              "      <th>capital_social</th>\n",
              "      <th>descricao_municipio</th>\n",
              "      <th>codigo_ibge</th>\n",
              "      <th>regiao</th>\n",
              "      <th>estado</th>\n",
              "      <th>populacaoTCU2019</th>\n",
              "      <th>casosAcumulado_covid</th>\n",
              "      <th>obitosAcumulado_covid</th>\n",
              "      <th>casos_acumulados_porcentagem_covid</th>\n",
              "      <th>obitos_acumulados_porcentagem_covid</th>\n",
              "      <th>IDH DO MUNICIPIO</th>\n",
              "      <th>IDHM EDUCACAO DO MUNICIPIO</th>\n",
              "      <th>IDHM LONGEVIDADE DO MUNICIPIO</th>\n",
              "      <th>IDHM RENDA DO MUNICIPIO</th>\n",
              "      <th>PIB</th>\n",
              "      <th>PIB PER CAPITA</th>\n",
              "      <th>cnae_divisao</th>\n",
              "      <th>cnae_secao</th>\n",
              "      <th>cnae_descricao</th>\n",
              "      <th>cnae_secao_numero</th>\n",
              "      <th>situacao_cadastral_modelo</th>\n",
              "    </tr>\n",
              "  </thead>\n",
              "  <tbody>\n",
              "    <tr>\n",
              "      <th>0</th>\n",
              "      <td>29880642</td>\n",
              "      <td>0001</td>\n",
              "      <td>04</td>\n",
              "      <td>1</td>\n",
              "      <td>08</td>\n",
              "      <td>20190921</td>\n",
              "      <td>01</td>\n",
              "      <td>20180308</td>\n",
              "      <td>8712300</td>\n",
              "      <td>7107</td>\n",
              "      <td>2000.00</td>\n",
              "      <td>SAO PAULO</td>\n",
              "      <td>3550308</td>\n",
              "      <td>Sudeste</td>\n",
              "      <td>SP</td>\n",
              "      <td>12252023.0</td>\n",
              "      <td>NaN</td>\n",
              "      <td>NaN</td>\n",
              "      <td>NaN</td>\n",
              "      <td>NaN</td>\n",
              "      <td>0.805</td>\n",
              "      <td>0.725</td>\n",
              "      <td>0.843</td>\n",
              "      <td>0.855</td>\n",
              "      <td>714683362463.00</td>\n",
              "      <td>58691.90</td>\n",
              "      <td>87</td>\n",
              "      <td>q</td>\n",
              "      <td>SAÚDE HUMANA E SERVIÇOS SOCIAIS</td>\n",
              "      <td>17</td>\n",
              "      <td>1</td>\n",
              "    </tr>\n",
              "    <tr>\n",
              "      <th>1</th>\n",
              "      <td>29880783</td>\n",
              "      <td>0001</td>\n",
              "      <td>27</td>\n",
              "      <td>1</td>\n",
              "      <td>08</td>\n",
              "      <td>20200106</td>\n",
              "      <td>01</td>\n",
              "      <td>20180308</td>\n",
              "      <td>8630503</td>\n",
              "      <td>4205</td>\n",
              "      <td>95400.00</td>\n",
              "      <td>CALDAS</td>\n",
              "      <td>3110301</td>\n",
              "      <td>Sudeste</td>\n",
              "      <td>MG</td>\n",
              "      <td>14480.0</td>\n",
              "      <td>NaN</td>\n",
              "      <td>NaN</td>\n",
              "      <td>NaN</td>\n",
              "      <td>NaN</td>\n",
              "      <td>0.687</td>\n",
              "      <td>0.529</td>\n",
              "      <td>0.701</td>\n",
              "      <td>0.873</td>\n",
              "      <td>236518465.00</td>\n",
              "      <td>16405.53</td>\n",
              "      <td>86</td>\n",
              "      <td>q</td>\n",
              "      <td>SAÚDE HUMANA E SERVIÇOS SOCIAIS</td>\n",
              "      <td>17</td>\n",
              "      <td>1</td>\n",
              "    </tr>\n",
              "    <tr>\n",
              "      <th>2</th>\n",
              "      <td>29880797</td>\n",
              "      <td>0001</td>\n",
              "      <td>40</td>\n",
              "      <td>1</td>\n",
              "      <td>08</td>\n",
              "      <td>20200507</td>\n",
              "      <td>01</td>\n",
              "      <td>20180308</td>\n",
              "      <td>9511800</td>\n",
              "      <td>5403</td>\n",
              "      <td>3500.00</td>\n",
              "      <td>UBERLANDIA</td>\n",
              "      <td>3170206</td>\n",
              "      <td>Sudeste</td>\n",
              "      <td>MG</td>\n",
              "      <td>691305.0</td>\n",
              "      <td>199.0</td>\n",
              "      <td>9.0</td>\n",
              "      <td>0.029</td>\n",
              "      <td>0.001</td>\n",
              "      <td>0.789</td>\n",
              "      <td>0.716</td>\n",
              "      <td>0.776</td>\n",
              "      <td>0.885</td>\n",
              "      <td>37442790976.00</td>\n",
              "      <td>54801.25</td>\n",
              "      <td>95</td>\n",
              "      <td>s</td>\n",
              "      <td>OUTRAS ATIVIDADES DE SERVIÇOS</td>\n",
              "      <td>19</td>\n",
              "      <td>1</td>\n",
              "    </tr>\n",
              "    <tr>\n",
              "      <th>3</th>\n",
              "      <td>29880805</td>\n",
              "      <td>0001</td>\n",
              "      <td>59</td>\n",
              "      <td>1</td>\n",
              "      <td>08</td>\n",
              "      <td>20190213</td>\n",
              "      <td>01</td>\n",
              "      <td>20180308</td>\n",
              "      <td>5620104</td>\n",
              "      <td>6623</td>\n",
              "      <td>10000.00</td>\n",
              "      <td>JUQUIA</td>\n",
              "      <td>3526100</td>\n",
              "      <td>Sudeste</td>\n",
              "      <td>SP</td>\n",
              "      <td>18812.0</td>\n",
              "      <td>NaN</td>\n",
              "      <td>NaN</td>\n",
              "      <td>NaN</td>\n",
              "      <td>NaN</td>\n",
              "      <td>0.7</td>\n",
              "      <td>0.637</td>\n",
              "      <td>0.654</td>\n",
              "      <td>0.823</td>\n",
              "      <td>328898903.00</td>\n",
              "      <td>17394.70</td>\n",
              "      <td>56</td>\n",
              "      <td>i</td>\n",
              "      <td>ALOJAMENTO E ALIMENTAÇÃO</td>\n",
              "      <td>9</td>\n",
              "      <td>1</td>\n",
              "    </tr>\n",
              "    <tr>\n",
              "      <th>4</th>\n",
              "      <td>29880816</td>\n",
              "      <td>0001</td>\n",
              "      <td>39</td>\n",
              "      <td>1</td>\n",
              "      <td>08</td>\n",
              "      <td>20190808</td>\n",
              "      <td>01</td>\n",
              "      <td>20180308</td>\n",
              "      <td>9602501</td>\n",
              "      <td>3105</td>\n",
              "      <td>1000.00</td>\n",
              "      <td>ARACAJU</td>\n",
              "      <td>2800308</td>\n",
              "      <td>Nordeste</td>\n",
              "      <td>SE</td>\n",
              "      <td>657013.0</td>\n",
              "      <td>NaN</td>\n",
              "      <td>NaN</td>\n",
              "      <td>NaN</td>\n",
              "      <td>NaN</td>\n",
              "      <td>0.77</td>\n",
              "      <td>0.708</td>\n",
              "      <td>0.784</td>\n",
              "      <td>0.823</td>\n",
              "      <td>17276300787.00</td>\n",
              "      <td>26622.38</td>\n",
              "      <td>96</td>\n",
              "      <td>s</td>\n",
              "      <td>OUTRAS ATIVIDADES DE SERVIÇOS</td>\n",
              "      <td>19</td>\n",
              "      <td>1</td>\n",
              "    </tr>\n",
              "    <tr>\n",
              "      <th>...</th>\n",
              "      <td>...</td>\n",
              "      <td>...</td>\n",
              "      <td>...</td>\n",
              "      <td>...</td>\n",
              "      <td>...</td>\n",
              "      <td>...</td>\n",
              "      <td>...</td>\n",
              "      <td>...</td>\n",
              "      <td>...</td>\n",
              "      <td>...</td>\n",
              "      <td>...</td>\n",
              "      <td>...</td>\n",
              "      <td>...</td>\n",
              "      <td>...</td>\n",
              "      <td>...</td>\n",
              "      <td>...</td>\n",
              "      <td>...</td>\n",
              "      <td>...</td>\n",
              "      <td>...</td>\n",
              "      <td>...</td>\n",
              "      <td>...</td>\n",
              "      <td>...</td>\n",
              "      <td>...</td>\n",
              "      <td>...</td>\n",
              "      <td>...</td>\n",
              "      <td>...</td>\n",
              "      <td>...</td>\n",
              "      <td>...</td>\n",
              "      <td>...</td>\n",
              "      <td>...</td>\n",
              "      <td>...</td>\n",
              "    </tr>\n",
              "    <tr>\n",
              "      <th>11157252</th>\n",
              "      <td>29880238</td>\n",
              "      <td>0001</td>\n",
              "      <td>30</td>\n",
              "      <td>1</td>\n",
              "      <td>08</td>\n",
              "      <td>20190401</td>\n",
              "      <td>01</td>\n",
              "      <td>20180308</td>\n",
              "      <td>4772500</td>\n",
              "      <td>8047</td>\n",
              "      <td>40000.00</td>\n",
              "      <td>BLUMENAU</td>\n",
              "      <td>4202404</td>\n",
              "      <td>Sul</td>\n",
              "      <td>SC</td>\n",
              "      <td>357199.0</td>\n",
              "      <td>NaN</td>\n",
              "      <td>NaN</td>\n",
              "      <td>NaN</td>\n",
              "      <td>NaN</td>\n",
              "      <td>0.806</td>\n",
              "      <td>0.722</td>\n",
              "      <td>0.812</td>\n",
              "      <td>0.894</td>\n",
              "      <td>16958783360.00</td>\n",
              "      <td>48115.48</td>\n",
              "      <td>47</td>\n",
              "      <td>g</td>\n",
              "      <td>COMÉRCIO; REPARAÇÃO DE VEÍCULOS AUTOMOTORES E ...</td>\n",
              "      <td>7</td>\n",
              "      <td>1</td>\n",
              "    </tr>\n",
              "    <tr>\n",
              "      <th>11157253</th>\n",
              "      <td>29880354</td>\n",
              "      <td>0001</td>\n",
              "      <td>50</td>\n",
              "      <td>1</td>\n",
              "      <td>02</td>\n",
              "      <td>20210527</td>\n",
              "      <td>00</td>\n",
              "      <td>20180308</td>\n",
              "      <td>4712100</td>\n",
              "      <td>145</td>\n",
              "      <td>5000.00</td>\n",
              "      <td>SENA MADUREIRA</td>\n",
              "      <td>1200500</td>\n",
              "      <td>Norte</td>\n",
              "      <td>AC</td>\n",
              "      <td>45848.0</td>\n",
              "      <td>5687.0</td>\n",
              "      <td>63.0</td>\n",
              "      <td>12.404</td>\n",
              "      <td>0.137</td>\n",
              "      <td>0.603</td>\n",
              "      <td>0.456</td>\n",
              "      <td>0.593</td>\n",
              "      <td>0.81</td>\n",
              "      <td>518416142.00</td>\n",
              "      <td>11475.22</td>\n",
              "      <td>47</td>\n",
              "      <td>g</td>\n",
              "      <td>COMÉRCIO; REPARAÇÃO DE VEÍCULOS AUTOMOTORES E ...</td>\n",
              "      <td>7</td>\n",
              "      <td>0</td>\n",
              "    </tr>\n",
              "    <tr>\n",
              "      <th>11157254</th>\n",
              "      <td>29880380</td>\n",
              "      <td>0001</td>\n",
              "      <td>88</td>\n",
              "      <td>1</td>\n",
              "      <td>08</td>\n",
              "      <td>20190516</td>\n",
              "      <td>01</td>\n",
              "      <td>20180308</td>\n",
              "      <td>7319002</td>\n",
              "      <td>7107</td>\n",
              "      <td>1000.00</td>\n",
              "      <td>SAO PAULO</td>\n",
              "      <td>3550308</td>\n",
              "      <td>Sudeste</td>\n",
              "      <td>SP</td>\n",
              "      <td>12252023.0</td>\n",
              "      <td>NaN</td>\n",
              "      <td>NaN</td>\n",
              "      <td>NaN</td>\n",
              "      <td>NaN</td>\n",
              "      <td>0.805</td>\n",
              "      <td>0.725</td>\n",
              "      <td>0.843</td>\n",
              "      <td>0.855</td>\n",
              "      <td>714683362463.00</td>\n",
              "      <td>58691.90</td>\n",
              "      <td>73</td>\n",
              "      <td>m</td>\n",
              "      <td>ATIVIDADES PROFISSIONAIS, CIENTÍFICAS E TÉCNICAS</td>\n",
              "      <td>13</td>\n",
              "      <td>1</td>\n",
              "    </tr>\n",
              "    <tr>\n",
              "      <th>11157255</th>\n",
              "      <td>26520602</td>\n",
              "      <td>0001</td>\n",
              "      <td>63</td>\n",
              "      <td>1</td>\n",
              "      <td>08</td>\n",
              "      <td>20191219</td>\n",
              "      <td>01</td>\n",
              "      <td>20161110</td>\n",
              "      <td>4789004</td>\n",
              "      <td>7107</td>\n",
              "      <td>1000.00</td>\n",
              "      <td>SAO PAULO</td>\n",
              "      <td>3550308</td>\n",
              "      <td>Sudeste</td>\n",
              "      <td>SP</td>\n",
              "      <td>12252023.0</td>\n",
              "      <td>NaN</td>\n",
              "      <td>NaN</td>\n",
              "      <td>NaN</td>\n",
              "      <td>NaN</td>\n",
              "      <td>0.805</td>\n",
              "      <td>0.725</td>\n",
              "      <td>0.843</td>\n",
              "      <td>0.855</td>\n",
              "      <td>714683362463.00</td>\n",
              "      <td>58691.90</td>\n",
              "      <td>47</td>\n",
              "      <td>g</td>\n",
              "      <td>COMÉRCIO; REPARAÇÃO DE VEÍCULOS AUTOMOTORES E ...</td>\n",
              "      <td>7</td>\n",
              "      <td>1</td>\n",
              "    </tr>\n",
              "    <tr>\n",
              "      <th>11157256</th>\n",
              "      <td>29880509</td>\n",
              "      <td>0001</td>\n",
              "      <td>58</td>\n",
              "      <td>1</td>\n",
              "      <td>08</td>\n",
              "      <td>20190711</td>\n",
              "      <td>01</td>\n",
              "      <td>20180308</td>\n",
              "      <td>5612100</td>\n",
              "      <td>2531</td>\n",
              "      <td>4500.00</td>\n",
              "      <td>RECIFE</td>\n",
              "      <td>2611606</td>\n",
              "      <td>Nordeste</td>\n",
              "      <td>PE</td>\n",
              "      <td>1645727.0</td>\n",
              "      <td>NaN</td>\n",
              "      <td>NaN</td>\n",
              "      <td>NaN</td>\n",
              "      <td>NaN</td>\n",
              "      <td>0.772</td>\n",
              "      <td>0.698</td>\n",
              "      <td>0.798</td>\n",
              "      <td>0.825</td>\n",
              "      <td>52401487302.00</td>\n",
              "      <td>31994.38</td>\n",
              "      <td>56</td>\n",
              "      <td>i</td>\n",
              "      <td>ALOJAMENTO E ALIMENTAÇÃO</td>\n",
              "      <td>9</td>\n",
              "      <td>1</td>\n",
              "    </tr>\n",
              "  </tbody>\n",
              "</table>\n",
              "<p>11157257 rows × 31 columns</p>\n",
              "</div>"
            ],
            "text/plain": [
              "         cnpj_basico cnpj_ordem  ... cnae_secao_numero situacao_cadastral_modelo\n",
              "0           29880642       0001  ...                17                         1\n",
              "1           29880783       0001  ...                17                         1\n",
              "2           29880797       0001  ...                19                         1\n",
              "3           29880805       0001  ...                 9                         1\n",
              "4           29880816       0001  ...                19                         1\n",
              "...              ...        ...  ...               ...                       ...\n",
              "11157252    29880238       0001  ...                 7                         1\n",
              "11157253    29880354       0001  ...                 7                         0\n",
              "11157254    29880380       0001  ...                13                         1\n",
              "11157255    26520602       0001  ...                 7                         1\n",
              "11157256    29880509       0001  ...                 9                         1\n",
              "\n",
              "[11157257 rows x 31 columns]"
            ]
          },
          "metadata": {
            "tags": []
          },
          "execution_count": 66
        }
      ]
    },
    {
      "cell_type": "code",
      "metadata": {
        "id": "rMRmf0bjGgHB"
      },
      "source": [
        "#tt = cnpj_final [0:50000]"
      ],
      "execution_count": null,
      "outputs": []
    },
    {
      "cell_type": "code",
      "metadata": {
        "id": "j3MI2kgEBkl5"
      },
      "source": [
        "#tt.to_csv('/content/drive/MyDrive/TCC - PUC/dataset_final_exemplo.csv', index=False, sep=';', encoding='ISO-8859-1')"
      ],
      "execution_count": null,
      "outputs": []
    }
  ]
}