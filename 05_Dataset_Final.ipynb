{
  "nbformat": 4,
  "nbformat_minor": 0,
  "metadata": {
    "colab": {
      "name": "05 - Dataset Final.ipynb",
      "provenance": [],
      "collapsed_sections": [],
      "machine_shape": "hm"
    },
    "kernelspec": {
      "name": "python3",
      "display_name": "Python 3"
    },
    "language_info": {
      "name": "python"
    }
  },
  "cells": [
    {
      "cell_type": "code",
      "metadata": {
        "id": "fxFmNu4NKFwb"
      },
      "source": [
        "import pandas as pd\n",
        "import numpy as np"
      ],
      "execution_count": 1,
      "outputs": []
    },
    {
      "cell_type": "code",
      "metadata": {
        "colab": {
          "base_uri": "https://localhost:8080/"
        },
        "id": "SWCFquB_KOqi",
        "outputId": "15bc54de-5350-4030-c216-6777cffdb8e4"
      },
      "source": [
        "from google.colab import drive\n",
        "drive.mount('/content/drive')"
      ],
      "execution_count": 2,
      "outputs": [
        {
          "output_type": "stream",
          "text": [
            "Mounted at /content/drive\n"
          ],
          "name": "stdout"
        }
      ]
    },
    {
      "cell_type": "code",
      "metadata": {
        "id": "mu2P0kKDl48h"
      },
      "source": [
        "cnpj_final = pd.read_csv('/content/drive/MyDrive/TCC - PUC/cnpj_final.csv',encoding='ISO-8859-1', sep=';' ,dtype=str, header=0)"
      ],
      "execution_count": 3,
      "outputs": []
    },
    {
      "cell_type": "code",
      "metadata": {
        "id": "OQ_PQzOSjzge"
      },
      "source": [
        "municipios_siafi = pd.read_csv('//content/drive/MyDrive/TCC - PUC/TABELA DE MUNICÍPIOS DO SIAFI.csv',encoding='ISO-8859-1', sep=';' ,dtype=str, header=0,decimal=',')"
      ],
      "execution_count": 4,
      "outputs": []
    },
    {
      "cell_type": "code",
      "metadata": {
        "id": "XWsKa68Hj4ZV"
      },
      "source": [
        "municipios_siafi.columns = ['codigo_municipio_siafi', 'cnpj_base', 'descricao_municipio', 'uf','codigo_ibge']"
      ],
      "execution_count": 5,
      "outputs": []
    },
    {
      "cell_type": "code",
      "metadata": {
        "id": "PrDlEPvQkmp-"
      },
      "source": [
        "codigo_ibge_ajustado = municipios_siafi['codigo_ibge'].map(lambda x: str(x)[:-1])"
      ],
      "execution_count": 6,
      "outputs": []
    },
    {
      "cell_type": "code",
      "metadata": {
        "id": "aLDHMeibkspW"
      },
      "source": [
        "municipios_siafi = pd.concat([municipios_siafi, codigo_ibge_ajustado], axis=1)"
      ],
      "execution_count": 7,
      "outputs": []
    },
    {
      "cell_type": "code",
      "metadata": {
        "id": "ois5-la3z1Z-"
      },
      "source": [
        "municipios_siafi['codigo_municipio_siafi'] = municipios_siafi['codigo_municipio_siafi'].astype(int)\n",
        "cnpj_final['codigo_municipio_siafi'] = cnpj_final['codigo_municipio_siafi'].astype(int)"
      ],
      "execution_count": 8,
      "outputs": []
    },
    {
      "cell_type": "code",
      "metadata": {
        "id": "1bezAL4skww2"
      },
      "source": [
        "municipios_siafi.columns = ['codigo_municipio_siafi', 'cnpj_base', 'descricao_municipio', 'uf','codigo_ibge', 'codigo_ibge_ajustado']"
      ],
      "execution_count": 9,
      "outputs": []
    },
    {
      "cell_type": "code",
      "metadata": {
        "id": "E1povPsgpz4J"
      },
      "source": [
        "municipios_siafi = municipios_siafi.drop(['cnpj_base','uf'], axis=1) #eliminação das colunas desnecessárias"
      ],
      "execution_count": 10,
      "outputs": []
    },
    {
      "cell_type": "code",
      "metadata": {
        "id": "P7GAqHPupFVW"
      },
      "source": [
        "cnpj_final = pd.merge(cnpj_final, municipios_siafi, how='left', on='codigo_municipio_siafi')"
      ],
      "execution_count": 11,
      "outputs": []
    },
    {
      "cell_type": "code",
      "metadata": {
        "id": "8m0qrxvSVNrz"
      },
      "source": [
        "codigo_ibge_data_fechamento = pd.DataFrame (np.where((cnpj_final['data_situacao_cadastral'] >= '20200401') & (cnpj_final['codigo_situacao_cadastral']=='8'), cnpj_final['data_situacao_cadastral'] + cnpj_final['codigo_ibge_ajustado'] , \"19800101\" + cnpj_final['codigo_ibge_ajustado']))"
      ],
      "execution_count": 12,
      "outputs": []
    },
    {
      "cell_type": "code",
      "metadata": {
        "id": "MYncvx59bkyq"
      },
      "source": [
        "codigo_ibge_data_abertura = pd.DataFrame (np.where((cnpj_final['data_situacao_cadastral'] >= '20200401') & (cnpj_final['codigo_situacao_cadastral']=='8'), \"19800101\" + cnpj_final['codigo_ibge_ajustado'], \"20210531\" + cnpj_final['codigo_ibge_ajustado']))"
      ],
      "execution_count": 13,
      "outputs": []
    },
    {
      "cell_type": "code",
      "metadata": {
        "id": "oWF7iiPpbQkj"
      },
      "source": [
        "codigo_ibge_data_todos = pd.DataFrame (\"20210531\" + cnpj_final['codigo_ibge_ajustado'])"
      ],
      "execution_count": 14,
      "outputs": []
    },
    {
      "cell_type": "code",
      "metadata": {
        "id": "IVEYBVUcpYWR"
      },
      "source": [
        "cnpj_final = pd.concat([cnpj_final, codigo_ibge_data_fechamento, codigo_ibge_data_abertura], axis=1)"
      ],
      "execution_count": 15,
      "outputs": []
    },
    {
      "cell_type": "code",
      "metadata": {
        "id": "2TWr_lWX2SrK"
      },
      "source": [
        "cnpj_final.columns = ['cnpj_basico','cnpj_ordem','cnpj_dv','matriz_filial','codigo_situacao_cadastral','data_situacao_cadastral','motivo_situacao_cadastral','data_inicio_atividade','cnae_principal','codigo_municipio_siafi','capital_social','descricao_municipio','codigo_ibge','codigo_ibge_ajustado','codigo_ibge_data_fechamento','codigo_ibge_data_abertura']"
      ],
      "execution_count": 16,
      "outputs": []
    },
    {
      "cell_type": "code",
      "metadata": {
        "id": "6sMkPDp5CkBS"
      },
      "source": [
        "covid_brasil_1 = pd.read_csv('//content/drive/MyDrive/TCC - PUC/HIST_PAINEL_COVIDBR_2020_Parte1_31mai2021.csv',encoding='ISO-8859-1', sep=';' ,dtype=str, header=0)\n",
        "covid_brasil_2 = pd.read_csv('//content/drive/MyDrive/TCC - PUC/HIST_PAINEL_COVIDBR_2020_Parte2_31mai2021.csv',encoding='ISO-8859-1', sep=';' ,dtype=str, header=0)\n",
        "covid_brasil_3 = pd.read_csv('//content/drive/MyDrive/TCC - PUC/HIST_PAINEL_COVIDBR_Parte3_31mai2021.csv',encoding='ISO-8859-1', sep=';' ,dtype=str, header=0)"
      ],
      "execution_count": 17,
      "outputs": []
    },
    {
      "cell_type": "code",
      "metadata": {
        "id": "YTAuRXlZCnIB"
      },
      "source": [
        "covid_brasil_todas = pd.concat([covid_brasil_1, covid_brasil_2, covid_brasil_3], axis=0)"
      ],
      "execution_count": 18,
      "outputs": []
    },
    {
      "cell_type": "code",
      "metadata": {
        "id": "pKfyf1rBCsWh"
      },
      "source": [
        "covid_brasil_todas = covid_brasil_todas[covid_brasil_todas['codmun'] .notnull()] \n",
        "covid_brasil_todas = covid_brasil_todas[covid_brasil_todas['municipio'] .notnull()] "
      ],
      "execution_count": 19,
      "outputs": []
    },
    {
      "cell_type": "code",
      "metadata": {
        "id": "Foo0hdT9CxJp"
      },
      "source": [
        "covid_brasil_todas = covid_brasil_todas.drop(['municipio','coduf','codRegiaoSaude','nomeRegiaoSaude','semanaEpi','Recuperadosnovos','emAcompanhamentoNovos','emAcompanhamentoNovos', 'interior/metropolitana'], axis=1) #eliminação das colunas desnecessárias"
      ],
      "execution_count": 20,
      "outputs": []
    },
    {
      "cell_type": "code",
      "metadata": {
        "id": "DZPXKSIcC1UB"
      },
      "source": [
        "covid_brasil_todas.columns = ['regiao', 'estado', 'codigo_ibge_ajustado', 'data_covid','populacaoTCU2019', 'casosAcumulado','casosNovos','obitosAcumulado','obitosNovos']"
      ],
      "execution_count": 21,
      "outputs": []
    },
    {
      "cell_type": "code",
      "metadata": {
        "id": "rOB2HE-ZC4RK"
      },
      "source": [
        "data_removido = covid_brasil_todas['data_covid'].str.replace(r'\\D', '')"
      ],
      "execution_count": 22,
      "outputs": []
    },
    {
      "cell_type": "code",
      "metadata": {
        "id": "yiSnZdx0C7gx"
      },
      "source": [
        "codigo_ibge_data = data_removido + covid_brasil_todas['codigo_ibge_ajustado']"
      ],
      "execution_count": 23,
      "outputs": []
    },
    {
      "cell_type": "code",
      "metadata": {
        "id": "-emKksR7C9cZ"
      },
      "source": [
        "covid_brasil_todas['populacaoTCU2019'] = covid_brasil_todas['populacaoTCU2019'].astype(int)\n",
        "covid_brasil_todas['casosAcumulado'] = covid_brasil_todas['casosAcumulado'].astype(int)\n",
        "covid_brasil_todas['obitosAcumulado'] = covid_brasil_todas['obitosAcumulado'].astype(int)"
      ],
      "execution_count": 24,
      "outputs": []
    },
    {
      "cell_type": "code",
      "metadata": {
        "id": "OZsrC8QoDAMR"
      },
      "source": [
        "casos_acumulados_porcentagem = round(((covid_brasil_todas['casosAcumulado'] * 100) / (covid_brasil_todas['populacaoTCU2019'])),10)\n",
        "obitos_acumulados_porcentagem = round(((covid_brasil_todas['obitosAcumulado'] * 100) / (covid_brasil_todas['populacaoTCU2019'])),10)"
      ],
      "execution_count": 25,
      "outputs": []
    },
    {
      "cell_type": "code",
      "metadata": {
        "id": "YGBHFrfjDB7S"
      },
      "source": [
        "covid_brasil_todas = pd.concat([covid_brasil_todas, casos_acumulados_porcentagem, obitos_acumulados_porcentagem, codigo_ibge_data], axis=1)"
      ],
      "execution_count": 26,
      "outputs": []
    },
    {
      "cell_type": "code",
      "metadata": {
        "id": "h-c3rW3j2UdX"
      },
      "source": [
        "covid_brasil_todas.columns = ['regiao', 'estado', 'codigo_ibge_ajustado','data_covid', 'populacaoTCU2019','casosAcumulado', 'casosNovos','obitosAcumulado','obitosNovos', 'casos_acumulados_porcentagem','obitos_acumulados_porcentagem','codigo_ibge_data']"
      ],
      "execution_count": 27,
      "outputs": []
    },
    {
      "cell_type": "code",
      "metadata": {
        "id": "TwD35LhX2Bmc"
      },
      "source": [
        "codigo_ibge_data_todos.columns = ['codigo_ibge_data']"
      ],
      "execution_count": 28,
      "outputs": []
    },
    {
      "cell_type": "code",
      "metadata": {
        "id": "TdPF-OaY1seQ"
      },
      "source": [
        "codigo_ibge_data_todos  = pd.merge(codigo_ibge_data_todos, covid_brasil_todas, how='left', on='codigo_ibge_data')"
      ],
      "execution_count": 29,
      "outputs": []
    },
    {
      "cell_type": "code",
      "metadata": {
        "id": "H9lLuf8F1smH"
      },
      "source": [
        "codigo_ibge_data_todos = codigo_ibge_data_todos.drop(['codigo_ibge_data','codigo_ibge_ajustado','data_covid','casosAcumulado','casosNovos','obitosAcumulado','obitosNovos','casos_acumulados_porcentagem','obitos_acumulados_porcentagem'], axis=1) #eliminação das colunas desnecessárias"
      ],
      "execution_count": 30,
      "outputs": []
    },
    {
      "cell_type": "code",
      "metadata": {
        "id": "G5tueMP9DETy"
      },
      "source": [
        "cnpj_final = pd.concat([cnpj_final, codigo_ibge_data_todos], axis=1)"
      ],
      "execution_count": 31,
      "outputs": []
    },
    {
      "cell_type": "code",
      "metadata": {
        "id": "BtnHtxix43L_"
      },
      "source": [
        "codigo_ibge_data_fechamento.columns = ['codigo_ibge_data']"
      ],
      "execution_count": 32,
      "outputs": []
    },
    {
      "cell_type": "code",
      "metadata": {
        "id": "yf8JsD4743PG"
      },
      "source": [
        "codigo_ibge_data_fechamento  = pd.merge(codigo_ibge_data_fechamento, covid_brasil_todas, how='left', on='codigo_ibge_data')"
      ],
      "execution_count": 33,
      "outputs": []
    },
    {
      "cell_type": "code",
      "metadata": {
        "id": "la5ZKizz43VM"
      },
      "source": [
        "codigo_ibge_data_fechamento = codigo_ibge_data_fechamento.drop(['codigo_ibge_data','regiao','estado','codigo_ibge_ajustado','data_covid','populacaoTCU2019','casosNovos','obitosNovos'], axis=1) #eliminação das colunas desnecessárias"
      ],
      "execution_count": 34,
      "outputs": []
    },
    {
      "cell_type": "code",
      "metadata": {
        "id": "04vkE_5S43X0"
      },
      "source": [
        "codigo_ibge_data_fechamento.columns = ['casosAcumulado_covid','obitosAcumulado_covid','casos_acumulados_porcentagem_covid','obitos_acumulados_porcentagem_covid']"
      ],
      "execution_count": 35,
      "outputs": []
    },
    {
      "cell_type": "code",
      "metadata": {
        "id": "dONEqij_43aN"
      },
      "source": [
        "cnpj_final = pd.concat([cnpj_final, codigo_ibge_data_fechamento], axis=1)"
      ],
      "execution_count": 36,
      "outputs": []
    },
    {
      "cell_type": "code",
      "metadata": {
        "id": "7YemkFDM7nn3"
      },
      "source": [
        "codigo_ibge_data_abertura.columns = ['codigo_ibge_data']"
      ],
      "execution_count": 37,
      "outputs": []
    },
    {
      "cell_type": "code",
      "metadata": {
        "id": "rBoCsycf7nn4"
      },
      "source": [
        "codigo_ibge_data_abertura  = pd.merge(codigo_ibge_data_abertura, covid_brasil_todas, how='left', on='codigo_ibge_data')"
      ],
      "execution_count": 38,
      "outputs": []
    },
    {
      "cell_type": "code",
      "metadata": {
        "id": "akUIx95G7nn4"
      },
      "source": [
        "codigo_ibge_data_abertura = codigo_ibge_data_abertura.drop(['codigo_ibge_data','regiao','estado','codigo_ibge_ajustado','data_covid','populacaoTCU2019','casosNovos','obitosNovos'], axis=1) #eliminação das colunas desnecessárias"
      ],
      "execution_count": 39,
      "outputs": []
    },
    {
      "cell_type": "code",
      "metadata": {
        "id": "HF_-fYuP7nn4"
      },
      "source": [
        "codigo_ibge_data_abertura.columns = ['casosAcumulado_corte','obitosAcumulado_corte','casos_acumulados_porcentagem_corte','obitos_acumulados_porcentagem_corte']"
      ],
      "execution_count": 40,
      "outputs": []
    },
    {
      "cell_type": "code",
      "metadata": {
        "id": "uqiZ6m2K7nn4"
      },
      "source": [
        "cnpj_final = pd.concat([cnpj_final, codigo_ibge_data_abertura], axis=1)"
      ],
      "execution_count": 41,
      "outputs": []
    },
    {
      "cell_type": "code",
      "metadata": {
        "id": "J7_6wvlpP83C"
      },
      "source": [
        "idh_municipios = pd.read_csv('//content/drive/MyDrive//TCC - PUC/IDH por Município - FINAL COM CÓDIGO IBGE.csv',encoding='ISO-8859-1', sep=';' ,dtype=str, header=0,decimal=',')"
      ],
      "execution_count": 42,
      "outputs": []
    },
    {
      "cell_type": "code",
      "metadata": {
        "id": "IlQvrCXHvNwV"
      },
      "source": [
        "idh_municipios = idh_municipios.drop(['Territorialidade','Posicao IDHM','Posicao IDHM Educacao','Posicao IDHM Longevidade','Posicao IDHM Renda'], axis=1) #eliminação das colunas desnecessárias"
      ],
      "execution_count": 43,
      "outputs": []
    },
    {
      "cell_type": "code",
      "metadata": {
        "id": "bRagc2VYCCyZ"
      },
      "source": [
        "idh_municipios.columns = ['codigo_ibge', 'IDH DO MUNICIPIO', 'IDHM EDUCACAO DO MUNICIPIO', 'IDHM LONGEVIDADE DO MUNICIPIO','IDHM RENDA DO MUNICIPIO']"
      ],
      "execution_count": 44,
      "outputs": []
    },
    {
      "cell_type": "code",
      "metadata": {
        "id": "nb0g5A0xAhWp"
      },
      "source": [
        "cnpj_final = pd.merge(cnpj_final, idh_municipios, how='left', on='codigo_ibge')"
      ],
      "execution_count": 45,
      "outputs": []
    },
    {
      "cell_type": "code",
      "metadata": {
        "id": "FnfnqbRhJJEy"
      },
      "source": [
        "pib_municipios = pd.read_csv('//content/drive/MyDrive/TCC - PUC/PIB dos Municípios - base de dados 2010-2018 - AJUSTADO.csv',encoding='ISO-8859-1', sep=';' ,dtype=str, header=0,decimal=',')"
      ],
      "execution_count": 46,
      "outputs": []
    },
    {
      "cell_type": "code",
      "metadata": {
        "id": "7gXJddOjJJla"
      },
      "source": [
        "pib_municipios = pib_municipios.drop(['Sigla da Unidade da Federação','Nome do Município','Ano'], axis=1) #eliminação das colunas desnecessárias"
      ],
      "execution_count": 47,
      "outputs": []
    },
    {
      "cell_type": "code",
      "metadata": {
        "id": "l20auywAJXxi"
      },
      "source": [
        "pib_municipios.columns = ['codigo_ibge', 'PIB', 'PIB PER CAPITA']"
      ],
      "execution_count": 48,
      "outputs": []
    },
    {
      "cell_type": "code",
      "metadata": {
        "id": "bC1cJ0nEJuVy"
      },
      "source": [
        "cnpj_final = pd.merge(cnpj_final, pib_municipios, how='left', on='codigo_ibge')"
      ],
      "execution_count": 49,
      "outputs": []
    },
    {
      "cell_type": "code",
      "metadata": {
        "id": "9zGFYdNW2y7g"
      },
      "source": [
        "cnae = pd.read_csv('//content/drive/MyDrive/TCC - PUC/CLASSIFICACAO CNAE POR SECAO.csv',encoding='ISO-8859-1', sep=';' ,dtype=str, header=0)"
      ],
      "execution_count": 50,
      "outputs": []
    },
    {
      "cell_type": "code",
      "metadata": {
        "id": "ymFdKARd27hR"
      },
      "source": [
        "cnae.columns = ['cnae_divisao', 'cnae_secao','cnae_descricao']"
      ],
      "execution_count": 51,
      "outputs": []
    },
    {
      "cell_type": "code",
      "metadata": {
        "id": "-6CvDjvU28jZ"
      },
      "source": [
        "cnae_divisao = cnpj_final['cnae_principal'].map(lambda x: str(x)[:-5])"
      ],
      "execution_count": 52,
      "outputs": []
    },
    {
      "cell_type": "code",
      "metadata": {
        "id": "XYO7lbotKblc"
      },
      "source": [
        "cnae_divisao = cnae_divisao.astype(int)"
      ],
      "execution_count": 53,
      "outputs": []
    },
    {
      "cell_type": "code",
      "metadata": {
        "id": "cowUemHb3CMJ"
      },
      "source": [
        "cnpj_final = pd.concat([cnpj_final, cnae_divisao], axis=1)"
      ],
      "execution_count": 54,
      "outputs": []
    },
    {
      "cell_type": "code",
      "metadata": {
        "id": "0hKaCo7s3O6r"
      },
      "source": [
        "cnpj_final.columns = ['cnpj_basico','cnpj_ordem','cnpj_dv','matriz_filial','codigo_situacao_cadastral','data_situacao_cadastral','motivo_situacao_cadastral','data_inicio_atividade','cnae_principal','codigo_municipio_siafi','capital_social','descricao_municipio','codigo_ibge','codigo_ibge_ajustado','codigo_ibge_data_fechamento','codigo_ibge_data_abertura','regiao','estado','populacaoTCU2019','casosAcumulado_covid','obitosAcumulado_covid','casos_acumulados_porcentagem_covid','obitos_acumulados_porcentagem_covid','casosAcumulado_corte','obitosAcumulado_corte','casos_acumulados_porcentagem_corte','obitos_acumulados_porcentagem_corte','IDH DO MUNICIPIO','IDHM EDUCACAO DO MUNICIPIO','IDHM LONGEVIDADE DO MUNICIPIO','IDHM RENDA DO MUNICIPIO','PIB','PIB PER CAPITA','cnae_divisao']"
      ],
      "execution_count": 55,
      "outputs": []
    },
    {
      "cell_type": "code",
      "metadata": {
        "id": "kyroboz8MuPc"
      },
      "source": [
        "secao_condicao = [\n",
        "    (cnpj_final['cnae_divisao'] >= 1) & (cnpj_final['cnae_divisao'] <=3),\n",
        "    (cnpj_final['cnae_divisao'] >= 5) & (cnpj_final['cnae_divisao'] <=9),\n",
        "    (cnpj_final['cnae_divisao'] >= 10) & (cnpj_final['cnae_divisao'] <=33),\n",
        "    (cnpj_final['cnae_divisao'] == 35),\n",
        "    (cnpj_final['cnae_divisao'] >= 36) & (cnpj_final['cnae_divisao'] <=39),\n",
        "    (cnpj_final['cnae_divisao'] >= 41) & (cnpj_final['cnae_divisao'] <=43),\n",
        "    (cnpj_final['cnae_divisao'] >= 45) & (cnpj_final['cnae_divisao'] <=47),\n",
        "    (cnpj_final['cnae_divisao'] >= 49) & (cnpj_final['cnae_divisao'] <=53),\n",
        "    (cnpj_final['cnae_divisao'] >= 55) & (cnpj_final['cnae_divisao'] <=56),\n",
        "    (cnpj_final['cnae_divisao'] >= 58) & (cnpj_final['cnae_divisao'] <=63),\n",
        "    (cnpj_final['cnae_divisao'] >= 64) & (cnpj_final['cnae_divisao'] <=66),\n",
        "    (cnpj_final['cnae_divisao'] == 68),\n",
        "    (cnpj_final['cnae_divisao'] >= 69) & (cnpj_final['cnae_divisao'] <=75),\n",
        "    (cnpj_final['cnae_divisao'] >= 77) & (cnpj_final['cnae_divisao'] <=82),\n",
        "    (cnpj_final['cnae_divisao'] == 84),\n",
        "    (cnpj_final['cnae_divisao'] == 85),\n",
        "    (cnpj_final['cnae_divisao'] >= 86) & (cnpj_final['cnae_divisao'] <=88),\n",
        "    (cnpj_final['cnae_divisao'] >= 90) & (cnpj_final['cnae_divisao'] <=93),\n",
        "    (cnpj_final['cnae_divisao'] >= 94) & (cnpj_final['cnae_divisao'] <=96),\n",
        "    (cnpj_final['cnae_divisao'] == 97),\n",
        "    (cnpj_final['cnae_divisao'] == 99)]\n",
        "cnae_secao = ['a', 'b', 'c','d', 'e', 'f','g', 'h', 'i','j', 'k', 'l','m', 'n', 'o','p', 'q', 'r','s', 't', 'u']\n",
        "cnpj_final['cnae_secao'] = np.select(secao_condicao, cnae_secao)"
      ],
      "execution_count": 56,
      "outputs": []
    },
    {
      "cell_type": "code",
      "metadata": {
        "id": "9YUDuvTkyzO3"
      },
      "source": [
        "cnpj_final['PIB'] = cnpj_final['PIB'].str.replace('.', '')\n",
        "cnpj_final['PIB PER CAPITA'] = cnpj_final['PIB PER CAPITA'].str.replace('.', '')"
      ],
      "execution_count": 57,
      "outputs": []
    },
    {
      "cell_type": "code",
      "metadata": {
        "id": "V2KlPwp19pKo"
      },
      "source": [
        "cnpj_final['capital_social'] = cnpj_final['capital_social'].str.replace(',', '.')\n",
        "cnpj_final['IDH DO MUNICIPIO'] = cnpj_final['IDH DO MUNICIPIO'].str.replace(',', '.')\n",
        "cnpj_final['IDHM EDUCACAO DO MUNICIPIO'] = cnpj_final['IDHM EDUCACAO DO MUNICIPIO'].str.replace(',', '.')\n",
        "cnpj_final['IDHM LONGEVIDADE DO MUNICIPIO'] = cnpj_final['IDHM LONGEVIDADE DO MUNICIPIO'].str.replace(',', '.')\n",
        "cnpj_final['IDHM RENDA DO MUNICIPIO'] = cnpj_final['IDHM RENDA DO MUNICIPIO'].str.replace(',', '.')\n",
        "cnpj_final['PIB'] = cnpj_final['PIB'].str.replace(',', '.')\n",
        "cnpj_final['PIB PER CAPITA'] = cnpj_final['PIB PER CAPITA'].str.replace(',', '.')\n"
      ],
      "execution_count": 58,
      "outputs": []
    },
    {
      "cell_type": "code",
      "metadata": {
        "id": "aeKT1wei9zB-"
      },
      "source": [
        "cnpj_final[[\"capital_social\", \"IDH DO MUNICIPIO\",\"IDHM EDUCACAO DO MUNICIPIO\",\"IDHM LONGEVIDADE DO MUNICIPIO\",\"IDHM RENDA DO MUNICIPIO\",\"PIB\",\"PIB PER CAPITA\"]] = cnpj_final[[\"capital_social\", \"IDH DO MUNICIPIO\",\"IDHM EDUCACAO DO MUNICIPIO\",\"IDHM LONGEVIDADE DO MUNICIPIO\",\"IDHM RENDA DO MUNICIPIO\",\"PIB\",\"PIB PER CAPITA\"]].apply(pd.to_numeric)"
      ],
      "execution_count": 59,
      "outputs": []
    },
    {
      "cell_type": "code",
      "metadata": {
        "id": "8g1zDomuQpRB"
      },
      "source": [
        "cnpj_final = cnpj_final[cnpj_final.codigo_municipio_siafi != 9707]  #EMPRESAS DO EXTERIOR"
      ],
      "execution_count": 60,
      "outputs": []
    },
    {
      "cell_type": "code",
      "metadata": {
        "id": "YFfhUPbo7GMb"
      },
      "source": [
        "cnpj_final = cnpj_final.drop(['codigo_ibge_ajustado','codigo_ibge_data_fechamento','codigo_ibge_data_abertura'], axis=1) #eliminação das colunas desnecessárias"
      ],
      "execution_count": 61,
      "outputs": []
    },
    {
      "cell_type": "code",
      "metadata": {
        "id": "c-YB59jZmOqk"
      },
      "source": [
        "cnpj_final.fillna(0, inplace = True)"
      ],
      "execution_count": 62,
      "outputs": []
    },
    {
      "cell_type": "code",
      "metadata": {
        "id": "U_CWSTB0NS7O"
      },
      "source": [
        "cnpj_final.to_csv('/content/drive/MyDrive/TCC - PUC/dataset_final.csv', index=False, sep=';', encoding='ISO-8859-1')"
      ],
      "execution_count": 63,
      "outputs": []
    }
  ]
}